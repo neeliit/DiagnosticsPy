{
 "cells": [
  {
   "cell_type": "code",
   "execution_count": 112,
   "metadata": {},
   "outputs": [],
   "source": [
    "import pandas as pd\n",
    "import numpy as np\n",
    "pd.set_option('display.max_rows', None)\n",
    "pd.set_option('display.max_columns', None)"
   ]
  },
  {
   "cell_type": "code",
   "execution_count": 113,
   "metadata": {},
   "outputs": [
    {
     "data": {
      "text/html": [
       "<div>\n",
       "<style scoped>\n",
       "    .dataframe tbody tr th:only-of-type {\n",
       "        vertical-align: middle;\n",
       "    }\n",
       "\n",
       "    .dataframe tbody tr th {\n",
       "        vertical-align: top;\n",
       "    }\n",
       "\n",
       "    .dataframe thead th {\n",
       "        text-align: right;\n",
       "    }\n",
       "</style>\n",
       "<table border=\"1\" class=\"dataframe\">\n",
       "  <thead>\n",
       "    <tr style=\"text-align: right;\">\n",
       "      <th></th>\n",
       "      <th>UHID</th>\n",
       "      <th>Patients Name</th>\n",
       "      <th>Age</th>\n",
       "      <th>Gender</th>\n",
       "      <th>RAMJA Result</th>\n",
       "      <th>AIIMS Result culture</th>\n",
       "      <th>E.coli</th>\n",
       "      <th>K. Pneumoniae</th>\n",
       "      <th>P.aurogenosa</th>\n",
       "      <th>A.baumnnii</th>\n",
       "      <th>P.mirabilis</th>\n",
       "      <th>S. aureus</th>\n",
       "      <th>E.faecalis</th>\n",
       "      <th>S. saprophyticus</th>\n",
       "      <th>Diagnosis</th>\n",
       "      <th>Abdominal pain</th>\n",
       "      <th>BurningMicturition</th>\n",
       "      <th>Urinating often</th>\n",
       "      <th>Vaginal irritation</th>\n",
       "      <th>Fatigue</th>\n",
       "      <th>Malaise</th>\n",
       "      <th>WeightLoss</th>\n",
       "      <th>Cough</th>\n",
       "      <th>Expectoration</th>\n",
       "      <th>HospitalStay</th>\n",
       "      <th>ICU Stay</th>\n",
       "      <th>Prognosis</th>\n",
       "      <th>Ventillator</th>\n",
       "      <th>Dialysis</th>\n",
       "      <th>BP</th>\n",
       "    </tr>\n",
       "  </thead>\n",
       "  <tbody>\n",
       "    <tr>\n",
       "      <th>0</th>\n",
       "      <td>20220065432</td>\n",
       "      <td>Sahroj</td>\n",
       "      <td>33.0</td>\n",
       "      <td>F</td>\n",
       "      <td>Enterococcus faecalis</td>\n",
       "      <td>Enterococcus faecalis</td>\n",
       "      <td>NaN</td>\n",
       "      <td>NaN</td>\n",
       "      <td>-5.26086</td>\n",
       "      <td>-4.09794</td>\n",
       "      <td>-3.58480</td>\n",
       "      <td>-5.62819</td>\n",
       "      <td>-8.10731</td>\n",
       "      <td>NaN</td>\n",
       "      <td>UTI</td>\n",
       "      <td>Yes</td>\n",
       "      <td>Yes</td>\n",
       "      <td>Yes</td>\n",
       "      <td>No</td>\n",
       "      <td>Yes</td>\n",
       "      <td>Yes</td>\n",
       "      <td>No</td>\n",
       "      <td>No</td>\n",
       "      <td>No</td>\n",
       "      <td>Yes</td>\n",
       "      <td>0</td>\n",
       "      <td>Good</td>\n",
       "      <td>No</td>\n",
       "      <td>No</td>\n",
       "      <td>110/76</td>\n",
       "    </tr>\n",
       "    <tr>\n",
       "      <th>1</th>\n",
       "      <td>20240016182</td>\n",
       "      <td>Shyanu</td>\n",
       "      <td>70.0</td>\n",
       "      <td>F</td>\n",
       "      <td>NaN</td>\n",
       "      <td>NaN</td>\n",
       "      <td>-6.63325</td>\n",
       "      <td>-10.1276</td>\n",
       "      <td>-8.30086</td>\n",
       "      <td>-13.22480</td>\n",
       "      <td>-11.94120</td>\n",
       "      <td>-14.93870</td>\n",
       "      <td>-13.64090</td>\n",
       "      <td>NaN</td>\n",
       "      <td>Vaginal Hysterectomy</td>\n",
       "      <td>Yes</td>\n",
       "      <td>No</td>\n",
       "      <td>no</td>\n",
       "      <td>no</td>\n",
       "      <td>no</td>\n",
       "      <td>no</td>\n",
       "      <td>no</td>\n",
       "      <td>no</td>\n",
       "      <td>no</td>\n",
       "      <td>0</td>\n",
       "      <td>0</td>\n",
       "      <td>Good</td>\n",
       "      <td>No</td>\n",
       "      <td>No</td>\n",
       "      <td>112/76</td>\n",
       "    </tr>\n",
       "    <tr>\n",
       "      <th>2</th>\n",
       "      <td>20230125389</td>\n",
       "      <td>Saloni</td>\n",
       "      <td>19.0</td>\n",
       "      <td>F</td>\n",
       "      <td>E.Coli. and K.pne</td>\n",
       "      <td>E.coli</td>\n",
       "      <td>-15.30980</td>\n",
       "      <td>-10.0174</td>\n",
       "      <td>-9.09993</td>\n",
       "      <td>-8.30414</td>\n",
       "      <td>-5.06676</td>\n",
       "      <td>-8.77797</td>\n",
       "      <td>-5.42121</td>\n",
       "      <td>NaN</td>\n",
       "      <td>UTI</td>\n",
       "      <td>No</td>\n",
       "      <td>Yes</td>\n",
       "      <td>No</td>\n",
       "      <td>No</td>\n",
       "      <td>No</td>\n",
       "      <td>No</td>\n",
       "      <td>No</td>\n",
       "      <td>No</td>\n",
       "      <td>No</td>\n",
       "      <td>0</td>\n",
       "      <td>0</td>\n",
       "      <td>Good</td>\n",
       "      <td>No</td>\n",
       "      <td>No</td>\n",
       "      <td>100/60</td>\n",
       "    </tr>\n",
       "    <tr>\n",
       "      <th>3</th>\n",
       "      <td>20180022685</td>\n",
       "      <td>Ravita</td>\n",
       "      <td>34.0</td>\n",
       "      <td>F</td>\n",
       "      <td>P. mirabilis</td>\n",
       "      <td>CONTAMINATION</td>\n",
       "      <td>-7.70704</td>\n",
       "      <td>-8.0891</td>\n",
       "      <td>-4.79176</td>\n",
       "      <td>-8.63416</td>\n",
       "      <td>-11.84570</td>\n",
       "      <td>-9.90339</td>\n",
       "      <td>-9.31657</td>\n",
       "      <td>NaN</td>\n",
       "      <td>UTI</td>\n",
       "      <td>No</td>\n",
       "      <td>Yes</td>\n",
       "      <td>No</td>\n",
       "      <td>Yes</td>\n",
       "      <td>No</td>\n",
       "      <td>No</td>\n",
       "      <td>No</td>\n",
       "      <td>No</td>\n",
       "      <td>No</td>\n",
       "      <td>0</td>\n",
       "      <td>0</td>\n",
       "      <td>Good</td>\n",
       "      <td>No</td>\n",
       "      <td>No</td>\n",
       "      <td>105/80</td>\n",
       "    </tr>\n",
       "    <tr>\n",
       "      <th>4</th>\n",
       "      <td>20201415102</td>\n",
       "      <td>Jyoti</td>\n",
       "      <td>28.0</td>\n",
       "      <td>F</td>\n",
       "      <td>NaN</td>\n",
       "      <td>NaN</td>\n",
       "      <td>0.00000</td>\n",
       "      <td>0.0000</td>\n",
       "      <td>0.00000</td>\n",
       "      <td>0.00000</td>\n",
       "      <td>0.00000</td>\n",
       "      <td>0.00000</td>\n",
       "      <td>0.00000</td>\n",
       "      <td>NaN</td>\n",
       "      <td>UTI</td>\n",
       "      <td>No</td>\n",
       "      <td>No</td>\n",
       "      <td>No</td>\n",
       "      <td>No</td>\n",
       "      <td>No</td>\n",
       "      <td>No</td>\n",
       "      <td>No</td>\n",
       "      <td>No</td>\n",
       "      <td>No</td>\n",
       "      <td>0</td>\n",
       "      <td>0</td>\n",
       "      <td>Good</td>\n",
       "      <td>No</td>\n",
       "      <td>No</td>\n",
       "      <td>115/100</td>\n",
       "    </tr>\n",
       "  </tbody>\n",
       "</table>\n",
       "</div>"
      ],
      "text/plain": [
       "          UHID Patients Name   Age Gender           RAMJA Result  \\\n",
       "0  20220065432        Sahroj  33.0      F  Enterococcus faecalis   \n",
       "1  20240016182        Shyanu  70.0      F                    NaN   \n",
       "2  20230125389        Saloni  19.0      F      E.Coli. and K.pne   \n",
       "3  20180022685        Ravita  34.0      F           P. mirabilis   \n",
       "4  20201415102         Jyoti  28.0      F                    NaN   \n",
       "\n",
       "    AIIMS Result culture    E.coli  K. Pneumoniae  P.aurogenosa  A.baumnnii  \\\n",
       "0  Enterococcus faecalis       NaN            NaN      -5.26086    -4.09794   \n",
       "1                    NaN  -6.63325       -10.1276      -8.30086   -13.22480   \n",
       "2                 E.coli -15.30980       -10.0174      -9.09993    -8.30414   \n",
       "3          CONTAMINATION  -7.70704        -8.0891      -4.79176    -8.63416   \n",
       "4                    NaN   0.00000         0.0000       0.00000     0.00000   \n",
       "\n",
       "   P.mirabilis  S. aureus  E.faecalis  S. saprophyticus             Diagnosis  \\\n",
       "0     -3.58480   -5.62819    -8.10731               NaN                   UTI   \n",
       "1    -11.94120  -14.93870   -13.64090               NaN  Vaginal Hysterectomy   \n",
       "2     -5.06676   -8.77797    -5.42121               NaN                   UTI   \n",
       "3    -11.84570   -9.90339    -9.31657               NaN                   UTI   \n",
       "4      0.00000    0.00000     0.00000               NaN                   UTI   \n",
       "\n",
       "  Abdominal pain BurningMicturition Urinating often Vaginal irritation  \\\n",
       "0            Yes                Yes             Yes                 No   \n",
       "1            Yes                 No              no                 no   \n",
       "2             No                Yes              No                 No   \n",
       "3             No                Yes              No                Yes   \n",
       "4             No                 No              No                 No   \n",
       "\n",
       "  Fatigue Malaise WeightLoss Cough Expectoration HospitalStay ICU Stay  \\\n",
       "0     Yes     Yes         No    No            No          Yes        0   \n",
       "1      no      no         no    no            no            0        0   \n",
       "2      No      No         No    No            No            0        0   \n",
       "3      No      No         No    No            No            0        0   \n",
       "4      No      No         No    No            No            0        0   \n",
       "\n",
       "  Prognosis Ventillator Dialysis       BP  \n",
       "0      Good          No       No   110/76  \n",
       "1      Good          No       No   112/76  \n",
       "2      Good          No       No   100/60  \n",
       "3      Good          No       No   105/80  \n",
       "4      Good          No       No  115/100  "
      ]
     },
     "execution_count": 113,
     "metadata": {},
     "output_type": "execute_result"
    }
   ],
   "source": [
    "dataset = pd.read_excel(\"RAWLOT1.xlsx\")\n",
    "dataset.head()"
   ]
  },
  {
   "cell_type": "code",
   "execution_count": 114,
   "metadata": {},
   "outputs": [
    {
     "data": {
      "text/plain": [
       "(131, 30)"
      ]
     },
     "execution_count": 114,
     "metadata": {},
     "output_type": "execute_result"
    }
   ],
   "source": [
    "dataset.shape"
   ]
  },
  {
   "cell_type": "code",
   "execution_count": 115,
   "metadata": {},
   "outputs": [
    {
     "data": {
      "text/html": [
       "<div>\n",
       "<style scoped>\n",
       "    .dataframe tbody tr th:only-of-type {\n",
       "        vertical-align: middle;\n",
       "    }\n",
       "\n",
       "    .dataframe tbody tr th {\n",
       "        vertical-align: top;\n",
       "    }\n",
       "\n",
       "    .dataframe thead th {\n",
       "        text-align: right;\n",
       "    }\n",
       "</style>\n",
       "<table border=\"1\" class=\"dataframe\">\n",
       "  <thead>\n",
       "    <tr style=\"text-align: right;\">\n",
       "      <th></th>\n",
       "      <th>UHID</th>\n",
       "      <th>RAMJA</th>\n",
       "      <th>AIIMS</th>\n",
       "    </tr>\n",
       "  </thead>\n",
       "  <tbody>\n",
       "    <tr>\n",
       "      <th>0</th>\n",
       "      <td>20220065432</td>\n",
       "      <td>Enterococcus faecalis</td>\n",
       "      <td>Enterococcus faecalis</td>\n",
       "    </tr>\n",
       "    <tr>\n",
       "      <th>1</th>\n",
       "      <td>20240016182</td>\n",
       "      <td>NaN</td>\n",
       "      <td>NaN</td>\n",
       "    </tr>\n",
       "    <tr>\n",
       "      <th>2</th>\n",
       "      <td>20230125389</td>\n",
       "      <td>E.Coli. and K.pne</td>\n",
       "      <td>E.coli</td>\n",
       "    </tr>\n",
       "    <tr>\n",
       "      <th>3</th>\n",
       "      <td>20180022685</td>\n",
       "      <td>P. mirabilis</td>\n",
       "      <td>CONTAMINATION</td>\n",
       "    </tr>\n",
       "    <tr>\n",
       "      <th>4</th>\n",
       "      <td>20201415102</td>\n",
       "      <td>NaN</td>\n",
       "      <td>NaN</td>\n",
       "    </tr>\n",
       "  </tbody>\n",
       "</table>\n",
       "</div>"
      ],
      "text/plain": [
       "          UHID                  RAMJA                  AIIMS\n",
       "0  20220065432  Enterococcus faecalis  Enterococcus faecalis\n",
       "1  20240016182                    NaN                    NaN\n",
       "2  20230125389      E.Coli. and K.pne                 E.coli\n",
       "3  20180022685           P. mirabilis          CONTAMINATION\n",
       "4  20201415102                    NaN                    NaN"
      ]
     },
     "execution_count": 115,
     "metadata": {},
     "output_type": "execute_result"
    }
   ],
   "source": [
    "data = pd.read_excel(\"RAWLOT1.xlsx\")\n",
    "data = dataset[['UHID','RAMJA Result','AIIMS Result culture']]\n",
    "data.columns = ['UHID','RAMJA','AIIMS']\n",
    "data.head()"
   ]
  },
  {
   "cell_type": "code",
   "execution_count": 22,
   "metadata": {},
   "outputs": [],
   "source": [
    "#df_nan.to_excel('compareddata.xlsx', sheet_name='Null data')"
   ]
  },
  {
   "cell_type": "code",
   "execution_count": 116,
   "metadata": {},
   "outputs": [],
   "source": [
    "import re\n",
    "def cleanup(text):\n",
    "    text = str(text)\n",
    "    text = text.upper()\n",
    "    text = text.replace(\".\", \" \")\n",
    "    text = text.replace(\" AND\", \",\")\n",
    "    text = text.replace(\" &\", \",\")\n",
    "    text = text.replace(\"POLYMICROBIAL (\", \"\")\n",
    "    text = text.replace(\"AUROGENOSA\", \"AERUGINOSA\")\n",
    "    text = re.sub(r'\\s+', ' ', text)  # Use re.sub for regular expression replacement\n",
    "    text = text.strip()\n",
    "    return text\n"
   ]
  },
  {
   "cell_type": "code",
   "execution_count": 117,
   "metadata": {},
   "outputs": [],
   "source": [
    "bacteriatypes = {\n",
    "    \"COLI\" : 'Escherichia coli', \n",
    "    \"PNE\" : 'Klebsiella pneumoniae',\n",
    "    \"AERUGI\" : 'Pseudomonas aeruginosa',\n",
    "    \"BAUM\" : 'Acinetobacter baumannii', \n",
    "    \"MIRABIL\" : 'Proteus mirabilis', \n",
    "    \"FAECALI\" : 'Enterococcus faecalis', \n",
    "    \"AUREUS\" : 'Staphylococcus aureus', \n",
    "    \"SAPROPHY\" : 'Staphylococcus saprophyticus',\n",
    "    \"STERI\" : 'Sterile',\n",
    "    \"CONTA\" : 'Contamination',\n",
    "    \"NAN\" : 'NAN'\n",
    "}"
   ]
  },
  {
   "cell_type": "code",
   "execution_count": 118,
   "metadata": {},
   "outputs": [
    {
     "name": "stderr",
     "output_type": "stream",
     "text": [
      "C:\\Users\\neelesh\\AppData\\Local\\Temp\\ipykernel_9924\\4174382849.py:1: SettingWithCopyWarning: \n",
      "A value is trying to be set on a copy of a slice from a DataFrame.\n",
      "Try using .loc[row_indexer,col_indexer] = value instead\n",
      "\n",
      "See the caveats in the documentation: https://pandas.pydata.org/pandas-docs/stable/user_guide/indexing.html#returning-a-view-versus-a-copy\n",
      "  data['cleanRAMJA'] = data['RAMJA'].apply(cleanup)\n",
      "C:\\Users\\neelesh\\AppData\\Local\\Temp\\ipykernel_9924\\4174382849.py:2: SettingWithCopyWarning: \n",
      "A value is trying to be set on a copy of a slice from a DataFrame.\n",
      "Try using .loc[row_indexer,col_indexer] = value instead\n",
      "\n",
      "See the caveats in the documentation: https://pandas.pydata.org/pandas-docs/stable/user_guide/indexing.html#returning-a-view-versus-a-copy\n",
      "  data['cleanAIIMS'] = data['AIIMS'].apply(cleanup)\n"
     ]
    }
   ],
   "source": [
    "data['cleanRAMJA'] = data['RAMJA'].apply(cleanup)\n",
    "data['cleanAIIMS'] = data['AIIMS'].apply(cleanup)"
   ]
  },
  {
   "cell_type": "code",
   "execution_count": 119,
   "metadata": {},
   "outputs": [],
   "source": [
    "#..FUNCTION TO CHECK IF TEST STRINGS(S1 OR S2) PRESENT IN MAIN STRING \n",
    "def check(mainstring, s1, s2):\n",
    "    if (mainstring.count(s1) > 0 or mainstring.count(s2) > 0):\n",
    "        #print(\"YES\")\n",
    "        return(1)\n",
    "    else:\n",
    "        #print(\"NO\")\n",
    "        return(0)"
   ]
  },
  {
   "cell_type": "code",
   "execution_count": 120,
   "metadata": {},
   "outputs": [
    {
     "data": {
      "text/plain": [
       "(131, 5)"
      ]
     },
     "execution_count": 120,
     "metadata": {},
     "output_type": "execute_result"
    }
   ],
   "source": [
    "data.shape"
   ]
  },
  {
   "cell_type": "markdown",
   "metadata": {},
   "source": [
    "### RAMJA Analysis"
   ]
  },
  {
   "cell_type": "code",
   "execution_count": 121,
   "metadata": {},
   "outputs": [],
   "source": [
    "df_R = data.copy()\n",
    "genus = [\"ESCHER\",\"KLEBS\",\"PSEUDO\",\"ACINE\",\"PROT\",\"ENTER\",\"AURE\",\"SAPRO\",\"STERI\",\"CONTA\",\"NAN\"]\n",
    "species = [\"COLI\", \"PNE\", \"AERUGI\", \"BAUM\", \"MIRABIL\", \"FAECALI\", \"AUREUS\", \"SAPROPHY\", \"STERI\",\"CONTA\",\"NAN\"]\n",
    "for s1, s2 in zip(genus,species):\n",
    "    df_R[s2] = df_R['cleanRAMJA'].apply(lambda x: check(x, s1, s2))\n",
    "\n",
    "df_R.rename(columns=bacteriatypes, inplace=True) #change column names\n",
    "# add suffix _R to column names\n",
    "# columns_to_modify = ['Escherichia coli','Klebsiella pneumoniae','Pseudomonas aeruginosa','Acinetobacter baumannii','Proteus mirabilis','Enterococcus faecalis','Staphylococcus aureus','Staphylococcus saprophyticus','Sterile','Contamination','NAN']\n",
    "# data.rename(columns={col: f\"{col}_R\" for col in columns_to_modify}, inplace=True)"
   ]
  },
  {
   "cell_type": "code",
   "execution_count": 122,
   "metadata": {},
   "outputs": [
    {
     "data": {
      "text/plain": [
       "(131, 16)"
      ]
     },
     "execution_count": 122,
     "metadata": {},
     "output_type": "execute_result"
    }
   ],
   "source": [
    "df_R.shape"
   ]
  },
  {
   "cell_type": "code",
   "execution_count": 123,
   "metadata": {},
   "outputs": [
    {
     "data": {
      "text/plain": [
       "(131, 17)"
      ]
     },
     "execution_count": 123,
     "metadata": {},
     "output_type": "execute_result"
    }
   ],
   "source": [
    "#....add a column named 'Others' contain values other than assigend catagories\n",
    "df_R_temp = df_R[['Escherichia coli','Klebsiella pneumoniae','Pseudomonas aeruginosa','Acinetobacter baumannii','Proteus mirabilis','Enterococcus faecalis','Staphylococcus aureus','Staphylococcus saprophyticus','Sterile','Contamination','NAN']]\n",
    "df_R_temp = df_R_temp == 0\n",
    "df_R_temp['Others_R'] = df_R_temp.all(axis=1)\n",
    "df_R['Others_R'] = df_R_temp['Others_R'].astype(int)\n",
    "df_R.shape"
   ]
  },
  {
   "cell_type": "code",
   "execution_count": 124,
   "metadata": {},
   "outputs": [
    {
     "data": {
      "text/html": [
       "<div>\n",
       "<style scoped>\n",
       "    .dataframe tbody tr th:only-of-type {\n",
       "        vertical-align: middle;\n",
       "    }\n",
       "\n",
       "    .dataframe tbody tr th {\n",
       "        vertical-align: top;\n",
       "    }\n",
       "\n",
       "    .dataframe thead th {\n",
       "        text-align: right;\n",
       "    }\n",
       "</style>\n",
       "<table border=\"1\" class=\"dataframe\">\n",
       "  <thead>\n",
       "    <tr style=\"text-align: right;\">\n",
       "      <th></th>\n",
       "      <th>UHID</th>\n",
       "      <th>RAMJA</th>\n",
       "      <th>AIIMS</th>\n",
       "      <th>cleanRAMJA</th>\n",
       "      <th>cleanAIIMS</th>\n",
       "      <th>Escherichia coli</th>\n",
       "      <th>Klebsiella pneumoniae</th>\n",
       "      <th>Pseudomonas aeruginosa</th>\n",
       "      <th>Acinetobacter baumannii</th>\n",
       "      <th>Proteus mirabilis</th>\n",
       "      <th>Enterococcus faecalis</th>\n",
       "      <th>Staphylococcus aureus</th>\n",
       "      <th>Staphylococcus saprophyticus</th>\n",
       "      <th>Sterile</th>\n",
       "      <th>Contamination</th>\n",
       "      <th>NAN</th>\n",
       "      <th>Others_R</th>\n",
       "    </tr>\n",
       "  </thead>\n",
       "  <tbody>\n",
       "    <tr>\n",
       "      <th>0</th>\n",
       "      <td>20220065432</td>\n",
       "      <td>Enterococcus faecalis</td>\n",
       "      <td>Enterococcus faecalis</td>\n",
       "      <td>ENTEROCOCCUS FAECALIS</td>\n",
       "      <td>ENTEROCOCCUS FAECALIS</td>\n",
       "      <td>0</td>\n",
       "      <td>0</td>\n",
       "      <td>0</td>\n",
       "      <td>0</td>\n",
       "      <td>0</td>\n",
       "      <td>1</td>\n",
       "      <td>0</td>\n",
       "      <td>0</td>\n",
       "      <td>0</td>\n",
       "      <td>0</td>\n",
       "      <td>0</td>\n",
       "      <td>0</td>\n",
       "    </tr>\n",
       "    <tr>\n",
       "      <th>1</th>\n",
       "      <td>20240016182</td>\n",
       "      <td>NaN</td>\n",
       "      <td>NaN</td>\n",
       "      <td>NAN</td>\n",
       "      <td>NAN</td>\n",
       "      <td>0</td>\n",
       "      <td>0</td>\n",
       "      <td>0</td>\n",
       "      <td>0</td>\n",
       "      <td>0</td>\n",
       "      <td>0</td>\n",
       "      <td>0</td>\n",
       "      <td>0</td>\n",
       "      <td>0</td>\n",
       "      <td>0</td>\n",
       "      <td>1</td>\n",
       "      <td>0</td>\n",
       "    </tr>\n",
       "    <tr>\n",
       "      <th>2</th>\n",
       "      <td>20230125389</td>\n",
       "      <td>E.Coli. and K.pne</td>\n",
       "      <td>E.coli</td>\n",
       "      <td>E COLI , K PNE</td>\n",
       "      <td>E COLI</td>\n",
       "      <td>1</td>\n",
       "      <td>1</td>\n",
       "      <td>0</td>\n",
       "      <td>0</td>\n",
       "      <td>0</td>\n",
       "      <td>0</td>\n",
       "      <td>0</td>\n",
       "      <td>0</td>\n",
       "      <td>0</td>\n",
       "      <td>0</td>\n",
       "      <td>0</td>\n",
       "      <td>0</td>\n",
       "    </tr>\n",
       "    <tr>\n",
       "      <th>3</th>\n",
       "      <td>20180022685</td>\n",
       "      <td>P. mirabilis</td>\n",
       "      <td>CONTAMINATION</td>\n",
       "      <td>P MIRABILIS</td>\n",
       "      <td>CONTAMINATION</td>\n",
       "      <td>0</td>\n",
       "      <td>0</td>\n",
       "      <td>0</td>\n",
       "      <td>0</td>\n",
       "      <td>1</td>\n",
       "      <td>0</td>\n",
       "      <td>0</td>\n",
       "      <td>0</td>\n",
       "      <td>0</td>\n",
       "      <td>0</td>\n",
       "      <td>0</td>\n",
       "      <td>0</td>\n",
       "    </tr>\n",
       "    <tr>\n",
       "      <th>4</th>\n",
       "      <td>20201415102</td>\n",
       "      <td>NaN</td>\n",
       "      <td>NaN</td>\n",
       "      <td>NAN</td>\n",
       "      <td>NAN</td>\n",
       "      <td>0</td>\n",
       "      <td>0</td>\n",
       "      <td>0</td>\n",
       "      <td>0</td>\n",
       "      <td>0</td>\n",
       "      <td>0</td>\n",
       "      <td>0</td>\n",
       "      <td>0</td>\n",
       "      <td>0</td>\n",
       "      <td>0</td>\n",
       "      <td>1</td>\n",
       "      <td>0</td>\n",
       "    </tr>\n",
       "  </tbody>\n",
       "</table>\n",
       "</div>"
      ],
      "text/plain": [
       "          UHID                  RAMJA                  AIIMS  \\\n",
       "0  20220065432  Enterococcus faecalis  Enterococcus faecalis   \n",
       "1  20240016182                    NaN                    NaN   \n",
       "2  20230125389      E.Coli. and K.pne                 E.coli   \n",
       "3  20180022685           P. mirabilis          CONTAMINATION   \n",
       "4  20201415102                    NaN                    NaN   \n",
       "\n",
       "              cleanRAMJA             cleanAIIMS  Escherichia coli  \\\n",
       "0  ENTEROCOCCUS FAECALIS  ENTEROCOCCUS FAECALIS                 0   \n",
       "1                    NAN                    NAN                 0   \n",
       "2         E COLI , K PNE                 E COLI                 1   \n",
       "3            P MIRABILIS          CONTAMINATION                 0   \n",
       "4                    NAN                    NAN                 0   \n",
       "\n",
       "   Klebsiella pneumoniae  Pseudomonas aeruginosa  Acinetobacter baumannii  \\\n",
       "0                      0                       0                        0   \n",
       "1                      0                       0                        0   \n",
       "2                      1                       0                        0   \n",
       "3                      0                       0                        0   \n",
       "4                      0                       0                        0   \n",
       "\n",
       "   Proteus mirabilis  Enterococcus faecalis  Staphylococcus aureus  \\\n",
       "0                  0                      1                      0   \n",
       "1                  0                      0                      0   \n",
       "2                  0                      0                      0   \n",
       "3                  1                      0                      0   \n",
       "4                  0                      0                      0   \n",
       "\n",
       "   Staphylococcus saprophyticus  Sterile  Contamination  NAN  Others_R  \n",
       "0                             0        0              0    0         0  \n",
       "1                             0        0              0    1         0  \n",
       "2                             0        0              0    0         0  \n",
       "3                             0        0              0    0         0  \n",
       "4                             0        0              0    1         0  "
      ]
     },
     "execution_count": 124,
     "metadata": {},
     "output_type": "execute_result"
    }
   ],
   "source": [
    "df_R.head()"
   ]
  },
  {
   "cell_type": "code",
   "execution_count": 133,
   "metadata": {},
   "outputs": [
    {
     "data": {
      "text/plain": [
       "(131, 18)"
      ]
     },
     "execution_count": 133,
     "metadata": {},
     "output_type": "execute_result"
    }
   ],
   "source": [
    "#...Get infections positive column in RAMJA\n",
    "df_R_temp  = df_R[['Escherichia coli','Klebsiella pneumoniae','Pseudomonas aeruginosa','Acinetobacter baumannii','Proteus mirabilis','Enterococcus faecalis','Staphylococcus aureus','Staphylococcus saprophyticus','Contamination','Others_R']]\n",
    "df_R_temp = df_R_temp == 1\n",
    "df_R_temp['Infection_R'] = df_R_temp.any(axis=1)\n",
    "df_R['Infection_R'] = df_R_temp['Infection_R'].astype(int)\n",
    "df_R.shape"
   ]
  },
  {
   "cell_type": "code",
   "execution_count": 134,
   "metadata": {},
   "outputs": [
    {
     "data": {
      "text/plain": [
       "(125, 18)"
      ]
     },
     "execution_count": 134,
     "metadata": {},
     "output_type": "execute_result"
    }
   ],
   "source": [
    "#....Drop rows containing NaN in Ramaj column results\n",
    "df_NonNaN_R = df_R.dropna(subset=['RAMJA'])\n",
    "df_NonNaN_R.shape\n",
    "df_R_clean = df_NonNaN_R\n",
    "df_R_clean.shape"
   ]
  },
  {
   "cell_type": "code",
   "execution_count": 130,
   "metadata": {},
   "outputs": [],
   "source": [
    "#display(df_NonNaN_R)"
   ]
  },
  {
   "cell_type": "code",
   "execution_count": 26,
   "metadata": {},
   "outputs": [],
   "source": [
    "#...Remove contaminated sample and Others samples\n",
    "# df_R_clean = df_NonNaN_R[(df_NonNaN_R['Contamination'] == 0) & (df_NonNaN_R['Others_R'] == 0)]\n",
    "# df_R_clean.shape"
   ]
  },
  {
   "cell_type": "code",
   "execution_count": 27,
   "metadata": {},
   "outputs": [
    {
     "name": "stdout",
     "output_type": "stream",
     "text": [
      "1    70\n",
      "0    55\n",
      "Name: Infection_R, dtype: int64\n",
      "0    70\n",
      "1    55\n",
      "Name: Sterile, dtype: int64\n"
     ]
    }
   ],
   "source": [
    "#....After Dopping NaN these two set of values should be equal\n",
    "print(df_R_clean['Infection_R'].value_counts())\n",
    "print(df_R_clean['Sterile'].value_counts())"
   ]
  },
  {
   "cell_type": "code",
   "execution_count": 28,
   "metadata": {},
   "outputs": [],
   "source": [
    "#df_R.to_excel(\"temp1.xlsx\")"
   ]
  },
  {
   "cell_type": "markdown",
   "metadata": {},
   "source": [
    "### AIIMS Analysis"
   ]
  },
  {
   "cell_type": "code",
   "execution_count": 29,
   "metadata": {},
   "outputs": [
    {
     "data": {
      "text/plain": [
       "(131, 5)"
      ]
     },
     "execution_count": 29,
     "metadata": {},
     "output_type": "execute_result"
    }
   ],
   "source": [
    "data.shape"
   ]
  },
  {
   "cell_type": "code",
   "execution_count": 30,
   "metadata": {},
   "outputs": [],
   "source": [
    "df_A = data.copy()\n",
    "genus = [\"ESCHER\",\"KLEBS\",\"PSEUDO\",\"ACINE\",\"PROT\",\"ENTER\",\"AURE\",\"SAPRO\",\"STERI\",\"CONTA\",\"NAN\"]\n",
    "species = [\"COLI\", \"PNE\", \"AERUGI\", \"BAUM\", \"MIRABIL\", \"FAECALI\", \"AUREUS\", \"SAPROPHY\", \"STERI\",\"CONTA\",\"NAN\"]\n",
    "for s1, s2 in zip(genus,species):\n",
    "    df_A[s2] = df_A['cleanAIIMS'].apply(lambda x: check(x, s1, s2))\n",
    "\n",
    "df_A.rename(columns=bacteriatypes, inplace=True) #change column names\n",
    "\n",
    "# add suffix _R to column names\n",
    "#columns_to_modify = ['Escherichia coli','Klebsiella pneumoniae','Pseudomonas aeruginosa','Acinetobacter baumannii','Proteus mirabilis','Enterococcus faecalis','Staphylococcus aureus','Staphylococcus saprophyticus','Sterile','Contamination','NAN']\n",
    "#data.rename(columns={col: f\"{col}_A\" for col in columns_to_modify}, inplace=True)"
   ]
  },
  {
   "cell_type": "code",
   "execution_count": 31,
   "metadata": {},
   "outputs": [
    {
     "data": {
      "text/plain": [
       "(131, 16)"
      ]
     },
     "execution_count": 31,
     "metadata": {},
     "output_type": "execute_result"
    }
   ],
   "source": [
    "df_A.shape"
   ]
  },
  {
   "cell_type": "code",
   "execution_count": 32,
   "metadata": {},
   "outputs": [
    {
     "data": {
      "text/plain": [
       "(131, 17)"
      ]
     },
     "execution_count": 32,
     "metadata": {},
     "output_type": "execute_result"
    }
   ],
   "source": [
    "#....add a column named 'Others' contain values other than assigend catagories\n",
    "df_A_temp = df_A[['Escherichia coli','Klebsiella pneumoniae','Pseudomonas aeruginosa','Acinetobacter baumannii','Proteus mirabilis','Enterococcus faecalis','Staphylococcus aureus','Staphylococcus saprophyticus','Sterile','Contamination','NAN']]\n",
    "df_A_temp = df_A_temp == 0\n",
    "df_A_temp['Others_A'] = df_A_temp.all(axis=1)\n",
    "df_A['Others_A'] = df_A_temp['Others_A'].astype(int)\n",
    "df_A.shape"
   ]
  },
  {
   "cell_type": "code",
   "execution_count": 33,
   "metadata": {},
   "outputs": [
    {
     "data": {
      "text/html": [
       "<div>\n",
       "<style scoped>\n",
       "    .dataframe tbody tr th:only-of-type {\n",
       "        vertical-align: middle;\n",
       "    }\n",
       "\n",
       "    .dataframe tbody tr th {\n",
       "        vertical-align: top;\n",
       "    }\n",
       "\n",
       "    .dataframe thead th {\n",
       "        text-align: right;\n",
       "    }\n",
       "</style>\n",
       "<table border=\"1\" class=\"dataframe\">\n",
       "  <thead>\n",
       "    <tr style=\"text-align: right;\">\n",
       "      <th></th>\n",
       "      <th>UHID</th>\n",
       "      <th>RAMJA</th>\n",
       "      <th>AIIMS</th>\n",
       "      <th>cleanRAMJA</th>\n",
       "      <th>cleanAIIMS</th>\n",
       "      <th>Escherichia coli</th>\n",
       "      <th>Klebsiella pneumoniae</th>\n",
       "      <th>Pseudomonas aeruginosa</th>\n",
       "      <th>Acinetobacter baumannii</th>\n",
       "      <th>Proteus mirabilis</th>\n",
       "      <th>Enterococcus faecalis</th>\n",
       "      <th>Staphylococcus aureus</th>\n",
       "      <th>Staphylococcus saprophyticus</th>\n",
       "      <th>Sterile</th>\n",
       "      <th>Contamination</th>\n",
       "      <th>NAN</th>\n",
       "      <th>Others_A</th>\n",
       "    </tr>\n",
       "  </thead>\n",
       "  <tbody>\n",
       "    <tr>\n",
       "      <th>0</th>\n",
       "      <td>20220065432</td>\n",
       "      <td>Enterococcus faecalis</td>\n",
       "      <td>Enterococcus faecalis</td>\n",
       "      <td>ENTEROCOCCUS FAECALIS</td>\n",
       "      <td>ENTEROCOCCUS FAECALIS</td>\n",
       "      <td>0</td>\n",
       "      <td>0</td>\n",
       "      <td>0</td>\n",
       "      <td>0</td>\n",
       "      <td>0</td>\n",
       "      <td>1</td>\n",
       "      <td>0</td>\n",
       "      <td>0</td>\n",
       "      <td>0</td>\n",
       "      <td>0</td>\n",
       "      <td>0</td>\n",
       "      <td>0</td>\n",
       "    </tr>\n",
       "    <tr>\n",
       "      <th>1</th>\n",
       "      <td>20240016182</td>\n",
       "      <td>NaN</td>\n",
       "      <td>NaN</td>\n",
       "      <td>NAN</td>\n",
       "      <td>NAN</td>\n",
       "      <td>0</td>\n",
       "      <td>0</td>\n",
       "      <td>0</td>\n",
       "      <td>0</td>\n",
       "      <td>0</td>\n",
       "      <td>0</td>\n",
       "      <td>0</td>\n",
       "      <td>0</td>\n",
       "      <td>0</td>\n",
       "      <td>0</td>\n",
       "      <td>1</td>\n",
       "      <td>0</td>\n",
       "    </tr>\n",
       "    <tr>\n",
       "      <th>2</th>\n",
       "      <td>20230125389</td>\n",
       "      <td>E.Coli. and K.pne</td>\n",
       "      <td>E.coli</td>\n",
       "      <td>E COLI , K PNE</td>\n",
       "      <td>E COLI</td>\n",
       "      <td>1</td>\n",
       "      <td>0</td>\n",
       "      <td>0</td>\n",
       "      <td>0</td>\n",
       "      <td>0</td>\n",
       "      <td>0</td>\n",
       "      <td>0</td>\n",
       "      <td>0</td>\n",
       "      <td>0</td>\n",
       "      <td>0</td>\n",
       "      <td>0</td>\n",
       "      <td>0</td>\n",
       "    </tr>\n",
       "    <tr>\n",
       "      <th>3</th>\n",
       "      <td>20180022685</td>\n",
       "      <td>P. mirabilis</td>\n",
       "      <td>CONTAMINATION</td>\n",
       "      <td>P MIRABILIS</td>\n",
       "      <td>CONTAMINATION</td>\n",
       "      <td>0</td>\n",
       "      <td>0</td>\n",
       "      <td>0</td>\n",
       "      <td>0</td>\n",
       "      <td>0</td>\n",
       "      <td>0</td>\n",
       "      <td>0</td>\n",
       "      <td>0</td>\n",
       "      <td>0</td>\n",
       "      <td>1</td>\n",
       "      <td>0</td>\n",
       "      <td>0</td>\n",
       "    </tr>\n",
       "    <tr>\n",
       "      <th>4</th>\n",
       "      <td>20201415102</td>\n",
       "      <td>NaN</td>\n",
       "      <td>NaN</td>\n",
       "      <td>NAN</td>\n",
       "      <td>NAN</td>\n",
       "      <td>0</td>\n",
       "      <td>0</td>\n",
       "      <td>0</td>\n",
       "      <td>0</td>\n",
       "      <td>0</td>\n",
       "      <td>0</td>\n",
       "      <td>0</td>\n",
       "      <td>0</td>\n",
       "      <td>0</td>\n",
       "      <td>0</td>\n",
       "      <td>1</td>\n",
       "      <td>0</td>\n",
       "    </tr>\n",
       "  </tbody>\n",
       "</table>\n",
       "</div>"
      ],
      "text/plain": [
       "          UHID                  RAMJA                  AIIMS  \\\n",
       "0  20220065432  Enterococcus faecalis  Enterococcus faecalis   \n",
       "1  20240016182                    NaN                    NaN   \n",
       "2  20230125389      E.Coli. and K.pne                 E.coli   \n",
       "3  20180022685           P. mirabilis          CONTAMINATION   \n",
       "4  20201415102                    NaN                    NaN   \n",
       "\n",
       "              cleanRAMJA             cleanAIIMS  Escherichia coli  \\\n",
       "0  ENTEROCOCCUS FAECALIS  ENTEROCOCCUS FAECALIS                 0   \n",
       "1                    NAN                    NAN                 0   \n",
       "2         E COLI , K PNE                 E COLI                 1   \n",
       "3            P MIRABILIS          CONTAMINATION                 0   \n",
       "4                    NAN                    NAN                 0   \n",
       "\n",
       "   Klebsiella pneumoniae  Pseudomonas aeruginosa  Acinetobacter baumannii  \\\n",
       "0                      0                       0                        0   \n",
       "1                      0                       0                        0   \n",
       "2                      0                       0                        0   \n",
       "3                      0                       0                        0   \n",
       "4                      0                       0                        0   \n",
       "\n",
       "   Proteus mirabilis  Enterococcus faecalis  Staphylococcus aureus  \\\n",
       "0                  0                      1                      0   \n",
       "1                  0                      0                      0   \n",
       "2                  0                      0                      0   \n",
       "3                  0                      0                      0   \n",
       "4                  0                      0                      0   \n",
       "\n",
       "   Staphylococcus saprophyticus  Sterile  Contamination  NAN  Others_A  \n",
       "0                             0        0              0    0         0  \n",
       "1                             0        0              0    1         0  \n",
       "2                             0        0              0    0         0  \n",
       "3                             0        0              1    0         0  \n",
       "4                             0        0              0    1         0  "
      ]
     },
     "execution_count": 33,
     "metadata": {},
     "output_type": "execute_result"
    }
   ],
   "source": [
    "df_A.head()"
   ]
  },
  {
   "cell_type": "code",
   "execution_count": 34,
   "metadata": {},
   "outputs": [
    {
     "data": {
      "text/plain": [
       "(131, 18)"
      ]
     },
     "execution_count": 34,
     "metadata": {},
     "output_type": "execute_result"
    }
   ],
   "source": [
    "#...Get infections positive (any infection) in AIIMS\n",
    "df_A_temp  = df_A[['Escherichia coli','Klebsiella pneumoniae','Pseudomonas aeruginosa','Acinetobacter baumannii','Proteus mirabilis','Enterococcus faecalis','Staphylococcus aureus','Staphylococcus saprophyticus','Contamination','Others_A']]\n",
    "df_A_temp = df_A_temp == 1\n",
    "df_A_temp['Infection_A'] = df_A_temp.any(axis=1)\n",
    "df_A['Infection_A'] = df_A_temp['Infection_A'].astype(int)\n",
    "df_A.shape\n"
   ]
  },
  {
   "cell_type": "code",
   "execution_count": 35,
   "metadata": {},
   "outputs": [],
   "source": [
    "#...dataset containing removed NaN based on AIIMS\n",
    "df_NonNaN_A = df_A.dropna(subset=['AIIMS'])\n",
    "df_A_clean = df_NonNaN_A"
   ]
  },
  {
   "cell_type": "code",
   "execution_count": 36,
   "metadata": {},
   "outputs": [],
   "source": [
    "#...Remove contaminated sample and Others samples \n",
    "# df_A_clean = df_NonNaN_A[(df_NonNaN_A['Contamination'] == 0) & (df_NonNaN_A['Others_A'] == 0)]\n",
    "# df_A_clean.shape"
   ]
  },
  {
   "cell_type": "code",
   "execution_count": 37,
   "metadata": {},
   "outputs": [
    {
     "name": "stdout",
     "output_type": "stream",
     "text": [
      "1    58\n",
      "0    56\n",
      "Name: Infection_A, dtype: int64\n",
      "0    58\n",
      "1    56\n",
      "Name: Sterile, dtype: int64\n"
     ]
    }
   ],
   "source": [
    "#....After Dopping NaN these two set of values should be equal\n",
    "print(df_A_clean['Infection_A'].value_counts())\n",
    "print(df_A_clean['Sterile'].value_counts())"
   ]
  },
  {
   "cell_type": "code",
   "execution_count": 38,
   "metadata": {},
   "outputs": [],
   "source": [
    "#df_NonNaN_A.to_excel(\"temp1.xlsx\")"
   ]
  },
  {
   "cell_type": "code",
   "execution_count": 39,
   "metadata": {},
   "outputs": [
    {
     "data": {
      "text/plain": [
       "(70, 3)"
      ]
     },
     "execution_count": 39,
     "metadata": {},
     "output_type": "execute_result"
    }
   ],
   "source": [
    "#......\n",
    "df_R_infec = df_R_clean[df_R_clean['Infection_R'] == 1]\n",
    "df_R_infec = df_R_infec[['UHID','RAMJA','AIIMS']]\n",
    "df_R_infec.shape"
   ]
  },
  {
   "cell_type": "code",
   "execution_count": 40,
   "metadata": {},
   "outputs": [
    {
     "data": {
      "text/plain": [
       "(58, 3)"
      ]
     },
     "execution_count": 40,
     "metadata": {},
     "output_type": "execute_result"
    }
   ],
   "source": [
    "df_A_infec = df_A_clean[df_A_clean['Infection_A'] == 1]\n",
    "df_A_infec = df_A_infec[['UHID','RAMJA','AIIMS']]\n",
    "df_A_infec.shape"
   ]
  },
  {
   "cell_type": "markdown",
   "metadata": {},
   "source": [
    "### Concordance analysis"
   ]
  },
  {
   "cell_type": "code",
   "execution_count": 41,
   "metadata": {},
   "outputs": [
    {
     "name": "stderr",
     "output_type": "stream",
     "text": [
      "C:\\Users\\neelesh\\AppData\\Local\\Temp\\ipykernel_2040\\3825133095.py:7: SettingWithCopyWarning: \n",
      "A value is trying to be set on a copy of a slice from a DataFrame.\n",
      "Try using .loc[row_indexer,col_indexer] = value instead\n",
      "\n",
      "See the caveats in the documentation: https://pandas.pydata.org/pandas-docs/stable/user_guide/indexing.html#returning-a-view-versus-a-copy\n",
      "  df_C['concordance'] = df_C_temp1['Infection_C'].astype(int)\n"
     ]
    },
    {
     "data": {
      "text/html": [
       "<div>\n",
       "<style scoped>\n",
       "    .dataframe tbody tr th:only-of-type {\n",
       "        vertical-align: middle;\n",
       "    }\n",
       "\n",
       "    .dataframe tbody tr th {\n",
       "        vertical-align: top;\n",
       "    }\n",
       "\n",
       "    .dataframe thead th {\n",
       "        text-align: right;\n",
       "    }\n",
       "</style>\n",
       "<table border=\"1\" class=\"dataframe\">\n",
       "  <thead>\n",
       "    <tr style=\"text-align: right;\">\n",
       "      <th></th>\n",
       "      <th>UHID</th>\n",
       "      <th>RAMJA</th>\n",
       "      <th>AIIMS</th>\n",
       "      <th>concordance</th>\n",
       "    </tr>\n",
       "  </thead>\n",
       "  <tbody>\n",
       "    <tr>\n",
       "      <th>0</th>\n",
       "      <td>20220065432</td>\n",
       "      <td>Enterococcus faecalis</td>\n",
       "      <td>Enterococcus faecalis</td>\n",
       "      <td>1</td>\n",
       "    </tr>\n",
       "    <tr>\n",
       "      <th>1</th>\n",
       "      <td>20240016182</td>\n",
       "      <td>NaN</td>\n",
       "      <td>NaN</td>\n",
       "      <td>0</td>\n",
       "    </tr>\n",
       "    <tr>\n",
       "      <th>2</th>\n",
       "      <td>20230125389</td>\n",
       "      <td>E.Coli. and K.pne</td>\n",
       "      <td>E.coli</td>\n",
       "      <td>1</td>\n",
       "    </tr>\n",
       "    <tr>\n",
       "      <th>3</th>\n",
       "      <td>20180022685</td>\n",
       "      <td>P. mirabilis</td>\n",
       "      <td>CONTAMINATION</td>\n",
       "      <td>0</td>\n",
       "    </tr>\n",
       "    <tr>\n",
       "      <th>4</th>\n",
       "      <td>20201415102</td>\n",
       "      <td>NaN</td>\n",
       "      <td>NaN</td>\n",
       "      <td>0</td>\n",
       "    </tr>\n",
       "  </tbody>\n",
       "</table>\n",
       "</div>"
      ],
      "text/plain": [
       "          UHID                  RAMJA                  AIIMS  concordance\n",
       "0  20220065432  Enterococcus faecalis  Enterococcus faecalis            1\n",
       "1  20240016182                    NaN                    NaN            0\n",
       "2  20230125389      E.Coli. and K.pne                 E.coli            1\n",
       "3  20180022685           P. mirabilis          CONTAMINATION            0\n",
       "4  20201415102                    NaN                    NaN            0"
      ]
     },
     "execution_count": 41,
     "metadata": {},
     "output_type": "execute_result"
    }
   ],
   "source": [
    "#...Concordance: Get same type of infections in both RAMJA and AIIMS\n",
    "df_R_temp1  = df_R[['Escherichia coli','Klebsiella pneumoniae','Pseudomonas aeruginosa','Acinetobacter baumannii','Proteus mirabilis','Enterococcus faecalis','Staphylococcus aureus','Staphylococcus saprophyticus']]\n",
    "df_A_temp1  = df_A[['Escherichia coli','Klebsiella pneumoniae','Pseudomonas aeruginosa','Acinetobacter baumannii','Proteus mirabilis','Enterococcus faecalis','Staphylococcus aureus','Staphylococcus saprophyticus']]\n",
    "df_C_temp1 = df_R_temp1 & df_A_temp1\n",
    "df_C_temp1['Infection_C'] = df_C_temp1.any(axis=1)\n",
    "df_C = data[['UHID','RAMJA','AIIMS']]\n",
    "df_C['concordance'] = df_C_temp1['Infection_C'].astype(int)\n",
    "df_C.head()"
   ]
  },
  {
   "cell_type": "code",
   "execution_count": 43,
   "metadata": {},
   "outputs": [
    {
     "data": {
      "text/plain": [
       "(131, 4)"
      ]
     },
     "execution_count": 43,
     "metadata": {},
     "output_type": "execute_result"
    }
   ],
   "source": [
    "df_C.shape"
   ]
  },
  {
   "cell_type": "code",
   "execution_count": 44,
   "metadata": {},
   "outputs": [
    {
     "data": {
      "text/plain": [
       "0    106\n",
       "1     25\n",
       "Name: concordance, dtype: int64"
      ]
     },
     "execution_count": 44,
     "metadata": {},
     "output_type": "execute_result"
    }
   ],
   "source": [
    "df_C['concordance'].value_counts()"
   ]
  },
  {
   "cell_type": "code",
   "execution_count": 45,
   "metadata": {},
   "outputs": [],
   "source": [
    "df_NonNaN_C = df_C.dropna(subset=['RAMJA','AIIMS'])"
   ]
  },
  {
   "cell_type": "code",
   "execution_count": 46,
   "metadata": {},
   "outputs": [
    {
     "data": {
      "text/plain": [
       "(112, 4)"
      ]
     },
     "execution_count": 46,
     "metadata": {},
     "output_type": "execute_result"
    }
   ],
   "source": [
    "df_NonNaN_C.shape"
   ]
  },
  {
   "cell_type": "markdown",
   "metadata": {},
   "source": [
    "### common clean samples"
   ]
  },
  {
   "cell_type": "code",
   "execution_count": 47,
   "metadata": {},
   "outputs": [
    {
     "data": {
      "text/plain": [
       "(125, 4)"
      ]
     },
     "execution_count": 47,
     "metadata": {},
     "output_type": "execute_result"
    }
   ],
   "source": [
    "df_R_tempc = df_R_clean[['UHID','RAMJA','AIIMS', 'Infection_R']]\n",
    "df_R_tempc.shape"
   ]
  },
  {
   "cell_type": "code",
   "execution_count": 48,
   "metadata": {},
   "outputs": [
    {
     "data": {
      "text/plain": [
       "(114, 2)"
      ]
     },
     "execution_count": 48,
     "metadata": {},
     "output_type": "execute_result"
    }
   ],
   "source": [
    "df_A_tempc = df_A_clean[['UHID','Infection_A']]\n",
    "df_A_tempc.shape"
   ]
  },
  {
   "cell_type": "code",
   "execution_count": 49,
   "metadata": {},
   "outputs": [
    {
     "data": {
      "text/plain": [
       "(112, 5)"
      ]
     },
     "execution_count": 49,
     "metadata": {},
     "output_type": "execute_result"
    }
   ],
   "source": [
    "#..clean datset having common samples with No Nan, No contamination, No Others\n",
    "df_C_clean = pd.merge(df_R_tempc,df_A_tempc,how='inner', on='UHID')\n",
    "df_C_clean.shape"
   ]
  },
  {
   "cell_type": "code",
   "execution_count": 50,
   "metadata": {},
   "outputs": [
    {
     "data": {
      "text/html": [
       "<div>\n",
       "<style scoped>\n",
       "    .dataframe tbody tr th:only-of-type {\n",
       "        vertical-align: middle;\n",
       "    }\n",
       "\n",
       "    .dataframe tbody tr th {\n",
       "        vertical-align: top;\n",
       "    }\n",
       "\n",
       "    .dataframe thead th {\n",
       "        text-align: right;\n",
       "    }\n",
       "</style>\n",
       "<table border=\"1\" class=\"dataframe\">\n",
       "  <thead>\n",
       "    <tr style=\"text-align: right;\">\n",
       "      <th></th>\n",
       "      <th>UHID</th>\n",
       "      <th>RAMJA</th>\n",
       "      <th>AIIMS</th>\n",
       "      <th>Infection_R</th>\n",
       "      <th>Infection_A</th>\n",
       "    </tr>\n",
       "  </thead>\n",
       "  <tbody>\n",
       "    <tr>\n",
       "      <th>0</th>\n",
       "      <td>20220065432</td>\n",
       "      <td>Enterococcus faecalis</td>\n",
       "      <td>Enterococcus faecalis</td>\n",
       "      <td>1</td>\n",
       "      <td>1</td>\n",
       "    </tr>\n",
       "    <tr>\n",
       "      <th>1</th>\n",
       "      <td>20230125389</td>\n",
       "      <td>E.Coli. and K.pne</td>\n",
       "      <td>E.coli</td>\n",
       "      <td>1</td>\n",
       "      <td>1</td>\n",
       "    </tr>\n",
       "    <tr>\n",
       "      <th>2</th>\n",
       "      <td>20180022685</td>\n",
       "      <td>P. mirabilis</td>\n",
       "      <td>CONTAMINATION</td>\n",
       "      <td>1</td>\n",
       "      <td>1</td>\n",
       "    </tr>\n",
       "    <tr>\n",
       "      <th>3</th>\n",
       "      <td>20240012395</td>\n",
       "      <td>Polymicrobial (E.coli, A. baumannii, P.mirabil...</td>\n",
       "      <td>E.coli</td>\n",
       "      <td>1</td>\n",
       "      <td>1</td>\n",
       "    </tr>\n",
       "    <tr>\n",
       "      <th>4</th>\n",
       "      <td>20220166372</td>\n",
       "      <td>E.coli, Pseudomonas, P.mirabilis, E.Faecalis, ...</td>\n",
       "      <td>E.coli &amp; Pseudomnas</td>\n",
       "      <td>1</td>\n",
       "      <td>1</td>\n",
       "    </tr>\n",
       "  </tbody>\n",
       "</table>\n",
       "</div>"
      ],
      "text/plain": [
       "          UHID                                              RAMJA  \\\n",
       "0  20220065432                              Enterococcus faecalis   \n",
       "1  20230125389                                  E.Coli. and K.pne   \n",
       "2  20180022685                                       P. mirabilis   \n",
       "3  20240012395  Polymicrobial (E.coli, A. baumannii, P.mirabil...   \n",
       "4  20220166372  E.coli, Pseudomonas, P.mirabilis, E.Faecalis, ...   \n",
       "\n",
       "                   AIIMS  Infection_R  Infection_A  \n",
       "0  Enterococcus faecalis            1            1  \n",
       "1                 E.coli            1            1  \n",
       "2          CONTAMINATION            1            1  \n",
       "3                 E.coli            1            1  \n",
       "4    E.coli & Pseudomnas            1            1  "
      ]
     },
     "execution_count": 50,
     "metadata": {},
     "output_type": "execute_result"
    }
   ],
   "source": [
    "df_C_clean.head()"
   ]
  },
  {
   "cell_type": "markdown",
   "metadata": {},
   "source": [
    "#### Confusion matrix"
   ]
  },
  {
   "cell_type": "code",
   "execution_count": 51,
   "metadata": {},
   "outputs": [
    {
     "name": "stdout",
     "output_type": "stream",
     "text": [
      "[[38 18]\n",
      " [10 46]]\n"
     ]
    }
   ],
   "source": [
    "from sklearn.metrics import confusion_matrix\n",
    "\n",
    "y_true = df_C_clean['Infection_A']\n",
    "y_pred = df_C_clean['Infection_R']\n",
    "\n",
    "cm = confusion_matrix(y_true, y_pred)\n",
    "print(cm)"
   ]
  },
  {
   "cell_type": "code",
   "execution_count": 52,
   "metadata": {},
   "outputs": [
    {
     "data": {
      "text/plain": [
       "112"
      ]
     },
     "execution_count": 52,
     "metadata": {},
     "output_type": "execute_result"
    }
   ],
   "source": [
    "sum(sum(cm))"
   ]
  },
  {
   "cell_type": "code",
   "execution_count": 53,
   "metadata": {},
   "outputs": [
    {
     "data": {
      "text/plain": [
       "(38, 18, 10, 46)"
      ]
     },
     "execution_count": 53,
     "metadata": {},
     "output_type": "execute_result"
    }
   ],
   "source": [
    "tn, fp, fn, tp = confusion_matrix(y_true, y_pred).ravel()\n",
    "(tn,fp,fn,tp)"
   ]
  },
  {
   "cell_type": "code",
   "execution_count": 54,
   "metadata": {},
   "outputs": [
    {
     "data": {
      "text/plain": [
       "array([[46, 18],\n",
       "       [10, 38]], dtype=int64)"
      ]
     },
     "execution_count": 54,
     "metadata": {},
     "output_type": "execute_result"
    }
   ],
   "source": [
    "t_cm = np.array([tp, fp, fn, tn]).reshape(2,2)\n",
    "t_cm"
   ]
  },
  {
   "cell_type": "code",
   "execution_count": 55,
   "metadata": {},
   "outputs": [
    {
     "data": {
      "text/html": [
       "<div>\n",
       "<style scoped>\n",
       "    .dataframe tbody tr th:only-of-type {\n",
       "        vertical-align: middle;\n",
       "    }\n",
       "\n",
       "    .dataframe tbody tr th {\n",
       "        vertical-align: top;\n",
       "    }\n",
       "\n",
       "    .dataframe thead th {\n",
       "        text-align: right;\n",
       "    }\n",
       "</style>\n",
       "<table border=\"1\" class=\"dataframe\">\n",
       "  <thead>\n",
       "    <tr style=\"text-align: right;\">\n",
       "      <th></th>\n",
       "      <th>AIIMS Positive</th>\n",
       "      <th>AIIMS Negative</th>\n",
       "    </tr>\n",
       "  </thead>\n",
       "  <tbody>\n",
       "    <tr>\n",
       "      <th>RAMJA Positive</th>\n",
       "      <td>46</td>\n",
       "      <td>18</td>\n",
       "    </tr>\n",
       "    <tr>\n",
       "      <th>RAMJA Negative</th>\n",
       "      <td>10</td>\n",
       "      <td>38</td>\n",
       "    </tr>\n",
       "  </tbody>\n",
       "</table>\n",
       "</div>"
      ],
      "text/plain": [
       "                AIIMS Positive  AIIMS Negative\n",
       "RAMJA Positive              46              18\n",
       "RAMJA Negative              10              38"
      ]
     },
     "execution_count": 55,
     "metadata": {},
     "output_type": "execute_result"
    }
   ],
   "source": [
    "df_cm =pd.DataFrame(t_cm,index=['RAMJA Positive','RAMJA Negative'], columns= ['AIIMS Positive','AIIMS Negative'])\n",
    "df_cm"
   ]
  },
  {
   "cell_type": "markdown",
   "metadata": {},
   "source": [
    "#### Scores"
   ]
  },
  {
   "cell_type": "code",
   "execution_count": 56,
   "metadata": {},
   "outputs": [],
   "source": [
    "def scores(y_test, y_pred):\n",
    "        #y_pred = self.fit(x_train, x_test, y_train)\n",
    "        from sklearn.metrics import confusion_matrix, accuracy_score, roc_auc_score\n",
    "        \n",
    "        cm = confusion_matrix(y_test,y_pred)\n",
    "        \n",
    "        # Compute confusion matrix\n",
    "        tn, fp, fn, tp = confusion_matrix(y_true, y_pred).ravel()\n",
    "                \n",
    "        #.....................Accuracy......................#\n",
    "        #accur = accuracy_score(y_test,y_pred)\n",
    "        accur = (tp + tn)/(tp+tn+fp+fn)\n",
    "        \n",
    "       #.....................Senstivity.....................#\n",
    "        sens = tp/(tp + fn)\n",
    "\n",
    "        #.....................Specificity...................#\n",
    "        spec = tn / (tn + fp)\n",
    "\n",
    "        #..........Positive predictive value (PPV)...........#\n",
    "        PPV = tp/(tp + fp)\n",
    "\n",
    "        #..........negative predictive value (NPV)...........#\n",
    "        NPV = tn/(tn + fn)\n",
    "        \n",
    "        #..........Positive Likelihood ratio (PLR)...........#\n",
    "        PLR = sens/(1-spec)\n",
    "\n",
    "        #..........Negative Likelihood ratio (NLR)...........#\n",
    "        NLR = (1-sens)/spec\n",
    "\n",
    "        errorList = np.array([accur, sens, spec, PPV, NPV, PLR, NLR])\n",
    "        return(errorList)"
   ]
  },
  {
   "cell_type": "code",
   "execution_count": 57,
   "metadata": {},
   "outputs": [
    {
     "data": {
      "text/html": [
       "<div>\n",
       "<style scoped>\n",
       "    .dataframe tbody tr th:only-of-type {\n",
       "        vertical-align: middle;\n",
       "    }\n",
       "\n",
       "    .dataframe tbody tr th {\n",
       "        vertical-align: top;\n",
       "    }\n",
       "\n",
       "    .dataframe thead th {\n",
       "        text-align: right;\n",
       "    }\n",
       "</style>\n",
       "<table border=\"1\" class=\"dataframe\">\n",
       "  <thead>\n",
       "    <tr style=\"text-align: right;\">\n",
       "      <th></th>\n",
       "      <th>LOT1</th>\n",
       "    </tr>\n",
       "  </thead>\n",
       "  <tbody>\n",
       "    <tr>\n",
       "      <th>Accuracy</th>\n",
       "      <td>0.7500</td>\n",
       "    </tr>\n",
       "    <tr>\n",
       "      <th>Sensitivity</th>\n",
       "      <td>0.8214</td>\n",
       "    </tr>\n",
       "    <tr>\n",
       "      <th>Specificity</th>\n",
       "      <td>0.6786</td>\n",
       "    </tr>\n",
       "    <tr>\n",
       "      <th>PPV</th>\n",
       "      <td>0.7188</td>\n",
       "    </tr>\n",
       "    <tr>\n",
       "      <th>NPV</th>\n",
       "      <td>0.7917</td>\n",
       "    </tr>\n",
       "    <tr>\n",
       "      <th>PLR</th>\n",
       "      <td>2.5556</td>\n",
       "    </tr>\n",
       "    <tr>\n",
       "      <th>NLR</th>\n",
       "      <td>0.2632</td>\n",
       "    </tr>\n",
       "  </tbody>\n",
       "</table>\n",
       "</div>"
      ],
      "text/plain": [
       "               LOT1\n",
       "Accuracy     0.7500\n",
       "Sensitivity  0.8214\n",
       "Specificity  0.6786\n",
       "PPV          0.7188\n",
       "NPV          0.7917\n",
       "PLR          2.5556\n",
       "NLR          0.2632"
      ]
     },
     "execution_count": 57,
     "metadata": {},
     "output_type": "execute_result"
    }
   ],
   "source": [
    "scores(y_true,y_pred)\n",
    "scoreid = ['Accuracy', 'Sensitivity', 'Specificity', 'PPV', 'NPV', 'PLR', 'NLR']\n",
    "df_score = pd.DataFrame(scores(y_true,y_pred),index=scoreid, columns= ['LOT1'])\n",
    "df_score = round(df_score,4)\n",
    "df_score"
   ]
  },
  {
   "cell_type": "code",
   "execution_count": 44,
   "metadata": {},
   "outputs": [
    {
     "data": {
      "text/plain": [
       "' print(\"#..........RAMJA Details..........#\")\\n#......VAlies for both RAMJA and AIIMS\\nprint(\"Total samples: \", data.shape[0])\\n\\n#...Values for RAMJA\\nprint(\"Null Samples RAMJA: \",data[\\'RAMJA\\'].isnull().sum(axis=0))\\nprint(\"Non-Null RAMJA: \", data[\\'RAMJA\\'].count())\\n\\n#...VAlues for RAMJA after dropping NaN\\nprint(\"Contaminated Samples RAMJA: \", df_NonNaN_R[\\'Contamination\\'].sum())\\nprint(\"Other RAMJA: \", df_NonNaN_R[\\'Others_R\\'].sum())\\nprint(\"Positive RAMJA: \", df_NonNaN_R[\\'Infection_R\\'].sum())\\nprint(\"Negative RAMJA: \", df_NonNaN_R[\\'Sterile\\'].sum())\\n\\nprint(\"#..........AIIMS Details..........#\")\\n#...Values for AIIMS\\nprint(\"Total samples: \", data.shape[0])\\nprint(\"Null Samples AIIMS: \",data[\\'AIIMS\\'].isnull().sum(axis=0))\\nprint(\"Non-Null AIIMS: \", data[\\'AIIMS\\'].count())\\n\\n#...VAlues for RAMJA after dropping NaN\\nprint(\"Contaminated Samples AIIMS: \", df_NonNaN_A[\\'Contamination\\'].sum())\\nprint(\"Other AIIMS: \", df_NonNaN_A[\\'Others_A\\'].sum())\\nprint(\"Positive AIIMS: \", df_NonNaN_A[\\'Infection_A\\'].sum())\\nprint(\"Negative AIIMS: \", df_NonNaN_A[\\'Sterile\\'].sum())\\n '"
      ]
     },
     "execution_count": 44,
     "metadata": {},
     "output_type": "execute_result"
    }
   ],
   "source": [
    "\"\"\" print(\"#..........RAMJA Details..........#\")\n",
    "#......VAlies for both RAMJA and AIIMS\n",
    "print(\"Total samples: \", data.shape[0])\n",
    "\n",
    "#...Values for RAMJA\n",
    "print(\"Null Samples RAMJA: \",data['RAMJA'].isnull().sum(axis=0))\n",
    "print(\"Non-Null RAMJA: \", data['RAMJA'].count())\n",
    "\n",
    "#...VAlues for RAMJA after dropping NaN\n",
    "print(\"Contaminated Samples RAMJA: \", df_NonNaN_R['Contamination'].sum())\n",
    "print(\"Other RAMJA: \", df_NonNaN_R['Others_R'].sum())\n",
    "print(\"Positive RAMJA: \", df_NonNaN_R['Infection_R'].sum())\n",
    "print(\"Negative RAMJA: \", df_NonNaN_R['Sterile'].sum())\n",
    "\n",
    "print(\"#..........AIIMS Details..........#\")\n",
    "#...Values for AIIMS\n",
    "print(\"Total samples: \", data.shape[0])\n",
    "print(\"Null Samples AIIMS: \",data['AIIMS'].isnull().sum(axis=0))\n",
    "print(\"Non-Null AIIMS: \", data['AIIMS'].count())\n",
    "\n",
    "#...VAlues for RAMJA after dropping NaN\n",
    "print(\"Contaminated Samples AIIMS: \", df_NonNaN_A['Contamination'].sum())\n",
    "print(\"Other AIIMS: \", df_NonNaN_A['Others_A'].sum())\n",
    "print(\"Positive AIIMS: \", df_NonNaN_A['Infection_A'].sum())\n",
    "print(\"Negative AIIMS: \", df_NonNaN_A['Sterile'].sum())\n",
    " \"\"\""
   ]
  },
  {
   "cell_type": "markdown",
   "metadata": {},
   "source": [
    "#### Samples detail"
   ]
  },
  {
   "cell_type": "code",
   "execution_count": 58,
   "metadata": {},
   "outputs": [],
   "source": [
    "samplesDetail = {\n",
    "    \"Total Samples\": [data.shape[0],data.shape[0]],\n",
    "    \"Blank Results\": [data['RAMJA'].isnull().sum(axis=0), data['AIIMS'].isnull().sum(axis=0)],\n",
    "    \"Non-Blank Results\": [data['RAMJA'].count(),data['AIIMS'].count()],\n",
    "    \"Contaminated Samples\": [df_NonNaN_R['Contamination'].sum(),df_NonNaN_A['Contamination'].sum()],\n",
    "    \"Others\": [df_NonNaN_R['Others_R'].sum(),df_NonNaN_A['Others_A'].sum()],\n",
    "    \"Common samples\":  [df_NonNaN_C.shape[0], df_NonNaN_C.shape[0]],\n",
    "    #\"Useful Samples\":[df_R_clean.shape[0], df_A_clean.shape[0]],\n",
    "    \"Positive\": [df_NonNaN_R['Infection_R'].sum(),df_NonNaN_A['Infection_A'].sum()],\n",
    "    \"Negative\": [df_NonNaN_R['Sterile'].sum(),df_NonNaN_A['Sterile'].sum()],\n",
    "    \"Common Positive\": [tp,tp],\n",
    "    \"Concordance [Common bacteria]\": [df_C['concordance'].sum(),df_C['concordance'].sum()],\n",
    "    \"Common Negative\": [tn,tn]\n",
    "    \n",
    "}"
   ]
  },
  {
   "cell_type": "code",
   "execution_count": 59,
   "metadata": {},
   "outputs": [
    {
     "data": {
      "text/html": [
       "<div>\n",
       "<style scoped>\n",
       "    .dataframe tbody tr th:only-of-type {\n",
       "        vertical-align: middle;\n",
       "    }\n",
       "\n",
       "    .dataframe tbody tr th {\n",
       "        vertical-align: top;\n",
       "    }\n",
       "\n",
       "    .dataframe thead th {\n",
       "        text-align: right;\n",
       "    }\n",
       "</style>\n",
       "<table border=\"1\" class=\"dataframe\">\n",
       "  <thead>\n",
       "    <tr style=\"text-align: right;\">\n",
       "      <th></th>\n",
       "      <th>RAMJA</th>\n",
       "      <th>AIIMS</th>\n",
       "    </tr>\n",
       "  </thead>\n",
       "  <tbody>\n",
       "    <tr>\n",
       "      <th>Total Samples</th>\n",
       "      <td>131</td>\n",
       "      <td>131</td>\n",
       "    </tr>\n",
       "    <tr>\n",
       "      <th>Blank Results</th>\n",
       "      <td>6</td>\n",
       "      <td>17</td>\n",
       "    </tr>\n",
       "    <tr>\n",
       "      <th>Non-Blank Results</th>\n",
       "      <td>125</td>\n",
       "      <td>114</td>\n",
       "    </tr>\n",
       "    <tr>\n",
       "      <th>Contaminated Samples</th>\n",
       "      <td>0</td>\n",
       "      <td>17</td>\n",
       "    </tr>\n",
       "    <tr>\n",
       "      <th>Others</th>\n",
       "      <td>0</td>\n",
       "      <td>9</td>\n",
       "    </tr>\n",
       "    <tr>\n",
       "      <th>Common samples</th>\n",
       "      <td>112</td>\n",
       "      <td>112</td>\n",
       "    </tr>\n",
       "    <tr>\n",
       "      <th>Positive</th>\n",
       "      <td>70</td>\n",
       "      <td>58</td>\n",
       "    </tr>\n",
       "    <tr>\n",
       "      <th>Negative</th>\n",
       "      <td>55</td>\n",
       "      <td>56</td>\n",
       "    </tr>\n",
       "    <tr>\n",
       "      <th>Common Positive</th>\n",
       "      <td>46</td>\n",
       "      <td>46</td>\n",
       "    </tr>\n",
       "    <tr>\n",
       "      <th>Concordance [Common bacteria]</th>\n",
       "      <td>25</td>\n",
       "      <td>25</td>\n",
       "    </tr>\n",
       "    <tr>\n",
       "      <th>Common Negative</th>\n",
       "      <td>38</td>\n",
       "      <td>38</td>\n",
       "    </tr>\n",
       "  </tbody>\n",
       "</table>\n",
       "</div>"
      ],
      "text/plain": [
       "                               RAMJA  AIIMS\n",
       "Total Samples                    131    131\n",
       "Blank Results                      6     17\n",
       "Non-Blank Results                125    114\n",
       "Contaminated Samples               0     17\n",
       "Others                             0      9\n",
       "Common samples                   112    112\n",
       "Positive                          70     58\n",
       "Negative                          55     56\n",
       "Common Positive                   46     46\n",
       "Concordance [Common bacteria]     25     25\n",
       "Common Negative                   38     38"
      ]
     },
     "execution_count": 59,
     "metadata": {},
     "output_type": "execute_result"
    }
   ],
   "source": [
    "df_samplesDetail = pd.DataFrame(samplesDetail, index=['RAMJA','AIIMS']).T\n",
    "df_samplesDetail"
   ]
  },
  {
   "cell_type": "markdown",
   "metadata": {},
   "source": [
    "#### Export matrices to excel"
   ]
  },
  {
   "cell_type": "code",
   "execution_count": 60,
   "metadata": {},
   "outputs": [],
   "source": [
    "# Write the DataFrames to an Excel file\n",
    "with pd.ExcelWriter('matrices2.xlsx') as writer:\n",
    "    df_samplesDetail.to_excel(writer, sheet_name='SamplesDetail', index=True)\n",
    "    df_cm.to_excel(writer, sheet_name='ConfusionMatrix', index=True)\n",
    "    df_score.to_excel(writer, sheet_name='Scores', index=True)\n",
    "    \n"
   ]
  },
  {
   "cell_type": "markdown",
   "metadata": {},
   "source": [
    "#### Sort the required dataset and export to excel"
   ]
  },
  {
   "cell_type": "code",
   "execution_count": 61,
   "metadata": {},
   "outputs": [
    {
     "data": {
      "text/plain": [
       "(17, 3)"
      ]
     },
     "execution_count": 61,
     "metadata": {},
     "output_type": "execute_result"
    }
   ],
   "source": [
    "df_A_conta = df_NonNaN_A[df_NonNaN_A['Contamination'] ==1][['UHID', 'RAMJA', 'AIIMS']]\n",
    "df_A_conta.shape"
   ]
  },
  {
   "cell_type": "code",
   "execution_count": 62,
   "metadata": {},
   "outputs": [
    {
     "data": {
      "text/plain": [
       "(9, 3)"
      ]
     },
     "execution_count": 62,
     "metadata": {},
     "output_type": "execute_result"
    }
   ],
   "source": [
    "df_A_others = df_NonNaN_A[df_NonNaN_A['Others_A'] ==1][['UHID', 'RAMJA', 'AIIMS']]\n",
    "df_A_others.shape"
   ]
  },
  {
   "cell_type": "code",
   "execution_count": 63,
   "metadata": {},
   "outputs": [
    {
     "data": {
      "text/html": [
       "<div>\n",
       "<style scoped>\n",
       "    .dataframe tbody tr th:only-of-type {\n",
       "        vertical-align: middle;\n",
       "    }\n",
       "\n",
       "    .dataframe tbody tr th {\n",
       "        vertical-align: top;\n",
       "    }\n",
       "\n",
       "    .dataframe thead th {\n",
       "        text-align: right;\n",
       "    }\n",
       "</style>\n",
       "<table border=\"1\" class=\"dataframe\">\n",
       "  <thead>\n",
       "    <tr style=\"text-align: right;\">\n",
       "      <th></th>\n",
       "      <th>UHID</th>\n",
       "      <th>RAMJA</th>\n",
       "      <th>AIIMS</th>\n",
       "    </tr>\n",
       "  </thead>\n",
       "  <tbody>\n",
       "    <tr>\n",
       "      <th>26</th>\n",
       "      <td>20240019044</td>\n",
       "      <td>E.coli &amp; Klebsiella pneumonia</td>\n",
       "      <td>Candida spp.</td>\n",
       "    </tr>\n",
       "    <tr>\n",
       "      <th>70</th>\n",
       "      <td>20240034567</td>\n",
       "      <td>A. baumannii, P.mirabilis, E. Faecalis</td>\n",
       "      <td>Insignificant growth</td>\n",
       "    </tr>\n",
       "    <tr>\n",
       "      <th>90</th>\n",
       "      <td>20240046542</td>\n",
       "      <td>P.Aurogenosa</td>\n",
       "      <td>Acintobacter spp.</td>\n",
       "    </tr>\n",
       "    <tr>\n",
       "      <th>96</th>\n",
       "      <td>20240074281</td>\n",
       "      <td>Sterile</td>\n",
       "      <td>Commensal Flora</td>\n",
       "    </tr>\n",
       "    <tr>\n",
       "      <th>104</th>\n",
       "      <td>20240028527</td>\n",
       "      <td>Sterile</td>\n",
       "      <td>Insignificant growth of colonizer</td>\n",
       "    </tr>\n",
       "    <tr>\n",
       "      <th>107</th>\n",
       "      <td>20240087671</td>\n",
       "      <td>S.Aureus ,Saprohutics, and Mirababilis</td>\n",
       "      <td>Insignificant growth gram positive cocci</td>\n",
       "    </tr>\n",
       "    <tr>\n",
       "      <th>108</th>\n",
       "      <td>20230121277</td>\n",
       "      <td>E. coli and A.Baumini</td>\n",
       "      <td>Insignificant Gram negative bacilli</td>\n",
       "    </tr>\n",
       "    <tr>\n",
       "      <th>109</th>\n",
       "      <td>20240094465</td>\n",
       "      <td>A. baumanni, P mirabilis, S saprophyticus</td>\n",
       "      <td>Candida spp. and Insignificant gram negative b...</td>\n",
       "    </tr>\n",
       "    <tr>\n",
       "      <th>110</th>\n",
       "      <td>20230156801</td>\n",
       "      <td>S.Saprophytics</td>\n",
       "      <td>Insignificant gram negative bacilli</td>\n",
       "    </tr>\n",
       "  </tbody>\n",
       "</table>\n",
       "</div>"
      ],
      "text/plain": [
       "            UHID                                      RAMJA  \\\n",
       "26   20240019044              E.coli & Klebsiella pneumonia   \n",
       "70   20240034567     A. baumannii, P.mirabilis, E. Faecalis   \n",
       "90   20240046542                               P.Aurogenosa   \n",
       "96   20240074281                                    Sterile   \n",
       "104  20240028527                                    Sterile   \n",
       "107  20240087671     S.Aureus ,Saprohutics, and Mirababilis   \n",
       "108  20230121277                      E. coli and A.Baumini   \n",
       "109  20240094465  A. baumanni, P mirabilis, S saprophyticus   \n",
       "110  20230156801                             S.Saprophytics   \n",
       "\n",
       "                                                 AIIMS  \n",
       "26                                        Candida spp.  \n",
       "70                                Insignificant growth  \n",
       "90                                   Acintobacter spp.  \n",
       "96                                     Commensal Flora  \n",
       "104                  Insignificant growth of colonizer  \n",
       "107           Insignificant growth gram positive cocci  \n",
       "108                Insignificant Gram negative bacilli  \n",
       "109  Candida spp. and Insignificant gram negative b...  \n",
       "110                Insignificant gram negative bacilli  "
      ]
     },
     "metadata": {},
     "output_type": "display_data"
    }
   ],
   "source": [
    "display(df_A_others)"
   ]
  },
  {
   "cell_type": "code",
   "execution_count": 64,
   "metadata": {},
   "outputs": [
    {
     "data": {
      "text/plain": [
       "(46, 3)"
      ]
     },
     "execution_count": 64,
     "metadata": {},
     "output_type": "execute_result"
    }
   ],
   "source": [
    "#...Both positives\n",
    "df_Pos_C = df_C_clean[(df_C_clean['Infection_R'] == 1) & (df_C_clean['Infection_A'] == 1)][['UHID', 'RAMJA', 'AIIMS']]\n",
    "df_Pos_C.shape"
   ]
  },
  {
   "cell_type": "code",
   "execution_count": 65,
   "metadata": {},
   "outputs": [
    {
     "data": {
      "text/plain": [
       "(38, 3)"
      ]
     },
     "execution_count": 65,
     "metadata": {},
     "output_type": "execute_result"
    }
   ],
   "source": [
    "#...Both Negatives\n",
    "df_Neg_C = df_C_clean[(df_C_clean['Infection_R'] == 0) & (df_C_clean['Infection_A']==0)][['UHID', 'RAMJA', 'AIIMS']]\n",
    "df_Neg_C.shape"
   ]
  },
  {
   "cell_type": "code",
   "execution_count": 66,
   "metadata": {},
   "outputs": [
    {
     "data": {
      "text/plain": [
       "(25, 3)"
      ]
     },
     "execution_count": 66,
     "metadata": {},
     "output_type": "execute_result"
    }
   ],
   "source": [
    "#...Common type of infection\n",
    "df_concordance = df_C[df_C['concordance'] == 1][['UHID','RAMJA','AIIMS']]\n",
    "df_concordance.shape"
   ]
  },
  {
   "cell_type": "code",
   "execution_count": 55,
   "metadata": {},
   "outputs": [],
   "source": [
    "# Write the DataFrames to an Excel file\n",
    "with pd.ExcelWriter('sorteddata2.xlsx') as writer:\n",
    "    df_A_others.to_excel(writer, sheet_name='Undefined Samples_A', index=False)\n",
    "    df_A_conta.to_excel(writer, sheet_name='Contaminated Samples_A', index=False)\n",
    "    df_Pos_C.to_excel(writer, sheet_name='Common Positives', index=False)\n",
    "    df_concordance.to_excel(writer, sheet_name='Concordance', index=False)\n",
    "    df_Neg_C.to_excel(writer, sheet_name='Common Negatives', index=False)"
   ]
  },
  {
   "cell_type": "code",
   "execution_count": 128,
   "metadata": {},
   "outputs": [],
   "source": [
    "data_sym = data_sym.dropna()"
   ]
  },
  {
   "cell_type": "code",
   "execution_count": 130,
   "metadata": {},
   "outputs": [],
   "source": [
    "df_C_sym = pd.merge(df_C_clean,data_sym,how='inner', on='UHID')"
   ]
  },
  {
   "cell_type": "code",
   "execution_count": 131,
   "metadata": {},
   "outputs": [
    {
     "data": {
      "text/html": [
       "<div>\n",
       "<style scoped>\n",
       "    .dataframe tbody tr th:only-of-type {\n",
       "        vertical-align: middle;\n",
       "    }\n",
       "\n",
       "    .dataframe tbody tr th {\n",
       "        vertical-align: top;\n",
       "    }\n",
       "\n",
       "    .dataframe thead th {\n",
       "        text-align: right;\n",
       "    }\n",
       "</style>\n",
       "<table border=\"1\" class=\"dataframe\">\n",
       "  <thead>\n",
       "    <tr style=\"text-align: right;\">\n",
       "      <th></th>\n",
       "      <th>UHID</th>\n",
       "      <th>RAMJA</th>\n",
       "      <th>AIIMS</th>\n",
       "      <th>Infection_R</th>\n",
       "      <th>Infection_A</th>\n",
       "      <th>Fever</th>\n",
       "      <th>BP</th>\n",
       "      <th>HR</th>\n",
       "      <th>BP_Sys</th>\n",
       "      <th>BP_dia</th>\n",
       "      <th>BP_Dia</th>\n",
       "    </tr>\n",
       "  </thead>\n",
       "  <tbody>\n",
       "    <tr>\n",
       "      <th>0</th>\n",
       "      <td>20220065432</td>\n",
       "      <td>Enterococcus faecalis</td>\n",
       "      <td>Enterococcus faecalis</td>\n",
       "      <td>1</td>\n",
       "      <td>1</td>\n",
       "      <td>98.2</td>\n",
       "      <td>110/76</td>\n",
       "      <td>106.0</td>\n",
       "      <td>110</td>\n",
       "      <td>76</td>\n",
       "      <td>76</td>\n",
       "    </tr>\n",
       "    <tr>\n",
       "      <th>1</th>\n",
       "      <td>20230125389</td>\n",
       "      <td>E.Coli. and K.pne</td>\n",
       "      <td>E.coli</td>\n",
       "      <td>1</td>\n",
       "      <td>1</td>\n",
       "      <td>98.5</td>\n",
       "      <td>100/60</td>\n",
       "      <td>70.0</td>\n",
       "      <td>100</td>\n",
       "      <td>60</td>\n",
       "      <td>60</td>\n",
       "    </tr>\n",
       "    <tr>\n",
       "      <th>2</th>\n",
       "      <td>20180022685</td>\n",
       "      <td>P. mirabilis</td>\n",
       "      <td>CONTAMINATION</td>\n",
       "      <td>1</td>\n",
       "      <td>1</td>\n",
       "      <td>98.6</td>\n",
       "      <td>105/80</td>\n",
       "      <td>85.0</td>\n",
       "      <td>105</td>\n",
       "      <td>80</td>\n",
       "      <td>80</td>\n",
       "    </tr>\n",
       "    <tr>\n",
       "      <th>3</th>\n",
       "      <td>20240012395</td>\n",
       "      <td>Polymicrobial (E.coli, A. baumannii, P.mirabil...</td>\n",
       "      <td>E.coli</td>\n",
       "      <td>1</td>\n",
       "      <td>1</td>\n",
       "      <td>98.8</td>\n",
       "      <td>140/100</td>\n",
       "      <td>93.0</td>\n",
       "      <td>140</td>\n",
       "      <td>100</td>\n",
       "      <td>100</td>\n",
       "    </tr>\n",
       "    <tr>\n",
       "      <th>4</th>\n",
       "      <td>20220166372</td>\n",
       "      <td>E.coli, Pseudomonas, P.mirabilis, E.Faecalis, ...</td>\n",
       "      <td>E.coli &amp; Pseudomnas</td>\n",
       "      <td>1</td>\n",
       "      <td>1</td>\n",
       "      <td>98.2</td>\n",
       "      <td>132/82</td>\n",
       "      <td>84.0</td>\n",
       "      <td>132</td>\n",
       "      <td>82</td>\n",
       "      <td>82</td>\n",
       "    </tr>\n",
       "  </tbody>\n",
       "</table>\n",
       "</div>"
      ],
      "text/plain": [
       "          UHID                                              RAMJA  \\\n",
       "0  20220065432                              Enterococcus faecalis   \n",
       "1  20230125389                                  E.Coli. and K.pne   \n",
       "2  20180022685                                       P. mirabilis   \n",
       "3  20240012395  Polymicrobial (E.coli, A. baumannii, P.mirabil...   \n",
       "4  20220166372  E.coli, Pseudomonas, P.mirabilis, E.Faecalis, ...   \n",
       "\n",
       "                   AIIMS  Infection_R  Infection_A  Fever       BP     HR  \\\n",
       "0  Enterococcus faecalis            1            1   98.2   110/76  106.0   \n",
       "1                 E.coli            1            1   98.5   100/60   70.0   \n",
       "2          CONTAMINATION            1            1   98.6   105/80   85.0   \n",
       "3                 E.coli            1            1   98.8  140/100   93.0   \n",
       "4    E.coli & Pseudomnas            1            1   98.2   132/82   84.0   \n",
       "\n",
       "   BP_Sys BP_dia  BP_Dia  \n",
       "0     110     76      76  \n",
       "1     100     60      60  \n",
       "2     105     80      80  \n",
       "3     140    100     100  \n",
       "4     132     82      82  "
      ]
     },
     "execution_count": 131,
     "metadata": {},
     "output_type": "execute_result"
    }
   ],
   "source": [
    "df_C_sym.head()"
   ]
  },
  {
   "cell_type": "code",
   "execution_count": 140,
   "metadata": {},
   "outputs": [
    {
     "data": {
      "text/plain": [
       "<Axes: xlabel='Infection_A', ylabel='HR'>"
      ]
     },
     "execution_count": 140,
     "metadata": {},
     "output_type": "execute_result"
    },
    {
     "data": {
      "image/png": "[encoded data removed]",
      "text/plain": [
       "<Figure size 640x480 with 1 Axes>"
      ]
     },
     "metadata": {},
     "output_type": "display_data"
    }
   ],
   "source": [
    "import seaborn as sns\n",
    "import matplotlib.pyplot as plt\n",
    "sns.boxplot(x='Infection_A', y='HR', data=df_C_sym, palette='hls')"
   ]
  },
  {
   "cell_type": "code",
   "execution_count": 121,
   "metadata": {},
   "outputs": [
    {
     "data": {
      "text/plain": [
       "<Axes: xlabel='Infection_A', ylabel='Fever'>"
      ]
     },
     "execution_count": 121,
     "metadata": {},
     "output_type": "execute_result"
    },
    {
     "data": {
      "image/png": "[encoded data removed]",
      "text/plain": [
       "<Figure size 640x480 with 1 Axes>"
      ]
     },
     "metadata": {},
     "output_type": "display_data"
    }
   ],
   "source": [
    "sns.boxplot(x='Infection_A', y='Fever', data=df_C_sym, palette='hls')"
   ]
  },
  {
   "cell_type": "code",
   "execution_count": 144,
   "metadata": {},
   "outputs": [
    {
     "data": {
      "image/png": "[encoded data removed]",
      "text/plain": [
       "<Figure size 800x600 with 1 Axes>"
      ]
     },
     "metadata": {},
     "output_type": "display_data"
    }
   ],
   "source": [
    "import seaborn as sns\n",
    "import pandas as pd\n",
    "import matplotlib.pyplot as plt\n",
    "\n",
    "# Sample DataFrame\n",
    "data = {'Boolean_Var': [True, False, True, False, True, False, True, False],\n",
    "        'Y_Var1': [10, 20, 15, 25, 10, 30, 15, 35],\n",
    "        'Y_Var2': [40, 35, 30, 25, 20, 15, 10, 5]}\n",
    "df = pd.DataFrame(data)\n",
    "\n",
    "# Reshape the DataFrame to a long format for plotting\n",
    "df_melted = pd.melt(df, id_vars=['Boolean_Var'], value_vars=['Y_Var1', 'Y_Var2'], \n",
    "                    var_name='Variable', value_name='Value')\n",
    "\n",
    "# Plotting the side-by-side boxplots on the same y-axis\n",
    "plt.figure(figsize=(8, 6))\n",
    "sns.boxplot(x='Boolean_Var', y='Value', hue='Variable', data=df_melted, palette='Set2')\n",
    "\n",
    "# Customize plot\n",
    "plt.title(\"Side-by-Side Boxplots on the Same Y-Axis\")\n",
    "plt.ylabel(\"Values\")\n",
    "plt.xlabel(\"Boolean Variable\")\n",
    "plt.show()\n"
   ]
  },
  {
   "cell_type": "code",
   "execution_count": 135,
   "metadata": {},
   "outputs": [
    {
     "data": {
      "text/plain": [
       "<Axes: xlabel='Infection_A', ylabel='BP_Dia'>"
      ]
     },
     "execution_count": 135,
     "metadata": {},
     "output_type": "execute_result"
    },
    {
     "data": {
      "image/png": "[encoded data removed]",
      "text/plain": [
       "<Figure size 640x480 with 1 Axes>"
      ]
     },
     "metadata": {},
     "output_type": "display_data"
    }
   ],
   "source": [
    "sns.boxplot(x='Infection_A', y='BP_Dia', data=df_C_sym, palette='hls')"
   ]
  },
  {
   "cell_type": "code",
   "execution_count": 106,
   "metadata": {},
   "outputs": [
    {
     "data": {
      "text/html": [
       "<div>\n",
       "<style scoped>\n",
       "    .dataframe tbody tr th:only-of-type {\n",
       "        vertical-align: middle;\n",
       "    }\n",
       "\n",
       "    .dataframe tbody tr th {\n",
       "        vertical-align: top;\n",
       "    }\n",
       "\n",
       "    .dataframe thead th {\n",
       "        text-align: right;\n",
       "    }\n",
       "</style>\n",
       "<table border=\"1\" class=\"dataframe\">\n",
       "  <thead>\n",
       "    <tr style=\"text-align: right;\">\n",
       "      <th></th>\n",
       "      <th>UHID</th>\n",
       "      <th>Fever</th>\n",
       "      <th>HR</th>\n",
       "    </tr>\n",
       "  </thead>\n",
       "  <tbody>\n",
       "    <tr>\n",
       "      <th>count</th>\n",
       "      <td>1.030000e+02</td>\n",
       "      <td>103.000000</td>\n",
       "      <td>103.000000</td>\n",
       "    </tr>\n",
       "    <tr>\n",
       "      <th>mean</th>\n",
       "      <td>2.023386e+10</td>\n",
       "      <td>98.219417</td>\n",
       "      <td>90.145631</td>\n",
       "    </tr>\n",
       "    <tr>\n",
       "      <th>std</th>\n",
       "      <td>1.316375e+07</td>\n",
       "      <td>0.748601</td>\n",
       "      <td>13.652126</td>\n",
       "    </tr>\n",
       "    <tr>\n",
       "      <th>min</th>\n",
       "      <td>2.018002e+10</td>\n",
       "      <td>97.000000</td>\n",
       "      <td>58.000000</td>\n",
       "    </tr>\n",
       "    <tr>\n",
       "      <th>25%</th>\n",
       "      <td>2.023017e+10</td>\n",
       "      <td>98.000000</td>\n",
       "      <td>81.000000</td>\n",
       "    </tr>\n",
       "    <tr>\n",
       "      <th>50%</th>\n",
       "      <td>2.024002e+10</td>\n",
       "      <td>98.000000</td>\n",
       "      <td>89.000000</td>\n",
       "    </tr>\n",
       "    <tr>\n",
       "      <th>75%</th>\n",
       "      <td>2.024005e+10</td>\n",
       "      <td>98.600000</td>\n",
       "      <td>97.500000</td>\n",
       "    </tr>\n",
       "    <tr>\n",
       "      <th>max</th>\n",
       "      <td>2.024009e+10</td>\n",
       "      <td>102.000000</td>\n",
       "      <td>148.000000</td>\n",
       "    </tr>\n",
       "  </tbody>\n",
       "</table>\n",
       "</div>"
      ],
      "text/plain": [
       "               UHID       Fever          HR\n",
       "count  1.030000e+02  103.000000  103.000000\n",
       "mean   2.023386e+10   98.219417   90.145631\n",
       "std    1.316375e+07    0.748601   13.652126\n",
       "min    2.018002e+10   97.000000   58.000000\n",
       "25%    2.023017e+10   98.000000   81.000000\n",
       "50%    2.024002e+10   98.000000   89.000000\n",
       "75%    2.024005e+10   98.600000   97.500000\n",
       "max    2.024009e+10  102.000000  148.000000"
      ]
     },
     "execution_count": 106,
     "metadata": {},
     "output_type": "execute_result"
    }
   ],
   "source": [
    "data_sym.describe()"
   ]
  },
  {
   "cell_type": "code",
   "execution_count": 102,
   "metadata": {},
   "outputs": [
    {
     "data": {
      "text/html": [
       "<div>\n",
       "<style scoped>\n",
       "    .dataframe tbody tr th:only-of-type {\n",
       "        vertical-align: middle;\n",
       "    }\n",
       "\n",
       "    .dataframe tbody tr th {\n",
       "        vertical-align: top;\n",
       "    }\n",
       "\n",
       "    .dataframe thead th {\n",
       "        text-align: right;\n",
       "    }\n",
       "</style>\n",
       "<table border=\"1\" class=\"dataframe\">\n",
       "  <thead>\n",
       "    <tr style=\"text-align: right;\">\n",
       "      <th></th>\n",
       "      <th>UHID</th>\n",
       "      <th>Infection_R</th>\n",
       "      <th>Infection_A</th>\n",
       "      <th>Fever</th>\n",
       "      <th>HR</th>\n",
       "    </tr>\n",
       "  </thead>\n",
       "  <tbody>\n",
       "    <tr>\n",
       "      <th>count</th>\n",
       "      <td>8.800000e+01</td>\n",
       "      <td>88.000000</td>\n",
       "      <td>88.000000</td>\n",
       "      <td>88.000000</td>\n",
       "      <td>88.000000</td>\n",
       "    </tr>\n",
       "    <tr>\n",
       "      <th>mean</th>\n",
       "      <td>2.023358e+10</td>\n",
       "      <td>0.636364</td>\n",
       "      <td>0.522727</td>\n",
       "      <td>98.210227</td>\n",
       "      <td>90.556818</td>\n",
       "    </tr>\n",
       "    <tr>\n",
       "      <th>std</th>\n",
       "      <td>1.337255e+07</td>\n",
       "      <td>0.483802</td>\n",
       "      <td>0.502346</td>\n",
       "      <td>0.770884</td>\n",
       "      <td>13.807259</td>\n",
       "    </tr>\n",
       "    <tr>\n",
       "      <th>min</th>\n",
       "      <td>2.018002e+10</td>\n",
       "      <td>0.000000</td>\n",
       "      <td>0.000000</td>\n",
       "      <td>97.000000</td>\n",
       "      <td>68.000000</td>\n",
       "    </tr>\n",
       "    <tr>\n",
       "      <th>25%</th>\n",
       "      <td>2.023015e+10</td>\n",
       "      <td>0.000000</td>\n",
       "      <td>0.000000</td>\n",
       "      <td>98.000000</td>\n",
       "      <td>82.000000</td>\n",
       "    </tr>\n",
       "    <tr>\n",
       "      <th>50%</th>\n",
       "      <td>2.024002e+10</td>\n",
       "      <td>1.000000</td>\n",
       "      <td>1.000000</td>\n",
       "      <td>98.000000</td>\n",
       "      <td>88.500000</td>\n",
       "    </tr>\n",
       "    <tr>\n",
       "      <th>75%</th>\n",
       "      <td>2.024006e+10</td>\n",
       "      <td>1.000000</td>\n",
       "      <td>1.000000</td>\n",
       "      <td>98.600000</td>\n",
       "      <td>97.250000</td>\n",
       "    </tr>\n",
       "    <tr>\n",
       "      <th>max</th>\n",
       "      <td>2.024009e+10</td>\n",
       "      <td>1.000000</td>\n",
       "      <td>1.000000</td>\n",
       "      <td>102.000000</td>\n",
       "      <td>148.000000</td>\n",
       "    </tr>\n",
       "  </tbody>\n",
       "</table>\n",
       "</div>"
      ],
      "text/plain": [
       "               UHID  Infection_R  Infection_A       Fever          HR\n",
       "count  8.800000e+01    88.000000    88.000000   88.000000   88.000000\n",
       "mean   2.023358e+10     0.636364     0.522727   98.210227   90.556818\n",
       "std    1.337255e+07     0.483802     0.502346    0.770884   13.807259\n",
       "min    2.018002e+10     0.000000     0.000000   97.000000   68.000000\n",
       "25%    2.023015e+10     0.000000     0.000000   98.000000   82.000000\n",
       "50%    2.024002e+10     1.000000     1.000000   98.000000   88.500000\n",
       "75%    2.024006e+10     1.000000     1.000000   98.600000   97.250000\n",
       "max    2.024009e+10     1.000000     1.000000  102.000000  148.000000"
      ]
     },
     "execution_count": 102,
     "metadata": {},
     "output_type": "execute_result"
    }
   ],
   "source": [
    "df_C_sym.describe()"
   ]
  },
  {
   "cell_type": "code",
   "execution_count": 89,
   "metadata": {},
   "outputs": [
    {
     "name": "stderr",
     "output_type": "stream",
     "text": [
      "C:\\Users\\neelesh\\AppData\\Local\\Temp\\ipykernel_2040\\2595907390.py:1: FutureWarning: The default value of numeric_only in DataFrameGroupBy.mean is deprecated. In a future version, numeric_only will default to False. Either specify numeric_only or select only columns which should be valid for the function.\n",
      "  df_C_sym.groupby('Infection_A').mean()\n"
     ]
    },
    {
     "data": {
      "text/html": [
       "<div>\n",
       "<style scoped>\n",
       "    .dataframe tbody tr th:only-of-type {\n",
       "        vertical-align: middle;\n",
       "    }\n",
       "\n",
       "    .dataframe tbody tr th {\n",
       "        vertical-align: top;\n",
       "    }\n",
       "\n",
       "    .dataframe thead th {\n",
       "        text-align: right;\n",
       "    }\n",
       "</style>\n",
       "<table border=\"1\" class=\"dataframe\">\n",
       "  <thead>\n",
       "    <tr style=\"text-align: right;\">\n",
       "      <th></th>\n",
       "      <th>UHID</th>\n",
       "      <th>Infection_R</th>\n",
       "      <th>Fever</th>\n",
       "      <th>HR</th>\n",
       "    </tr>\n",
       "    <tr>\n",
       "      <th>Infection_A</th>\n",
       "      <th></th>\n",
       "      <th></th>\n",
       "      <th></th>\n",
       "      <th></th>\n",
       "    </tr>\n",
       "  </thead>\n",
       "  <tbody>\n",
       "    <tr>\n",
       "      <th>0</th>\n",
       "      <td>2.023292e+10</td>\n",
       "      <td>0.380952</td>\n",
       "      <td>98.216667</td>\n",
       "      <td>93.976190</td>\n",
       "    </tr>\n",
       "    <tr>\n",
       "      <th>1</th>\n",
       "      <td>2.023419e+10</td>\n",
       "      <td>0.869565</td>\n",
       "      <td>98.204348</td>\n",
       "      <td>87.434783</td>\n",
       "    </tr>\n",
       "  </tbody>\n",
       "</table>\n",
       "</div>"
      ],
      "text/plain": [
       "                     UHID  Infection_R      Fever         HR\n",
       "Infection_A                                                 \n",
       "0            2.023292e+10     0.380952  98.216667  93.976190\n",
       "1            2.023419e+10     0.869565  98.204348  87.434783"
      ]
     },
     "execution_count": 89,
     "metadata": {},
     "output_type": "execute_result"
    }
   ],
   "source": [
    "df_C_sym.groupby('Infection_A').mean()"
   ]
  },
  {
   "cell_type": "markdown",
   "metadata": {},
   "source": [
    "### Symptoms analysis"
   ]
  },
  {
   "cell_type": "code",
   "execution_count": 218,
   "metadata": {},
   "outputs": [
    {
     "data": {
      "text/plain": [
       "(131, 30)"
      ]
     },
     "execution_count": 218,
     "metadata": {},
     "output_type": "execute_result"
    }
   ],
   "source": [
    "dataset.shape"
   ]
  },
  {
   "cell_type": "code",
   "execution_count": 219,
   "metadata": {},
   "outputs": [],
   "source": [
    "data_sym = dataset[['UHID','Diagnosis','Abdominal pain', 'BurningMicturition','Urinating often','Vaginal irritation']]"
   ]
  },
  {
   "cell_type": "code",
   "execution_count": 220,
   "metadata": {},
   "outputs": [
    {
     "data": {
      "text/html": [
       "<div>\n",
       "<style scoped>\n",
       "    .dataframe tbody tr th:only-of-type {\n",
       "        vertical-align: middle;\n",
       "    }\n",
       "\n",
       "    .dataframe tbody tr th {\n",
       "        vertical-align: top;\n",
       "    }\n",
       "\n",
       "    .dataframe thead th {\n",
       "        text-align: right;\n",
       "    }\n",
       "</style>\n",
       "<table border=\"1\" class=\"dataframe\">\n",
       "  <thead>\n",
       "    <tr style=\"text-align: right;\">\n",
       "      <th></th>\n",
       "      <th>UHID</th>\n",
       "      <th>Diagnosis</th>\n",
       "      <th>Abdominal pain</th>\n",
       "      <th>BurningMicturition</th>\n",
       "      <th>Urinating often</th>\n",
       "      <th>Vaginal irritation</th>\n",
       "    </tr>\n",
       "  </thead>\n",
       "  <tbody>\n",
       "    <tr>\n",
       "      <th>0</th>\n",
       "      <td>20220065432</td>\n",
       "      <td>UTI</td>\n",
       "      <td>Yes</td>\n",
       "      <td>Yes</td>\n",
       "      <td>Yes</td>\n",
       "      <td>No</td>\n",
       "    </tr>\n",
       "    <tr>\n",
       "      <th>1</th>\n",
       "      <td>20240016182</td>\n",
       "      <td>Vaginal Hysterectomy</td>\n",
       "      <td>Yes</td>\n",
       "      <td>No</td>\n",
       "      <td>no</td>\n",
       "      <td>no</td>\n",
       "    </tr>\n",
       "    <tr>\n",
       "      <th>2</th>\n",
       "      <td>20230125389</td>\n",
       "      <td>UTI</td>\n",
       "      <td>No</td>\n",
       "      <td>Yes</td>\n",
       "      <td>No</td>\n",
       "      <td>No</td>\n",
       "    </tr>\n",
       "    <tr>\n",
       "      <th>3</th>\n",
       "      <td>20180022685</td>\n",
       "      <td>UTI</td>\n",
       "      <td>No</td>\n",
       "      <td>Yes</td>\n",
       "      <td>No</td>\n",
       "      <td>Yes</td>\n",
       "    </tr>\n",
       "    <tr>\n",
       "      <th>4</th>\n",
       "      <td>20201415102</td>\n",
       "      <td>UTI</td>\n",
       "      <td>No</td>\n",
       "      <td>No</td>\n",
       "      <td>No</td>\n",
       "      <td>No</td>\n",
       "    </tr>\n",
       "  </tbody>\n",
       "</table>\n",
       "</div>"
      ],
      "text/plain": [
       "          UHID             Diagnosis Abdominal pain BurningMicturition  \\\n",
       "0  20220065432                   UTI            Yes                Yes   \n",
       "1  20240016182  Vaginal Hysterectomy            Yes                 No   \n",
       "2  20230125389                   UTI             No                Yes   \n",
       "3  20180022685                   UTI             No                Yes   \n",
       "4  20201415102                   UTI             No                 No   \n",
       "\n",
       "  Urinating often Vaginal irritation  \n",
       "0             Yes                 No  \n",
       "1              no                 no  \n",
       "2              No                 No  \n",
       "3              No                Yes  \n",
       "4              No                 No  "
      ]
     },
     "execution_count": 220,
     "metadata": {},
     "output_type": "execute_result"
    }
   ],
   "source": [
    "data_sym.head()"
   ]
  },
  {
   "cell_type": "code",
   "execution_count": 221,
   "metadata": {},
   "outputs": [
    {
     "data": {
      "text/plain": [
       "(131, 6)"
      ]
     },
     "execution_count": 221,
     "metadata": {},
     "output_type": "execute_result"
    }
   ],
   "source": [
    "data_sym.shape"
   ]
  },
  {
   "cell_type": "markdown",
   "metadata": {},
   "source": [
    "#### Data cleaning for correlation of catagorical matrix"
   ]
  },
  {
   "cell_type": "code",
   "execution_count": 222,
   "metadata": {},
   "outputs": [],
   "source": [
    "#data_sym['Diagnosis'] = data_sym['Diagnosis'].map(lambda x: 1 if x == 'UTI' else 0)"
   ]
  },
  {
   "cell_type": "code",
   "execution_count": 223,
   "metadata": {},
   "outputs": [],
   "source": [
    "data_sym = data_sym.dropna()"
   ]
  },
  {
   "cell_type": "code",
   "execution_count": 224,
   "metadata": {},
   "outputs": [
    {
     "data": {
      "text/plain": [
       "(103, 6)"
      ]
     },
     "execution_count": 224,
     "metadata": {},
     "output_type": "execute_result"
    }
   ],
   "source": [
    "data_sym.shape"
   ]
  },
  {
   "cell_type": "code",
   "execution_count": 225,
   "metadata": {},
   "outputs": [],
   "source": [
    "# Define undesired symbols (as a regex pattern)\n",
    "undesired_symbols = '[-_@#$]'\n",
    "\n",
    "# Create a mask for rows that contain undesired symbols in any column\n",
    "mask = data_sym.astype(str).apply(lambda col: col.str.contains(undesired_symbols, regex=True, na=False))\n",
    "\n",
    "# Drop rows where any column contains undesired symbols\n",
    "data_sym = data_sym[~mask.any(axis=1)]\n"
   ]
  },
  {
   "cell_type": "code",
   "execution_count": 226,
   "metadata": {},
   "outputs": [
    {
     "data": {
      "text/plain": [
       "(102, 6)"
      ]
     },
     "execution_count": 226,
     "metadata": {},
     "output_type": "execute_result"
    }
   ],
   "source": [
    "data_sym.shape"
   ]
  },
  {
   "cell_type": "code",
   "execution_count": 227,
   "metadata": {},
   "outputs": [
    {
     "data": {
      "text/plain": [
       "(102, 6)"
      ]
     },
     "execution_count": 227,
     "metadata": {},
     "output_type": "execute_result"
    }
   ],
   "source": [
    "\n",
    "data_sym = data_sym.apply(lambda x: x.str.upper() if x.dtype == \"object\" else x)\n",
    "data_sym['Diagnosis'] = data_sym['Diagnosis'].map(lambda x: 'YES' if x == 'UTI' else 'NO')\n",
    "#data_sym =data_sym['Diagnosis','Abdominal pain', 'BurningMicturition','Urinating often','Vaginal irritation'].map(lambda x: 1 if x == 'YES' else 0)\n",
    "#data_sym = data_sym.iloc[:,1:].applymap(lambda x: 1 if x== 'YES' else 0)\n",
    "\n",
    "\n",
    "data_sym.shape"
   ]
  },
  {
   "cell_type": "code",
   "execution_count": 204,
   "metadata": {},
   "outputs": [],
   "source": [
    "#display(data_sym)"
   ]
  },
  {
   "cell_type": "code",
   "execution_count": 205,
   "metadata": {},
   "outputs": [],
   "source": [
    "# Select the relevant columns\n",
    "#columns_to_map = ['Diagnosis', 'Abdominal pain', 'BurningMicturition', 'Urinating often', 'Vaginal irritation']\n",
    "\n",
    "# Apply the mapping to the selected columns\n",
    "#data_sym[columns_to_map] = data_sym[columns_to_map].applymap(lambda x: 1 if x == 'YES' else 0)\n"
   ]
  },
  {
   "cell_type": "code",
   "execution_count": 207,
   "metadata": {},
   "outputs": [],
   "source": [
    "#display(data_sym)"
   ]
  },
  {
   "cell_type": "code",
   "execution_count": 228,
   "metadata": {},
   "outputs": [
    {
     "data": {
      "text/plain": [
       "(102, 6)"
      ]
     },
     "execution_count": 228,
     "metadata": {},
     "output_type": "execute_result"
    }
   ],
   "source": [
    "data_sym.shape"
   ]
  },
  {
   "cell_type": "code",
   "execution_count": 229,
   "metadata": {},
   "outputs": [],
   "source": [
    "df_sym = pd.merge(data_sym,df_R_clean,how='inner',on='UHID')"
   ]
  },
  {
   "cell_type": "code",
   "execution_count": 231,
   "metadata": {},
   "outputs": [],
   "source": [
    "df_sym = df_sym[['UHID','Infection_R','Diagnosis', 'Abdominal pain', 'BurningMicturition', 'Urinating often', 'Vaginal irritation']]"
   ]
  },
  {
   "cell_type": "code",
   "execution_count": 234,
   "metadata": {},
   "outputs": [],
   "source": [
    "df_sym['Infection_R'] = df_sym['Infection_R'].map(lambda x: 'YES' if x == 1 else 0)"
   ]
  },
  {
   "cell_type": "code",
   "execution_count": 243,
   "metadata": {},
   "outputs": [
    {
     "data": {
      "text/html": [
       "<div>\n",
       "<style scoped>\n",
       "    .dataframe tbody tr th:only-of-type {\n",
       "        vertical-align: middle;\n",
       "    }\n",
       "\n",
       "    .dataframe tbody tr th {\n",
       "        vertical-align: top;\n",
       "    }\n",
       "\n",
       "    .dataframe thead th {\n",
       "        text-align: right;\n",
       "    }\n",
       "</style>\n",
       "<table border=\"1\" class=\"dataframe\">\n",
       "  <thead>\n",
       "    <tr style=\"text-align: right;\">\n",
       "      <th></th>\n",
       "      <th>UHID</th>\n",
       "      <th>Infection_R</th>\n",
       "      <th>Diagnosis</th>\n",
       "      <th>Abdominal pain</th>\n",
       "      <th>BurningMicturition</th>\n",
       "      <th>Urinating often</th>\n",
       "      <th>Vaginal irritation</th>\n",
       "    </tr>\n",
       "  </thead>\n",
       "  <tbody>\n",
       "    <tr>\n",
       "      <th>0</th>\n",
       "      <td>20220065432</td>\n",
       "      <td>YES</td>\n",
       "      <td>YES</td>\n",
       "      <td>YES</td>\n",
       "      <td>YES</td>\n",
       "      <td>YES</td>\n",
       "      <td>NO</td>\n",
       "    </tr>\n",
       "    <tr>\n",
       "      <th>1</th>\n",
       "      <td>20230125389</td>\n",
       "      <td>YES</td>\n",
       "      <td>YES</td>\n",
       "      <td>NO</td>\n",
       "      <td>YES</td>\n",
       "      <td>NO</td>\n",
       "      <td>NO</td>\n",
       "    </tr>\n",
       "    <tr>\n",
       "      <th>2</th>\n",
       "      <td>20180022685</td>\n",
       "      <td>YES</td>\n",
       "      <td>YES</td>\n",
       "      <td>NO</td>\n",
       "      <td>YES</td>\n",
       "      <td>NO</td>\n",
       "      <td>YES</td>\n",
       "    </tr>\n",
       "    <tr>\n",
       "      <th>3</th>\n",
       "      <td>20240012395</td>\n",
       "      <td>YES</td>\n",
       "      <td>YES</td>\n",
       "      <td>NO</td>\n",
       "      <td>NO</td>\n",
       "      <td>NO</td>\n",
       "      <td>YES</td>\n",
       "    </tr>\n",
       "    <tr>\n",
       "      <th>4</th>\n",
       "      <td>20220166372</td>\n",
       "      <td>YES</td>\n",
       "      <td>YES</td>\n",
       "      <td>NO</td>\n",
       "      <td>YES</td>\n",
       "      <td>YES</td>\n",
       "      <td>NO</td>\n",
       "    </tr>\n",
       "  </tbody>\n",
       "</table>\n",
       "</div>"
      ],
      "text/plain": [
       "          UHID Infection_R Diagnosis Abdominal pain BurningMicturition  \\\n",
       "0  20220065432         YES       YES            YES                YES   \n",
       "1  20230125389         YES       YES             NO                YES   \n",
       "2  20180022685         YES       YES             NO                YES   \n",
       "3  20240012395         YES       YES             NO                 NO   \n",
       "4  20220166372         YES       YES             NO                YES   \n",
       "\n",
       "  Urinating often Vaginal irritation  \n",
       "0             YES                 NO  \n",
       "1              NO                 NO  \n",
       "2              NO                YES  \n",
       "3              NO                YES  \n",
       "4             YES                 NO  "
      ]
     },
     "execution_count": 243,
     "metadata": {},
     "output_type": "execute_result"
    }
   ],
   "source": [
    "df_sym.head()"
   ]
  },
  {
   "cell_type": "code",
   "execution_count": 244,
   "metadata": {},
   "outputs": [
    {
     "data": {
      "text/plain": [
       "UHID                   int64\n",
       "Infection_R           object\n",
       "Diagnosis             object\n",
       "Abdominal pain        object\n",
       "BurningMicturition    object\n",
       "Urinating often       object\n",
       "Vaginal irritation    object\n",
       "dtype: object"
      ]
     },
     "execution_count": 244,
     "metadata": {},
     "output_type": "execute_result"
    }
   ],
   "source": [
    "df_sym.dtypes"
   ]
  },
  {
   "cell_type": "code",
   "execution_count": 245,
   "metadata": {},
   "outputs": [],
   "source": [
    "data_sym = df_sym.apply(lambda col: col.astype('category') if col.nunique() < 3 else col)\n"
   ]
  },
  {
   "cell_type": "code",
   "execution_count": 246,
   "metadata": {},
   "outputs": [
    {
     "data": {
      "text/plain": [
       "UHID                     int64\n",
       "Infection_R           category\n",
       "Diagnosis             category\n",
       "Abdominal pain        category\n",
       "BurningMicturition    category\n",
       "Urinating often       category\n",
       "Vaginal irritation    category\n",
       "dtype: object"
      ]
     },
     "execution_count": 246,
     "metadata": {},
     "output_type": "execute_result"
    }
   ],
   "source": [
    "data_sym.dtypes"
   ]
  },
  {
   "cell_type": "code",
   "execution_count": 247,
   "metadata": {},
   "outputs": [
    {
     "data": {
      "text/plain": [
       "0     YES\n",
       "1     YES\n",
       "2     YES\n",
       "3     YES\n",
       "4     YES\n",
       "5      NO\n",
       "6      NO\n",
       "7     YES\n",
       "8     YES\n",
       "9     YES\n",
       "10    YES\n",
       "11    YES\n",
       "12    YES\n",
       "13    YES\n",
       "14    YES\n",
       "15    YES\n",
       "16    YES\n",
       "17    YES\n",
       "18    YES\n",
       "19    YES\n",
       "20    YES\n",
       "21    YES\n",
       "22    YES\n",
       "23    YES\n",
       "24    YES\n",
       "25    YES\n",
       "26    YES\n",
       "27    YES\n",
       "28    YES\n",
       "29    YES\n",
       "30    YES\n",
       "31    YES\n",
       "32     NO\n",
       "33    YES\n",
       "34    YES\n",
       "35    YES\n",
       "36    YES\n",
       "37    YES\n",
       "38    YES\n",
       "39    YES\n",
       "40    YES\n",
       "41    YES\n",
       "42    YES\n",
       "43    YES\n",
       "44    YES\n",
       "45    YES\n",
       "46    YES\n",
       "47    YES\n",
       "48    YES\n",
       "49    YES\n",
       "50    YES\n",
       "51    YES\n",
       "52    YES\n",
       "53    YES\n",
       "54    YES\n",
       "55    YES\n",
       "56    YES\n",
       "57    YES\n",
       "58    YES\n",
       "59    YES\n",
       "60    YES\n",
       "61    YES\n",
       "62     NO\n",
       "63    YES\n",
       "64    YES\n",
       "65    YES\n",
       "66    YES\n",
       "67    YES\n",
       "68    YES\n",
       "69    YES\n",
       "70    YES\n",
       "71    YES\n",
       "72    YES\n",
       "73    YES\n",
       "74    YES\n",
       "75    YES\n",
       "76    YES\n",
       "77    YES\n",
       "78     NO\n",
       "79     NO\n",
       "80     NO\n",
       "81     NO\n",
       "82     NO\n",
       "83     NO\n",
       "84    YES\n",
       "85     NO\n",
       "86     NO\n",
       "87    YES\n",
       "88     NO\n",
       "89     NO\n",
       "90     NO\n",
       "91    YES\n",
       "92    YES\n",
       "93    YES\n",
       "94    YES\n",
       "95    YES\n",
       "96    YES\n",
       "97    YES\n",
       "98    YES\n",
       "Name: Diagnosis, dtype: category\n",
       "Categories (2, object): ['NO', 'YES']"
      ]
     },
     "execution_count": 247,
     "metadata": {},
     "output_type": "execute_result"
    }
   ],
   "source": [
    "data_sym['Diagnosis']"
   ]
  },
  {
   "cell_type": "code",
   "execution_count": 250,
   "metadata": {},
   "outputs": [
    {
     "ename": "TypeError",
     "evalue": "'<' not supported between instances of 'str' and 'int'",
     "output_type": "error",
     "traceback": [
      "\u001b[1;31m---------------------------------------------------------------------------\u001b[0m",
      "\u001b[1;31mTypeError\u001b[0m                                 Traceback (most recent call last)",
      "\u001b[1;32m~\\AppData\\Local\\Temp\\ipykernel_9924\\2979881082.py\u001b[0m in \u001b[0;36m<cell line: 3>\u001b[1;34m()\u001b[0m\n\u001b[0;32m      1\u001b[0m \u001b[1;32mfrom\u001b[0m \u001b[0mscipy\u001b[0m\u001b[1;33m.\u001b[0m\u001b[0mstats\u001b[0m \u001b[1;32mimport\u001b[0m \u001b[0mchi2_contingency\u001b[0m\u001b[1;33m\u001b[0m\u001b[1;33m\u001b[0m\u001b[0m\n\u001b[0;32m      2\u001b[0m \u001b[1;31m# defining the table\u001b[0m\u001b[1;33m\u001b[0m\u001b[1;33m\u001b[0m\u001b[0m\n\u001b[1;32m----> 3\u001b[1;33m \u001b[0mstat\u001b[0m\u001b[1;33m,\u001b[0m \u001b[0mp\u001b[0m\u001b[1;33m,\u001b[0m \u001b[0mdof\u001b[0m\u001b[1;33m,\u001b[0m \u001b[0mexpected\u001b[0m \u001b[1;33m=\u001b[0m \u001b[0mchi2_contingency\u001b[0m\u001b[1;33m(\u001b[0m\u001b[0mdata_sym\u001b[0m\u001b[1;33m[\u001b[0m\u001b[1;34m'Infection_R'\u001b[0m\u001b[1;33m]\u001b[0m\u001b[1;33m,\u001b[0m\u001b[0mdata_sym\u001b[0m\u001b[1;33m[\u001b[0m\u001b[1;34m'Diagnosis'\u001b[0m\u001b[1;33m]\u001b[0m\u001b[1;33m)\u001b[0m\u001b[1;33m\u001b[0m\u001b[1;33m\u001b[0m\u001b[0m\n\u001b[0m\u001b[0;32m      4\u001b[0m \u001b[0mprint\u001b[0m\u001b[1;33m(\u001b[0m\u001b[1;34m\"p-value is \"\u001b[0m \u001b[1;33m+\u001b[0m \u001b[0mstr\u001b[0m\u001b[1;33m(\u001b[0m\u001b[0mp\u001b[0m\u001b[1;33m)\u001b[0m\u001b[1;33m)\u001b[0m\u001b[1;33m\u001b[0m\u001b[1;33m\u001b[0m\u001b[0m\n\u001b[0;32m      5\u001b[0m \u001b[0mprint\u001b[0m\u001b[1;33m(\u001b[0m\u001b[1;34m\"dof is \"\u001b[0m \u001b[1;33m+\u001b[0m \u001b[0mstr\u001b[0m\u001b[1;33m(\u001b[0m\u001b[0mdof\u001b[0m\u001b[1;33m)\u001b[0m\u001b[1;33m)\u001b[0m\u001b[1;33m\u001b[0m\u001b[1;33m\u001b[0m\u001b[0m\n",
      "\u001b[1;32mc:\\Users\\neelesh\\AppData\\Local\\Programs\\Python\\Python39\\lib\\site-packages\\scipy\\stats\\contingency.py\u001b[0m in \u001b[0;36mchi2_contingency\u001b[1;34m(observed, correction, lambda_)\u001b[0m\n\u001b[0;32m    280\u001b[0m     \"\"\"\n\u001b[0;32m    281\u001b[0m     \u001b[0mobserved\u001b[0m \u001b[1;33m=\u001b[0m \u001b[0mnp\u001b[0m\u001b[1;33m.\u001b[0m\u001b[0masarray\u001b[0m\u001b[1;33m(\u001b[0m\u001b[0mobserved\u001b[0m\u001b[1;33m)\u001b[0m\u001b[1;33m\u001b[0m\u001b[1;33m\u001b[0m\u001b[0m\n\u001b[1;32m--> 282\u001b[1;33m     \u001b[1;32mif\u001b[0m \u001b[0mnp\u001b[0m\u001b[1;33m.\u001b[0m\u001b[0many\u001b[0m\u001b[1;33m(\u001b[0m\u001b[0mobserved\u001b[0m \u001b[1;33m<\u001b[0m \u001b[1;36m0\u001b[0m\u001b[1;33m)\u001b[0m\u001b[1;33m:\u001b[0m\u001b[1;33m\u001b[0m\u001b[1;33m\u001b[0m\u001b[0m\n\u001b[0m\u001b[0;32m    283\u001b[0m         \u001b[1;32mraise\u001b[0m \u001b[0mValueError\u001b[0m\u001b[1;33m(\u001b[0m\u001b[1;34m\"All values in `observed` must be nonnegative.\"\u001b[0m\u001b[1;33m)\u001b[0m\u001b[1;33m\u001b[0m\u001b[1;33m\u001b[0m\u001b[0m\n\u001b[0;32m    284\u001b[0m     \u001b[1;32mif\u001b[0m \u001b[0mobserved\u001b[0m\u001b[1;33m.\u001b[0m\u001b[0msize\u001b[0m \u001b[1;33m==\u001b[0m \u001b[1;36m0\u001b[0m\u001b[1;33m:\u001b[0m\u001b[1;33m\u001b[0m\u001b[1;33m\u001b[0m\u001b[0m\n",
      "\u001b[1;31mTypeError\u001b[0m: '<' not supported between instances of 'str' and 'int'"
     ]
    }
   ],
   "source": [
    "from scipy.stats import chi2_contingency\n",
    "# defining the table\n",
    "stat, p, dof, expected = chi2_contingency(data_sym['Infection_R'],data_sym['Diagnosis'])\n",
    "print(\"p-value is \" + str(p))\n",
    "print(\"dof is \" + str(dof))"
   ]
  },
  {
   "cell_type": "markdown",
   "metadata": {},
   "source": [
    "#### ................Finish....................."
   ]
  }
 ],
 "metadata": {
  "kernelspec": {
   "display_name": "Python 3",
   "language": "python",
   "name": "python3"
  },
  "language_info": {
   "codemirror_mode": {
    "name": "ipython",
    "version": 3
   },
   "file_extension": ".py",
   "mimetype": "text/x-python",
   "name": "python",
   "nbconvert_exporter": "python",
   "pygments_lexer": "ipython3",
   "version": "3.9.10"
  }
 },
 "nbformat": 4,
 "nbformat_minor": 2
}
