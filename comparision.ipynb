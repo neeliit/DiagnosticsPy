{
 "cells": [
  {
   "cell_type": "code",
   "execution_count": 1,
   "metadata": {},
   "outputs": [],
   "source": [
    "import pandas as pd\n",
    "import numpy as np\n",
    "import seaborn as sns\n",
    "import matplotlib.pyplot as plt\n",
    "pd.set_option('display.max_rows', None)\n",
    "pd.set_option('display.max_columns', None)"
   ]
  },
  {
   "cell_type": "code",
   "execution_count": 2,
   "metadata": {},
   "outputs": [
    {
     "data": {
      "text/html": [
       "<div>\n",
       "<style scoped>\n",
       "    .dataframe tbody tr th:only-of-type {\n",
       "        vertical-align: middle;\n",
       "    }\n",
       "\n",
       "    .dataframe tbody tr th {\n",
       "        vertical-align: top;\n",
       "    }\n",
       "\n",
       "    .dataframe thead th {\n",
       "        text-align: right;\n",
       "    }\n",
       "</style>\n",
       "<table border=\"1\" class=\"dataframe\">\n",
       "  <thead>\n",
       "    <tr style=\"text-align: right;\">\n",
       "      <th></th>\n",
       "      <th>UHID</th>\n",
       "      <th>Patients Name</th>\n",
       "      <th>Age</th>\n",
       "      <th>Gender</th>\n",
       "      <th>RAMJA Result</th>\n",
       "      <th>AIIMS Result culture</th>\n",
       "      <th>E.coli</th>\n",
       "      <th>K. Pneumoniae</th>\n",
       "      <th>P.aurogenosa</th>\n",
       "      <th>A.baumnnii</th>\n",
       "      <th>P.mirabilis</th>\n",
       "      <th>S. aureus</th>\n",
       "      <th>E.faecalis</th>\n",
       "      <th>S. saprophyticus</th>\n",
       "      <th>Diagnosis</th>\n",
       "      <th>Abdominal pain</th>\n",
       "      <th>BurningMicturition</th>\n",
       "      <th>Urinating often</th>\n",
       "      <th>Vaginal irritation</th>\n",
       "      <th>Fatigue</th>\n",
       "      <th>Malaise</th>\n",
       "      <th>WeightLoss</th>\n",
       "      <th>Cough</th>\n",
       "      <th>Expectoration</th>\n",
       "      <th>HospitalStay</th>\n",
       "      <th>ICU Stay</th>\n",
       "      <th>Prognosis</th>\n",
       "      <th>Ventillator</th>\n",
       "      <th>Dialysis</th>\n",
       "      <th>BP</th>\n",
       "    </tr>\n",
       "  </thead>\n",
       "  <tbody>\n",
       "    <tr>\n",
       "      <th>0</th>\n",
       "      <td>20220065432</td>\n",
       "      <td>Sahroj</td>\n",
       "      <td>33.0</td>\n",
       "      <td>F</td>\n",
       "      <td>Enterococcus faecalis</td>\n",
       "      <td>Enterococcus faecalis</td>\n",
       "      <td>NaN</td>\n",
       "      <td>NaN</td>\n",
       "      <td>-5.26086</td>\n",
       "      <td>-4.09794</td>\n",
       "      <td>-3.58480</td>\n",
       "      <td>-5.62819</td>\n",
       "      <td>-8.10731</td>\n",
       "      <td>NaN</td>\n",
       "      <td>UTI</td>\n",
       "      <td>Yes</td>\n",
       "      <td>Yes</td>\n",
       "      <td>Yes</td>\n",
       "      <td>No</td>\n",
       "      <td>Yes</td>\n",
       "      <td>Yes</td>\n",
       "      <td>No</td>\n",
       "      <td>No</td>\n",
       "      <td>No</td>\n",
       "      <td>Yes</td>\n",
       "      <td>0</td>\n",
       "      <td>Good</td>\n",
       "      <td>No</td>\n",
       "      <td>No</td>\n",
       "      <td>110/76</td>\n",
       "    </tr>\n",
       "    <tr>\n",
       "      <th>1</th>\n",
       "      <td>20240016182</td>\n",
       "      <td>Shyanu</td>\n",
       "      <td>70.0</td>\n",
       "      <td>F</td>\n",
       "      <td>NaN</td>\n",
       "      <td>NaN</td>\n",
       "      <td>-6.63325</td>\n",
       "      <td>-10.1276</td>\n",
       "      <td>-8.30086</td>\n",
       "      <td>-13.22480</td>\n",
       "      <td>-11.94120</td>\n",
       "      <td>-14.93870</td>\n",
       "      <td>-13.64090</td>\n",
       "      <td>NaN</td>\n",
       "      <td>Vaginal Hysterectomy</td>\n",
       "      <td>Yes</td>\n",
       "      <td>No</td>\n",
       "      <td>no</td>\n",
       "      <td>no</td>\n",
       "      <td>no</td>\n",
       "      <td>no</td>\n",
       "      <td>no</td>\n",
       "      <td>no</td>\n",
       "      <td>no</td>\n",
       "      <td>0</td>\n",
       "      <td>0</td>\n",
       "      <td>Good</td>\n",
       "      <td>No</td>\n",
       "      <td>No</td>\n",
       "      <td>112/76</td>\n",
       "    </tr>\n",
       "    <tr>\n",
       "      <th>2</th>\n",
       "      <td>20230125389</td>\n",
       "      <td>Saloni</td>\n",
       "      <td>19.0</td>\n",
       "      <td>F</td>\n",
       "      <td>E.Coli. and K.pne</td>\n",
       "      <td>E.coli</td>\n",
       "      <td>-15.30980</td>\n",
       "      <td>-10.0174</td>\n",
       "      <td>-9.09993</td>\n",
       "      <td>-8.30414</td>\n",
       "      <td>-5.06676</td>\n",
       "      <td>-8.77797</td>\n",
       "      <td>-5.42121</td>\n",
       "      <td>NaN</td>\n",
       "      <td>UTI</td>\n",
       "      <td>No</td>\n",
       "      <td>Yes</td>\n",
       "      <td>No</td>\n",
       "      <td>No</td>\n",
       "      <td>No</td>\n",
       "      <td>No</td>\n",
       "      <td>No</td>\n",
       "      <td>No</td>\n",
       "      <td>No</td>\n",
       "      <td>0</td>\n",
       "      <td>0</td>\n",
       "      <td>Good</td>\n",
       "      <td>No</td>\n",
       "      <td>No</td>\n",
       "      <td>100/60</td>\n",
       "    </tr>\n",
       "    <tr>\n",
       "      <th>3</th>\n",
       "      <td>20180022685</td>\n",
       "      <td>Ravita</td>\n",
       "      <td>34.0</td>\n",
       "      <td>F</td>\n",
       "      <td>P. mirabilis</td>\n",
       "      <td>CONTAMINATION</td>\n",
       "      <td>-7.70704</td>\n",
       "      <td>-8.0891</td>\n",
       "      <td>-4.79176</td>\n",
       "      <td>-8.63416</td>\n",
       "      <td>-11.84570</td>\n",
       "      <td>-9.90339</td>\n",
       "      <td>-9.31657</td>\n",
       "      <td>NaN</td>\n",
       "      <td>UTI</td>\n",
       "      <td>No</td>\n",
       "      <td>Yes</td>\n",
       "      <td>No</td>\n",
       "      <td>Yes</td>\n",
       "      <td>No</td>\n",
       "      <td>No</td>\n",
       "      <td>No</td>\n",
       "      <td>No</td>\n",
       "      <td>No</td>\n",
       "      <td>0</td>\n",
       "      <td>0</td>\n",
       "      <td>Good</td>\n",
       "      <td>No</td>\n",
       "      <td>No</td>\n",
       "      <td>105/80</td>\n",
       "    </tr>\n",
       "    <tr>\n",
       "      <th>4</th>\n",
       "      <td>20201415102</td>\n",
       "      <td>Jyoti</td>\n",
       "      <td>28.0</td>\n",
       "      <td>F</td>\n",
       "      <td>NaN</td>\n",
       "      <td>NaN</td>\n",
       "      <td>0.00000</td>\n",
       "      <td>0.0000</td>\n",
       "      <td>0.00000</td>\n",
       "      <td>0.00000</td>\n",
       "      <td>0.00000</td>\n",
       "      <td>0.00000</td>\n",
       "      <td>0.00000</td>\n",
       "      <td>NaN</td>\n",
       "      <td>UTI</td>\n",
       "      <td>No</td>\n",
       "      <td>No</td>\n",
       "      <td>No</td>\n",
       "      <td>No</td>\n",
       "      <td>No</td>\n",
       "      <td>No</td>\n",
       "      <td>No</td>\n",
       "      <td>No</td>\n",
       "      <td>No</td>\n",
       "      <td>0</td>\n",
       "      <td>0</td>\n",
       "      <td>Good</td>\n",
       "      <td>No</td>\n",
       "      <td>No</td>\n",
       "      <td>115/100</td>\n",
       "    </tr>\n",
       "  </tbody>\n",
       "</table>\n",
       "</div>"
      ],
      "text/plain": [
       "          UHID Patients Name   Age Gender           RAMJA Result  \\\n",
       "0  20220065432        Sahroj  33.0      F  Enterococcus faecalis   \n",
       "1  20240016182        Shyanu  70.0      F                    NaN   \n",
       "2  20230125389        Saloni  19.0      F      E.Coli. and K.pne   \n",
       "3  20180022685        Ravita  34.0      F           P. mirabilis   \n",
       "4  20201415102         Jyoti  28.0      F                    NaN   \n",
       "\n",
       "    AIIMS Result culture    E.coli  K. Pneumoniae  P.aurogenosa  A.baumnnii  \\\n",
       "0  Enterococcus faecalis       NaN            NaN      -5.26086    -4.09794   \n",
       "1                    NaN  -6.63325       -10.1276      -8.30086   -13.22480   \n",
       "2                 E.coli -15.30980       -10.0174      -9.09993    -8.30414   \n",
       "3          CONTAMINATION  -7.70704        -8.0891      -4.79176    -8.63416   \n",
       "4                    NaN   0.00000         0.0000       0.00000     0.00000   \n",
       "\n",
       "   P.mirabilis  S. aureus  E.faecalis  S. saprophyticus             Diagnosis  \\\n",
       "0     -3.58480   -5.62819    -8.10731               NaN                   UTI   \n",
       "1    -11.94120  -14.93870   -13.64090               NaN  Vaginal Hysterectomy   \n",
       "2     -5.06676   -8.77797    -5.42121               NaN                   UTI   \n",
       "3    -11.84570   -9.90339    -9.31657               NaN                   UTI   \n",
       "4      0.00000    0.00000     0.00000               NaN                   UTI   \n",
       "\n",
       "  Abdominal pain BurningMicturition Urinating often Vaginal irritation  \\\n",
       "0            Yes                Yes             Yes                 No   \n",
       "1            Yes                 No              no                 no   \n",
       "2             No                Yes              No                 No   \n",
       "3             No                Yes              No                Yes   \n",
       "4             No                 No              No                 No   \n",
       "\n",
       "  Fatigue Malaise WeightLoss Cough Expectoration HospitalStay ICU Stay  \\\n",
       "0     Yes     Yes         No    No            No          Yes        0   \n",
       "1      no      no         no    no            no            0        0   \n",
       "2      No      No         No    No            No            0        0   \n",
       "3      No      No         No    No            No            0        0   \n",
       "4      No      No         No    No            No            0        0   \n",
       "\n",
       "  Prognosis Ventillator Dialysis       BP  \n",
       "0      Good          No       No   110/76  \n",
       "1      Good          No       No   112/76  \n",
       "2      Good          No       No   100/60  \n",
       "3      Good          No       No   105/80  \n",
       "4      Good          No       No  115/100  "
      ]
     },
     "execution_count": 2,
     "metadata": {},
     "output_type": "execute_result"
    }
   ],
   "source": [
    "dataset = pd.read_excel(\"RAWLOT1.xlsx\")\n",
    "dataset.head()"
   ]
  },
  {
   "cell_type": "code",
   "execution_count": 4,
   "metadata": {},
   "outputs": [
    {
     "data": {
      "text/plain": [
       "(125, 30)"
      ]
     },
     "execution_count": 4,
     "metadata": {},
     "output_type": "execute_result"
    }
   ],
   "source": [
    "dataset.shape"
   ]
  },
  {
   "cell_type": "code",
   "execution_count": 5,
   "metadata": {},
   "outputs": [
    {
     "data": {
      "text/html": [
       "<div>\n",
       "<style scoped>\n",
       "    .dataframe tbody tr th:only-of-type {\n",
       "        vertical-align: middle;\n",
       "    }\n",
       "\n",
       "    .dataframe tbody tr th {\n",
       "        vertical-align: top;\n",
       "    }\n",
       "\n",
       "    .dataframe thead th {\n",
       "        text-align: right;\n",
       "    }\n",
       "</style>\n",
       "<table border=\"1\" class=\"dataframe\">\n",
       "  <thead>\n",
       "    <tr style=\"text-align: right;\">\n",
       "      <th></th>\n",
       "      <th>UHID</th>\n",
       "      <th>RAMJA</th>\n",
       "      <th>AIIMS</th>\n",
       "    </tr>\n",
       "  </thead>\n",
       "  <tbody>\n",
       "    <tr>\n",
       "      <th>0</th>\n",
       "      <td>20220065432</td>\n",
       "      <td>Enterococcus faecalis</td>\n",
       "      <td>Enterococcus faecalis</td>\n",
       "    </tr>\n",
       "    <tr>\n",
       "      <th>1</th>\n",
       "      <td>20240016182</td>\n",
       "      <td>NaN</td>\n",
       "      <td>NaN</td>\n",
       "    </tr>\n",
       "    <tr>\n",
       "      <th>2</th>\n",
       "      <td>20230125389</td>\n",
       "      <td>E.Coli. and K.pne</td>\n",
       "      <td>E.coli</td>\n",
       "    </tr>\n",
       "    <tr>\n",
       "      <th>3</th>\n",
       "      <td>20180022685</td>\n",
       "      <td>P. mirabilis</td>\n",
       "      <td>CONTAMINATION</td>\n",
       "    </tr>\n",
       "    <tr>\n",
       "      <th>4</th>\n",
       "      <td>20201415102</td>\n",
       "      <td>NaN</td>\n",
       "      <td>NaN</td>\n",
       "    </tr>\n",
       "  </tbody>\n",
       "</table>\n",
       "</div>"
      ],
      "text/plain": [
       "          UHID                  RAMJA                  AIIMS\n",
       "0  20220065432  Enterococcus faecalis  Enterococcus faecalis\n",
       "1  20240016182                    NaN                    NaN\n",
       "2  20230125389      E.Coli. and K.pne                 E.coli\n",
       "3  20180022685           P. mirabilis          CONTAMINATION\n",
       "4  20201415102                    NaN                    NaN"
      ]
     },
     "execution_count": 5,
     "metadata": {},
     "output_type": "execute_result"
    }
   ],
   "source": [
    "data = pd.read_excel(\"RAWLOT1.xlsx\")\n",
    "data = dataset[['UHID','RAMJA Result','AIIMS Result culture']]\n",
    "data.columns = ['UHID','RAMJA','AIIMS']\n",
    "data.head()"
   ]
  },
  {
   "cell_type": "code",
   "execution_count": 6,
   "metadata": {},
   "outputs": [],
   "source": [
    "#df_nan.to_excel('compareddata.xlsx', sheet_name='Null data')"
   ]
  },
  {
   "cell_type": "code",
   "execution_count": 7,
   "metadata": {},
   "outputs": [],
   "source": [
    "import re\n",
    "def cleanup(text):\n",
    "    text = str(text)\n",
    "    text = text.upper()\n",
    "    text = text.replace(\".\", \" \")\n",
    "    text = text.replace(\" AND\", \",\")\n",
    "    text = text.replace(\" &\", \",\")\n",
    "    text = text.replace(\"POLYMICROBIAL (\", \"\")\n",
    "    text = text.replace(\"AUROGENOSA\", \"AERUGINOSA\")\n",
    "    text = re.sub(r'\\s+', ' ', text)  # Use re.sub for regular expression replacement\n",
    "    text = text.strip()\n",
    "    return text\n"
   ]
  },
  {
   "cell_type": "code",
   "execution_count": 8,
   "metadata": {},
   "outputs": [],
   "source": [
    "bacteriatypes = {\n",
    "    \"COLI\" : 'Escherichia coli', \n",
    "    \"PNE\" : 'Klebsiella pneumoniae',\n",
    "    \"AERUGI\" : 'Pseudomonas aeruginosa',\n",
    "    \"BAUM\" : 'Acinetobacter baumannii', \n",
    "    \"MIRABIL\" : 'Proteus mirabilis', \n",
    "    \"FAECALI\" : 'Enterococcus faecalis', \n",
    "    \"AUREUS\" : 'Staphylococcus aureus', \n",
    "    \"SAPROPHY\" : 'Staphylococcus saprophyticus',\n",
    "    \"STERI\" : 'Sterile',\n",
    "    \"CONTA\" : 'Contamination',\n",
    "    \"NAN\" : 'NAN'\n",
    "}"
   ]
  },
  {
   "cell_type": "code",
   "execution_count": 9,
   "metadata": {},
   "outputs": [
    {
     "name": "stderr",
     "output_type": "stream",
     "text": [
      "C:\\Users\\neelesh\\AppData\\Local\\Temp\\ipykernel_9404\\4174382849.py:1: SettingWithCopyWarning: \n",
      "A value is trying to be set on a copy of a slice from a DataFrame.\n",
      "Try using .loc[row_indexer,col_indexer] = value instead\n",
      "\n",
      "See the caveats in the documentation: https://pandas.pydata.org/pandas-docs/stable/user_guide/indexing.html#returning-a-view-versus-a-copy\n",
      "  data['cleanRAMJA'] = data['RAMJA'].apply(cleanup)\n",
      "C:\\Users\\neelesh\\AppData\\Local\\Temp\\ipykernel_9404\\4174382849.py:2: SettingWithCopyWarning: \n",
      "A value is trying to be set on a copy of a slice from a DataFrame.\n",
      "Try using .loc[row_indexer,col_indexer] = value instead\n",
      "\n",
      "See the caveats in the documentation: https://pandas.pydata.org/pandas-docs/stable/user_guide/indexing.html#returning-a-view-versus-a-copy\n",
      "  data['cleanAIIMS'] = data['AIIMS'].apply(cleanup)\n"
     ]
    }
   ],
   "source": [
    "data['cleanRAMJA'] = data['RAMJA'].apply(cleanup)\n",
    "data['cleanAIIMS'] = data['AIIMS'].apply(cleanup)"
   ]
  },
  {
   "cell_type": "code",
   "execution_count": 10,
   "metadata": {},
   "outputs": [],
   "source": [
    "#..FUNCTION TO CHECK IF TEST STRINGS(S1 OR S2) PRESENT IN MAIN STRING \n",
    "def check(mainstring, s1, s2):\n",
    "    if (mainstring.count(s1) > 0 or mainstring.count(s2) > 0):\n",
    "        #print(\"YES\")\n",
    "        return(1)\n",
    "    else:\n",
    "        #print(\"NO\")\n",
    "        return(0)"
   ]
  },
  {
   "cell_type": "code",
   "execution_count": 11,
   "metadata": {},
   "outputs": [
    {
     "data": {
      "text/plain": [
       "(125, 5)"
      ]
     },
     "execution_count": 11,
     "metadata": {},
     "output_type": "execute_result"
    }
   ],
   "source": [
    "data.shape"
   ]
  },
  {
   "cell_type": "markdown",
   "metadata": {},
   "source": [
    "### RAMJA Analysis"
   ]
  },
  {
   "cell_type": "code",
   "execution_count": 12,
   "metadata": {},
   "outputs": [],
   "source": [
    "df_R = data.copy()\n",
    "genus = [\"ESCHER\",\"KLEBS\",\"PSEUDO\",\"ACINE\",\"PROT\",\"ENTER\",\"AURE\",\"SAPRO\",\"STERI\",\"CONTA\",\"NAN\"]\n",
    "species = [\"COLI\", \"PNE\", \"AERUGI\", \"BAUM\", \"MIRABIL\", \"FAECALI\", \"AUREUS\", \"SAPROPHY\", \"STERI\",\"CONTA\",\"NAN\"]\n",
    "for s1, s2 in zip(genus,species):\n",
    "    df_R[s2] = df_R['cleanRAMJA'].apply(lambda x: check(x, s1, s2))\n",
    "\n",
    "df_R.rename(columns=bacteriatypes, inplace=True) #change column names\n",
    "# add suffix _R to column names\n",
    "# columns_to_modify = ['Escherichia coli','Klebsiella pneumoniae','Pseudomonas aeruginosa','Acinetobacter baumannii','Proteus mirabilis','Enterococcus faecalis','Staphylococcus aureus','Staphylococcus saprophyticus','Sterile','Contamination','NAN']\n",
    "# data.rename(columns={col: f\"{col}_R\" for col in columns_to_modify}, inplace=True)"
   ]
  },
  {
   "cell_type": "code",
   "execution_count": 13,
   "metadata": {},
   "outputs": [
    {
     "data": {
      "text/plain": [
       "(125, 16)"
      ]
     },
     "execution_count": 13,
     "metadata": {},
     "output_type": "execute_result"
    }
   ],
   "source": [
    "df_R.shape"
   ]
  },
  {
   "cell_type": "code",
   "execution_count": 14,
   "metadata": {},
   "outputs": [
    {
     "data": {
      "text/plain": [
       "(125, 17)"
      ]
     },
     "execution_count": 14,
     "metadata": {},
     "output_type": "execute_result"
    }
   ],
   "source": [
    "#....add a column named 'Others' contain values other than assigend catagories\n",
    "df_R_temp = df_R[['Escherichia coli','Klebsiella pneumoniae','Pseudomonas aeruginosa','Acinetobacter baumannii','Proteus mirabilis','Enterococcus faecalis','Staphylococcus aureus','Staphylococcus saprophyticus','Sterile','Contamination','NAN']]\n",
    "df_R_temp = df_R_temp == 0\n",
    "df_R_temp['Others_R'] = df_R_temp.all(axis=1)\n",
    "df_R['Others_R'] = df_R_temp['Others_R'].astype(int)\n",
    "df_R.shape"
   ]
  },
  {
   "cell_type": "code",
   "execution_count": 15,
   "metadata": {},
   "outputs": [
    {
     "data": {
      "text/html": [
       "<div>\n",
       "<style scoped>\n",
       "    .dataframe tbody tr th:only-of-type {\n",
       "        vertical-align: middle;\n",
       "    }\n",
       "\n",
       "    .dataframe tbody tr th {\n",
       "        vertical-align: top;\n",
       "    }\n",
       "\n",
       "    .dataframe thead th {\n",
       "        text-align: right;\n",
       "    }\n",
       "</style>\n",
       "<table border=\"1\" class=\"dataframe\">\n",
       "  <thead>\n",
       "    <tr style=\"text-align: right;\">\n",
       "      <th></th>\n",
       "      <th>UHID</th>\n",
       "      <th>RAMJA</th>\n",
       "      <th>AIIMS</th>\n",
       "      <th>cleanRAMJA</th>\n",
       "      <th>cleanAIIMS</th>\n",
       "      <th>Escherichia coli</th>\n",
       "      <th>Klebsiella pneumoniae</th>\n",
       "      <th>Pseudomonas aeruginosa</th>\n",
       "      <th>Acinetobacter baumannii</th>\n",
       "      <th>Proteus mirabilis</th>\n",
       "      <th>Enterococcus faecalis</th>\n",
       "      <th>Staphylococcus aureus</th>\n",
       "      <th>Staphylococcus saprophyticus</th>\n",
       "      <th>Sterile</th>\n",
       "      <th>Contamination</th>\n",
       "      <th>NAN</th>\n",
       "      <th>Others_R</th>\n",
       "    </tr>\n",
       "  </thead>\n",
       "  <tbody>\n",
       "    <tr>\n",
       "      <th>0</th>\n",
       "      <td>20220065432</td>\n",
       "      <td>Enterococcus faecalis</td>\n",
       "      <td>Enterococcus faecalis</td>\n",
       "      <td>ENTEROCOCCUS FAECALIS</td>\n",
       "      <td>ENTEROCOCCUS FAECALIS</td>\n",
       "      <td>0</td>\n",
       "      <td>0</td>\n",
       "      <td>0</td>\n",
       "      <td>0</td>\n",
       "      <td>0</td>\n",
       "      <td>1</td>\n",
       "      <td>0</td>\n",
       "      <td>0</td>\n",
       "      <td>0</td>\n",
       "      <td>0</td>\n",
       "      <td>0</td>\n",
       "      <td>0</td>\n",
       "    </tr>\n",
       "    <tr>\n",
       "      <th>1</th>\n",
       "      <td>20240016182</td>\n",
       "      <td>NaN</td>\n",
       "      <td>NaN</td>\n",
       "      <td>NAN</td>\n",
       "      <td>NAN</td>\n",
       "      <td>0</td>\n",
       "      <td>0</td>\n",
       "      <td>0</td>\n",
       "      <td>0</td>\n",
       "      <td>0</td>\n",
       "      <td>0</td>\n",
       "      <td>0</td>\n",
       "      <td>0</td>\n",
       "      <td>0</td>\n",
       "      <td>0</td>\n",
       "      <td>1</td>\n",
       "      <td>0</td>\n",
       "    </tr>\n",
       "    <tr>\n",
       "      <th>2</th>\n",
       "      <td>20230125389</td>\n",
       "      <td>E.Coli. and K.pne</td>\n",
       "      <td>E.coli</td>\n",
       "      <td>E COLI , K PNE</td>\n",
       "      <td>E COLI</td>\n",
       "      <td>1</td>\n",
       "      <td>1</td>\n",
       "      <td>0</td>\n",
       "      <td>0</td>\n",
       "      <td>0</td>\n",
       "      <td>0</td>\n",
       "      <td>0</td>\n",
       "      <td>0</td>\n",
       "      <td>0</td>\n",
       "      <td>0</td>\n",
       "      <td>0</td>\n",
       "      <td>0</td>\n",
       "    </tr>\n",
       "    <tr>\n",
       "      <th>3</th>\n",
       "      <td>20180022685</td>\n",
       "      <td>P. mirabilis</td>\n",
       "      <td>CONTAMINATION</td>\n",
       "      <td>P MIRABILIS</td>\n",
       "      <td>CONTAMINATION</td>\n",
       "      <td>0</td>\n",
       "      <td>0</td>\n",
       "      <td>0</td>\n",
       "      <td>0</td>\n",
       "      <td>1</td>\n",
       "      <td>0</td>\n",
       "      <td>0</td>\n",
       "      <td>0</td>\n",
       "      <td>0</td>\n",
       "      <td>0</td>\n",
       "      <td>0</td>\n",
       "      <td>0</td>\n",
       "    </tr>\n",
       "    <tr>\n",
       "      <th>4</th>\n",
       "      <td>20201415102</td>\n",
       "      <td>NaN</td>\n",
       "      <td>NaN</td>\n",
       "      <td>NAN</td>\n",
       "      <td>NAN</td>\n",
       "      <td>0</td>\n",
       "      <td>0</td>\n",
       "      <td>0</td>\n",
       "      <td>0</td>\n",
       "      <td>0</td>\n",
       "      <td>0</td>\n",
       "      <td>0</td>\n",
       "      <td>0</td>\n",
       "      <td>0</td>\n",
       "      <td>0</td>\n",
       "      <td>1</td>\n",
       "      <td>0</td>\n",
       "    </tr>\n",
       "  </tbody>\n",
       "</table>\n",
       "</div>"
      ],
      "text/plain": [
       "          UHID                  RAMJA                  AIIMS  \\\n",
       "0  20220065432  Enterococcus faecalis  Enterococcus faecalis   \n",
       "1  20240016182                    NaN                    NaN   \n",
       "2  20230125389      E.Coli. and K.pne                 E.coli   \n",
       "3  20180022685           P. mirabilis          CONTAMINATION   \n",
       "4  20201415102                    NaN                    NaN   \n",
       "\n",
       "              cleanRAMJA             cleanAIIMS  Escherichia coli  \\\n",
       "0  ENTEROCOCCUS FAECALIS  ENTEROCOCCUS FAECALIS                 0   \n",
       "1                    NAN                    NAN                 0   \n",
       "2         E COLI , K PNE                 E COLI                 1   \n",
       "3            P MIRABILIS          CONTAMINATION                 0   \n",
       "4                    NAN                    NAN                 0   \n",
       "\n",
       "   Klebsiella pneumoniae  Pseudomonas aeruginosa  Acinetobacter baumannii  \\\n",
       "0                      0                       0                        0   \n",
       "1                      0                       0                        0   \n",
       "2                      1                       0                        0   \n",
       "3                      0                       0                        0   \n",
       "4                      0                       0                        0   \n",
       "\n",
       "   Proteus mirabilis  Enterococcus faecalis  Staphylococcus aureus  \\\n",
       "0                  0                      1                      0   \n",
       "1                  0                      0                      0   \n",
       "2                  0                      0                      0   \n",
       "3                  1                      0                      0   \n",
       "4                  0                      0                      0   \n",
       "\n",
       "   Staphylococcus saprophyticus  Sterile  Contamination  NAN  Others_R  \n",
       "0                             0        0              0    0         0  \n",
       "1                             0        0              0    1         0  \n",
       "2                             0        0              0    0         0  \n",
       "3                             0        0              0    0         0  \n",
       "4                             0        0              0    1         0  "
      ]
     },
     "execution_count": 15,
     "metadata": {},
     "output_type": "execute_result"
    }
   ],
   "source": [
    "df_R.head()"
   ]
  },
  {
   "cell_type": "code",
   "execution_count": 16,
   "metadata": {},
   "outputs": [
    {
     "data": {
      "text/plain": [
       "(125, 18)"
      ]
     },
     "execution_count": 16,
     "metadata": {},
     "output_type": "execute_result"
    }
   ],
   "source": [
    "#...Get infections positive column in RAMJA\n",
    "df_R_temp  = df_R[['Escherichia coli','Klebsiella pneumoniae','Pseudomonas aeruginosa','Acinetobacter baumannii','Proteus mirabilis','Enterococcus faecalis','Staphylococcus aureus','Staphylococcus saprophyticus','Contamination','Others_R']]\n",
    "df_R_temp = df_R_temp == 1\n",
    "df_R_temp['Infection_R'] = df_R_temp.any(axis=1)\n",
    "df_R['Infection_R'] = df_R_temp['Infection_R'].astype(int)\n",
    "df_R.shape"
   ]
  },
  {
   "cell_type": "code",
   "execution_count": 17,
   "metadata": {},
   "outputs": [
    {
     "data": {
      "text/plain": [
       "(122, 18)"
      ]
     },
     "execution_count": 17,
     "metadata": {},
     "output_type": "execute_result"
    }
   ],
   "source": [
    "#....Drop rows containing NaN in Ramaj column results\n",
    "df_NonNaN_R = df_R.dropna(subset=['RAMJA'])\n",
    "df_NonNaN_R.shape\n",
    "df_R_clean = df_NonNaN_R\n",
    "df_R_clean.shape"
   ]
  },
  {
   "cell_type": "code",
   "execution_count": 18,
   "metadata": {},
   "outputs": [],
   "source": [
    "#display(df_NonNaN_R)"
   ]
  },
  {
   "cell_type": "code",
   "execution_count": 19,
   "metadata": {},
   "outputs": [],
   "source": [
    "#...Remove contaminated sample and Others samples\n",
    "# df_R_clean = df_NonNaN_R[(df_NonNaN_R['Contamination'] == 0) & (df_NonNaN_R['Others_R'] == 0)]\n",
    "# df_R_clean.shape"
   ]
  },
  {
   "cell_type": "code",
   "execution_count": 20,
   "metadata": {},
   "outputs": [
    {
     "name": "stdout",
     "output_type": "stream",
     "text": [
      "1    70\n",
      "0    52\n",
      "Name: Infection_R, dtype: int64\n",
      "0    70\n",
      "1    52\n",
      "Name: Sterile, dtype: int64\n"
     ]
    }
   ],
   "source": [
    "#....After Dopping NaN these two set of values should be equal\n",
    "print(df_R_clean['Infection_R'].value_counts())\n",
    "print(df_R_clean['Sterile'].value_counts())"
   ]
  },
  {
   "cell_type": "code",
   "execution_count": 21,
   "metadata": {},
   "outputs": [],
   "source": [
    "#df_R.to_excel(\"temp1.xlsx\")"
   ]
  },
  {
   "cell_type": "markdown",
   "metadata": {},
   "source": [
    "### AIIMS Analysis"
   ]
  },
  {
   "cell_type": "code",
   "execution_count": 22,
   "metadata": {},
   "outputs": [
    {
     "data": {
      "text/plain": [
       "(125, 5)"
      ]
     },
     "execution_count": 22,
     "metadata": {},
     "output_type": "execute_result"
    }
   ],
   "source": [
    "data.shape"
   ]
  },
  {
   "cell_type": "code",
   "execution_count": 23,
   "metadata": {},
   "outputs": [],
   "source": [
    "df_A = data.copy()\n",
    "genus = [\"ESCHER\",\"KLEBS\",\"PSEUDO\",\"ACINE\",\"PROT\",\"ENTER\",\"AURE\",\"SAPRO\",\"STERI\",\"CONTA\",\"NAN\"]\n",
    "species = [\"COLI\", \"PNE\", \"AERUGI\", \"BAUM\", \"MIRABIL\", \"FAECALI\", \"AUREUS\", \"SAPROPHY\", \"STERI\",\"CONTA\",\"NAN\"]\n",
    "for s1, s2 in zip(genus,species):\n",
    "    df_A[s2] = df_A['cleanAIIMS'].apply(lambda x: check(x, s1, s2))\n",
    "\n",
    "df_A.rename(columns=bacteriatypes, inplace=True) #change column names\n",
    "\n",
    "# add suffix _R to column names\n",
    "#columns_to_modify = ['Escherichia coli','Klebsiella pneumoniae','Pseudomonas aeruginosa','Acinetobacter baumannii','Proteus mirabilis','Enterococcus faecalis','Staphylococcus aureus','Staphylococcus saprophyticus','Sterile','Contamination','NAN']\n",
    "#data.rename(columns={col: f\"{col}_A\" for col in columns_to_modify}, inplace=True)"
   ]
  },
  {
   "cell_type": "code",
   "execution_count": 24,
   "metadata": {},
   "outputs": [
    {
     "data": {
      "text/plain": [
       "(125, 16)"
      ]
     },
     "execution_count": 24,
     "metadata": {},
     "output_type": "execute_result"
    }
   ],
   "source": [
    "df_A.shape"
   ]
  },
  {
   "cell_type": "code",
   "execution_count": 25,
   "metadata": {},
   "outputs": [
    {
     "data": {
      "text/plain": [
       "(125, 17)"
      ]
     },
     "execution_count": 25,
     "metadata": {},
     "output_type": "execute_result"
    }
   ],
   "source": [
    "#....add a column named 'Others' contain values other than assigend catagories\n",
    "df_A_temp = df_A[['Escherichia coli','Klebsiella pneumoniae','Pseudomonas aeruginosa','Acinetobacter baumannii','Proteus mirabilis','Enterococcus faecalis','Staphylococcus aureus','Staphylococcus saprophyticus','Sterile','Contamination','NAN']]\n",
    "df_A_temp = df_A_temp == 0\n",
    "df_A_temp['Others_A'] = df_A_temp.all(axis=1)\n",
    "df_A['Others_A'] = df_A_temp['Others_A'].astype(int)\n",
    "df_A.shape"
   ]
  },
  {
   "cell_type": "code",
   "execution_count": 26,
   "metadata": {},
   "outputs": [
    {
     "data": {
      "text/html": [
       "<div>\n",
       "<style scoped>\n",
       "    .dataframe tbody tr th:only-of-type {\n",
       "        vertical-align: middle;\n",
       "    }\n",
       "\n",
       "    .dataframe tbody tr th {\n",
       "        vertical-align: top;\n",
       "    }\n",
       "\n",
       "    .dataframe thead th {\n",
       "        text-align: right;\n",
       "    }\n",
       "</style>\n",
       "<table border=\"1\" class=\"dataframe\">\n",
       "  <thead>\n",
       "    <tr style=\"text-align: right;\">\n",
       "      <th></th>\n",
       "      <th>UHID</th>\n",
       "      <th>RAMJA</th>\n",
       "      <th>AIIMS</th>\n",
       "      <th>cleanRAMJA</th>\n",
       "      <th>cleanAIIMS</th>\n",
       "      <th>Escherichia coli</th>\n",
       "      <th>Klebsiella pneumoniae</th>\n",
       "      <th>Pseudomonas aeruginosa</th>\n",
       "      <th>Acinetobacter baumannii</th>\n",
       "      <th>Proteus mirabilis</th>\n",
       "      <th>Enterococcus faecalis</th>\n",
       "      <th>Staphylococcus aureus</th>\n",
       "      <th>Staphylococcus saprophyticus</th>\n",
       "      <th>Sterile</th>\n",
       "      <th>Contamination</th>\n",
       "      <th>NAN</th>\n",
       "      <th>Others_A</th>\n",
       "    </tr>\n",
       "  </thead>\n",
       "  <tbody>\n",
       "    <tr>\n",
       "      <th>0</th>\n",
       "      <td>20220065432</td>\n",
       "      <td>Enterococcus faecalis</td>\n",
       "      <td>Enterococcus faecalis</td>\n",
       "      <td>ENTEROCOCCUS FAECALIS</td>\n",
       "      <td>ENTEROCOCCUS FAECALIS</td>\n",
       "      <td>0</td>\n",
       "      <td>0</td>\n",
       "      <td>0</td>\n",
       "      <td>0</td>\n",
       "      <td>0</td>\n",
       "      <td>1</td>\n",
       "      <td>0</td>\n",
       "      <td>0</td>\n",
       "      <td>0</td>\n",
       "      <td>0</td>\n",
       "      <td>0</td>\n",
       "      <td>0</td>\n",
       "    </tr>\n",
       "    <tr>\n",
       "      <th>1</th>\n",
       "      <td>20240016182</td>\n",
       "      <td>NaN</td>\n",
       "      <td>NaN</td>\n",
       "      <td>NAN</td>\n",
       "      <td>NAN</td>\n",
       "      <td>0</td>\n",
       "      <td>0</td>\n",
       "      <td>0</td>\n",
       "      <td>0</td>\n",
       "      <td>0</td>\n",
       "      <td>0</td>\n",
       "      <td>0</td>\n",
       "      <td>0</td>\n",
       "      <td>0</td>\n",
       "      <td>0</td>\n",
       "      <td>1</td>\n",
       "      <td>0</td>\n",
       "    </tr>\n",
       "    <tr>\n",
       "      <th>2</th>\n",
       "      <td>20230125389</td>\n",
       "      <td>E.Coli. and K.pne</td>\n",
       "      <td>E.coli</td>\n",
       "      <td>E COLI , K PNE</td>\n",
       "      <td>E COLI</td>\n",
       "      <td>1</td>\n",
       "      <td>0</td>\n",
       "      <td>0</td>\n",
       "      <td>0</td>\n",
       "      <td>0</td>\n",
       "      <td>0</td>\n",
       "      <td>0</td>\n",
       "      <td>0</td>\n",
       "      <td>0</td>\n",
       "      <td>0</td>\n",
       "      <td>0</td>\n",
       "      <td>0</td>\n",
       "    </tr>\n",
       "    <tr>\n",
       "      <th>3</th>\n",
       "      <td>20180022685</td>\n",
       "      <td>P. mirabilis</td>\n",
       "      <td>CONTAMINATION</td>\n",
       "      <td>P MIRABILIS</td>\n",
       "      <td>CONTAMINATION</td>\n",
       "      <td>0</td>\n",
       "      <td>0</td>\n",
       "      <td>0</td>\n",
       "      <td>0</td>\n",
       "      <td>0</td>\n",
       "      <td>0</td>\n",
       "      <td>0</td>\n",
       "      <td>0</td>\n",
       "      <td>0</td>\n",
       "      <td>1</td>\n",
       "      <td>0</td>\n",
       "      <td>0</td>\n",
       "    </tr>\n",
       "    <tr>\n",
       "      <th>4</th>\n",
       "      <td>20201415102</td>\n",
       "      <td>NaN</td>\n",
       "      <td>NaN</td>\n",
       "      <td>NAN</td>\n",
       "      <td>NAN</td>\n",
       "      <td>0</td>\n",
       "      <td>0</td>\n",
       "      <td>0</td>\n",
       "      <td>0</td>\n",
       "      <td>0</td>\n",
       "      <td>0</td>\n",
       "      <td>0</td>\n",
       "      <td>0</td>\n",
       "      <td>0</td>\n",
       "      <td>0</td>\n",
       "      <td>1</td>\n",
       "      <td>0</td>\n",
       "    </tr>\n",
       "  </tbody>\n",
       "</table>\n",
       "</div>"
      ],
      "text/plain": [
       "          UHID                  RAMJA                  AIIMS  \\\n",
       "0  20220065432  Enterococcus faecalis  Enterococcus faecalis   \n",
       "1  20240016182                    NaN                    NaN   \n",
       "2  20230125389      E.Coli. and K.pne                 E.coli   \n",
       "3  20180022685           P. mirabilis          CONTAMINATION   \n",
       "4  20201415102                    NaN                    NaN   \n",
       "\n",
       "              cleanRAMJA             cleanAIIMS  Escherichia coli  \\\n",
       "0  ENTEROCOCCUS FAECALIS  ENTEROCOCCUS FAECALIS                 0   \n",
       "1                    NAN                    NAN                 0   \n",
       "2         E COLI , K PNE                 E COLI                 1   \n",
       "3            P MIRABILIS          CONTAMINATION                 0   \n",
       "4                    NAN                    NAN                 0   \n",
       "\n",
       "   Klebsiella pneumoniae  Pseudomonas aeruginosa  Acinetobacter baumannii  \\\n",
       "0                      0                       0                        0   \n",
       "1                      0                       0                        0   \n",
       "2                      0                       0                        0   \n",
       "3                      0                       0                        0   \n",
       "4                      0                       0                        0   \n",
       "\n",
       "   Proteus mirabilis  Enterococcus faecalis  Staphylococcus aureus  \\\n",
       "0                  0                      1                      0   \n",
       "1                  0                      0                      0   \n",
       "2                  0                      0                      0   \n",
       "3                  0                      0                      0   \n",
       "4                  0                      0                      0   \n",
       "\n",
       "   Staphylococcus saprophyticus  Sterile  Contamination  NAN  Others_A  \n",
       "0                             0        0              0    0         0  \n",
       "1                             0        0              0    1         0  \n",
       "2                             0        0              0    0         0  \n",
       "3                             0        0              1    0         0  \n",
       "4                             0        0              0    1         0  "
      ]
     },
     "execution_count": 26,
     "metadata": {},
     "output_type": "execute_result"
    }
   ],
   "source": [
    "df_A.head()"
   ]
  },
  {
   "cell_type": "code",
   "execution_count": 27,
   "metadata": {},
   "outputs": [
    {
     "data": {
      "text/plain": [
       "(125, 18)"
      ]
     },
     "execution_count": 27,
     "metadata": {},
     "output_type": "execute_result"
    }
   ],
   "source": [
    "#...Get infections positive (any infection) in AIIMS\n",
    "df_A_temp  = df_A[['Escherichia coli','Klebsiella pneumoniae','Pseudomonas aeruginosa','Acinetobacter baumannii','Proteus mirabilis','Enterococcus faecalis','Staphylococcus aureus','Staphylococcus saprophyticus','Contamination','Others_A']]\n",
    "df_A_temp = df_A_temp == 1\n",
    "df_A_temp['Infection_A'] = df_A_temp.any(axis=1)\n",
    "df_A['Infection_A'] = df_A_temp['Infection_A'].astype(int)\n",
    "df_A.shape\n"
   ]
  },
  {
   "cell_type": "code",
   "execution_count": 28,
   "metadata": {},
   "outputs": [],
   "source": [
    "#...dataset containing removed NaN based on AIIMS\n",
    "df_NonNaN_A = df_A.dropna(subset=['AIIMS'])\n",
    "df_A_clean = df_NonNaN_A"
   ]
  },
  {
   "cell_type": "code",
   "execution_count": 36,
   "metadata": {},
   "outputs": [],
   "source": [
    "#...Remove contaminated sample and Others samples \n",
    "# df_A_clean = df_NonNaN_A[(df_NonNaN_A['Contamination'] == 0) & (df_NonNaN_A['Others_A'] == 0)]\n",
    "# df_A_clean.shape"
   ]
  },
  {
   "cell_type": "code",
   "execution_count": 29,
   "metadata": {},
   "outputs": [
    {
     "name": "stdout",
     "output_type": "stream",
     "text": [
      "0    56\n",
      "1    53\n",
      "Name: Infection_A, dtype: int64\n",
      "1    56\n",
      "0    53\n",
      "Name: Sterile, dtype: int64\n"
     ]
    }
   ],
   "source": [
    "#....After Dopping NaN these two set of values should be equal\n",
    "print(df_A_clean['Infection_A'].value_counts())\n",
    "print(df_A_clean['Sterile'].value_counts())"
   ]
  },
  {
   "cell_type": "code",
   "execution_count": 38,
   "metadata": {},
   "outputs": [],
   "source": [
    "#df_NonNaN_A.to_excel(\"temp1.xlsx\")"
   ]
  },
  {
   "cell_type": "code",
   "execution_count": 30,
   "metadata": {},
   "outputs": [
    {
     "data": {
      "text/plain": [
       "(70, 3)"
      ]
     },
     "execution_count": 30,
     "metadata": {},
     "output_type": "execute_result"
    }
   ],
   "source": [
    "#......\n",
    "df_R_infec = df_R_clean[df_R_clean['Infection_R'] == 1]\n",
    "df_R_infec = df_R_infec[['UHID','RAMJA','AIIMS']]\n",
    "df_R_infec.shape"
   ]
  },
  {
   "cell_type": "code",
   "execution_count": 31,
   "metadata": {},
   "outputs": [
    {
     "data": {
      "text/plain": [
       "(53, 3)"
      ]
     },
     "execution_count": 31,
     "metadata": {},
     "output_type": "execute_result"
    }
   ],
   "source": [
    "df_A_infec = df_A_clean[df_A_clean['Infection_A'] == 1]\n",
    "df_A_infec = df_A_infec[['UHID','RAMJA','AIIMS']]\n",
    "df_A_infec.shape"
   ]
  },
  {
   "cell_type": "markdown",
   "metadata": {},
   "source": [
    "### Concordance analysis"
   ]
  },
  {
   "cell_type": "code",
   "execution_count": 32,
   "metadata": {},
   "outputs": [
    {
     "name": "stderr",
     "output_type": "stream",
     "text": [
      "C:\\Users\\neelesh\\AppData\\Local\\Temp\\ipykernel_9404\\3825133095.py:7: SettingWithCopyWarning: \n",
      "A value is trying to be set on a copy of a slice from a DataFrame.\n",
      "Try using .loc[row_indexer,col_indexer] = value instead\n",
      "\n",
      "See the caveats in the documentation: https://pandas.pydata.org/pandas-docs/stable/user_guide/indexing.html#returning-a-view-versus-a-copy\n",
      "  df_C['concordance'] = df_C_temp1['Infection_C'].astype(int)\n"
     ]
    },
    {
     "data": {
      "text/html": [
       "<div>\n",
       "<style scoped>\n",
       "    .dataframe tbody tr th:only-of-type {\n",
       "        vertical-align: middle;\n",
       "    }\n",
       "\n",
       "    .dataframe tbody tr th {\n",
       "        vertical-align: top;\n",
       "    }\n",
       "\n",
       "    .dataframe thead th {\n",
       "        text-align: right;\n",
       "    }\n",
       "</style>\n",
       "<table border=\"1\" class=\"dataframe\">\n",
       "  <thead>\n",
       "    <tr style=\"text-align: right;\">\n",
       "      <th></th>\n",
       "      <th>UHID</th>\n",
       "      <th>RAMJA</th>\n",
       "      <th>AIIMS</th>\n",
       "      <th>concordance</th>\n",
       "    </tr>\n",
       "  </thead>\n",
       "  <tbody>\n",
       "    <tr>\n",
       "      <th>0</th>\n",
       "      <td>20220065432</td>\n",
       "      <td>Enterococcus faecalis</td>\n",
       "      <td>Enterococcus faecalis</td>\n",
       "      <td>1</td>\n",
       "    </tr>\n",
       "    <tr>\n",
       "      <th>1</th>\n",
       "      <td>20240016182</td>\n",
       "      <td>NaN</td>\n",
       "      <td>NaN</td>\n",
       "      <td>0</td>\n",
       "    </tr>\n",
       "    <tr>\n",
       "      <th>2</th>\n",
       "      <td>20230125389</td>\n",
       "      <td>E.Coli. and K.pne</td>\n",
       "      <td>E.coli</td>\n",
       "      <td>1</td>\n",
       "    </tr>\n",
       "    <tr>\n",
       "      <th>3</th>\n",
       "      <td>20180022685</td>\n",
       "      <td>P. mirabilis</td>\n",
       "      <td>CONTAMINATION</td>\n",
       "      <td>0</td>\n",
       "    </tr>\n",
       "    <tr>\n",
       "      <th>4</th>\n",
       "      <td>20201415102</td>\n",
       "      <td>NaN</td>\n",
       "      <td>NaN</td>\n",
       "      <td>0</td>\n",
       "    </tr>\n",
       "  </tbody>\n",
       "</table>\n",
       "</div>"
      ],
      "text/plain": [
       "          UHID                  RAMJA                  AIIMS  concordance\n",
       "0  20220065432  Enterococcus faecalis  Enterococcus faecalis            1\n",
       "1  20240016182                    NaN                    NaN            0\n",
       "2  20230125389      E.Coli. and K.pne                 E.coli            1\n",
       "3  20180022685           P. mirabilis          CONTAMINATION            0\n",
       "4  20201415102                    NaN                    NaN            0"
      ]
     },
     "execution_count": 32,
     "metadata": {},
     "output_type": "execute_result"
    }
   ],
   "source": [
    "#...Concordance: Get same type of infections in both RAMJA and AIIMS\n",
    "df_R_temp1  = df_R[['Escherichia coli','Klebsiella pneumoniae','Pseudomonas aeruginosa','Acinetobacter baumannii','Proteus mirabilis','Enterococcus faecalis','Staphylococcus aureus','Staphylococcus saprophyticus']]\n",
    "df_A_temp1  = df_A[['Escherichia coli','Klebsiella pneumoniae','Pseudomonas aeruginosa','Acinetobacter baumannii','Proteus mirabilis','Enterococcus faecalis','Staphylococcus aureus','Staphylococcus saprophyticus']]\n",
    "df_C_temp1 = df_R_temp1 & df_A_temp1\n",
    "df_C_temp1['Infection_C'] = df_C_temp1.any(axis=1)\n",
    "df_C = data[['UHID','RAMJA','AIIMS']]\n",
    "df_C['concordance'] = df_C_temp1['Infection_C'].astype(int)\n",
    "df_C.head()"
   ]
  },
  {
   "cell_type": "code",
   "execution_count": 33,
   "metadata": {},
   "outputs": [
    {
     "data": {
      "text/plain": [
       "(125, 4)"
      ]
     },
     "execution_count": 33,
     "metadata": {},
     "output_type": "execute_result"
    }
   ],
   "source": [
    "df_C.shape"
   ]
  },
  {
   "cell_type": "code",
   "execution_count": 34,
   "metadata": {},
   "outputs": [
    {
     "data": {
      "text/plain": [
       "0    100\n",
       "1     25\n",
       "Name: concordance, dtype: int64"
      ]
     },
     "execution_count": 34,
     "metadata": {},
     "output_type": "execute_result"
    }
   ],
   "source": [
    "df_C['concordance'].value_counts()"
   ]
  },
  {
   "cell_type": "code",
   "execution_count": 35,
   "metadata": {},
   "outputs": [],
   "source": [
    "df_NonNaN_C = df_C.dropna(subset=['RAMJA','AIIMS'])"
   ]
  },
  {
   "cell_type": "code",
   "execution_count": 36,
   "metadata": {},
   "outputs": [
    {
     "data": {
      "text/plain": [
       "(109, 4)"
      ]
     },
     "execution_count": 36,
     "metadata": {},
     "output_type": "execute_result"
    }
   ],
   "source": [
    "df_NonNaN_C.shape"
   ]
  },
  {
   "cell_type": "markdown",
   "metadata": {},
   "source": [
    "### common clean samples"
   ]
  },
  {
   "cell_type": "code",
   "execution_count": 37,
   "metadata": {},
   "outputs": [
    {
     "data": {
      "text/plain": [
       "(122, 4)"
      ]
     },
     "execution_count": 37,
     "metadata": {},
     "output_type": "execute_result"
    }
   ],
   "source": [
    "df_R_tempc = df_R_clean[['UHID','RAMJA','AIIMS', 'Infection_R']]\n",
    "df_R_tempc.shape"
   ]
  },
  {
   "cell_type": "code",
   "execution_count": 38,
   "metadata": {},
   "outputs": [
    {
     "data": {
      "text/plain": [
       "(109, 2)"
      ]
     },
     "execution_count": 38,
     "metadata": {},
     "output_type": "execute_result"
    }
   ],
   "source": [
    "df_A_tempc = df_A_clean[['UHID','Infection_A']]\n",
    "df_A_tempc.shape"
   ]
  },
  {
   "cell_type": "code",
   "execution_count": 39,
   "metadata": {},
   "outputs": [
    {
     "data": {
      "text/plain": [
       "(109, 5)"
      ]
     },
     "execution_count": 39,
     "metadata": {},
     "output_type": "execute_result"
    }
   ],
   "source": [
    "#..clean datset having common samples with No Nan, No contamination, No Others\n",
    "df_C_clean = pd.merge(df_R_tempc,df_A_tempc,how='inner', on='UHID')\n",
    "df_C_clean.shape"
   ]
  },
  {
   "cell_type": "code",
   "execution_count": 40,
   "metadata": {},
   "outputs": [
    {
     "data": {
      "text/html": [
       "<div>\n",
       "<style scoped>\n",
       "    .dataframe tbody tr th:only-of-type {\n",
       "        vertical-align: middle;\n",
       "    }\n",
       "\n",
       "    .dataframe tbody tr th {\n",
       "        vertical-align: top;\n",
       "    }\n",
       "\n",
       "    .dataframe thead th {\n",
       "        text-align: right;\n",
       "    }\n",
       "</style>\n",
       "<table border=\"1\" class=\"dataframe\">\n",
       "  <thead>\n",
       "    <tr style=\"text-align: right;\">\n",
       "      <th></th>\n",
       "      <th>UHID</th>\n",
       "      <th>RAMJA</th>\n",
       "      <th>AIIMS</th>\n",
       "      <th>Infection_R</th>\n",
       "      <th>Infection_A</th>\n",
       "    </tr>\n",
       "  </thead>\n",
       "  <tbody>\n",
       "    <tr>\n",
       "      <th>0</th>\n",
       "      <td>20220065432</td>\n",
       "      <td>Enterococcus faecalis</td>\n",
       "      <td>Enterococcus faecalis</td>\n",
       "      <td>1</td>\n",
       "      <td>1</td>\n",
       "    </tr>\n",
       "    <tr>\n",
       "      <th>1</th>\n",
       "      <td>20230125389</td>\n",
       "      <td>E.Coli. and K.pne</td>\n",
       "      <td>E.coli</td>\n",
       "      <td>1</td>\n",
       "      <td>1</td>\n",
       "    </tr>\n",
       "    <tr>\n",
       "      <th>2</th>\n",
       "      <td>20180022685</td>\n",
       "      <td>P. mirabilis</td>\n",
       "      <td>CONTAMINATION</td>\n",
       "      <td>1</td>\n",
       "      <td>1</td>\n",
       "    </tr>\n",
       "    <tr>\n",
       "      <th>3</th>\n",
       "      <td>20240012395</td>\n",
       "      <td>Polymicrobial (E.coli, A. baumannii, P.mirabil...</td>\n",
       "      <td>E.coli</td>\n",
       "      <td>1</td>\n",
       "      <td>1</td>\n",
       "    </tr>\n",
       "    <tr>\n",
       "      <th>4</th>\n",
       "      <td>20220166372</td>\n",
       "      <td>E.coli, Pseudomonas, P.mirabilis, E.Faecalis, ...</td>\n",
       "      <td>E.coli &amp; Pseudomnas</td>\n",
       "      <td>1</td>\n",
       "      <td>1</td>\n",
       "    </tr>\n",
       "  </tbody>\n",
       "</table>\n",
       "</div>"
      ],
      "text/plain": [
       "          UHID                                              RAMJA  \\\n",
       "0  20220065432                              Enterococcus faecalis   \n",
       "1  20230125389                                  E.Coli. and K.pne   \n",
       "2  20180022685                                       P. mirabilis   \n",
       "3  20240012395  Polymicrobial (E.coli, A. baumannii, P.mirabil...   \n",
       "4  20220166372  E.coli, Pseudomonas, P.mirabilis, E.Faecalis, ...   \n",
       "\n",
       "                   AIIMS  Infection_R  Infection_A  \n",
       "0  Enterococcus faecalis            1            1  \n",
       "1                 E.coli            1            1  \n",
       "2          CONTAMINATION            1            1  \n",
       "3                 E.coli            1            1  \n",
       "4    E.coli & Pseudomnas            1            1  "
      ]
     },
     "execution_count": 40,
     "metadata": {},
     "output_type": "execute_result"
    }
   ],
   "source": [
    "df_C_clean.head()"
   ]
  },
  {
   "cell_type": "markdown",
   "metadata": {},
   "source": [
    "#### Confusion matrix"
   ]
  },
  {
   "cell_type": "code",
   "execution_count": 41,
   "metadata": {},
   "outputs": [
    {
     "name": "stdout",
     "output_type": "stream",
     "text": [
      "[[38 18]\n",
      " [ 7 46]]\n"
     ]
    }
   ],
   "source": [
    "from sklearn.metrics import confusion_matrix\n",
    "\n",
    "y_true = df_C_clean['Infection_A']\n",
    "y_pred = df_C_clean['Infection_R']\n",
    "\n",
    "cm = confusion_matrix(y_true, y_pred)\n",
    "print(cm)"
   ]
  },
  {
   "cell_type": "code",
   "execution_count": 42,
   "metadata": {},
   "outputs": [
    {
     "data": {
      "text/plain": [
       "109"
      ]
     },
     "execution_count": 42,
     "metadata": {},
     "output_type": "execute_result"
    }
   ],
   "source": [
    "sum(sum(cm))"
   ]
  },
  {
   "cell_type": "code",
   "execution_count": 43,
   "metadata": {},
   "outputs": [
    {
     "data": {
      "text/plain": [
       "(38, 18, 7, 46)"
      ]
     },
     "execution_count": 43,
     "metadata": {},
     "output_type": "execute_result"
    }
   ],
   "source": [
    "tn, fp, fn, tp = confusion_matrix(y_true, y_pred).ravel()\n",
    "(tn,fp,fn,tp)"
   ]
  },
  {
   "cell_type": "code",
   "execution_count": 44,
   "metadata": {},
   "outputs": [
    {
     "data": {
      "text/plain": [
       "array([[46, 18],\n",
       "       [ 7, 38]], dtype=int64)"
      ]
     },
     "execution_count": 44,
     "metadata": {},
     "output_type": "execute_result"
    }
   ],
   "source": [
    "t_cm = np.array([tp, fp, fn, tn]).reshape(2,2)\n",
    "t_cm"
   ]
  },
  {
   "cell_type": "code",
   "execution_count": 45,
   "metadata": {},
   "outputs": [
    {
     "data": {
      "text/html": [
       "<div>\n",
       "<style scoped>\n",
       "    .dataframe tbody tr th:only-of-type {\n",
       "        vertical-align: middle;\n",
       "    }\n",
       "\n",
       "    .dataframe tbody tr th {\n",
       "        vertical-align: top;\n",
       "    }\n",
       "\n",
       "    .dataframe thead th {\n",
       "        text-align: right;\n",
       "    }\n",
       "</style>\n",
       "<table border=\"1\" class=\"dataframe\">\n",
       "  <thead>\n",
       "    <tr style=\"text-align: right;\">\n",
       "      <th></th>\n",
       "      <th>AIIMS Positive</th>\n",
       "      <th>AIIMS Negative</th>\n",
       "    </tr>\n",
       "  </thead>\n",
       "  <tbody>\n",
       "    <tr>\n",
       "      <th>RAMJA Positive</th>\n",
       "      <td>46</td>\n",
       "      <td>18</td>\n",
       "    </tr>\n",
       "    <tr>\n",
       "      <th>RAMJA Negative</th>\n",
       "      <td>7</td>\n",
       "      <td>38</td>\n",
       "    </tr>\n",
       "  </tbody>\n",
       "</table>\n",
       "</div>"
      ],
      "text/plain": [
       "                AIIMS Positive  AIIMS Negative\n",
       "RAMJA Positive              46              18\n",
       "RAMJA Negative               7              38"
      ]
     },
     "execution_count": 45,
     "metadata": {},
     "output_type": "execute_result"
    }
   ],
   "source": [
    "df_cm =pd.DataFrame(t_cm,index=['RAMJA Positive','RAMJA Negative'], columns= ['AIIMS Positive','AIIMS Negative'])\n",
    "df_cm"
   ]
  },
  {
   "cell_type": "markdown",
   "metadata": {},
   "source": [
    "#### Scores"
   ]
  },
  {
   "cell_type": "code",
   "execution_count": 46,
   "metadata": {},
   "outputs": [],
   "source": [
    "def scores(y_test, y_pred):\n",
    "        #y_pred = self.fit(x_train, x_test, y_train)\n",
    "        from sklearn.metrics import confusion_matrix, accuracy_score, roc_auc_score\n",
    "        \n",
    "        cm = confusion_matrix(y_test,y_pred)\n",
    "        \n",
    "        # Compute confusion matrix\n",
    "        tn, fp, fn, tp = confusion_matrix(y_true, y_pred).ravel()\n",
    "                \n",
    "        #.....................Accuracy......................#\n",
    "        #accur = accuracy_score(y_test,y_pred)\n",
    "        accur = (tp + tn)/(tp+tn+fp+fn)\n",
    "        \n",
    "       #.....................Senstivity.....................#\n",
    "        sens = tp/(tp + fn)\n",
    "\n",
    "        #.....................Specificity...................#\n",
    "        spec = tn / (tn + fp)\n",
    "\n",
    "        #..........Positive predictive value (PPV)...........#\n",
    "        PPV = tp/(tp + fp)\n",
    "\n",
    "        #..........negative predictive value (NPV)...........#\n",
    "        NPV = tn/(tn + fn)\n",
    "        \n",
    "        #..........Positive Likelihood ratio (PLR)...........#\n",
    "        PLR = sens/(1-spec)\n",
    "\n",
    "        #..........Negative Likelihood ratio (NLR)...........#\n",
    "        NLR = (1-sens)/spec\n",
    "\n",
    "        errorList = np.array([accur, sens, spec, PPV, NPV, PLR, NLR])\n",
    "        return(errorList)"
   ]
  },
  {
   "cell_type": "code",
   "execution_count": 47,
   "metadata": {},
   "outputs": [
    {
     "data": {
      "text/html": [
       "<div>\n",
       "<style scoped>\n",
       "    .dataframe tbody tr th:only-of-type {\n",
       "        vertical-align: middle;\n",
       "    }\n",
       "\n",
       "    .dataframe tbody tr th {\n",
       "        vertical-align: top;\n",
       "    }\n",
       "\n",
       "    .dataframe thead th {\n",
       "        text-align: right;\n",
       "    }\n",
       "</style>\n",
       "<table border=\"1\" class=\"dataframe\">\n",
       "  <thead>\n",
       "    <tr style=\"text-align: right;\">\n",
       "      <th></th>\n",
       "      <th>LOT1</th>\n",
       "    </tr>\n",
       "  </thead>\n",
       "  <tbody>\n",
       "    <tr>\n",
       "      <th>Accuracy</th>\n",
       "      <td>0.7706</td>\n",
       "    </tr>\n",
       "    <tr>\n",
       "      <th>Sensitivity</th>\n",
       "      <td>0.8679</td>\n",
       "    </tr>\n",
       "    <tr>\n",
       "      <th>Specificity</th>\n",
       "      <td>0.6786</td>\n",
       "    </tr>\n",
       "    <tr>\n",
       "      <th>PPV</th>\n",
       "      <td>0.7188</td>\n",
       "    </tr>\n",
       "    <tr>\n",
       "      <th>NPV</th>\n",
       "      <td>0.8444</td>\n",
       "    </tr>\n",
       "    <tr>\n",
       "      <th>PLR</th>\n",
       "      <td>2.7002</td>\n",
       "    </tr>\n",
       "    <tr>\n",
       "      <th>NLR</th>\n",
       "      <td>0.1946</td>\n",
       "    </tr>\n",
       "  </tbody>\n",
       "</table>\n",
       "</div>"
      ],
      "text/plain": [
       "               LOT1\n",
       "Accuracy     0.7706\n",
       "Sensitivity  0.8679\n",
       "Specificity  0.6786\n",
       "PPV          0.7188\n",
       "NPV          0.8444\n",
       "PLR          2.7002\n",
       "NLR          0.1946"
      ]
     },
     "execution_count": 47,
     "metadata": {},
     "output_type": "execute_result"
    }
   ],
   "source": [
    "scores(y_true,y_pred)\n",
    "scoreid = ['Accuracy', 'Sensitivity', 'Specificity', 'PPV', 'NPV', 'PLR', 'NLR']\n",
    "df_score = pd.DataFrame(scores(y_true,y_pred),index=scoreid, columns= ['LOT1'])\n",
    "df_score = round(df_score,4)\n",
    "df_score"
   ]
  },
  {
   "cell_type": "code",
   "execution_count": 44,
   "metadata": {},
   "outputs": [
    {
     "data": {
      "text/plain": [
       "' print(\"#..........RAMJA Details..........#\")\\n#......VAlies for both RAMJA and AIIMS\\nprint(\"Total samples: \", data.shape[0])\\n\\n#...Values for RAMJA\\nprint(\"Null Samples RAMJA: \",data[\\'RAMJA\\'].isnull().sum(axis=0))\\nprint(\"Non-Null RAMJA: \", data[\\'RAMJA\\'].count())\\n\\n#...VAlues for RAMJA after dropping NaN\\nprint(\"Contaminated Samples RAMJA: \", df_NonNaN_R[\\'Contamination\\'].sum())\\nprint(\"Other RAMJA: \", df_NonNaN_R[\\'Others_R\\'].sum())\\nprint(\"Positive RAMJA: \", df_NonNaN_R[\\'Infection_R\\'].sum())\\nprint(\"Negative RAMJA: \", df_NonNaN_R[\\'Sterile\\'].sum())\\n\\nprint(\"#..........AIIMS Details..........#\")\\n#...Values for AIIMS\\nprint(\"Total samples: \", data.shape[0])\\nprint(\"Null Samples AIIMS: \",data[\\'AIIMS\\'].isnull().sum(axis=0))\\nprint(\"Non-Null AIIMS: \", data[\\'AIIMS\\'].count())\\n\\n#...VAlues for RAMJA after dropping NaN\\nprint(\"Contaminated Samples AIIMS: \", df_NonNaN_A[\\'Contamination\\'].sum())\\nprint(\"Other AIIMS: \", df_NonNaN_A[\\'Others_A\\'].sum())\\nprint(\"Positive AIIMS: \", df_NonNaN_A[\\'Infection_A\\'].sum())\\nprint(\"Negative AIIMS: \", df_NonNaN_A[\\'Sterile\\'].sum())\\n '"
      ]
     },
     "execution_count": 44,
     "metadata": {},
     "output_type": "execute_result"
    }
   ],
   "source": [
    "\"\"\" print(\"#..........RAMJA Details..........#\")\n",
    "#......VAlies for both RAMJA and AIIMS\n",
    "print(\"Total samples: \", data.shape[0])\n",
    "\n",
    "#...Values for RAMJA\n",
    "print(\"Null Samples RAMJA: \",data['RAMJA'].isnull().sum(axis=0))\n",
    "print(\"Non-Null RAMJA: \", data['RAMJA'].count())\n",
    "\n",
    "#...VAlues for RAMJA after dropping NaN\n",
    "print(\"Contaminated Samples RAMJA: \", df_NonNaN_R['Contamination'].sum())\n",
    "print(\"Other RAMJA: \", df_NonNaN_R['Others_R'].sum())\n",
    "print(\"Positive RAMJA: \", df_NonNaN_R['Infection_R'].sum())\n",
    "print(\"Negative RAMJA: \", df_NonNaN_R['Sterile'].sum())\n",
    "\n",
    "print(\"#..........AIIMS Details..........#\")\n",
    "#...Values for AIIMS\n",
    "print(\"Total samples: \", data.shape[0])\n",
    "print(\"Null Samples AIIMS: \",data['AIIMS'].isnull().sum(axis=0))\n",
    "print(\"Non-Null AIIMS: \", data['AIIMS'].count())\n",
    "\n",
    "#...VAlues for RAMJA after dropping NaN\n",
    "print(\"Contaminated Samples AIIMS: \", df_NonNaN_A['Contamination'].sum())\n",
    "print(\"Other AIIMS: \", df_NonNaN_A['Others_A'].sum())\n",
    "print(\"Positive AIIMS: \", df_NonNaN_A['Infection_A'].sum())\n",
    "print(\"Negative AIIMS: \", df_NonNaN_A['Sterile'].sum())\n",
    " \"\"\""
   ]
  },
  {
   "cell_type": "markdown",
   "metadata": {},
   "source": [
    "#### Samples detail"
   ]
  },
  {
   "cell_type": "code",
   "execution_count": 48,
   "metadata": {},
   "outputs": [],
   "source": [
    "samplesDetail = {\n",
    "    \"Total Samples\": [data.shape[0],data.shape[0]],\n",
    "    \"Blank Results\": [data['RAMJA'].isnull().sum(axis=0), data['AIIMS'].isnull().sum(axis=0)],\n",
    "    \"Non-Blank Results\": [data['RAMJA'].count(),data['AIIMS'].count()],\n",
    "    \"Contaminated Samples\": [df_NonNaN_R['Contamination'].sum(),df_NonNaN_A['Contamination'].sum()],\n",
    "    \"Others\": [df_NonNaN_R['Others_R'].sum(),df_NonNaN_A['Others_A'].sum()],\n",
    "    \"Common samples\":  [df_NonNaN_C.shape[0], df_NonNaN_C.shape[0]],\n",
    "    #\"Useful Samples\":[df_R_clean.shape[0], df_A_clean.shape[0]],\n",
    "    \"Positive\": [df_NonNaN_R['Infection_R'].sum(),df_NonNaN_A['Infection_A'].sum()],\n",
    "    \"Negative\": [df_NonNaN_R['Sterile'].sum(),df_NonNaN_A['Sterile'].sum()],\n",
    "    \"Common Positive\": [tp,tp],\n",
    "    \"Concordance [Common bacteria]\": [df_C['concordance'].sum(),df_C['concordance'].sum()],\n",
    "    \"Common Negative\": [tn,tn]\n",
    "    \n",
    "}"
   ]
  },
  {
   "cell_type": "code",
   "execution_count": 49,
   "metadata": {},
   "outputs": [
    {
     "data": {
      "text/html": [
       "<div>\n",
       "<style scoped>\n",
       "    .dataframe tbody tr th:only-of-type {\n",
       "        vertical-align: middle;\n",
       "    }\n",
       "\n",
       "    .dataframe tbody tr th {\n",
       "        vertical-align: top;\n",
       "    }\n",
       "\n",
       "    .dataframe thead th {\n",
       "        text-align: right;\n",
       "    }\n",
       "</style>\n",
       "<table border=\"1\" class=\"dataframe\">\n",
       "  <thead>\n",
       "    <tr style=\"text-align: right;\">\n",
       "      <th></th>\n",
       "      <th>RAMJA</th>\n",
       "      <th>AIIMS</th>\n",
       "    </tr>\n",
       "  </thead>\n",
       "  <tbody>\n",
       "    <tr>\n",
       "      <th>Total Samples</th>\n",
       "      <td>125</td>\n",
       "      <td>125</td>\n",
       "    </tr>\n",
       "    <tr>\n",
       "      <th>Blank Results</th>\n",
       "      <td>3</td>\n",
       "      <td>16</td>\n",
       "    </tr>\n",
       "    <tr>\n",
       "      <th>Non-Blank Results</th>\n",
       "      <td>122</td>\n",
       "      <td>109</td>\n",
       "    </tr>\n",
       "    <tr>\n",
       "      <th>Contaminated Samples</th>\n",
       "      <td>0</td>\n",
       "      <td>14</td>\n",
       "    </tr>\n",
       "    <tr>\n",
       "      <th>Others</th>\n",
       "      <td>0</td>\n",
       "      <td>9</td>\n",
       "    </tr>\n",
       "    <tr>\n",
       "      <th>Common samples</th>\n",
       "      <td>109</td>\n",
       "      <td>109</td>\n",
       "    </tr>\n",
       "    <tr>\n",
       "      <th>Positive</th>\n",
       "      <td>70</td>\n",
       "      <td>53</td>\n",
       "    </tr>\n",
       "    <tr>\n",
       "      <th>Negative</th>\n",
       "      <td>52</td>\n",
       "      <td>56</td>\n",
       "    </tr>\n",
       "    <tr>\n",
       "      <th>Common Positive</th>\n",
       "      <td>46</td>\n",
       "      <td>46</td>\n",
       "    </tr>\n",
       "    <tr>\n",
       "      <th>Concordance [Common bacteria]</th>\n",
       "      <td>25</td>\n",
       "      <td>25</td>\n",
       "    </tr>\n",
       "    <tr>\n",
       "      <th>Common Negative</th>\n",
       "      <td>38</td>\n",
       "      <td>38</td>\n",
       "    </tr>\n",
       "  </tbody>\n",
       "</table>\n",
       "</div>"
      ],
      "text/plain": [
       "                               RAMJA  AIIMS\n",
       "Total Samples                    125    125\n",
       "Blank Results                      3     16\n",
       "Non-Blank Results                122    109\n",
       "Contaminated Samples               0     14\n",
       "Others                             0      9\n",
       "Common samples                   109    109\n",
       "Positive                          70     53\n",
       "Negative                          52     56\n",
       "Common Positive                   46     46\n",
       "Concordance [Common bacteria]     25     25\n",
       "Common Negative                   38     38"
      ]
     },
     "execution_count": 49,
     "metadata": {},
     "output_type": "execute_result"
    }
   ],
   "source": [
    "df_samplesDetail = pd.DataFrame(samplesDetail, index=['RAMJA','AIIMS']).T\n",
    "df_samplesDetail"
   ]
  },
  {
   "cell_type": "markdown",
   "metadata": {},
   "source": [
    "#### Export matrices to excel"
   ]
  },
  {
   "cell_type": "code",
   "execution_count": 107,
   "metadata": {},
   "outputs": [],
   "source": [
    "# Write the DataFrames to an Excel file\n",
    "with pd.ExcelWriter('matrices2.xlsx') as writer:\n",
    "    df_samplesDetail.to_excel(writer, sheet_name='SamplesDetail', index=True)\n",
    "    df_cm.to_excel(writer, sheet_name='ConfusionMatrix', index=True)\n",
    "    df_score.to_excel(writer, sheet_name='Scores', index=True)\n",
    "    \n"
   ]
  },
  {
   "cell_type": "markdown",
   "metadata": {},
   "source": [
    "#### Sort the required dataset and export to excel"
   ]
  },
  {
   "cell_type": "code",
   "execution_count": 50,
   "metadata": {},
   "outputs": [
    {
     "data": {
      "text/plain": [
       "(14, 3)"
      ]
     },
     "execution_count": 50,
     "metadata": {},
     "output_type": "execute_result"
    }
   ],
   "source": [
    "df_A_conta = df_NonNaN_A[df_NonNaN_A['Contamination'] ==1][['UHID', 'RAMJA', 'AIIMS']]\n",
    "df_A_conta.shape"
   ]
  },
  {
   "cell_type": "code",
   "execution_count": 51,
   "metadata": {},
   "outputs": [
    {
     "data": {
      "text/plain": [
       "(9, 3)"
      ]
     },
     "execution_count": 51,
     "metadata": {},
     "output_type": "execute_result"
    }
   ],
   "source": [
    "df_A_others = df_NonNaN_A[df_NonNaN_A['Others_A'] ==1][['UHID', 'RAMJA', 'AIIMS']]\n",
    "df_A_others.shape"
   ]
  },
  {
   "cell_type": "code",
   "execution_count": 52,
   "metadata": {},
   "outputs": [
    {
     "data": {
      "text/html": [
       "<div>\n",
       "<style scoped>\n",
       "    .dataframe tbody tr th:only-of-type {\n",
       "        vertical-align: middle;\n",
       "    }\n",
       "\n",
       "    .dataframe tbody tr th {\n",
       "        vertical-align: top;\n",
       "    }\n",
       "\n",
       "    .dataframe thead th {\n",
       "        text-align: right;\n",
       "    }\n",
       "</style>\n",
       "<table border=\"1\" class=\"dataframe\">\n",
       "  <thead>\n",
       "    <tr style=\"text-align: right;\">\n",
       "      <th></th>\n",
       "      <th>UHID</th>\n",
       "      <th>RAMJA</th>\n",
       "      <th>AIIMS</th>\n",
       "    </tr>\n",
       "  </thead>\n",
       "  <tbody>\n",
       "    <tr>\n",
       "      <th>26</th>\n",
       "      <td>20240019044</td>\n",
       "      <td>E.coli &amp; Klebsiella pneumonia</td>\n",
       "      <td>Candida spp.</td>\n",
       "    </tr>\n",
       "    <tr>\n",
       "      <th>70</th>\n",
       "      <td>20240034567</td>\n",
       "      <td>A. baumannii, P.mirabilis, E. Faecalis</td>\n",
       "      <td>Insignificant growth</td>\n",
       "    </tr>\n",
       "    <tr>\n",
       "      <th>90</th>\n",
       "      <td>20240046542</td>\n",
       "      <td>P.Aurogenosa</td>\n",
       "      <td>Acintobacter spp.</td>\n",
       "    </tr>\n",
       "    <tr>\n",
       "      <th>96</th>\n",
       "      <td>20240074281</td>\n",
       "      <td>Sterile</td>\n",
       "      <td>Commensal Flora</td>\n",
       "    </tr>\n",
       "    <tr>\n",
       "      <th>104</th>\n",
       "      <td>20240028527</td>\n",
       "      <td>Sterile</td>\n",
       "      <td>Insignificant growth of colonizer</td>\n",
       "    </tr>\n",
       "    <tr>\n",
       "      <th>107</th>\n",
       "      <td>20240087671</td>\n",
       "      <td>S.Aureus ,Saprohutics, and Mirababilis</td>\n",
       "      <td>Insignificant growth gram positive cocci</td>\n",
       "    </tr>\n",
       "    <tr>\n",
       "      <th>108</th>\n",
       "      <td>20230121277</td>\n",
       "      <td>E. coli and A.Baumini</td>\n",
       "      <td>Insignificant Gram negative bacilli</td>\n",
       "    </tr>\n",
       "    <tr>\n",
       "      <th>109</th>\n",
       "      <td>20240094465</td>\n",
       "      <td>A. baumanni, P mirabilis, S saprophyticus</td>\n",
       "      <td>Candida spp. and Insignificant gram negative b...</td>\n",
       "    </tr>\n",
       "    <tr>\n",
       "      <th>110</th>\n",
       "      <td>20230156801</td>\n",
       "      <td>S.Saprophytics</td>\n",
       "      <td>Insignificant gram negative bacilli</td>\n",
       "    </tr>\n",
       "  </tbody>\n",
       "</table>\n",
       "</div>"
      ],
      "text/plain": [
       "            UHID                                      RAMJA  \\\n",
       "26   20240019044              E.coli & Klebsiella pneumonia   \n",
       "70   20240034567     A. baumannii, P.mirabilis, E. Faecalis   \n",
       "90   20240046542                               P.Aurogenosa   \n",
       "96   20240074281                                    Sterile   \n",
       "104  20240028527                                    Sterile   \n",
       "107  20240087671     S.Aureus ,Saprohutics, and Mirababilis   \n",
       "108  20230121277                      E. coli and A.Baumini   \n",
       "109  20240094465  A. baumanni, P mirabilis, S saprophyticus   \n",
       "110  20230156801                             S.Saprophytics   \n",
       "\n",
       "                                                 AIIMS  \n",
       "26                                        Candida spp.  \n",
       "70                                Insignificant growth  \n",
       "90                                   Acintobacter spp.  \n",
       "96                                     Commensal Flora  \n",
       "104                  Insignificant growth of colonizer  \n",
       "107           Insignificant growth gram positive cocci  \n",
       "108                Insignificant Gram negative bacilli  \n",
       "109  Candida spp. and Insignificant gram negative b...  \n",
       "110                Insignificant gram negative bacilli  "
      ]
     },
     "metadata": {},
     "output_type": "display_data"
    }
   ],
   "source": [
    "display(df_A_others)"
   ]
  },
  {
   "cell_type": "code",
   "execution_count": 53,
   "metadata": {},
   "outputs": [
    {
     "data": {
      "text/plain": [
       "(46, 3)"
      ]
     },
     "execution_count": 53,
     "metadata": {},
     "output_type": "execute_result"
    }
   ],
   "source": [
    "#...Both positives\n",
    "df_Pos_C = df_C_clean[(df_C_clean['Infection_R'] == 1) & (df_C_clean['Infection_A'] == 1)][['UHID', 'RAMJA', 'AIIMS']]\n",
    "df_Pos_C.shape"
   ]
  },
  {
   "cell_type": "code",
   "execution_count": 54,
   "metadata": {},
   "outputs": [
    {
     "data": {
      "text/plain": [
       "(38, 3)"
      ]
     },
     "execution_count": 54,
     "metadata": {},
     "output_type": "execute_result"
    }
   ],
   "source": [
    "#...Both Negatives\n",
    "df_Neg_C = df_C_clean[(df_C_clean['Infection_R'] == 0) & (df_C_clean['Infection_A']==0)][['UHID', 'RAMJA', 'AIIMS']]\n",
    "df_Neg_C.shape"
   ]
  },
  {
   "cell_type": "code",
   "execution_count": 55,
   "metadata": {},
   "outputs": [
    {
     "data": {
      "text/plain": [
       "(25, 3)"
      ]
     },
     "execution_count": 55,
     "metadata": {},
     "output_type": "execute_result"
    }
   ],
   "source": [
    "#...Common type of infection\n",
    "df_concordance = df_C[df_C['concordance'] == 1][['UHID','RAMJA','AIIMS']]\n",
    "df_concordance.shape"
   ]
  },
  {
   "cell_type": "code",
   "execution_count": 56,
   "metadata": {},
   "outputs": [],
   "source": [
    "# Write the DataFrames to an Excel file\n",
    "with pd.ExcelWriter('sorteddata2.xlsx') as writer:\n",
    "    df_A_others.to_excel(writer, sheet_name='Undefined Samples_A', index=False)\n",
    "    df_A_conta.to_excel(writer, sheet_name='Contaminated Samples_A', index=False)\n",
    "    df_Pos_C.to_excel(writer, sheet_name='Common Positives', index=False)\n",
    "    df_concordance.to_excel(writer, sheet_name='Concordance', index=False)\n",
    "    df_Neg_C.to_excel(writer, sheet_name='Common Negatives', index=False)"
   ]
  },
  {
   "cell_type": "code",
   "execution_count": 140,
   "metadata": {},
   "outputs": [
    {
     "data": {
      "text/plain": [
       "<Axes: xlabel='Infection_A', ylabel='HR'>"
      ]
     },
     "execution_count": 140,
     "metadata": {},
     "output_type": "execute_result"
    },
    {
     "data": {
      "image/png": "[encoded data removed]",
      "text/plain": [
       "<Figure size 640x480 with 1 Axes>"
      ]
     },
     "metadata": {},
     "output_type": "display_data"
    }
   ],
   "source": [
    "import seaborn as sns\n",
    "import matplotlib.pyplot as plt\n",
    "sns.boxplot(x='Infection_A', y='HR', data=df_C_sym, palette='hls')"
   ]
  },
  {
   "cell_type": "code",
   "execution_count": 121,
   "metadata": {},
   "outputs": [
    {
     "data": {
      "text/plain": [
       "<Axes: xlabel='Infection_A', ylabel='Fever'>"
      ]
     },
     "execution_count": 121,
     "metadata": {},
     "output_type": "execute_result"
    },
    {
     "data": {
      "image/png": "[encoded data removed]",
      "text/plain": [
       "<Figure size 640x480 with 1 Axes>"
      ]
     },
     "metadata": {},
     "output_type": "display_data"
    }
   ],
   "source": [
    "sns.boxplot(x='Infection_A', y='Fever', data=df_C_sym, palette='hls')"
   ]
  },
  {
   "cell_type": "code",
   "execution_count": 144,
   "metadata": {},
   "outputs": [
    {
     "data": {
      "image/png": "[encoded data removed]",
      "text/plain": [
       "<Figure size 800x600 with 1 Axes>"
      ]
     },
     "metadata": {},
     "output_type": "display_data"
    }
   ],
   "source": [
    "import seaborn as sns\n",
    "import pandas as pd\n",
    "import matplotlib.pyplot as plt\n",
    "\n",
    "# Sample DataFrame\n",
    "data = {'Boolean_Var': [True, False, True, False, True, False, True, False],\n",
    "        'Y_Var1': [10, 20, 15, 25, 10, 30, 15, 35],\n",
    "        'Y_Var2': [40, 35, 30, 25, 20, 15, 10, 5]}\n",
    "df = pd.DataFrame(data)\n",
    "\n",
    "# Reshape the DataFrame to a long format for plotting\n",
    "df_melted = pd.melt(df, id_vars=['Boolean_Var'], value_vars=['Y_Var1', 'Y_Var2'], \n",
    "                    var_name='Variable', value_name='Value')\n",
    "\n",
    "# Plotting the side-by-side boxplots on the same y-axis\n",
    "plt.figure(figsize=(8, 6))\n",
    "sns.boxplot(x='Boolean_Var', y='Value', hue='Variable', data=df_melted, palette='Set2')\n",
    "\n",
    "# Customize plot\n",
    "plt.title(\"Side-by-Side Boxplots on the Same Y-Axis\")\n",
    "plt.ylabel(\"Values\")\n",
    "plt.xlabel(\"Boolean Variable\")\n",
    "plt.show()\n"
   ]
  },
  {
   "cell_type": "code",
   "execution_count": 135,
   "metadata": {},
   "outputs": [
    {
     "data": {
      "text/plain": [
       "<Axes: xlabel='Infection_A', ylabel='BP_Dia'>"
      ]
     },
     "execution_count": 135,
     "metadata": {},
     "output_type": "execute_result"
    },
    {
     "data": {
      "image/png": "[encoded data removed]",
      "text/plain": [
       "<Figure size 640x480 with 1 Axes>"
      ]
     },
     "metadata": {},
     "output_type": "display_data"
    }
   ],
   "source": [
    "sns.boxplot(x='Infection_A', y='BP_Dia', data=df_C_sym, palette='hls')"
   ]
  },
  {
   "cell_type": "markdown",
   "metadata": {},
   "source": [
    "### Symptoms analysis"
   ]
  },
  {
   "cell_type": "code",
   "execution_count": 58,
   "metadata": {},
   "outputs": [
    {
     "data": {
      "text/plain": [
       "(125, 30)"
      ]
     },
     "execution_count": 58,
     "metadata": {},
     "output_type": "execute_result"
    }
   ],
   "source": [
    "dataset.shape"
   ]
  },
  {
   "cell_type": "code",
   "execution_count": 59,
   "metadata": {},
   "outputs": [],
   "source": [
    "data_sym = dataset[['UHID','Diagnosis','Abdominal pain', 'BurningMicturition','Urinating often','Vaginal irritation']]"
   ]
  },
  {
   "cell_type": "code",
   "execution_count": 60,
   "metadata": {},
   "outputs": [
    {
     "data": {
      "text/html": [
       "<div>\n",
       "<style scoped>\n",
       "    .dataframe tbody tr th:only-of-type {\n",
       "        vertical-align: middle;\n",
       "    }\n",
       "\n",
       "    .dataframe tbody tr th {\n",
       "        vertical-align: top;\n",
       "    }\n",
       "\n",
       "    .dataframe thead th {\n",
       "        text-align: right;\n",
       "    }\n",
       "</style>\n",
       "<table border=\"1\" class=\"dataframe\">\n",
       "  <thead>\n",
       "    <tr style=\"text-align: right;\">\n",
       "      <th></th>\n",
       "      <th>UHID</th>\n",
       "      <th>Diagnosis</th>\n",
       "      <th>Abdominal pain</th>\n",
       "      <th>BurningMicturition</th>\n",
       "      <th>Urinating often</th>\n",
       "      <th>Vaginal irritation</th>\n",
       "    </tr>\n",
       "  </thead>\n",
       "  <tbody>\n",
       "    <tr>\n",
       "      <th>0</th>\n",
       "      <td>20220065432</td>\n",
       "      <td>UTI</td>\n",
       "      <td>Yes</td>\n",
       "      <td>Yes</td>\n",
       "      <td>Yes</td>\n",
       "      <td>No</td>\n",
       "    </tr>\n",
       "    <tr>\n",
       "      <th>1</th>\n",
       "      <td>20240016182</td>\n",
       "      <td>Vaginal Hysterectomy</td>\n",
       "      <td>Yes</td>\n",
       "      <td>No</td>\n",
       "      <td>no</td>\n",
       "      <td>no</td>\n",
       "    </tr>\n",
       "    <tr>\n",
       "      <th>2</th>\n",
       "      <td>20230125389</td>\n",
       "      <td>UTI</td>\n",
       "      <td>No</td>\n",
       "      <td>Yes</td>\n",
       "      <td>No</td>\n",
       "      <td>No</td>\n",
       "    </tr>\n",
       "    <tr>\n",
       "      <th>3</th>\n",
       "      <td>20180022685</td>\n",
       "      <td>UTI</td>\n",
       "      <td>No</td>\n",
       "      <td>Yes</td>\n",
       "      <td>No</td>\n",
       "      <td>Yes</td>\n",
       "    </tr>\n",
       "    <tr>\n",
       "      <th>4</th>\n",
       "      <td>20201415102</td>\n",
       "      <td>UTI</td>\n",
       "      <td>No</td>\n",
       "      <td>No</td>\n",
       "      <td>No</td>\n",
       "      <td>No</td>\n",
       "    </tr>\n",
       "  </tbody>\n",
       "</table>\n",
       "</div>"
      ],
      "text/plain": [
       "          UHID             Diagnosis Abdominal pain BurningMicturition  \\\n",
       "0  20220065432                   UTI            Yes                Yes   \n",
       "1  20240016182  Vaginal Hysterectomy            Yes                 No   \n",
       "2  20230125389                   UTI             No                Yes   \n",
       "3  20180022685                   UTI             No                Yes   \n",
       "4  20201415102                   UTI             No                 No   \n",
       "\n",
       "  Urinating often Vaginal irritation  \n",
       "0             Yes                 No  \n",
       "1              no                 no  \n",
       "2              No                 No  \n",
       "3              No                Yes  \n",
       "4              No                 No  "
      ]
     },
     "execution_count": 60,
     "metadata": {},
     "output_type": "execute_result"
    }
   ],
   "source": [
    "data_sym.head()"
   ]
  },
  {
   "cell_type": "code",
   "execution_count": 61,
   "metadata": {},
   "outputs": [
    {
     "data": {
      "text/plain": [
       "(125, 6)"
      ]
     },
     "execution_count": 61,
     "metadata": {},
     "output_type": "execute_result"
    }
   ],
   "source": [
    "data_sym.shape"
   ]
  },
  {
   "cell_type": "markdown",
   "metadata": {},
   "source": [
    "#### Data cleaning for correlation of catagorical matrix"
   ]
  },
  {
   "cell_type": "code",
   "execution_count": 62,
   "metadata": {},
   "outputs": [
    {
     "data": {
      "text/plain": [
       "(103, 6)"
      ]
     },
     "execution_count": 62,
     "metadata": {},
     "output_type": "execute_result"
    }
   ],
   "source": [
    "data_sym = data_sym.dropna()\n",
    "data_sym.shape"
   ]
  },
  {
   "cell_type": "code",
   "execution_count": 63,
   "metadata": {},
   "outputs": [
    {
     "data": {
      "text/plain": [
       "(102, 6)"
      ]
     },
     "execution_count": 63,
     "metadata": {},
     "output_type": "execute_result"
    }
   ],
   "source": [
    "# Define undesired symbols (as a regex pattern)\n",
    "undesired_symbols = '[-_@#$]'\n",
    "\n",
    "# Create a mask for rows that contain undesired symbols in any column\n",
    "mask = data_sym.astype(str).apply(lambda col: col.str.contains(undesired_symbols, regex=True, na=False))\n",
    "\n",
    "# Drop rows where any column contains undesired symbols\n",
    "data_sym = data_sym[~mask.any(axis=1)]\n",
    "data_sym.shape"
   ]
  },
  {
   "cell_type": "code",
   "execution_count": 64,
   "metadata": {},
   "outputs": [
    {
     "data": {
      "text/html": [
       "<div>\n",
       "<style scoped>\n",
       "    .dataframe tbody tr th:only-of-type {\n",
       "        vertical-align: middle;\n",
       "    }\n",
       "\n",
       "    .dataframe tbody tr th {\n",
       "        vertical-align: top;\n",
       "    }\n",
       "\n",
       "    .dataframe thead th {\n",
       "        text-align: right;\n",
       "    }\n",
       "</style>\n",
       "<table border=\"1\" class=\"dataframe\">\n",
       "  <thead>\n",
       "    <tr style=\"text-align: right;\">\n",
       "      <th></th>\n",
       "      <th>UHID</th>\n",
       "      <th>Diagnosis</th>\n",
       "      <th>Abdominal pain</th>\n",
       "      <th>BurningMicturition</th>\n",
       "      <th>Urinating often</th>\n",
       "      <th>Vaginal irritation</th>\n",
       "    </tr>\n",
       "  </thead>\n",
       "  <tbody>\n",
       "    <tr>\n",
       "      <th>0</th>\n",
       "      <td>20220065432</td>\n",
       "      <td>UTI</td>\n",
       "      <td>Yes</td>\n",
       "      <td>Yes</td>\n",
       "      <td>Yes</td>\n",
       "      <td>No</td>\n",
       "    </tr>\n",
       "    <tr>\n",
       "      <th>1</th>\n",
       "      <td>20240016182</td>\n",
       "      <td>Vaginal Hysterectomy</td>\n",
       "      <td>Yes</td>\n",
       "      <td>No</td>\n",
       "      <td>no</td>\n",
       "      <td>no</td>\n",
       "    </tr>\n",
       "    <tr>\n",
       "      <th>2</th>\n",
       "      <td>20230125389</td>\n",
       "      <td>UTI</td>\n",
       "      <td>No</td>\n",
       "      <td>Yes</td>\n",
       "      <td>No</td>\n",
       "      <td>No</td>\n",
       "    </tr>\n",
       "    <tr>\n",
       "      <th>3</th>\n",
       "      <td>20180022685</td>\n",
       "      <td>UTI</td>\n",
       "      <td>No</td>\n",
       "      <td>Yes</td>\n",
       "      <td>No</td>\n",
       "      <td>Yes</td>\n",
       "    </tr>\n",
       "    <tr>\n",
       "      <th>4</th>\n",
       "      <td>20201415102</td>\n",
       "      <td>UTI</td>\n",
       "      <td>No</td>\n",
       "      <td>No</td>\n",
       "      <td>No</td>\n",
       "      <td>No</td>\n",
       "    </tr>\n",
       "  </tbody>\n",
       "</table>\n",
       "</div>"
      ],
      "text/plain": [
       "          UHID             Diagnosis Abdominal pain BurningMicturition  \\\n",
       "0  20220065432                   UTI            Yes                Yes   \n",
       "1  20240016182  Vaginal Hysterectomy            Yes                 No   \n",
       "2  20230125389                   UTI             No                Yes   \n",
       "3  20180022685                   UTI             No                Yes   \n",
       "4  20201415102                   UTI             No                 No   \n",
       "\n",
       "  Urinating often Vaginal irritation  \n",
       "0             Yes                 No  \n",
       "1              no                 no  \n",
       "2              No                 No  \n",
       "3              No                Yes  \n",
       "4              No                 No  "
      ]
     },
     "execution_count": 64,
     "metadata": {},
     "output_type": "execute_result"
    }
   ],
   "source": [
    "data_sym.head()"
   ]
  },
  {
   "cell_type": "code",
   "execution_count": 65,
   "metadata": {},
   "outputs": [
    {
     "data": {
      "text/plain": [
       "(102, 6)"
      ]
     },
     "execution_count": 65,
     "metadata": {},
     "output_type": "execute_result"
    }
   ],
   "source": [
    "\n",
    "data_sym = data_sym.apply(lambda x: x.str.upper() if x.dtype == \"object\" else x)\n",
    "data_sym['Diagnosis'] = data_sym['Diagnosis'].map(lambda x: 'YES' if x == 'UTI' else 'NO')\n",
    "data_sym.shape"
   ]
  },
  {
   "cell_type": "code",
   "execution_count": 204,
   "metadata": {},
   "outputs": [],
   "source": [
    "#display(data_sym)"
   ]
  },
  {
   "cell_type": "code",
   "execution_count": 66,
   "metadata": {},
   "outputs": [
    {
     "data": {
      "text/plain": [
       "(102, 6)"
      ]
     },
     "execution_count": 66,
     "metadata": {},
     "output_type": "execute_result"
    }
   ],
   "source": [
    "# Select the relevant columns\n",
    "columns_to_map = ['Diagnosis', 'Abdominal pain', 'BurningMicturition', 'Urinating often', 'Vaginal irritation']\n",
    "\n",
    "# Apply the mapping to the selected columns\n",
    "data_sym[columns_to_map] = data_sym[columns_to_map].applymap(lambda x: 1 if x == 'YES' else 0)\n",
    "data_sym.shape"
   ]
  },
  {
   "cell_type": "code",
   "execution_count": 207,
   "metadata": {},
   "outputs": [],
   "source": [
    "#display(data_sym)"
   ]
  },
  {
   "cell_type": "code",
   "execution_count": 67,
   "metadata": {},
   "outputs": [
    {
     "data": {
      "text/html": [
       "<div>\n",
       "<style scoped>\n",
       "    .dataframe tbody tr th:only-of-type {\n",
       "        vertical-align: middle;\n",
       "    }\n",
       "\n",
       "    .dataframe tbody tr th {\n",
       "        vertical-align: top;\n",
       "    }\n",
       "\n",
       "    .dataframe thead th {\n",
       "        text-align: right;\n",
       "    }\n",
       "</style>\n",
       "<table border=\"1\" class=\"dataframe\">\n",
       "  <thead>\n",
       "    <tr style=\"text-align: right;\">\n",
       "      <th></th>\n",
       "      <th>UHID</th>\n",
       "      <th>Diagnosis</th>\n",
       "      <th>Abdominal pain</th>\n",
       "      <th>BurningMicturition</th>\n",
       "      <th>Urinating often</th>\n",
       "      <th>Vaginal irritation</th>\n",
       "    </tr>\n",
       "  </thead>\n",
       "  <tbody>\n",
       "    <tr>\n",
       "      <th>0</th>\n",
       "      <td>20220065432</td>\n",
       "      <td>1</td>\n",
       "      <td>1</td>\n",
       "      <td>1</td>\n",
       "      <td>1</td>\n",
       "      <td>0</td>\n",
       "    </tr>\n",
       "    <tr>\n",
       "      <th>1</th>\n",
       "      <td>20240016182</td>\n",
       "      <td>0</td>\n",
       "      <td>1</td>\n",
       "      <td>0</td>\n",
       "      <td>0</td>\n",
       "      <td>0</td>\n",
       "    </tr>\n",
       "    <tr>\n",
       "      <th>2</th>\n",
       "      <td>20230125389</td>\n",
       "      <td>1</td>\n",
       "      <td>0</td>\n",
       "      <td>1</td>\n",
       "      <td>0</td>\n",
       "      <td>0</td>\n",
       "    </tr>\n",
       "    <tr>\n",
       "      <th>3</th>\n",
       "      <td>20180022685</td>\n",
       "      <td>1</td>\n",
       "      <td>0</td>\n",
       "      <td>1</td>\n",
       "      <td>0</td>\n",
       "      <td>1</td>\n",
       "    </tr>\n",
       "    <tr>\n",
       "      <th>4</th>\n",
       "      <td>20201415102</td>\n",
       "      <td>1</td>\n",
       "      <td>0</td>\n",
       "      <td>0</td>\n",
       "      <td>0</td>\n",
       "      <td>0</td>\n",
       "    </tr>\n",
       "  </tbody>\n",
       "</table>\n",
       "</div>"
      ],
      "text/plain": [
       "          UHID  Diagnosis  Abdominal pain  BurningMicturition  \\\n",
       "0  20220065432          1               1                   1   \n",
       "1  20240016182          0               1                   0   \n",
       "2  20230125389          1               0                   1   \n",
       "3  20180022685          1               0                   1   \n",
       "4  20201415102          1               0                   0   \n",
       "\n",
       "   Urinating often  Vaginal irritation  \n",
       "0                1                   0  \n",
       "1                0                   0  \n",
       "2                0                   0  \n",
       "3                0                   1  \n",
       "4                0                   0  "
      ]
     },
     "execution_count": 67,
     "metadata": {},
     "output_type": "execute_result"
    }
   ],
   "source": [
    "data_sym.head()"
   ]
  },
  {
   "cell_type": "code",
   "execution_count": 83,
   "metadata": {},
   "outputs": [],
   "source": [
    "#df_sym = pd.merge(data_sym,df_R_clean,how='inner',on='UHID')\n",
    "df_sym = pd.merge(df_C_clean,data_sym,how='inner', on='UHID')\n",
    "df_sym = df_sym[['UHID','Infection_R','Infection_A','Diagnosis', 'Abdominal pain', 'BurningMicturition', 'Urinating often', 'Vaginal irritation']]"
   ]
  },
  {
   "cell_type": "code",
   "execution_count": 81,
   "metadata": {},
   "outputs": [],
   "source": [
    "#df_sym['Abdominal pain']"
   ]
  },
  {
   "cell_type": "code",
   "execution_count": 84,
   "metadata": {},
   "outputs": [
    {
     "data": {
      "text/html": [
       "<div>\n",
       "<style scoped>\n",
       "    .dataframe tbody tr th:only-of-type {\n",
       "        vertical-align: middle;\n",
       "    }\n",
       "\n",
       "    .dataframe tbody tr th {\n",
       "        vertical-align: top;\n",
       "    }\n",
       "\n",
       "    .dataframe thead th {\n",
       "        text-align: right;\n",
       "    }\n",
       "</style>\n",
       "<table border=\"1\" class=\"dataframe\">\n",
       "  <thead>\n",
       "    <tr style=\"text-align: right;\">\n",
       "      <th></th>\n",
       "      <th>UHID</th>\n",
       "      <th>Infection_R</th>\n",
       "      <th>Infection_A</th>\n",
       "      <th>Diagnosis</th>\n",
       "      <th>Abdominal pain</th>\n",
       "      <th>BurningMicturition</th>\n",
       "      <th>Urinating often</th>\n",
       "      <th>Vaginal irritation</th>\n",
       "    </tr>\n",
       "  </thead>\n",
       "  <tbody>\n",
       "    <tr>\n",
       "      <th>0</th>\n",
       "      <td>20220065432</td>\n",
       "      <td>1</td>\n",
       "      <td>1</td>\n",
       "      <td>1</td>\n",
       "      <td>1</td>\n",
       "      <td>1</td>\n",
       "      <td>1</td>\n",
       "      <td>0</td>\n",
       "    </tr>\n",
       "    <tr>\n",
       "      <th>1</th>\n",
       "      <td>20230125389</td>\n",
       "      <td>1</td>\n",
       "      <td>1</td>\n",
       "      <td>1</td>\n",
       "      <td>0</td>\n",
       "      <td>1</td>\n",
       "      <td>0</td>\n",
       "      <td>0</td>\n",
       "    </tr>\n",
       "    <tr>\n",
       "      <th>2</th>\n",
       "      <td>20180022685</td>\n",
       "      <td>1</td>\n",
       "      <td>1</td>\n",
       "      <td>1</td>\n",
       "      <td>0</td>\n",
       "      <td>1</td>\n",
       "      <td>0</td>\n",
       "      <td>1</td>\n",
       "    </tr>\n",
       "    <tr>\n",
       "      <th>3</th>\n",
       "      <td>20240012395</td>\n",
       "      <td>1</td>\n",
       "      <td>1</td>\n",
       "      <td>1</td>\n",
       "      <td>0</td>\n",
       "      <td>0</td>\n",
       "      <td>0</td>\n",
       "      <td>1</td>\n",
       "    </tr>\n",
       "    <tr>\n",
       "      <th>4</th>\n",
       "      <td>20220166372</td>\n",
       "      <td>1</td>\n",
       "      <td>1</td>\n",
       "      <td>1</td>\n",
       "      <td>0</td>\n",
       "      <td>1</td>\n",
       "      <td>1</td>\n",
       "      <td>0</td>\n",
       "    </tr>\n",
       "  </tbody>\n",
       "</table>\n",
       "</div>"
      ],
      "text/plain": [
       "          UHID  Infection_R  Infection_A  Diagnosis  Abdominal pain  \\\n",
       "0  20220065432            1            1          1               1   \n",
       "1  20230125389            1            1          1               0   \n",
       "2  20180022685            1            1          1               0   \n",
       "3  20240012395            1            1          1               0   \n",
       "4  20220166372            1            1          1               0   \n",
       "\n",
       "   BurningMicturition  Urinating often  Vaginal irritation  \n",
       "0                   1                1                   0  \n",
       "1                   1                0                   0  \n",
       "2                   1                0                   1  \n",
       "3                   0                0                   1  \n",
       "4                   1                1                   0  "
      ]
     },
     "execution_count": 84,
     "metadata": {},
     "output_type": "execute_result"
    }
   ],
   "source": [
    "df_sym.head()"
   ]
  },
  {
   "cell_type": "code",
   "execution_count": 85,
   "metadata": {},
   "outputs": [
    {
     "data": {
      "text/plain": [
       "UHID                  int64\n",
       "Infection_R           int32\n",
       "Infection_A           int32\n",
       "Diagnosis             int64\n",
       "Abdominal pain        int64\n",
       "BurningMicturition    int64\n",
       "Urinating often       int64\n",
       "Vaginal irritation    int64\n",
       "dtype: object"
      ]
     },
     "execution_count": 85,
     "metadata": {},
     "output_type": "execute_result"
    }
   ],
   "source": [
    "df_sym.dtypes"
   ]
  },
  {
   "cell_type": "code",
   "execution_count": 86,
   "metadata": {},
   "outputs": [],
   "source": [
    "df_sym = df_sym.apply(lambda col: col.astype('category') if col.nunique() < 3 else col)\n"
   ]
  },
  {
   "cell_type": "code",
   "execution_count": 97,
   "metadata": {},
   "outputs": [],
   "source": [
    "df_sym = df_sym.drop('Diagnosis',axis=1)"
   ]
  },
  {
   "cell_type": "code",
   "execution_count": 98,
   "metadata": {},
   "outputs": [
    {
     "data": {
      "text/plain": [
       "UHID                     int64\n",
       "Infection_R           category\n",
       "Infection_A           category\n",
       "Abdominal pain        category\n",
       "BurningMicturition    category\n",
       "Urinating often       category\n",
       "Vaginal irritation    category\n",
       "dtype: object"
      ]
     },
     "execution_count": 98,
     "metadata": {},
     "output_type": "execute_result"
    }
   ],
   "source": [
    "df_sym.dtypes"
   ]
  },
  {
   "cell_type": "markdown",
   "metadata": {},
   "source": [
    "### Corrrelation of categorical variables"
   ]
  },
  {
   "cell_type": "code",
   "execution_count": 99,
   "metadata": {},
   "outputs": [
    {
     "data": {
      "text/html": [
       "<div>\n",
       "<style scoped>\n",
       "    .dataframe tbody tr th:only-of-type {\n",
       "        vertical-align: middle;\n",
       "    }\n",
       "\n",
       "    .dataframe tbody tr th {\n",
       "        vertical-align: top;\n",
       "    }\n",
       "\n",
       "    .dataframe thead th {\n",
       "        text-align: right;\n",
       "    }\n",
       "</style>\n",
       "<table border=\"1\" class=\"dataframe\">\n",
       "  <thead>\n",
       "    <tr style=\"text-align: right;\">\n",
       "      <th>Urinating often</th>\n",
       "      <th>0</th>\n",
       "      <th>1</th>\n",
       "    </tr>\n",
       "    <tr>\n",
       "      <th>Infection_R</th>\n",
       "      <th></th>\n",
       "      <th></th>\n",
       "    </tr>\n",
       "  </thead>\n",
       "  <tbody>\n",
       "    <tr>\n",
       "      <th>0</th>\n",
       "      <td>33</td>\n",
       "      <td>0</td>\n",
       "    </tr>\n",
       "    <tr>\n",
       "      <th>1</th>\n",
       "      <td>45</td>\n",
       "      <td>9</td>\n",
       "    </tr>\n",
       "  </tbody>\n",
       "</table>\n",
       "</div>"
      ],
      "text/plain": [
       "Urinating often   0  1\n",
       "Infection_R           \n",
       "0                33  0\n",
       "1                45  9"
      ]
     },
     "execution_count": 99,
     "metadata": {},
     "output_type": "execute_result"
    }
   ],
   "source": [
    "from scipy.stats import chi2_contingency\n",
    "cross_tab = pd.crosstab(index=df_sym['Infection_R'], columns=df_sym['Urinating often'])\n",
    "cross_tab"
   ]
  },
  {
   "cell_type": "code",
   "execution_count": 100,
   "metadata": {},
   "outputs": [
    {
     "name": "stdout",
     "output_type": "stream",
     "text": [
      "p-value is 0.034511026404539555\n",
      "dof is 1\n"
     ]
    },
    {
     "data": {
      "text/plain": [
       "(4.4692059483726165,\n",
       " 0.034511026404539555,\n",
       " 1,\n",
       " array([[29.5862069,  3.4137931],\n",
       "        [48.4137931,  5.5862069]]))"
      ]
     },
     "execution_count": 100,
     "metadata": {},
     "output_type": "execute_result"
    }
   ],
   "source": [
    "# defining the table\n",
    "stat, p, dof, expected = chi2_contingency(cross_tab,)\n",
    "print(\"p-value is \" + str(p))\n",
    "print(\"dof is \" + str(dof))\n",
    "(stat, p, dof, expected)"
   ]
  },
  {
   "cell_type": "code",
   "execution_count": 101,
   "metadata": {},
   "outputs": [],
   "source": [
    "def is_correlated(x,y):\n",
    "    ct = pd.crosstab(index=df_sym[x], columns=df_sym[y])\n",
    "    chi_sq_result = chi2_contingency(ct,)\n",
    "    p,x = chi_sq_result[1], \"Correlated\" if chi_sq_result[1] < 0.05 else 'Not correlated'\n",
    "    return p, x\n",
    "    "
   ]
  },
  {
   "cell_type": "code",
   "execution_count": 91,
   "metadata": {},
   "outputs": [
    {
     "data": {
      "text/plain": [
       "(0.034511026404539555, 'Correlated')"
      ]
     },
     "execution_count": 91,
     "metadata": {},
     "output_type": "execute_result"
    }
   ],
   "source": [
    "is_correlated('Infection_R', 'Urinating often')"
   ]
  },
  {
   "cell_type": "code",
   "execution_count": 108,
   "metadata": {},
   "outputs": [],
   "source": [
    "import pandas as pd\n",
    "import numpy as np\n",
    "from scipy.stats import chi2_contingency\n",
    "import matplotlib.pyplot as plt\n",
    "import seaborn as sns\n",
    "\n",
    "def cramerV(label,x):\n",
    "    confusion_matrix = pd.crosstab(label, x)\n",
    "    chi2 = chi2_contingency(confusion_matrix)[0]\n",
    "    n = confusion_matrix.sum().sum()\n",
    "    r,k = confusion_matrix.shape\n",
    "    phi2 = chi2/n\n",
    "    phi2corr = max(0,phi2-((k-1)*(r-1))/(n-1))\n",
    "    rcorr = r - ((r - 1) ** 2) / ( n - 1 )\n",
    "    kcorr = k - ((k - 1) ** 2) / ( n - 1 )\n",
    "    try:\n",
    "        if min((kcorr - 1),(rcorr - 1)) == 0:\n",
    "            warnings.warn(\n",
    "            \"Unable to calculate Cramer's V using bias correction. Consider not using bias correction\",RuntimeWarning)\n",
    "            v = 0\n",
    "            print(\"If condition Met: \",v)\n",
    "        else:\n",
    "            v = np.sqrt(phi2corr / min((kcorr - 1), (rcorr - 1)))\n",
    "            print(\"Else condition Met: \",v)\n",
    "    except:\n",
    "        print(\"inside error\")\n",
    "        v = 0\n",
    "    return v\n",
    "\n",
    "def plot_cramer(df):\n",
    "    cramer = pd.DataFrame(index=df.columns,columns=df.columns)\n",
    "    for column_of_interest in df.columns:\n",
    "        try:\n",
    "            temp = {}\n",
    "\n",
    "            columns = df.columns\n",
    "            for j in range(0,len(columns)):\n",
    "                v = cramerV(df[column_of_interest],df[columns[j]])\n",
    "                cramer.loc[column_of_interest,columns[j]] = v\n",
    "                if (column_of_interest==columns[j]):\n",
    "                    pass\n",
    "                else:\n",
    "                    temp[columns[j]] = v\n",
    "            cramer.fillna(value=np.nan,inplace=True)\n",
    "        except:\n",
    "            print('Dropping row:',column_of_interest)\n",
    "            pass\n",
    "    plt.figure(figsize=(7,7))\n",
    "    sns.heatmap(cramer,annot=True,fmt='.2f')\n",
    "\n",
    "    plt.title(\"CrammerV Correlation Values\")\n",
    "    plt.show()\n",
    "       \n",
    "#plot_cramer(df)"
   ]
  },
  {
   "cell_type": "code",
   "execution_count": 103,
   "metadata": {},
   "outputs": [],
   "source": [
    "def probV (label,x):\n",
    "    confusion_matrix = pd.crosstab(label, x)\n",
    "    pb = chi2_contingency(confusion_matrix)[1]\n",
    "    return pb\n",
    "\n",
    "def plot_prob(df):\n",
    "    prob = pd.DataFrame(index=df.columns,columns=df.columns)\n",
    "    for column_of_interest in df.columns:\n",
    "        try:\n",
    "            temp = {}\n",
    "\n",
    "            columns = df.columns\n",
    "            for j in range(0,len(columns)):\n",
    "                pb = probV(df[column_of_interest],df[columns[j]])\n",
    "                prob.loc[column_of_interest,columns[j]] = pb\n",
    "                if (column_of_interest==columns[j]):\n",
    "                    pass\n",
    "                else:\n",
    "                    temp[columns[j]] = pb\n",
    "            prob.fillna(value=np.nan,inplace=True)\n",
    "        except:\n",
    "            print('Dropping row:',column_of_interest)\n",
    "            pass\n",
    "    plt.figure(figsize=(7,7))\n",
    "    sns.heatmap(prob,annot=True,fmt='.4f')\n",
    "\n",
    "    plt.title(\"Cross Chi-sqr probability\")\n",
    "    plt.show()\n",
    "       \n",
    "#plot_prob(df)"
   ]
  },
  {
   "cell_type": "code",
   "execution_count": 104,
   "metadata": {},
   "outputs": [],
   "source": [
    "df_sym_corr = df_sym.iloc[:,1:]\n",
    "#df_sym_corr"
   ]
  },
  {
   "cell_type": "code",
   "execution_count": 105,
   "metadata": {},
   "outputs": [
    {
     "data": {
      "image/png": "[encoded data removed]",
      "text/plain": [
       "<Figure size 700x700 with 2 Axes>"
      ]
     },
     "metadata": {},
     "output_type": "display_data"
    }
   ],
   "source": [
    "plot_prob(df_sym_corr)"
   ]
  },
  {
   "cell_type": "code",
   "execution_count": 109,
   "metadata": {},
   "outputs": [
    {
     "name": "stdout",
     "output_type": "stream",
     "text": [
      "Else condition Met:  0.9752984037440119\n",
      "Else condition Met:  0.4733605897557214\n",
      "Else condition Met:  0.0\n",
      "Else condition Met:  0.09724180599471156\n",
      "Else condition Met:  0.20052389515988858\n",
      "Else condition Met:  0.0\n",
      "Else condition Met:  0.4733605897557214\n",
      "Else condition Met:  0.9767347469235226\n",
      "Else condition Met:  0.18586555344052905\n",
      "Else condition Met:  0.06808383142383438\n",
      "Else condition Met:  0.2794954661845441\n",
      "Else condition Met:  0.2883477480012911\n",
      "Else condition Met:  0.0\n",
      "Else condition Met:  0.18586555344052905\n",
      "Else condition Met:  0.9569243834835662\n",
      "Else condition Met:  0.1473151340758614\n",
      "Else condition Met:  0.1821223687568199\n",
      "Else condition Met:  0.0\n",
      "Else condition Met:  0.09724180599471156\n",
      "Else condition Met:  0.06808383142383438\n",
      "Else condition Met:  0.1473151340758614\n",
      "Else condition Met:  0.9766607218073038\n",
      "Else condition Met:  0.13320040149780654\n",
      "Else condition Met:  0.0\n",
      "Else condition Met:  0.20052389515988858\n",
      "Else condition Met:  0.2794954661845441\n",
      "Else condition Met:  0.1821223687568199\n",
      "Else condition Met:  0.13320040149780654\n",
      "Else condition Met:  0.9372807970318897\n",
      "Else condition Met:  0.0\n",
      "Else condition Met:  0.0\n",
      "Else condition Met:  0.2883477480012911\n",
      "Else condition Met:  0.0\n",
      "Else condition Met:  0.0\n",
      "Else condition Met:  0.0\n",
      "Else condition Met:  0.9645562275650379\n"
     ]
    },
    {
     "data": {
      "image/png": "[encoded data removed]",
      "text/plain": [
       "<Figure size 700x700 with 2 Axes>"
      ]
     },
     "metadata": {},
     "output_type": "display_data"
    }
   ],
   "source": [
    "plot_cramer(df_sym_corr)"
   ]
  },
  {
   "cell_type": "markdown",
   "metadata": {},
   "source": [
    "#### ................Finish....................."
   ]
  }
 ],
 "metadata": {
  "kernelspec": {
   "display_name": "Python 3",
   "language": "python",
   "name": "python3"
  },
  "language_info": {
   "codemirror_mode": {
    "name": "ipython",
    "version": 3
   },
   "file_extension": ".py",
   "mimetype": "text/x-python",
   "name": "python",
   "nbconvert_exporter": "python",
   "pygments_lexer": "ipython3",
   "version": "3.9.10"
  }
 },
 "nbformat": 4,
 "nbformat_minor": 2
}
