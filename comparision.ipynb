{
 "cells": [
  {
   "cell_type": "code",
   "execution_count": 1,
   "metadata": {},
   "outputs": [],
   "source": [
    "import pandas as pd\n",
    "import numpy as np\n",
    "pd.set_option('display.max_rows', None)\n",
    "pd.set_option('display.max_columns', None)"
   ]
  },
  {
   "cell_type": "code",
   "execution_count": 8,
   "metadata": {},
   "outputs": [
    {
     "data": {
      "text/html": [
       "<div>\n",
       "<style scoped>\n",
       "    .dataframe tbody tr th:only-of-type {\n",
       "        vertical-align: middle;\n",
       "    }\n",
       "\n",
       "    .dataframe tbody tr th {\n",
       "        vertical-align: top;\n",
       "    }\n",
       "\n",
       "    .dataframe thead th {\n",
       "        text-align: right;\n",
       "    }\n",
       "</style>\n",
       "<table border=\"1\" class=\"dataframe\">\n",
       "  <thead>\n",
       "    <tr style=\"text-align: right;\">\n",
       "      <th></th>\n",
       "      <th>UHID</th>\n",
       "      <th>Patients Name</th>\n",
       "      <th>Age</th>\n",
       "      <th>Gender</th>\n",
       "      <th>RAMJA Result</th>\n",
       "      <th>AIIMS Result culture</th>\n",
       "      <th>E.coli</th>\n",
       "      <th>K. Pneumoniae</th>\n",
       "      <th>P.aurogenosa</th>\n",
       "      <th>A.baumnnii</th>\n",
       "      <th>P.mirabilis</th>\n",
       "      <th>S. aureus</th>\n",
       "      <th>E.faecalis</th>\n",
       "      <th>S. saprophyticus</th>\n",
       "      <th>Fever</th>\n",
       "      <th>BP</th>\n",
       "      <th>HR</th>\n",
       "    </tr>\n",
       "  </thead>\n",
       "  <tbody>\n",
       "    <tr>\n",
       "      <th>0</th>\n",
       "      <td>20220065432</td>\n",
       "      <td>Sahroj</td>\n",
       "      <td>33.0</td>\n",
       "      <td>F</td>\n",
       "      <td>Enterococcus faecalis</td>\n",
       "      <td>Enterococcus faecalis</td>\n",
       "      <td>NaN</td>\n",
       "      <td>NaN</td>\n",
       "      <td>-5.26086</td>\n",
       "      <td>-4.09794</td>\n",
       "      <td>-3.58480</td>\n",
       "      <td>-5.62819</td>\n",
       "      <td>-8.10731</td>\n",
       "      <td>NaN</td>\n",
       "      <td>98.2</td>\n",
       "      <td>110/76</td>\n",
       "      <td>106.0</td>\n",
       "    </tr>\n",
       "    <tr>\n",
       "      <th>1</th>\n",
       "      <td>20240016182</td>\n",
       "      <td>Shyanu</td>\n",
       "      <td>70.0</td>\n",
       "      <td>F</td>\n",
       "      <td>NaN</td>\n",
       "      <td>NaN</td>\n",
       "      <td>-6.63325</td>\n",
       "      <td>-10.1276</td>\n",
       "      <td>-8.30086</td>\n",
       "      <td>-13.22480</td>\n",
       "      <td>-11.94120</td>\n",
       "      <td>-14.93870</td>\n",
       "      <td>-13.64090</td>\n",
       "      <td>NaN</td>\n",
       "      <td>98.3</td>\n",
       "      <td>112/76</td>\n",
       "      <td>105.0</td>\n",
       "    </tr>\n",
       "    <tr>\n",
       "      <th>2</th>\n",
       "      <td>20230125389</td>\n",
       "      <td>Saloni</td>\n",
       "      <td>19.0</td>\n",
       "      <td>F</td>\n",
       "      <td>E.Coli. and K.pne</td>\n",
       "      <td>E.coli</td>\n",
       "      <td>-15.30980</td>\n",
       "      <td>-10.0174</td>\n",
       "      <td>-9.09993</td>\n",
       "      <td>-8.30414</td>\n",
       "      <td>-5.06676</td>\n",
       "      <td>-8.77797</td>\n",
       "      <td>-5.42121</td>\n",
       "      <td>NaN</td>\n",
       "      <td>98.5</td>\n",
       "      <td>100/60</td>\n",
       "      <td>70.0</td>\n",
       "    </tr>\n",
       "    <tr>\n",
       "      <th>3</th>\n",
       "      <td>20180022685</td>\n",
       "      <td>Ravita</td>\n",
       "      <td>34.0</td>\n",
       "      <td>F</td>\n",
       "      <td>P. mirabilis</td>\n",
       "      <td>CONTAMINATION</td>\n",
       "      <td>-7.70704</td>\n",
       "      <td>-8.0891</td>\n",
       "      <td>-4.79176</td>\n",
       "      <td>-8.63416</td>\n",
       "      <td>-11.84570</td>\n",
       "      <td>-9.90339</td>\n",
       "      <td>-9.31657</td>\n",
       "      <td>NaN</td>\n",
       "      <td>98.6</td>\n",
       "      <td>105/80</td>\n",
       "      <td>85.0</td>\n",
       "    </tr>\n",
       "    <tr>\n",
       "      <th>4</th>\n",
       "      <td>20201415102</td>\n",
       "      <td>Jyoti</td>\n",
       "      <td>28.0</td>\n",
       "      <td>F</td>\n",
       "      <td>NaN</td>\n",
       "      <td>NaN</td>\n",
       "      <td>0.00000</td>\n",
       "      <td>0.0000</td>\n",
       "      <td>0.00000</td>\n",
       "      <td>0.00000</td>\n",
       "      <td>0.00000</td>\n",
       "      <td>0.00000</td>\n",
       "      <td>0.00000</td>\n",
       "      <td>NaN</td>\n",
       "      <td>99.0</td>\n",
       "      <td>115/100</td>\n",
       "      <td>95.0</td>\n",
       "    </tr>\n",
       "  </tbody>\n",
       "</table>\n",
       "</div>"
      ],
      "text/plain": [
       "          UHID Patients Name   Age Gender           RAMJA Result  \\\n",
       "0  20220065432        Sahroj  33.0      F  Enterococcus faecalis   \n",
       "1  20240016182        Shyanu  70.0      F                    NaN   \n",
       "2  20230125389        Saloni  19.0      F      E.Coli. and K.pne   \n",
       "3  20180022685        Ravita  34.0      F           P. mirabilis   \n",
       "4  20201415102         Jyoti  28.0      F                    NaN   \n",
       "\n",
       "    AIIMS Result culture    E.coli  K. Pneumoniae  P.aurogenosa  A.baumnnii  \\\n",
       "0  Enterococcus faecalis       NaN            NaN      -5.26086    -4.09794   \n",
       "1                    NaN  -6.63325       -10.1276      -8.30086   -13.22480   \n",
       "2                 E.coli -15.30980       -10.0174      -9.09993    -8.30414   \n",
       "3          CONTAMINATION  -7.70704        -8.0891      -4.79176    -8.63416   \n",
       "4                    NaN   0.00000         0.0000       0.00000     0.00000   \n",
       "\n",
       "   P.mirabilis  S. aureus  E.faecalis  S. saprophyticus  Fever       BP     HR  \n",
       "0     -3.58480   -5.62819    -8.10731               NaN   98.2   110/76  106.0  \n",
       "1    -11.94120  -14.93870   -13.64090               NaN   98.3   112/76  105.0  \n",
       "2     -5.06676   -8.77797    -5.42121               NaN   98.5   100/60   70.0  \n",
       "3    -11.84570   -9.90339    -9.31657               NaN   98.6   105/80   85.0  \n",
       "4      0.00000    0.00000     0.00000               NaN   99.0  115/100   95.0  "
      ]
     },
     "execution_count": 8,
     "metadata": {},
     "output_type": "execute_result"
    }
   ],
   "source": [
    "dataset = pd.read_excel(\"RAWLOT1.xlsx\")\n",
    "dataset.head()"
   ]
  },
  {
   "cell_type": "code",
   "execution_count": 9,
   "metadata": {},
   "outputs": [
    {
     "data": {
      "text/html": [
       "<div>\n",
       "<style scoped>\n",
       "    .dataframe tbody tr th:only-of-type {\n",
       "        vertical-align: middle;\n",
       "    }\n",
       "\n",
       "    .dataframe tbody tr th {\n",
       "        vertical-align: top;\n",
       "    }\n",
       "\n",
       "    .dataframe thead th {\n",
       "        text-align: right;\n",
       "    }\n",
       "</style>\n",
       "<table border=\"1\" class=\"dataframe\">\n",
       "  <thead>\n",
       "    <tr style=\"text-align: right;\">\n",
       "      <th></th>\n",
       "      <th>UHID</th>\n",
       "      <th>RAMJA</th>\n",
       "      <th>AIIMS</th>\n",
       "    </tr>\n",
       "  </thead>\n",
       "  <tbody>\n",
       "    <tr>\n",
       "      <th>0</th>\n",
       "      <td>20220065432</td>\n",
       "      <td>Enterococcus faecalis</td>\n",
       "      <td>Enterococcus faecalis</td>\n",
       "    </tr>\n",
       "    <tr>\n",
       "      <th>1</th>\n",
       "      <td>20240016182</td>\n",
       "      <td>NaN</td>\n",
       "      <td>NaN</td>\n",
       "    </tr>\n",
       "    <tr>\n",
       "      <th>2</th>\n",
       "      <td>20230125389</td>\n",
       "      <td>E.Coli. and K.pne</td>\n",
       "      <td>E.coli</td>\n",
       "    </tr>\n",
       "    <tr>\n",
       "      <th>3</th>\n",
       "      <td>20180022685</td>\n",
       "      <td>P. mirabilis</td>\n",
       "      <td>CONTAMINATION</td>\n",
       "    </tr>\n",
       "    <tr>\n",
       "      <th>4</th>\n",
       "      <td>20201415102</td>\n",
       "      <td>NaN</td>\n",
       "      <td>NaN</td>\n",
       "    </tr>\n",
       "  </tbody>\n",
       "</table>\n",
       "</div>"
      ],
      "text/plain": [
       "          UHID                  RAMJA                  AIIMS\n",
       "0  20220065432  Enterococcus faecalis  Enterococcus faecalis\n",
       "1  20240016182                    NaN                    NaN\n",
       "2  20230125389      E.Coli. and K.pne                 E.coli\n",
       "3  20180022685           P. mirabilis          CONTAMINATION\n",
       "4  20201415102                    NaN                    NaN"
      ]
     },
     "execution_count": 9,
     "metadata": {},
     "output_type": "execute_result"
    }
   ],
   "source": [
    "data = pd.read_excel(\"RAWLOT1.xlsx\")\n",
    "data = dataset[['UHID','RAMJA Result','AIIMS Result culture']]\n",
    "data.columns = ['UHID','RAMJA','AIIMS']\n",
    "data_sym = dataset[['UHID','Fever','BP','HR']]\n",
    "data.head()"
   ]
  },
  {
   "cell_type": "code",
   "execution_count": 10,
   "metadata": {},
   "outputs": [
    {
     "data": {
      "text/html": [
       "<div>\n",
       "<style scoped>\n",
       "    .dataframe tbody tr th:only-of-type {\n",
       "        vertical-align: middle;\n",
       "    }\n",
       "\n",
       "    .dataframe tbody tr th {\n",
       "        vertical-align: top;\n",
       "    }\n",
       "\n",
       "    .dataframe thead th {\n",
       "        text-align: right;\n",
       "    }\n",
       "</style>\n",
       "<table border=\"1\" class=\"dataframe\">\n",
       "  <thead>\n",
       "    <tr style=\"text-align: right;\">\n",
       "      <th></th>\n",
       "      <th>UHID</th>\n",
       "      <th>Fever</th>\n",
       "      <th>BP</th>\n",
       "      <th>HR</th>\n",
       "    </tr>\n",
       "  </thead>\n",
       "  <tbody>\n",
       "    <tr>\n",
       "      <th>0</th>\n",
       "      <td>20220065432</td>\n",
       "      <td>98.2</td>\n",
       "      <td>110/76</td>\n",
       "      <td>106.0</td>\n",
       "    </tr>\n",
       "    <tr>\n",
       "      <th>1</th>\n",
       "      <td>20240016182</td>\n",
       "      <td>98.3</td>\n",
       "      <td>112/76</td>\n",
       "      <td>105.0</td>\n",
       "    </tr>\n",
       "    <tr>\n",
       "      <th>2</th>\n",
       "      <td>20230125389</td>\n",
       "      <td>98.5</td>\n",
       "      <td>100/60</td>\n",
       "      <td>70.0</td>\n",
       "    </tr>\n",
       "    <tr>\n",
       "      <th>3</th>\n",
       "      <td>20180022685</td>\n",
       "      <td>98.6</td>\n",
       "      <td>105/80</td>\n",
       "      <td>85.0</td>\n",
       "    </tr>\n",
       "    <tr>\n",
       "      <th>4</th>\n",
       "      <td>20201415102</td>\n",
       "      <td>99.0</td>\n",
       "      <td>115/100</td>\n",
       "      <td>95.0</td>\n",
       "    </tr>\n",
       "  </tbody>\n",
       "</table>\n",
       "</div>"
      ],
      "text/plain": [
       "          UHID  Fever       BP     HR\n",
       "0  20220065432   98.2   110/76  106.0\n",
       "1  20240016182   98.3   112/76  105.0\n",
       "2  20230125389   98.5   100/60   70.0\n",
       "3  20180022685   98.6   105/80   85.0\n",
       "4  20201415102   99.0  115/100   95.0"
      ]
     },
     "execution_count": 10,
     "metadata": {},
     "output_type": "execute_result"
    }
   ],
   "source": [
    "data_sym.head()"
   ]
  },
  {
   "cell_type": "code",
   "execution_count": 12,
   "metadata": {},
   "outputs": [
    {
     "name": "stderr",
     "output_type": "stream",
     "text": [
      "C:\\Users\\neelesh\\AppData\\Local\\Temp\\ipykernel_2040\\2977927224.py:1: SettingWithCopyWarning: \n",
      "A value is trying to be set on a copy of a slice from a DataFrame.\n",
      "Try using .loc[row_indexer,col_indexer] = value instead\n",
      "\n",
      "See the caveats in the documentation: https://pandas.pydata.org/pandas-docs/stable/user_guide/indexing.html#returning-a-view-versus-a-copy\n",
      "  data_sym[['BP_Sys','BP_dia']] = data_sym['BP'].str.split(\"/\",expand=True)\n",
      "C:\\Users\\neelesh\\AppData\\Local\\Temp\\ipykernel_2040\\2977927224.py:1: SettingWithCopyWarning: \n",
      "A value is trying to be set on a copy of a slice from a DataFrame.\n",
      "Try using .loc[row_indexer,col_indexer] = value instead\n",
      "\n",
      "See the caveats in the documentation: https://pandas.pydata.org/pandas-docs/stable/user_guide/indexing.html#returning-a-view-versus-a-copy\n",
      "  data_sym[['BP_Sys','BP_dia']] = data_sym['BP'].str.split(\"/\",expand=True)\n"
     ]
    },
    {
     "data": {
      "text/html": [
       "<div>\n",
       "<style scoped>\n",
       "    .dataframe tbody tr th:only-of-type {\n",
       "        vertical-align: middle;\n",
       "    }\n",
       "\n",
       "    .dataframe tbody tr th {\n",
       "        vertical-align: top;\n",
       "    }\n",
       "\n",
       "    .dataframe thead th {\n",
       "        text-align: right;\n",
       "    }\n",
       "</style>\n",
       "<table border=\"1\" class=\"dataframe\">\n",
       "  <thead>\n",
       "    <tr style=\"text-align: right;\">\n",
       "      <th></th>\n",
       "      <th>UHID</th>\n",
       "      <th>Fever</th>\n",
       "      <th>BP</th>\n",
       "      <th>HR</th>\n",
       "      <th>BP_Sys</th>\n",
       "      <th>BP_dia</th>\n",
       "    </tr>\n",
       "  </thead>\n",
       "  <tbody>\n",
       "    <tr>\n",
       "      <th>0</th>\n",
       "      <td>20220065432</td>\n",
       "      <td>98.2</td>\n",
       "      <td>110/76</td>\n",
       "      <td>106.0</td>\n",
       "      <td>110</td>\n",
       "      <td>76</td>\n",
       "    </tr>\n",
       "    <tr>\n",
       "      <th>1</th>\n",
       "      <td>20240016182</td>\n",
       "      <td>98.3</td>\n",
       "      <td>112/76</td>\n",
       "      <td>105.0</td>\n",
       "      <td>112</td>\n",
       "      <td>76</td>\n",
       "    </tr>\n",
       "    <tr>\n",
       "      <th>2</th>\n",
       "      <td>20230125389</td>\n",
       "      <td>98.5</td>\n",
       "      <td>100/60</td>\n",
       "      <td>70.0</td>\n",
       "      <td>100</td>\n",
       "      <td>60</td>\n",
       "    </tr>\n",
       "    <tr>\n",
       "      <th>3</th>\n",
       "      <td>20180022685</td>\n",
       "      <td>98.6</td>\n",
       "      <td>105/80</td>\n",
       "      <td>85.0</td>\n",
       "      <td>105</td>\n",
       "      <td>80</td>\n",
       "    </tr>\n",
       "    <tr>\n",
       "      <th>4</th>\n",
       "      <td>20201415102</td>\n",
       "      <td>99.0</td>\n",
       "      <td>115/100</td>\n",
       "      <td>95.0</td>\n",
       "      <td>115</td>\n",
       "      <td>100</td>\n",
       "    </tr>\n",
       "  </tbody>\n",
       "</table>\n",
       "</div>"
      ],
      "text/plain": [
       "          UHID  Fever       BP     HR BP_Sys BP_dia\n",
       "0  20220065432   98.2   110/76  106.0    110     76\n",
       "1  20240016182   98.3   112/76  105.0    112     76\n",
       "2  20230125389   98.5   100/60   70.0    100     60\n",
       "3  20180022685   98.6   105/80   85.0    105     80\n",
       "4  20201415102   99.0  115/100   95.0    115    100"
      ]
     },
     "execution_count": 12,
     "metadata": {},
     "output_type": "execute_result"
    }
   ],
   "source": [
    "data_sym[['BP_Sys','BP_dia']] = data_sym['BP'].str.split(\"/\",expand=True)\n",
    "data_sym.head()"
   ]
  },
  {
   "cell_type": "code",
   "execution_count": 22,
   "metadata": {},
   "outputs": [],
   "source": [
    "#df_nan.to_excel('compareddata.xlsx', sheet_name='Null data')"
   ]
  },
  {
   "cell_type": "code",
   "execution_count": 13,
   "metadata": {},
   "outputs": [],
   "source": [
    "import re\n",
    "def cleanup(text):\n",
    "    text = str(text)\n",
    "    text = text.upper()\n",
    "    text = text.replace(\".\", \" \")\n",
    "    text = text.replace(\" AND\", \",\")\n",
    "    text = text.replace(\" &\", \",\")\n",
    "    text = text.replace(\"POLYMICROBIAL (\", \"\")\n",
    "    text = text.replace(\"AUROGENOSA\", \"AERUGINOSA\")\n",
    "    text = re.sub(r'\\s+', ' ', text)  # Use re.sub for regular expression replacement\n",
    "    text = text.strip()\n",
    "    return text\n"
   ]
  },
  {
   "cell_type": "code",
   "execution_count": 14,
   "metadata": {},
   "outputs": [],
   "source": [
    "bacteriatypes = {\n",
    "    \"COLI\" : 'Escherichia coli', \n",
    "    \"PNE\" : 'Klebsiella pneumoniae',\n",
    "    \"AERUGI\" : 'Pseudomonas aeruginosa',\n",
    "    \"BAUM\" : 'Acinetobacter baumannii', \n",
    "    \"MIRABIL\" : 'Proteus mirabilis', \n",
    "    \"FAECALI\" : 'Enterococcus faecalis', \n",
    "    \"AUREUS\" : 'Staphylococcus aureus', \n",
    "    \"SAPROPHY\" : 'Staphylococcus saprophyticus',\n",
    "    \"STERI\" : 'Sterile',\n",
    "    \"CONTA\" : 'Contamination',\n",
    "    \"NAN\" : 'NAN'\n",
    "}"
   ]
  },
  {
   "cell_type": "code",
   "execution_count": 15,
   "metadata": {},
   "outputs": [
    {
     "name": "stderr",
     "output_type": "stream",
     "text": [
      "C:\\Users\\neelesh\\AppData\\Local\\Temp\\ipykernel_2040\\4174382849.py:1: SettingWithCopyWarning: \n",
      "A value is trying to be set on a copy of a slice from a DataFrame.\n",
      "Try using .loc[row_indexer,col_indexer] = value instead\n",
      "\n",
      "See the caveats in the documentation: https://pandas.pydata.org/pandas-docs/stable/user_guide/indexing.html#returning-a-view-versus-a-copy\n",
      "  data['cleanRAMJA'] = data['RAMJA'].apply(cleanup)\n",
      "C:\\Users\\neelesh\\AppData\\Local\\Temp\\ipykernel_2040\\4174382849.py:2: SettingWithCopyWarning: \n",
      "A value is trying to be set on a copy of a slice from a DataFrame.\n",
      "Try using .loc[row_indexer,col_indexer] = value instead\n",
      "\n",
      "See the caveats in the documentation: https://pandas.pydata.org/pandas-docs/stable/user_guide/indexing.html#returning-a-view-versus-a-copy\n",
      "  data['cleanAIIMS'] = data['AIIMS'].apply(cleanup)\n"
     ]
    }
   ],
   "source": [
    "data['cleanRAMJA'] = data['RAMJA'].apply(cleanup)\n",
    "data['cleanAIIMS'] = data['AIIMS'].apply(cleanup)"
   ]
  },
  {
   "cell_type": "code",
   "execution_count": 17,
   "metadata": {},
   "outputs": [],
   "source": [
    "#..FUNCTION TO CHECK IF TEST STRINGS(S1 OR S2) PRESENT IN MAIN STRING \n",
    "def check(mainstring, s1, s2):\n",
    "    if (mainstring.count(s1) > 0 or mainstring.count(s2) > 0):\n",
    "        #print(\"YES\")\n",
    "        return(1)\n",
    "    else:\n",
    "        #print(\"NO\")\n",
    "        return(0)"
   ]
  },
  {
   "cell_type": "code",
   "execution_count": 18,
   "metadata": {},
   "outputs": [
    {
     "data": {
      "text/plain": [
       "(131, 5)"
      ]
     },
     "execution_count": 18,
     "metadata": {},
     "output_type": "execute_result"
    }
   ],
   "source": [
    "data.shape"
   ]
  },
  {
   "cell_type": "markdown",
   "metadata": {},
   "source": [
    "### RAMJA Analysis"
   ]
  },
  {
   "cell_type": "code",
   "execution_count": 19,
   "metadata": {},
   "outputs": [],
   "source": [
    "df_R = data.copy()\n",
    "genus = [\"ESCHER\",\"KLEBS\",\"PSEUDO\",\"ACINE\",\"PROT\",\"ENTER\",\"AURE\",\"SAPRO\",\"STERI\",\"CONTA\",\"NAN\"]\n",
    "species = [\"COLI\", \"PNE\", \"AERUGI\", \"BAUM\", \"MIRABIL\", \"FAECALI\", \"AUREUS\", \"SAPROPHY\", \"STERI\",\"CONTA\",\"NAN\"]\n",
    "for s1, s2 in zip(genus,species):\n",
    "    df_R[s2] = df_R['cleanRAMJA'].apply(lambda x: check(x, s1, s2))\n",
    "\n",
    "df_R.rename(columns=bacteriatypes, inplace=True) #change column names\n",
    "# add suffix _R to column names\n",
    "# columns_to_modify = ['Escherichia coli','Klebsiella pneumoniae','Pseudomonas aeruginosa','Acinetobacter baumannii','Proteus mirabilis','Enterococcus faecalis','Staphylococcus aureus','Staphylococcus saprophyticus','Sterile','Contamination','NAN']\n",
    "# data.rename(columns={col: f\"{col}_R\" for col in columns_to_modify}, inplace=True)"
   ]
  },
  {
   "cell_type": "code",
   "execution_count": 20,
   "metadata": {},
   "outputs": [
    {
     "data": {
      "text/plain": [
       "(131, 16)"
      ]
     },
     "execution_count": 20,
     "metadata": {},
     "output_type": "execute_result"
    }
   ],
   "source": [
    "df_R.shape"
   ]
  },
  {
   "cell_type": "code",
   "execution_count": 21,
   "metadata": {},
   "outputs": [
    {
     "data": {
      "text/plain": [
       "(131, 17)"
      ]
     },
     "execution_count": 21,
     "metadata": {},
     "output_type": "execute_result"
    }
   ],
   "source": [
    "#....add a column named 'Others' contain values other than assigend catagories\n",
    "df_R_temp = df_R[['Escherichia coli','Klebsiella pneumoniae','Pseudomonas aeruginosa','Acinetobacter baumannii','Proteus mirabilis','Enterococcus faecalis','Staphylococcus aureus','Staphylococcus saprophyticus','Sterile','Contamination','NAN']]\n",
    "df_R_temp = df_R_temp == 0\n",
    "df_R_temp['Others_R'] = df_R_temp.all(axis=1)\n",
    "df_R['Others_R'] = df_R_temp['Others_R'].astype(int)\n",
    "df_R.shape"
   ]
  },
  {
   "cell_type": "code",
   "execution_count": 22,
   "metadata": {},
   "outputs": [
    {
     "data": {
      "text/html": [
       "<div>\n",
       "<style scoped>\n",
       "    .dataframe tbody tr th:only-of-type {\n",
       "        vertical-align: middle;\n",
       "    }\n",
       "\n",
       "    .dataframe tbody tr th {\n",
       "        vertical-align: top;\n",
       "    }\n",
       "\n",
       "    .dataframe thead th {\n",
       "        text-align: right;\n",
       "    }\n",
       "</style>\n",
       "<table border=\"1\" class=\"dataframe\">\n",
       "  <thead>\n",
       "    <tr style=\"text-align: right;\">\n",
       "      <th></th>\n",
       "      <th>UHID</th>\n",
       "      <th>RAMJA</th>\n",
       "      <th>AIIMS</th>\n",
       "      <th>cleanRAMJA</th>\n",
       "      <th>cleanAIIMS</th>\n",
       "      <th>Escherichia coli</th>\n",
       "      <th>Klebsiella pneumoniae</th>\n",
       "      <th>Pseudomonas aeruginosa</th>\n",
       "      <th>Acinetobacter baumannii</th>\n",
       "      <th>Proteus mirabilis</th>\n",
       "      <th>Enterococcus faecalis</th>\n",
       "      <th>Staphylococcus aureus</th>\n",
       "      <th>Staphylococcus saprophyticus</th>\n",
       "      <th>Sterile</th>\n",
       "      <th>Contamination</th>\n",
       "      <th>NAN</th>\n",
       "      <th>Others_R</th>\n",
       "    </tr>\n",
       "  </thead>\n",
       "  <tbody>\n",
       "    <tr>\n",
       "      <th>0</th>\n",
       "      <td>20220065432</td>\n",
       "      <td>Enterococcus faecalis</td>\n",
       "      <td>Enterococcus faecalis</td>\n",
       "      <td>ENTEROCOCCUS FAECALIS</td>\n",
       "      <td>ENTEROCOCCUS FAECALIS</td>\n",
       "      <td>0</td>\n",
       "      <td>0</td>\n",
       "      <td>0</td>\n",
       "      <td>0</td>\n",
       "      <td>0</td>\n",
       "      <td>1</td>\n",
       "      <td>0</td>\n",
       "      <td>0</td>\n",
       "      <td>0</td>\n",
       "      <td>0</td>\n",
       "      <td>0</td>\n",
       "      <td>0</td>\n",
       "    </tr>\n",
       "    <tr>\n",
       "      <th>1</th>\n",
       "      <td>20240016182</td>\n",
       "      <td>NaN</td>\n",
       "      <td>NaN</td>\n",
       "      <td>NAN</td>\n",
       "      <td>NAN</td>\n",
       "      <td>0</td>\n",
       "      <td>0</td>\n",
       "      <td>0</td>\n",
       "      <td>0</td>\n",
       "      <td>0</td>\n",
       "      <td>0</td>\n",
       "      <td>0</td>\n",
       "      <td>0</td>\n",
       "      <td>0</td>\n",
       "      <td>0</td>\n",
       "      <td>1</td>\n",
       "      <td>0</td>\n",
       "    </tr>\n",
       "    <tr>\n",
       "      <th>2</th>\n",
       "      <td>20230125389</td>\n",
       "      <td>E.Coli. and K.pne</td>\n",
       "      <td>E.coli</td>\n",
       "      <td>E COLI , K PNE</td>\n",
       "      <td>E COLI</td>\n",
       "      <td>1</td>\n",
       "      <td>1</td>\n",
       "      <td>0</td>\n",
       "      <td>0</td>\n",
       "      <td>0</td>\n",
       "      <td>0</td>\n",
       "      <td>0</td>\n",
       "      <td>0</td>\n",
       "      <td>0</td>\n",
       "      <td>0</td>\n",
       "      <td>0</td>\n",
       "      <td>0</td>\n",
       "    </tr>\n",
       "    <tr>\n",
       "      <th>3</th>\n",
       "      <td>20180022685</td>\n",
       "      <td>P. mirabilis</td>\n",
       "      <td>CONTAMINATION</td>\n",
       "      <td>P MIRABILIS</td>\n",
       "      <td>CONTAMINATION</td>\n",
       "      <td>0</td>\n",
       "      <td>0</td>\n",
       "      <td>0</td>\n",
       "      <td>0</td>\n",
       "      <td>1</td>\n",
       "      <td>0</td>\n",
       "      <td>0</td>\n",
       "      <td>0</td>\n",
       "      <td>0</td>\n",
       "      <td>0</td>\n",
       "      <td>0</td>\n",
       "      <td>0</td>\n",
       "    </tr>\n",
       "    <tr>\n",
       "      <th>4</th>\n",
       "      <td>20201415102</td>\n",
       "      <td>NaN</td>\n",
       "      <td>NaN</td>\n",
       "      <td>NAN</td>\n",
       "      <td>NAN</td>\n",
       "      <td>0</td>\n",
       "      <td>0</td>\n",
       "      <td>0</td>\n",
       "      <td>0</td>\n",
       "      <td>0</td>\n",
       "      <td>0</td>\n",
       "      <td>0</td>\n",
       "      <td>0</td>\n",
       "      <td>0</td>\n",
       "      <td>0</td>\n",
       "      <td>1</td>\n",
       "      <td>0</td>\n",
       "    </tr>\n",
       "  </tbody>\n",
       "</table>\n",
       "</div>"
      ],
      "text/plain": [
       "          UHID                  RAMJA                  AIIMS  \\\n",
       "0  20220065432  Enterococcus faecalis  Enterococcus faecalis   \n",
       "1  20240016182                    NaN                    NaN   \n",
       "2  20230125389      E.Coli. and K.pne                 E.coli   \n",
       "3  20180022685           P. mirabilis          CONTAMINATION   \n",
       "4  20201415102                    NaN                    NaN   \n",
       "\n",
       "              cleanRAMJA             cleanAIIMS  Escherichia coli  \\\n",
       "0  ENTEROCOCCUS FAECALIS  ENTEROCOCCUS FAECALIS                 0   \n",
       "1                    NAN                    NAN                 0   \n",
       "2         E COLI , K PNE                 E COLI                 1   \n",
       "3            P MIRABILIS          CONTAMINATION                 0   \n",
       "4                    NAN                    NAN                 0   \n",
       "\n",
       "   Klebsiella pneumoniae  Pseudomonas aeruginosa  Acinetobacter baumannii  \\\n",
       "0                      0                       0                        0   \n",
       "1                      0                       0                        0   \n",
       "2                      1                       0                        0   \n",
       "3                      0                       0                        0   \n",
       "4                      0                       0                        0   \n",
       "\n",
       "   Proteus mirabilis  Enterococcus faecalis  Staphylococcus aureus  \\\n",
       "0                  0                      1                      0   \n",
       "1                  0                      0                      0   \n",
       "2                  0                      0                      0   \n",
       "3                  1                      0                      0   \n",
       "4                  0                      0                      0   \n",
       "\n",
       "   Staphylococcus saprophyticus  Sterile  Contamination  NAN  Others_R  \n",
       "0                             0        0              0    0         0  \n",
       "1                             0        0              0    1         0  \n",
       "2                             0        0              0    0         0  \n",
       "3                             0        0              0    0         0  \n",
       "4                             0        0              0    1         0  "
      ]
     },
     "execution_count": 22,
     "metadata": {},
     "output_type": "execute_result"
    }
   ],
   "source": [
    "df_R.head()"
   ]
  },
  {
   "cell_type": "code",
   "execution_count": 23,
   "metadata": {},
   "outputs": [
    {
     "data": {
      "text/plain": [
       "(131, 18)"
      ]
     },
     "execution_count": 23,
     "metadata": {},
     "output_type": "execute_result"
    }
   ],
   "source": [
    "#...Get infections positive column in RAMJA\n",
    "df_R_temp  = df_R[['Escherichia coli','Klebsiella pneumoniae','Pseudomonas aeruginosa','Acinetobacter baumannii','Proteus mirabilis','Enterococcus faecalis','Staphylococcus aureus','Staphylococcus saprophyticus','Contamination','Others_R']]\n",
    "df_R_temp = df_R_temp == 1\n",
    "df_R_temp['Infection_R'] = df_R_temp.any(axis=1)\n",
    "df_R['Infection_R'] = df_R_temp['Infection_R'].astype(int)\n",
    "df_R.shape"
   ]
  },
  {
   "cell_type": "code",
   "execution_count": 24,
   "metadata": {},
   "outputs": [],
   "source": [
    "#....Drop rows containing NaN in Ramaj column results\n",
    "df_NonNaN_R = df_R.dropna(subset=['RAMJA'])\n",
    "df_NonNaN_R.shape\n",
    "df_R_clean = df_NonNaN_R"
   ]
  },
  {
   "cell_type": "code",
   "execution_count": 25,
   "metadata": {},
   "outputs": [],
   "source": [
    "#display(df_NonNaN_R)"
   ]
  },
  {
   "cell_type": "code",
   "execution_count": 26,
   "metadata": {},
   "outputs": [],
   "source": [
    "#...Remove contaminated sample and Others samples\n",
    "# df_R_clean = df_NonNaN_R[(df_NonNaN_R['Contamination'] == 0) & (df_NonNaN_R['Others_R'] == 0)]\n",
    "# df_R_clean.shape"
   ]
  },
  {
   "cell_type": "code",
   "execution_count": 27,
   "metadata": {},
   "outputs": [
    {
     "name": "stdout",
     "output_type": "stream",
     "text": [
      "1    70\n",
      "0    55\n",
      "Name: Infection_R, dtype: int64\n",
      "0    70\n",
      "1    55\n",
      "Name: Sterile, dtype: int64\n"
     ]
    }
   ],
   "source": [
    "#....After Dopping NaN these two set of values should be equal\n",
    "print(df_R_clean['Infection_R'].value_counts())\n",
    "print(df_R_clean['Sterile'].value_counts())"
   ]
  },
  {
   "cell_type": "code",
   "execution_count": 28,
   "metadata": {},
   "outputs": [],
   "source": [
    "#df_R.to_excel(\"temp1.xlsx\")"
   ]
  },
  {
   "cell_type": "markdown",
   "metadata": {},
   "source": [
    "### AIIMS Analysis"
   ]
  },
  {
   "cell_type": "code",
   "execution_count": 29,
   "metadata": {},
   "outputs": [
    {
     "data": {
      "text/plain": [
       "(131, 5)"
      ]
     },
     "execution_count": 29,
     "metadata": {},
     "output_type": "execute_result"
    }
   ],
   "source": [
    "data.shape"
   ]
  },
  {
   "cell_type": "code",
   "execution_count": 30,
   "metadata": {},
   "outputs": [],
   "source": [
    "df_A = data.copy()\n",
    "genus = [\"ESCHER\",\"KLEBS\",\"PSEUDO\",\"ACINE\",\"PROT\",\"ENTER\",\"AURE\",\"SAPRO\",\"STERI\",\"CONTA\",\"NAN\"]\n",
    "species = [\"COLI\", \"PNE\", \"AERUGI\", \"BAUM\", \"MIRABIL\", \"FAECALI\", \"AUREUS\", \"SAPROPHY\", \"STERI\",\"CONTA\",\"NAN\"]\n",
    "for s1, s2 in zip(genus,species):\n",
    "    df_A[s2] = df_A['cleanAIIMS'].apply(lambda x: check(x, s1, s2))\n",
    "\n",
    "df_A.rename(columns=bacteriatypes, inplace=True) #change column names\n",
    "\n",
    "# add suffix _R to column names\n",
    "#columns_to_modify = ['Escherichia coli','Klebsiella pneumoniae','Pseudomonas aeruginosa','Acinetobacter baumannii','Proteus mirabilis','Enterococcus faecalis','Staphylococcus aureus','Staphylococcus saprophyticus','Sterile','Contamination','NAN']\n",
    "#data.rename(columns={col: f\"{col}_A\" for col in columns_to_modify}, inplace=True)"
   ]
  },
  {
   "cell_type": "code",
   "execution_count": 31,
   "metadata": {},
   "outputs": [
    {
     "data": {
      "text/plain": [
       "(131, 16)"
      ]
     },
     "execution_count": 31,
     "metadata": {},
     "output_type": "execute_result"
    }
   ],
   "source": [
    "df_A.shape"
   ]
  },
  {
   "cell_type": "code",
   "execution_count": 32,
   "metadata": {},
   "outputs": [
    {
     "data": {
      "text/plain": [
       "(131, 17)"
      ]
     },
     "execution_count": 32,
     "metadata": {},
     "output_type": "execute_result"
    }
   ],
   "source": [
    "#....add a column named 'Others' contain values other than assigend catagories\n",
    "df_A_temp = df_A[['Escherichia coli','Klebsiella pneumoniae','Pseudomonas aeruginosa','Acinetobacter baumannii','Proteus mirabilis','Enterococcus faecalis','Staphylococcus aureus','Staphylococcus saprophyticus','Sterile','Contamination','NAN']]\n",
    "df_A_temp = df_A_temp == 0\n",
    "df_A_temp['Others_A'] = df_A_temp.all(axis=1)\n",
    "df_A['Others_A'] = df_A_temp['Others_A'].astype(int)\n",
    "df_A.shape"
   ]
  },
  {
   "cell_type": "code",
   "execution_count": 33,
   "metadata": {},
   "outputs": [
    {
     "data": {
      "text/html": [
       "<div>\n",
       "<style scoped>\n",
       "    .dataframe tbody tr th:only-of-type {\n",
       "        vertical-align: middle;\n",
       "    }\n",
       "\n",
       "    .dataframe tbody tr th {\n",
       "        vertical-align: top;\n",
       "    }\n",
       "\n",
       "    .dataframe thead th {\n",
       "        text-align: right;\n",
       "    }\n",
       "</style>\n",
       "<table border=\"1\" class=\"dataframe\">\n",
       "  <thead>\n",
       "    <tr style=\"text-align: right;\">\n",
       "      <th></th>\n",
       "      <th>UHID</th>\n",
       "      <th>RAMJA</th>\n",
       "      <th>AIIMS</th>\n",
       "      <th>cleanRAMJA</th>\n",
       "      <th>cleanAIIMS</th>\n",
       "      <th>Escherichia coli</th>\n",
       "      <th>Klebsiella pneumoniae</th>\n",
       "      <th>Pseudomonas aeruginosa</th>\n",
       "      <th>Acinetobacter baumannii</th>\n",
       "      <th>Proteus mirabilis</th>\n",
       "      <th>Enterococcus faecalis</th>\n",
       "      <th>Staphylococcus aureus</th>\n",
       "      <th>Staphylococcus saprophyticus</th>\n",
       "      <th>Sterile</th>\n",
       "      <th>Contamination</th>\n",
       "      <th>NAN</th>\n",
       "      <th>Others_A</th>\n",
       "    </tr>\n",
       "  </thead>\n",
       "  <tbody>\n",
       "    <tr>\n",
       "      <th>0</th>\n",
       "      <td>20220065432</td>\n",
       "      <td>Enterococcus faecalis</td>\n",
       "      <td>Enterococcus faecalis</td>\n",
       "      <td>ENTEROCOCCUS FAECALIS</td>\n",
       "      <td>ENTEROCOCCUS FAECALIS</td>\n",
       "      <td>0</td>\n",
       "      <td>0</td>\n",
       "      <td>0</td>\n",
       "      <td>0</td>\n",
       "      <td>0</td>\n",
       "      <td>1</td>\n",
       "      <td>0</td>\n",
       "      <td>0</td>\n",
       "      <td>0</td>\n",
       "      <td>0</td>\n",
       "      <td>0</td>\n",
       "      <td>0</td>\n",
       "    </tr>\n",
       "    <tr>\n",
       "      <th>1</th>\n",
       "      <td>20240016182</td>\n",
       "      <td>NaN</td>\n",
       "      <td>NaN</td>\n",
       "      <td>NAN</td>\n",
       "      <td>NAN</td>\n",
       "      <td>0</td>\n",
       "      <td>0</td>\n",
       "      <td>0</td>\n",
       "      <td>0</td>\n",
       "      <td>0</td>\n",
       "      <td>0</td>\n",
       "      <td>0</td>\n",
       "      <td>0</td>\n",
       "      <td>0</td>\n",
       "      <td>0</td>\n",
       "      <td>1</td>\n",
       "      <td>0</td>\n",
       "    </tr>\n",
       "    <tr>\n",
       "      <th>2</th>\n",
       "      <td>20230125389</td>\n",
       "      <td>E.Coli. and K.pne</td>\n",
       "      <td>E.coli</td>\n",
       "      <td>E COLI , K PNE</td>\n",
       "      <td>E COLI</td>\n",
       "      <td>1</td>\n",
       "      <td>0</td>\n",
       "      <td>0</td>\n",
       "      <td>0</td>\n",
       "      <td>0</td>\n",
       "      <td>0</td>\n",
       "      <td>0</td>\n",
       "      <td>0</td>\n",
       "      <td>0</td>\n",
       "      <td>0</td>\n",
       "      <td>0</td>\n",
       "      <td>0</td>\n",
       "    </tr>\n",
       "    <tr>\n",
       "      <th>3</th>\n",
       "      <td>20180022685</td>\n",
       "      <td>P. mirabilis</td>\n",
       "      <td>CONTAMINATION</td>\n",
       "      <td>P MIRABILIS</td>\n",
       "      <td>CONTAMINATION</td>\n",
       "      <td>0</td>\n",
       "      <td>0</td>\n",
       "      <td>0</td>\n",
       "      <td>0</td>\n",
       "      <td>0</td>\n",
       "      <td>0</td>\n",
       "      <td>0</td>\n",
       "      <td>0</td>\n",
       "      <td>0</td>\n",
       "      <td>1</td>\n",
       "      <td>0</td>\n",
       "      <td>0</td>\n",
       "    </tr>\n",
       "    <tr>\n",
       "      <th>4</th>\n",
       "      <td>20201415102</td>\n",
       "      <td>NaN</td>\n",
       "      <td>NaN</td>\n",
       "      <td>NAN</td>\n",
       "      <td>NAN</td>\n",
       "      <td>0</td>\n",
       "      <td>0</td>\n",
       "      <td>0</td>\n",
       "      <td>0</td>\n",
       "      <td>0</td>\n",
       "      <td>0</td>\n",
       "      <td>0</td>\n",
       "      <td>0</td>\n",
       "      <td>0</td>\n",
       "      <td>0</td>\n",
       "      <td>1</td>\n",
       "      <td>0</td>\n",
       "    </tr>\n",
       "  </tbody>\n",
       "</table>\n",
       "</div>"
      ],
      "text/plain": [
       "          UHID                  RAMJA                  AIIMS  \\\n",
       "0  20220065432  Enterococcus faecalis  Enterococcus faecalis   \n",
       "1  20240016182                    NaN                    NaN   \n",
       "2  20230125389      E.Coli. and K.pne                 E.coli   \n",
       "3  20180022685           P. mirabilis          CONTAMINATION   \n",
       "4  20201415102                    NaN                    NaN   \n",
       "\n",
       "              cleanRAMJA             cleanAIIMS  Escherichia coli  \\\n",
       "0  ENTEROCOCCUS FAECALIS  ENTEROCOCCUS FAECALIS                 0   \n",
       "1                    NAN                    NAN                 0   \n",
       "2         E COLI , K PNE                 E COLI                 1   \n",
       "3            P MIRABILIS          CONTAMINATION                 0   \n",
       "4                    NAN                    NAN                 0   \n",
       "\n",
       "   Klebsiella pneumoniae  Pseudomonas aeruginosa  Acinetobacter baumannii  \\\n",
       "0                      0                       0                        0   \n",
       "1                      0                       0                        0   \n",
       "2                      0                       0                        0   \n",
       "3                      0                       0                        0   \n",
       "4                      0                       0                        0   \n",
       "\n",
       "   Proteus mirabilis  Enterococcus faecalis  Staphylococcus aureus  \\\n",
       "0                  0                      1                      0   \n",
       "1                  0                      0                      0   \n",
       "2                  0                      0                      0   \n",
       "3                  0                      0                      0   \n",
       "4                  0                      0                      0   \n",
       "\n",
       "   Staphylococcus saprophyticus  Sterile  Contamination  NAN  Others_A  \n",
       "0                             0        0              0    0         0  \n",
       "1                             0        0              0    1         0  \n",
       "2                             0        0              0    0         0  \n",
       "3                             0        0              1    0         0  \n",
       "4                             0        0              0    1         0  "
      ]
     },
     "execution_count": 33,
     "metadata": {},
     "output_type": "execute_result"
    }
   ],
   "source": [
    "df_A.head()"
   ]
  },
  {
   "cell_type": "code",
   "execution_count": 34,
   "metadata": {},
   "outputs": [
    {
     "data": {
      "text/plain": [
       "(131, 18)"
      ]
     },
     "execution_count": 34,
     "metadata": {},
     "output_type": "execute_result"
    }
   ],
   "source": [
    "#...Get infections positive (any infection) in AIIMS\n",
    "df_A_temp  = df_A[['Escherichia coli','Klebsiella pneumoniae','Pseudomonas aeruginosa','Acinetobacter baumannii','Proteus mirabilis','Enterococcus faecalis','Staphylococcus aureus','Staphylococcus saprophyticus','Contamination','Others_A']]\n",
    "df_A_temp = df_A_temp == 1\n",
    "df_A_temp['Infection_A'] = df_A_temp.any(axis=1)\n",
    "df_A['Infection_A'] = df_A_temp['Infection_A'].astype(int)\n",
    "df_A.shape\n"
   ]
  },
  {
   "cell_type": "code",
   "execution_count": 35,
   "metadata": {},
   "outputs": [],
   "source": [
    "#...dataset containing removed NaN based on AIIMS\n",
    "df_NonNaN_A = df_A.dropna(subset=['AIIMS'])\n",
    "df_A_clean = df_NonNaN_A"
   ]
  },
  {
   "cell_type": "code",
   "execution_count": 36,
   "metadata": {},
   "outputs": [],
   "source": [
    "#...Remove contaminated sample and Others samples \n",
    "# df_A_clean = df_NonNaN_A[(df_NonNaN_A['Contamination'] == 0) & (df_NonNaN_A['Others_A'] == 0)]\n",
    "# df_A_clean.shape"
   ]
  },
  {
   "cell_type": "code",
   "execution_count": 37,
   "metadata": {},
   "outputs": [
    {
     "name": "stdout",
     "output_type": "stream",
     "text": [
      "1    58\n",
      "0    56\n",
      "Name: Infection_A, dtype: int64\n",
      "0    58\n",
      "1    56\n",
      "Name: Sterile, dtype: int64\n"
     ]
    }
   ],
   "source": [
    "#....After Dopping NaN these two set of values should be equal\n",
    "print(df_A_clean['Infection_A'].value_counts())\n",
    "print(df_A_clean['Sterile'].value_counts())"
   ]
  },
  {
   "cell_type": "code",
   "execution_count": 38,
   "metadata": {},
   "outputs": [],
   "source": [
    "#df_NonNaN_A.to_excel(\"temp1.xlsx\")"
   ]
  },
  {
   "cell_type": "code",
   "execution_count": 39,
   "metadata": {},
   "outputs": [
    {
     "data": {
      "text/plain": [
       "(70, 3)"
      ]
     },
     "execution_count": 39,
     "metadata": {},
     "output_type": "execute_result"
    }
   ],
   "source": [
    "#......\n",
    "df_R_infec = df_R_clean[df_R_clean['Infection_R'] == 1]\n",
    "df_R_infec = df_R_infec[['UHID','RAMJA','AIIMS']]\n",
    "df_R_infec.shape"
   ]
  },
  {
   "cell_type": "code",
   "execution_count": 40,
   "metadata": {},
   "outputs": [
    {
     "data": {
      "text/plain": [
       "(58, 3)"
      ]
     },
     "execution_count": 40,
     "metadata": {},
     "output_type": "execute_result"
    }
   ],
   "source": [
    "df_A_infec = df_A_clean[df_A_clean['Infection_A'] == 1]\n",
    "df_A_infec = df_A_infec[['UHID','RAMJA','AIIMS']]\n",
    "df_A_infec.shape"
   ]
  },
  {
   "cell_type": "markdown",
   "metadata": {},
   "source": [
    "### Concordance analysis"
   ]
  },
  {
   "cell_type": "code",
   "execution_count": 41,
   "metadata": {},
   "outputs": [
    {
     "name": "stderr",
     "output_type": "stream",
     "text": [
      "C:\\Users\\neelesh\\AppData\\Local\\Temp\\ipykernel_2040\\3825133095.py:7: SettingWithCopyWarning: \n",
      "A value is trying to be set on a copy of a slice from a DataFrame.\n",
      "Try using .loc[row_indexer,col_indexer] = value instead\n",
      "\n",
      "See the caveats in the documentation: https://pandas.pydata.org/pandas-docs/stable/user_guide/indexing.html#returning-a-view-versus-a-copy\n",
      "  df_C['concordance'] = df_C_temp1['Infection_C'].astype(int)\n"
     ]
    },
    {
     "data": {
      "text/html": [
       "<div>\n",
       "<style scoped>\n",
       "    .dataframe tbody tr th:only-of-type {\n",
       "        vertical-align: middle;\n",
       "    }\n",
       "\n",
       "    .dataframe tbody tr th {\n",
       "        vertical-align: top;\n",
       "    }\n",
       "\n",
       "    .dataframe thead th {\n",
       "        text-align: right;\n",
       "    }\n",
       "</style>\n",
       "<table border=\"1\" class=\"dataframe\">\n",
       "  <thead>\n",
       "    <tr style=\"text-align: right;\">\n",
       "      <th></th>\n",
       "      <th>UHID</th>\n",
       "      <th>RAMJA</th>\n",
       "      <th>AIIMS</th>\n",
       "      <th>concordance</th>\n",
       "    </tr>\n",
       "  </thead>\n",
       "  <tbody>\n",
       "    <tr>\n",
       "      <th>0</th>\n",
       "      <td>20220065432</td>\n",
       "      <td>Enterococcus faecalis</td>\n",
       "      <td>Enterococcus faecalis</td>\n",
       "      <td>1</td>\n",
       "    </tr>\n",
       "    <tr>\n",
       "      <th>1</th>\n",
       "      <td>20240016182</td>\n",
       "      <td>NaN</td>\n",
       "      <td>NaN</td>\n",
       "      <td>0</td>\n",
       "    </tr>\n",
       "    <tr>\n",
       "      <th>2</th>\n",
       "      <td>20230125389</td>\n",
       "      <td>E.Coli. and K.pne</td>\n",
       "      <td>E.coli</td>\n",
       "      <td>1</td>\n",
       "    </tr>\n",
       "    <tr>\n",
       "      <th>3</th>\n",
       "      <td>20180022685</td>\n",
       "      <td>P. mirabilis</td>\n",
       "      <td>CONTAMINATION</td>\n",
       "      <td>0</td>\n",
       "    </tr>\n",
       "    <tr>\n",
       "      <th>4</th>\n",
       "      <td>20201415102</td>\n",
       "      <td>NaN</td>\n",
       "      <td>NaN</td>\n",
       "      <td>0</td>\n",
       "    </tr>\n",
       "  </tbody>\n",
       "</table>\n",
       "</div>"
      ],
      "text/plain": [
       "          UHID                  RAMJA                  AIIMS  concordance\n",
       "0  20220065432  Enterococcus faecalis  Enterococcus faecalis            1\n",
       "1  20240016182                    NaN                    NaN            0\n",
       "2  20230125389      E.Coli. and K.pne                 E.coli            1\n",
       "3  20180022685           P. mirabilis          CONTAMINATION            0\n",
       "4  20201415102                    NaN                    NaN            0"
      ]
     },
     "execution_count": 41,
     "metadata": {},
     "output_type": "execute_result"
    }
   ],
   "source": [
    "#...Concordance: Get same type of infections in both RAMJA and AIIMS\n",
    "df_R_temp1  = df_R[['Escherichia coli','Klebsiella pneumoniae','Pseudomonas aeruginosa','Acinetobacter baumannii','Proteus mirabilis','Enterococcus faecalis','Staphylococcus aureus','Staphylococcus saprophyticus']]\n",
    "df_A_temp1  = df_A[['Escherichia coli','Klebsiella pneumoniae','Pseudomonas aeruginosa','Acinetobacter baumannii','Proteus mirabilis','Enterococcus faecalis','Staphylococcus aureus','Staphylococcus saprophyticus']]\n",
    "df_C_temp1 = df_R_temp1 & df_A_temp1\n",
    "df_C_temp1['Infection_C'] = df_C_temp1.any(axis=1)\n",
    "df_C = data[['UHID','RAMJA','AIIMS']]\n",
    "df_C['concordance'] = df_C_temp1['Infection_C'].astype(int)\n",
    "df_C.head()"
   ]
  },
  {
   "cell_type": "code",
   "execution_count": 43,
   "metadata": {},
   "outputs": [
    {
     "data": {
      "text/plain": [
       "(131, 4)"
      ]
     },
     "execution_count": 43,
     "metadata": {},
     "output_type": "execute_result"
    }
   ],
   "source": [
    "df_C.shape"
   ]
  },
  {
   "cell_type": "code",
   "execution_count": 44,
   "metadata": {},
   "outputs": [
    {
     "data": {
      "text/plain": [
       "0    106\n",
       "1     25\n",
       "Name: concordance, dtype: int64"
      ]
     },
     "execution_count": 44,
     "metadata": {},
     "output_type": "execute_result"
    }
   ],
   "source": [
    "df_C['concordance'].value_counts()"
   ]
  },
  {
   "cell_type": "code",
   "execution_count": 45,
   "metadata": {},
   "outputs": [],
   "source": [
    "df_NonNaN_C = df_C.dropna(subset=['RAMJA','AIIMS'])"
   ]
  },
  {
   "cell_type": "code",
   "execution_count": 46,
   "metadata": {},
   "outputs": [
    {
     "data": {
      "text/plain": [
       "(112, 4)"
      ]
     },
     "execution_count": 46,
     "metadata": {},
     "output_type": "execute_result"
    }
   ],
   "source": [
    "df_NonNaN_C.shape"
   ]
  },
  {
   "cell_type": "markdown",
   "metadata": {},
   "source": [
    "### common clean samples"
   ]
  },
  {
   "cell_type": "code",
   "execution_count": 47,
   "metadata": {},
   "outputs": [
    {
     "data": {
      "text/plain": [
       "(125, 4)"
      ]
     },
     "execution_count": 47,
     "metadata": {},
     "output_type": "execute_result"
    }
   ],
   "source": [
    "df_R_tempc = df_R_clean[['UHID','RAMJA','AIIMS', 'Infection_R']]\n",
    "df_R_tempc.shape"
   ]
  },
  {
   "cell_type": "code",
   "execution_count": 48,
   "metadata": {},
   "outputs": [
    {
     "data": {
      "text/plain": [
       "(114, 2)"
      ]
     },
     "execution_count": 48,
     "metadata": {},
     "output_type": "execute_result"
    }
   ],
   "source": [
    "df_A_tempc = df_A_clean[['UHID','Infection_A']]\n",
    "df_A_tempc.shape"
   ]
  },
  {
   "cell_type": "code",
   "execution_count": 49,
   "metadata": {},
   "outputs": [
    {
     "data": {
      "text/plain": [
       "(112, 5)"
      ]
     },
     "execution_count": 49,
     "metadata": {},
     "output_type": "execute_result"
    }
   ],
   "source": [
    "#..clean datset having common samples with No Nan, No contamination, No Others\n",
    "df_C_clean = pd.merge(df_R_tempc,df_A_tempc,how='inner', on='UHID')\n",
    "df_C_clean.shape"
   ]
  },
  {
   "cell_type": "code",
   "execution_count": 50,
   "metadata": {},
   "outputs": [
    {
     "data": {
      "text/html": [
       "<div>\n",
       "<style scoped>\n",
       "    .dataframe tbody tr th:only-of-type {\n",
       "        vertical-align: middle;\n",
       "    }\n",
       "\n",
       "    .dataframe tbody tr th {\n",
       "        vertical-align: top;\n",
       "    }\n",
       "\n",
       "    .dataframe thead th {\n",
       "        text-align: right;\n",
       "    }\n",
       "</style>\n",
       "<table border=\"1\" class=\"dataframe\">\n",
       "  <thead>\n",
       "    <tr style=\"text-align: right;\">\n",
       "      <th></th>\n",
       "      <th>UHID</th>\n",
       "      <th>RAMJA</th>\n",
       "      <th>AIIMS</th>\n",
       "      <th>Infection_R</th>\n",
       "      <th>Infection_A</th>\n",
       "    </tr>\n",
       "  </thead>\n",
       "  <tbody>\n",
       "    <tr>\n",
       "      <th>0</th>\n",
       "      <td>20220065432</td>\n",
       "      <td>Enterococcus faecalis</td>\n",
       "      <td>Enterococcus faecalis</td>\n",
       "      <td>1</td>\n",
       "      <td>1</td>\n",
       "    </tr>\n",
       "    <tr>\n",
       "      <th>1</th>\n",
       "      <td>20230125389</td>\n",
       "      <td>E.Coli. and K.pne</td>\n",
       "      <td>E.coli</td>\n",
       "      <td>1</td>\n",
       "      <td>1</td>\n",
       "    </tr>\n",
       "    <tr>\n",
       "      <th>2</th>\n",
       "      <td>20180022685</td>\n",
       "      <td>P. mirabilis</td>\n",
       "      <td>CONTAMINATION</td>\n",
       "      <td>1</td>\n",
       "      <td>1</td>\n",
       "    </tr>\n",
       "    <tr>\n",
       "      <th>3</th>\n",
       "      <td>20240012395</td>\n",
       "      <td>Polymicrobial (E.coli, A. baumannii, P.mirabil...</td>\n",
       "      <td>E.coli</td>\n",
       "      <td>1</td>\n",
       "      <td>1</td>\n",
       "    </tr>\n",
       "    <tr>\n",
       "      <th>4</th>\n",
       "      <td>20220166372</td>\n",
       "      <td>E.coli, Pseudomonas, P.mirabilis, E.Faecalis, ...</td>\n",
       "      <td>E.coli &amp; Pseudomnas</td>\n",
       "      <td>1</td>\n",
       "      <td>1</td>\n",
       "    </tr>\n",
       "  </tbody>\n",
       "</table>\n",
       "</div>"
      ],
      "text/plain": [
       "          UHID                                              RAMJA  \\\n",
       "0  20220065432                              Enterococcus faecalis   \n",
       "1  20230125389                                  E.Coli. and K.pne   \n",
       "2  20180022685                                       P. mirabilis   \n",
       "3  20240012395  Polymicrobial (E.coli, A. baumannii, P.mirabil...   \n",
       "4  20220166372  E.coli, Pseudomonas, P.mirabilis, E.Faecalis, ...   \n",
       "\n",
       "                   AIIMS  Infection_R  Infection_A  \n",
       "0  Enterococcus faecalis            1            1  \n",
       "1                 E.coli            1            1  \n",
       "2          CONTAMINATION            1            1  \n",
       "3                 E.coli            1            1  \n",
       "4    E.coli & Pseudomnas            1            1  "
      ]
     },
     "execution_count": 50,
     "metadata": {},
     "output_type": "execute_result"
    }
   ],
   "source": [
    "df_C_clean.head()"
   ]
  },
  {
   "cell_type": "markdown",
   "metadata": {},
   "source": [
    "#### Confusion matrix"
   ]
  },
  {
   "cell_type": "code",
   "execution_count": 51,
   "metadata": {},
   "outputs": [
    {
     "name": "stdout",
     "output_type": "stream",
     "text": [
      "[[38 18]\n",
      " [10 46]]\n"
     ]
    }
   ],
   "source": [
    "from sklearn.metrics import confusion_matrix\n",
    "\n",
    "y_true = df_C_clean['Infection_A']\n",
    "y_pred = df_C_clean['Infection_R']\n",
    "\n",
    "cm = confusion_matrix(y_true, y_pred)\n",
    "print(cm)"
   ]
  },
  {
   "cell_type": "code",
   "execution_count": 52,
   "metadata": {},
   "outputs": [
    {
     "data": {
      "text/plain": [
       "112"
      ]
     },
     "execution_count": 52,
     "metadata": {},
     "output_type": "execute_result"
    }
   ],
   "source": [
    "sum(sum(cm))"
   ]
  },
  {
   "cell_type": "code",
   "execution_count": 53,
   "metadata": {},
   "outputs": [
    {
     "data": {
      "text/plain": [
       "(38, 18, 10, 46)"
      ]
     },
     "execution_count": 53,
     "metadata": {},
     "output_type": "execute_result"
    }
   ],
   "source": [
    "tn, fp, fn, tp = confusion_matrix(y_true, y_pred).ravel()\n",
    "(tn,fp,fn,tp)"
   ]
  },
  {
   "cell_type": "code",
   "execution_count": 54,
   "metadata": {},
   "outputs": [
    {
     "data": {
      "text/plain": [
       "array([[46, 18],\n",
       "       [10, 38]], dtype=int64)"
      ]
     },
     "execution_count": 54,
     "metadata": {},
     "output_type": "execute_result"
    }
   ],
   "source": [
    "t_cm = np.array([tp, fp, fn, tn]).reshape(2,2)\n",
    "t_cm"
   ]
  },
  {
   "cell_type": "code",
   "execution_count": 55,
   "metadata": {},
   "outputs": [
    {
     "data": {
      "text/html": [
       "<div>\n",
       "<style scoped>\n",
       "    .dataframe tbody tr th:only-of-type {\n",
       "        vertical-align: middle;\n",
       "    }\n",
       "\n",
       "    .dataframe tbody tr th {\n",
       "        vertical-align: top;\n",
       "    }\n",
       "\n",
       "    .dataframe thead th {\n",
       "        text-align: right;\n",
       "    }\n",
       "</style>\n",
       "<table border=\"1\" class=\"dataframe\">\n",
       "  <thead>\n",
       "    <tr style=\"text-align: right;\">\n",
       "      <th></th>\n",
       "      <th>AIIMS Positive</th>\n",
       "      <th>AIIMS Negative</th>\n",
       "    </tr>\n",
       "  </thead>\n",
       "  <tbody>\n",
       "    <tr>\n",
       "      <th>RAMJA Positive</th>\n",
       "      <td>46</td>\n",
       "      <td>18</td>\n",
       "    </tr>\n",
       "    <tr>\n",
       "      <th>RAMJA Negative</th>\n",
       "      <td>10</td>\n",
       "      <td>38</td>\n",
       "    </tr>\n",
       "  </tbody>\n",
       "</table>\n",
       "</div>"
      ],
      "text/plain": [
       "                AIIMS Positive  AIIMS Negative\n",
       "RAMJA Positive              46              18\n",
       "RAMJA Negative              10              38"
      ]
     },
     "execution_count": 55,
     "metadata": {},
     "output_type": "execute_result"
    }
   ],
   "source": [
    "df_cm =pd.DataFrame(t_cm,index=['RAMJA Positive','RAMJA Negative'], columns= ['AIIMS Positive','AIIMS Negative'])\n",
    "df_cm"
   ]
  },
  {
   "cell_type": "markdown",
   "metadata": {},
   "source": [
    "#### Scores"
   ]
  },
  {
   "cell_type": "code",
   "execution_count": 56,
   "metadata": {},
   "outputs": [],
   "source": [
    "def scores(y_test, y_pred):\n",
    "        #y_pred = self.fit(x_train, x_test, y_train)\n",
    "        from sklearn.metrics import confusion_matrix, accuracy_score, roc_auc_score\n",
    "        \n",
    "        cm = confusion_matrix(y_test,y_pred)\n",
    "        \n",
    "        # Compute confusion matrix\n",
    "        tn, fp, fn, tp = confusion_matrix(y_true, y_pred).ravel()\n",
    "                \n",
    "        #.....................Accuracy......................#\n",
    "        #accur = accuracy_score(y_test,y_pred)\n",
    "        accur = (tp + tn)/(tp+tn+fp+fn)\n",
    "        \n",
    "       #.....................Senstivity.....................#\n",
    "        sens = tp/(tp + fn)\n",
    "\n",
    "        #.....................Specificity...................#\n",
    "        spec = tn / (tn + fp)\n",
    "\n",
    "        #..........Positive predictive value (PPV)...........#\n",
    "        PPV = tp/(tp + fp)\n",
    "\n",
    "        #..........negative predictive value (NPV)...........#\n",
    "        NPV = tn/(tn + fn)\n",
    "        \n",
    "        #..........Positive Likelihood ratio (PLR)...........#\n",
    "        PLR = sens/(1-spec)\n",
    "\n",
    "        #..........Negative Likelihood ratio (NLR)...........#\n",
    "        NLR = (1-sens)/spec\n",
    "\n",
    "        errorList = np.array([accur, sens, spec, PPV, NPV, PLR, NLR])\n",
    "        return(errorList)"
   ]
  },
  {
   "cell_type": "code",
   "execution_count": 57,
   "metadata": {},
   "outputs": [
    {
     "data": {
      "text/html": [
       "<div>\n",
       "<style scoped>\n",
       "    .dataframe tbody tr th:only-of-type {\n",
       "        vertical-align: middle;\n",
       "    }\n",
       "\n",
       "    .dataframe tbody tr th {\n",
       "        vertical-align: top;\n",
       "    }\n",
       "\n",
       "    .dataframe thead th {\n",
       "        text-align: right;\n",
       "    }\n",
       "</style>\n",
       "<table border=\"1\" class=\"dataframe\">\n",
       "  <thead>\n",
       "    <tr style=\"text-align: right;\">\n",
       "      <th></th>\n",
       "      <th>LOT1</th>\n",
       "    </tr>\n",
       "  </thead>\n",
       "  <tbody>\n",
       "    <tr>\n",
       "      <th>Accuracy</th>\n",
       "      <td>0.7500</td>\n",
       "    </tr>\n",
       "    <tr>\n",
       "      <th>Sensitivity</th>\n",
       "      <td>0.8214</td>\n",
       "    </tr>\n",
       "    <tr>\n",
       "      <th>Specificity</th>\n",
       "      <td>0.6786</td>\n",
       "    </tr>\n",
       "    <tr>\n",
       "      <th>PPV</th>\n",
       "      <td>0.7188</td>\n",
       "    </tr>\n",
       "    <tr>\n",
       "      <th>NPV</th>\n",
       "      <td>0.7917</td>\n",
       "    </tr>\n",
       "    <tr>\n",
       "      <th>PLR</th>\n",
       "      <td>2.5556</td>\n",
       "    </tr>\n",
       "    <tr>\n",
       "      <th>NLR</th>\n",
       "      <td>0.2632</td>\n",
       "    </tr>\n",
       "  </tbody>\n",
       "</table>\n",
       "</div>"
      ],
      "text/plain": [
       "               LOT1\n",
       "Accuracy     0.7500\n",
       "Sensitivity  0.8214\n",
       "Specificity  0.6786\n",
       "PPV          0.7188\n",
       "NPV          0.7917\n",
       "PLR          2.5556\n",
       "NLR          0.2632"
      ]
     },
     "execution_count": 57,
     "metadata": {},
     "output_type": "execute_result"
    }
   ],
   "source": [
    "scores(y_true,y_pred)\n",
    "scoreid = ['Accuracy', 'Sensitivity', 'Specificity', 'PPV', 'NPV', 'PLR', 'NLR']\n",
    "df_score = pd.DataFrame(scores(y_true,y_pred),index=scoreid, columns= ['LOT1'])\n",
    "df_score = round(df_score,4)\n",
    "df_score"
   ]
  },
  {
   "cell_type": "code",
   "execution_count": 44,
   "metadata": {},
   "outputs": [
    {
     "data": {
      "text/plain": [
       "' print(\"#..........RAMJA Details..........#\")\\n#......VAlies for both RAMJA and AIIMS\\nprint(\"Total samples: \", data.shape[0])\\n\\n#...Values for RAMJA\\nprint(\"Null Samples RAMJA: \",data[\\'RAMJA\\'].isnull().sum(axis=0))\\nprint(\"Non-Null RAMJA: \", data[\\'RAMJA\\'].count())\\n\\n#...VAlues for RAMJA after dropping NaN\\nprint(\"Contaminated Samples RAMJA: \", df_NonNaN_R[\\'Contamination\\'].sum())\\nprint(\"Other RAMJA: \", df_NonNaN_R[\\'Others_R\\'].sum())\\nprint(\"Positive RAMJA: \", df_NonNaN_R[\\'Infection_R\\'].sum())\\nprint(\"Negative RAMJA: \", df_NonNaN_R[\\'Sterile\\'].sum())\\n\\nprint(\"#..........AIIMS Details..........#\")\\n#...Values for AIIMS\\nprint(\"Total samples: \", data.shape[0])\\nprint(\"Null Samples AIIMS: \",data[\\'AIIMS\\'].isnull().sum(axis=0))\\nprint(\"Non-Null AIIMS: \", data[\\'AIIMS\\'].count())\\n\\n#...VAlues for RAMJA after dropping NaN\\nprint(\"Contaminated Samples AIIMS: \", df_NonNaN_A[\\'Contamination\\'].sum())\\nprint(\"Other AIIMS: \", df_NonNaN_A[\\'Others_A\\'].sum())\\nprint(\"Positive AIIMS: \", df_NonNaN_A[\\'Infection_A\\'].sum())\\nprint(\"Negative AIIMS: \", df_NonNaN_A[\\'Sterile\\'].sum())\\n '"
      ]
     },
     "execution_count": 44,
     "metadata": {},
     "output_type": "execute_result"
    }
   ],
   "source": [
    "\"\"\" print(\"#..........RAMJA Details..........#\")\n",
    "#......VAlies for both RAMJA and AIIMS\n",
    "print(\"Total samples: \", data.shape[0])\n",
    "\n",
    "#...Values for RAMJA\n",
    "print(\"Null Samples RAMJA: \",data['RAMJA'].isnull().sum(axis=0))\n",
    "print(\"Non-Null RAMJA: \", data['RAMJA'].count())\n",
    "\n",
    "#...VAlues for RAMJA after dropping NaN\n",
    "print(\"Contaminated Samples RAMJA: \", df_NonNaN_R['Contamination'].sum())\n",
    "print(\"Other RAMJA: \", df_NonNaN_R['Others_R'].sum())\n",
    "print(\"Positive RAMJA: \", df_NonNaN_R['Infection_R'].sum())\n",
    "print(\"Negative RAMJA: \", df_NonNaN_R['Sterile'].sum())\n",
    "\n",
    "print(\"#..........AIIMS Details..........#\")\n",
    "#...Values for AIIMS\n",
    "print(\"Total samples: \", data.shape[0])\n",
    "print(\"Null Samples AIIMS: \",data['AIIMS'].isnull().sum(axis=0))\n",
    "print(\"Non-Null AIIMS: \", data['AIIMS'].count())\n",
    "\n",
    "#...VAlues for RAMJA after dropping NaN\n",
    "print(\"Contaminated Samples AIIMS: \", df_NonNaN_A['Contamination'].sum())\n",
    "print(\"Other AIIMS: \", df_NonNaN_A['Others_A'].sum())\n",
    "print(\"Positive AIIMS: \", df_NonNaN_A['Infection_A'].sum())\n",
    "print(\"Negative AIIMS: \", df_NonNaN_A['Sterile'].sum())\n",
    " \"\"\""
   ]
  },
  {
   "cell_type": "markdown",
   "metadata": {},
   "source": [
    "#### Samples detail"
   ]
  },
  {
   "cell_type": "code",
   "execution_count": 58,
   "metadata": {},
   "outputs": [],
   "source": [
    "samplesDetail = {\n",
    "    \"Total Samples\": [data.shape[0],data.shape[0]],\n",
    "    \"Blank Results\": [data['RAMJA'].isnull().sum(axis=0), data['AIIMS'].isnull().sum(axis=0)],\n",
    "    \"Non-Blank Results\": [data['RAMJA'].count(),data['AIIMS'].count()],\n",
    "    \"Contaminated Samples\": [df_NonNaN_R['Contamination'].sum(),df_NonNaN_A['Contamination'].sum()],\n",
    "    \"Others\": [df_NonNaN_R['Others_R'].sum(),df_NonNaN_A['Others_A'].sum()],\n",
    "    \"Common samples\":  [df_NonNaN_C.shape[0], df_NonNaN_C.shape[0]],\n",
    "    #\"Useful Samples\":[df_R_clean.shape[0], df_A_clean.shape[0]],\n",
    "    \"Positive\": [df_NonNaN_R['Infection_R'].sum(),df_NonNaN_A['Infection_A'].sum()],\n",
    "    \"Negative\": [df_NonNaN_R['Sterile'].sum(),df_NonNaN_A['Sterile'].sum()],\n",
    "    \"Common Positive\": [tp,tp],\n",
    "    \"Concordance [Common bacteria]\": [df_C['concordance'].sum(),df_C['concordance'].sum()],\n",
    "    \"Common Negative\": [tn,tn]\n",
    "    \n",
    "}"
   ]
  },
  {
   "cell_type": "code",
   "execution_count": 59,
   "metadata": {},
   "outputs": [
    {
     "data": {
      "text/html": [
       "<div>\n",
       "<style scoped>\n",
       "    .dataframe tbody tr th:only-of-type {\n",
       "        vertical-align: middle;\n",
       "    }\n",
       "\n",
       "    .dataframe tbody tr th {\n",
       "        vertical-align: top;\n",
       "    }\n",
       "\n",
       "    .dataframe thead th {\n",
       "        text-align: right;\n",
       "    }\n",
       "</style>\n",
       "<table border=\"1\" class=\"dataframe\">\n",
       "  <thead>\n",
       "    <tr style=\"text-align: right;\">\n",
       "      <th></th>\n",
       "      <th>RAMJA</th>\n",
       "      <th>AIIMS</th>\n",
       "    </tr>\n",
       "  </thead>\n",
       "  <tbody>\n",
       "    <tr>\n",
       "      <th>Total Samples</th>\n",
       "      <td>131</td>\n",
       "      <td>131</td>\n",
       "    </tr>\n",
       "    <tr>\n",
       "      <th>Blank Results</th>\n",
       "      <td>6</td>\n",
       "      <td>17</td>\n",
       "    </tr>\n",
       "    <tr>\n",
       "      <th>Non-Blank Results</th>\n",
       "      <td>125</td>\n",
       "      <td>114</td>\n",
       "    </tr>\n",
       "    <tr>\n",
       "      <th>Contaminated Samples</th>\n",
       "      <td>0</td>\n",
       "      <td>17</td>\n",
       "    </tr>\n",
       "    <tr>\n",
       "      <th>Others</th>\n",
       "      <td>0</td>\n",
       "      <td>9</td>\n",
       "    </tr>\n",
       "    <tr>\n",
       "      <th>Common samples</th>\n",
       "      <td>112</td>\n",
       "      <td>112</td>\n",
       "    </tr>\n",
       "    <tr>\n",
       "      <th>Positive</th>\n",
       "      <td>70</td>\n",
       "      <td>58</td>\n",
       "    </tr>\n",
       "    <tr>\n",
       "      <th>Negative</th>\n",
       "      <td>55</td>\n",
       "      <td>56</td>\n",
       "    </tr>\n",
       "    <tr>\n",
       "      <th>Common Positive</th>\n",
       "      <td>46</td>\n",
       "      <td>46</td>\n",
       "    </tr>\n",
       "    <tr>\n",
       "      <th>Concordance [Common bacteria]</th>\n",
       "      <td>25</td>\n",
       "      <td>25</td>\n",
       "    </tr>\n",
       "    <tr>\n",
       "      <th>Common Negative</th>\n",
       "      <td>38</td>\n",
       "      <td>38</td>\n",
       "    </tr>\n",
       "  </tbody>\n",
       "</table>\n",
       "</div>"
      ],
      "text/plain": [
       "                               RAMJA  AIIMS\n",
       "Total Samples                    131    131\n",
       "Blank Results                      6     17\n",
       "Non-Blank Results                125    114\n",
       "Contaminated Samples               0     17\n",
       "Others                             0      9\n",
       "Common samples                   112    112\n",
       "Positive                          70     58\n",
       "Negative                          55     56\n",
       "Common Positive                   46     46\n",
       "Concordance [Common bacteria]     25     25\n",
       "Common Negative                   38     38"
      ]
     },
     "execution_count": 59,
     "metadata": {},
     "output_type": "execute_result"
    }
   ],
   "source": [
    "df_samplesDetail = pd.DataFrame(samplesDetail, index=['RAMJA','AIIMS']).T\n",
    "df_samplesDetail"
   ]
  },
  {
   "cell_type": "markdown",
   "metadata": {},
   "source": [
    "#### Export matrices to excel"
   ]
  },
  {
   "cell_type": "code",
   "execution_count": 60,
   "metadata": {},
   "outputs": [],
   "source": [
    "# Write the DataFrames to an Excel file\n",
    "with pd.ExcelWriter('matrices2.xlsx') as writer:\n",
    "    df_samplesDetail.to_excel(writer, sheet_name='SamplesDetail', index=True)\n",
    "    df_cm.to_excel(writer, sheet_name='ConfusionMatrix', index=True)\n",
    "    df_score.to_excel(writer, sheet_name='Scores', index=True)\n",
    "    \n"
   ]
  },
  {
   "cell_type": "markdown",
   "metadata": {},
   "source": [
    "#### Sort the required dataset and export to excel"
   ]
  },
  {
   "cell_type": "code",
   "execution_count": 61,
   "metadata": {},
   "outputs": [
    {
     "data": {
      "text/plain": [
       "(17, 3)"
      ]
     },
     "execution_count": 61,
     "metadata": {},
     "output_type": "execute_result"
    }
   ],
   "source": [
    "df_A_conta = df_NonNaN_A[df_NonNaN_A['Contamination'] ==1][['UHID', 'RAMJA', 'AIIMS']]\n",
    "df_A_conta.shape"
   ]
  },
  {
   "cell_type": "code",
   "execution_count": 62,
   "metadata": {},
   "outputs": [
    {
     "data": {
      "text/plain": [
       "(9, 3)"
      ]
     },
     "execution_count": 62,
     "metadata": {},
     "output_type": "execute_result"
    }
   ],
   "source": [
    "df_A_others = df_NonNaN_A[df_NonNaN_A['Others_A'] ==1][['UHID', 'RAMJA', 'AIIMS']]\n",
    "df_A_others.shape"
   ]
  },
  {
   "cell_type": "code",
   "execution_count": 63,
   "metadata": {},
   "outputs": [
    {
     "data": {
      "text/html": [
       "<div>\n",
       "<style scoped>\n",
       "    .dataframe tbody tr th:only-of-type {\n",
       "        vertical-align: middle;\n",
       "    }\n",
       "\n",
       "    .dataframe tbody tr th {\n",
       "        vertical-align: top;\n",
       "    }\n",
       "\n",
       "    .dataframe thead th {\n",
       "        text-align: right;\n",
       "    }\n",
       "</style>\n",
       "<table border=\"1\" class=\"dataframe\">\n",
       "  <thead>\n",
       "    <tr style=\"text-align: right;\">\n",
       "      <th></th>\n",
       "      <th>UHID</th>\n",
       "      <th>RAMJA</th>\n",
       "      <th>AIIMS</th>\n",
       "    </tr>\n",
       "  </thead>\n",
       "  <tbody>\n",
       "    <tr>\n",
       "      <th>26</th>\n",
       "      <td>20240019044</td>\n",
       "      <td>E.coli &amp; Klebsiella pneumonia</td>\n",
       "      <td>Candida spp.</td>\n",
       "    </tr>\n",
       "    <tr>\n",
       "      <th>70</th>\n",
       "      <td>20240034567</td>\n",
       "      <td>A. baumannii, P.mirabilis, E. Faecalis</td>\n",
       "      <td>Insignificant growth</td>\n",
       "    </tr>\n",
       "    <tr>\n",
       "      <th>90</th>\n",
       "      <td>20240046542</td>\n",
       "      <td>P.Aurogenosa</td>\n",
       "      <td>Acintobacter spp.</td>\n",
       "    </tr>\n",
       "    <tr>\n",
       "      <th>96</th>\n",
       "      <td>20240074281</td>\n",
       "      <td>Sterile</td>\n",
       "      <td>Commensal Flora</td>\n",
       "    </tr>\n",
       "    <tr>\n",
       "      <th>104</th>\n",
       "      <td>20240028527</td>\n",
       "      <td>Sterile</td>\n",
       "      <td>Insignificant growth of colonizer</td>\n",
       "    </tr>\n",
       "    <tr>\n",
       "      <th>107</th>\n",
       "      <td>20240087671</td>\n",
       "      <td>S.Aureus ,Saprohutics, and Mirababilis</td>\n",
       "      <td>Insignificant growth gram positive cocci</td>\n",
       "    </tr>\n",
       "    <tr>\n",
       "      <th>108</th>\n",
       "      <td>20230121277</td>\n",
       "      <td>E. coli and A.Baumini</td>\n",
       "      <td>Insignificant Gram negative bacilli</td>\n",
       "    </tr>\n",
       "    <tr>\n",
       "      <th>109</th>\n",
       "      <td>20240094465</td>\n",
       "      <td>A. baumanni, P mirabilis, S saprophyticus</td>\n",
       "      <td>Candida spp. and Insignificant gram negative b...</td>\n",
       "    </tr>\n",
       "    <tr>\n",
       "      <th>110</th>\n",
       "      <td>20230156801</td>\n",
       "      <td>S.Saprophytics</td>\n",
       "      <td>Insignificant gram negative bacilli</td>\n",
       "    </tr>\n",
       "  </tbody>\n",
       "</table>\n",
       "</div>"
      ],
      "text/plain": [
       "            UHID                                      RAMJA  \\\n",
       "26   20240019044              E.coli & Klebsiella pneumonia   \n",
       "70   20240034567     A. baumannii, P.mirabilis, E. Faecalis   \n",
       "90   20240046542                               P.Aurogenosa   \n",
       "96   20240074281                                    Sterile   \n",
       "104  20240028527                                    Sterile   \n",
       "107  20240087671     S.Aureus ,Saprohutics, and Mirababilis   \n",
       "108  20230121277                      E. coli and A.Baumini   \n",
       "109  20240094465  A. baumanni, P mirabilis, S saprophyticus   \n",
       "110  20230156801                             S.Saprophytics   \n",
       "\n",
       "                                                 AIIMS  \n",
       "26                                        Candida spp.  \n",
       "70                                Insignificant growth  \n",
       "90                                   Acintobacter spp.  \n",
       "96                                     Commensal Flora  \n",
       "104                  Insignificant growth of colonizer  \n",
       "107           Insignificant growth gram positive cocci  \n",
       "108                Insignificant Gram negative bacilli  \n",
       "109  Candida spp. and Insignificant gram negative b...  \n",
       "110                Insignificant gram negative bacilli  "
      ]
     },
     "metadata": {},
     "output_type": "display_data"
    }
   ],
   "source": [
    "display(df_A_others)"
   ]
  },
  {
   "cell_type": "code",
   "execution_count": 64,
   "metadata": {},
   "outputs": [
    {
     "data": {
      "text/plain": [
       "(46, 3)"
      ]
     },
     "execution_count": 64,
     "metadata": {},
     "output_type": "execute_result"
    }
   ],
   "source": [
    "#...Both positives\n",
    "df_Pos_C = df_C_clean[(df_C_clean['Infection_R'] == 1) & (df_C_clean['Infection_A'] == 1)][['UHID', 'RAMJA', 'AIIMS']]\n",
    "df_Pos_C.shape"
   ]
  },
  {
   "cell_type": "code",
   "execution_count": 65,
   "metadata": {},
   "outputs": [
    {
     "data": {
      "text/plain": [
       "(38, 3)"
      ]
     },
     "execution_count": 65,
     "metadata": {},
     "output_type": "execute_result"
    }
   ],
   "source": [
    "#...Both Negatives\n",
    "df_Neg_C = df_C_clean[(df_C_clean['Infection_R'] == 0) & (df_C_clean['Infection_A']==0)][['UHID', 'RAMJA', 'AIIMS']]\n",
    "df_Neg_C.shape"
   ]
  },
  {
   "cell_type": "code",
   "execution_count": 66,
   "metadata": {},
   "outputs": [
    {
     "data": {
      "text/plain": [
       "(25, 3)"
      ]
     },
     "execution_count": 66,
     "metadata": {},
     "output_type": "execute_result"
    }
   ],
   "source": [
    "#...Common type of infection\n",
    "df_concordance = df_C[df_C['concordance'] == 1][['UHID','RAMJA','AIIMS']]\n",
    "df_concordance.shape"
   ]
  },
  {
   "cell_type": "code",
   "execution_count": 55,
   "metadata": {},
   "outputs": [],
   "source": [
    "# Write the DataFrames to an Excel file\n",
    "with pd.ExcelWriter('sorteddata2.xlsx') as writer:\n",
    "    df_A_others.to_excel(writer, sheet_name='Undefined Samples_A', index=False)\n",
    "    df_A_conta.to_excel(writer, sheet_name='Contaminated Samples_A', index=False)\n",
    "    df_Pos_C.to_excel(writer, sheet_name='Common Positives', index=False)\n",
    "    df_concordance.to_excel(writer, sheet_name='Concordance', index=False)\n",
    "    df_Neg_C.to_excel(writer, sheet_name='Common Negatives', index=False)"
   ]
  },
  {
   "cell_type": "code",
   "execution_count": 69,
   "metadata": {},
   "outputs": [],
   "source": [
    "df_C_sym = pd.merge(df_C_clean,data_sym,how='inner', on='UHID')"
   ]
  },
  {
   "cell_type": "code",
   "execution_count": 70,
   "metadata": {},
   "outputs": [
    {
     "data": {
      "text/html": [
       "<div>\n",
       "<style scoped>\n",
       "    .dataframe tbody tr th:only-of-type {\n",
       "        vertical-align: middle;\n",
       "    }\n",
       "\n",
       "    .dataframe tbody tr th {\n",
       "        vertical-align: top;\n",
       "    }\n",
       "\n",
       "    .dataframe thead th {\n",
       "        text-align: right;\n",
       "    }\n",
       "</style>\n",
       "<table border=\"1\" class=\"dataframe\">\n",
       "  <thead>\n",
       "    <tr style=\"text-align: right;\">\n",
       "      <th></th>\n",
       "      <th>UHID</th>\n",
       "      <th>RAMJA</th>\n",
       "      <th>AIIMS</th>\n",
       "      <th>Infection_R</th>\n",
       "      <th>Infection_A</th>\n",
       "      <th>Fever</th>\n",
       "      <th>BP</th>\n",
       "      <th>HR</th>\n",
       "      <th>BP_Sys</th>\n",
       "      <th>BP_dia</th>\n",
       "    </tr>\n",
       "  </thead>\n",
       "  <tbody>\n",
       "    <tr>\n",
       "      <th>0</th>\n",
       "      <td>20220065432</td>\n",
       "      <td>Enterococcus faecalis</td>\n",
       "      <td>Enterococcus faecalis</td>\n",
       "      <td>1</td>\n",
       "      <td>1</td>\n",
       "      <td>98.2</td>\n",
       "      <td>110/76</td>\n",
       "      <td>106.0</td>\n",
       "      <td>110</td>\n",
       "      <td>76</td>\n",
       "    </tr>\n",
       "    <tr>\n",
       "      <th>1</th>\n",
       "      <td>20230125389</td>\n",
       "      <td>E.Coli. and K.pne</td>\n",
       "      <td>E.coli</td>\n",
       "      <td>1</td>\n",
       "      <td>1</td>\n",
       "      <td>98.5</td>\n",
       "      <td>100/60</td>\n",
       "      <td>70.0</td>\n",
       "      <td>100</td>\n",
       "      <td>60</td>\n",
       "    </tr>\n",
       "    <tr>\n",
       "      <th>2</th>\n",
       "      <td>20180022685</td>\n",
       "      <td>P. mirabilis</td>\n",
       "      <td>CONTAMINATION</td>\n",
       "      <td>1</td>\n",
       "      <td>1</td>\n",
       "      <td>98.6</td>\n",
       "      <td>105/80</td>\n",
       "      <td>85.0</td>\n",
       "      <td>105</td>\n",
       "      <td>80</td>\n",
       "    </tr>\n",
       "    <tr>\n",
       "      <th>3</th>\n",
       "      <td>20240012395</td>\n",
       "      <td>Polymicrobial (E.coli, A. baumannii, P.mirabil...</td>\n",
       "      <td>E.coli</td>\n",
       "      <td>1</td>\n",
       "      <td>1</td>\n",
       "      <td>98.8</td>\n",
       "      <td>140/100</td>\n",
       "      <td>93.0</td>\n",
       "      <td>140</td>\n",
       "      <td>100</td>\n",
       "    </tr>\n",
       "    <tr>\n",
       "      <th>4</th>\n",
       "      <td>20220166372</td>\n",
       "      <td>E.coli, Pseudomonas, P.mirabilis, E.Faecalis, ...</td>\n",
       "      <td>E.coli &amp; Pseudomnas</td>\n",
       "      <td>1</td>\n",
       "      <td>1</td>\n",
       "      <td>98.2</td>\n",
       "      <td>132/82</td>\n",
       "      <td>84.0</td>\n",
       "      <td>132</td>\n",
       "      <td>82</td>\n",
       "    </tr>\n",
       "  </tbody>\n",
       "</table>\n",
       "</div>"
      ],
      "text/plain": [
       "          UHID                                              RAMJA  \\\n",
       "0  20220065432                              Enterococcus faecalis   \n",
       "1  20230125389                                  E.Coli. and K.pne   \n",
       "2  20180022685                                       P. mirabilis   \n",
       "3  20240012395  Polymicrobial (E.coli, A. baumannii, P.mirabil...   \n",
       "4  20220166372  E.coli, Pseudomonas, P.mirabilis, E.Faecalis, ...   \n",
       "\n",
       "                   AIIMS  Infection_R  Infection_A  Fever       BP     HR  \\\n",
       "0  Enterococcus faecalis            1            1   98.2   110/76  106.0   \n",
       "1                 E.coli            1            1   98.5   100/60   70.0   \n",
       "2          CONTAMINATION            1            1   98.6   105/80   85.0   \n",
       "3                 E.coli            1            1   98.8  140/100   93.0   \n",
       "4    E.coli & Pseudomnas            1            1   98.2   132/82   84.0   \n",
       "\n",
       "  BP_Sys BP_dia  \n",
       "0    110     76  \n",
       "1    100     60  \n",
       "2    105     80  \n",
       "3    140    100  \n",
       "4    132     82  "
      ]
     },
     "execution_count": 70,
     "metadata": {},
     "output_type": "execute_result"
    }
   ],
   "source": [
    "df_C_sym.head()"
   ]
  },
  {
   "cell_type": "markdown",
   "metadata": {},
   "source": [
    "#### ................Finish....................."
   ]
  }
 ],
 "metadata": {
  "kernelspec": {
   "display_name": "Python 3",
   "language": "python",
   "name": "python3"
  },
  "language_info": {
   "codemirror_mode": {
    "name": "ipython",
    "version": 3
   },
   "file_extension": ".py",
   "mimetype": "text/x-python",
   "name": "python",
   "nbconvert_exporter": "python",
   "pygments_lexer": "ipython3",
   "version": "3.9.10"
  }
 },
 "nbformat": 4,
 "nbformat_minor": 2
}
