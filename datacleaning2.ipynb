{
 "cells": [
  {
   "cell_type": "code",
   "execution_count": 3,
   "metadata": {},
   "outputs": [],
   "source": [
    "import numpy as np\n",
    "import pandas as pd"
   ]
  },
  {
   "cell_type": "code",
   "execution_count": 1,
   "metadata": {},
   "outputs": [
    {
     "name": "stdout",
     "output_type": "stream",
     "text": [
      "Collecting thefuzz\n",
      "  Obtaining dependency information for thefuzz from https://files.pythonhosted.org/packages/82/4f/1695e70ceb3604f19eda9908e289c687ea81c4fecef4d90a9d1d0f2f7ae9/thefuzz-0.22.1-py3-none-any.whl.metadata\n",
      "  Downloading thefuzz-0.22.1-py3-none-any.whl.metadata (3.9 kB)\n",
      "Collecting rapidfuzz<4.0.0,>=3.0.0 (from thefuzz)\n",
      "  Obtaining dependency information for rapidfuzz<4.0.0,>=3.0.0 from https://files.pythonhosted.org/packages/ec/3b/e890c17abc3edabfbd2b1e97079fd0253b22fba9c24fee230043ae850a23/rapidfuzz-3.9.7-cp39-cp39-win_amd64.whl.metadata\n",
      "  Downloading rapidfuzz-3.9.7-cp39-cp39-win_amd64.whl.metadata (12 kB)\n",
      "Downloading thefuzz-0.22.1-py3-none-any.whl (8.2 kB)\n",
      "Downloading rapidfuzz-3.9.7-cp39-cp39-win_amd64.whl (1.7 MB)\n",
      "   ---------------------------------------- 0.0/1.7 MB ? eta -:--:--\n",
      "   ----- ---------------------------------- 0.2/1.7 MB 4.6 MB/s eta 0:00:01\n",
      "   ------------ --------------------------- 0.5/1.7 MB 5.2 MB/s eta 0:00:01\n",
      "   ----------------- ---------------------- 0.7/1.7 MB 5.9 MB/s eta 0:00:01\n",
      "   ------------------------ --------------- 1.0/1.7 MB 5.9 MB/s eta 0:00:01\n",
      "   -------------------------------- ------- 1.4/1.7 MB 7.1 MB/s eta 0:00:01\n",
      "   ---------------------------------------  1.7/1.7 MB 7.0 MB/s eta 0:00:01\n",
      "   ---------------------------------------- 1.7/1.7 MB 6.6 MB/s eta 0:00:00\n",
      "Installing collected packages: rapidfuzz, thefuzz\n",
      "Successfully installed rapidfuzz-3.9.7 thefuzz-0.22.1\n"
     ]
    },
    {
     "name": "stderr",
     "output_type": "stream",
     "text": [
      "\n",
      "[notice] A new release of pip is available: 23.2.1 -> 24.2\n",
      "[notice] To update, run: python.exe -m pip install --upgrade pip\n"
     ]
    }
   ],
   "source": [
    "!pip install thefuzz "
   ]
  },
  {
   "cell_type": "code",
   "execution_count": 4,
   "metadata": {},
   "outputs": [
    {
     "name": "stdout",
     "output_type": "stream",
     "text": [
      "Similarity score: 86\n"
     ]
    },
    {
     "data": {
      "text/plain": [
       "'\\nSimilarity Score: 86\\n'"
      ]
     },
     "execution_count": 4,
     "metadata": {},
     "output_type": "execute_result"
    }
   ],
   "source": [
    "from thefuzz import fuzz\n",
    "from thefuzz import process\n",
    "\n",
    "# Check the similarity score\n",
    "name = \"Kurtis Pykes\"\n",
    "full_name = \"Kurtis K D Pykes\"\n",
    "\n",
    "print(f\"Similarity score: {fuzz.ratio(name, full_name)}\")\n",
    "\n",
    "\"\"\"\n",
    "Similarity Score: 86\n",
    "\"\"\""
   ]
  },
  {
   "cell_type": "code",
   "execution_count": 1,
   "metadata": {},
   "outputs": [
    {
     "name": "stdout",
     "output_type": "stream",
     "text": [
      "Similarity score: 91\n"
     ]
    }
   ],
   "source": [
    "from thefuzz import fuzz\n",
    "from thefuzz import process\n",
    "\n",
    "# Check the similarity score\n",
    "name = \"pneumoniae\"\n",
    "full_name = \"K.pneumoniae\"\n",
    "#full_name = \"E.Coli, K.pneumoniae, P. aeruginosa, A. baumanni and S. aureus\"\n",
    "print(f\"Similarity score: {fuzz.ratio(name, full_name)}\")"
   ]
  },
  {
   "cell_type": "code",
   "execution_count": 4,
   "metadata": {},
   "outputs": [],
   "source": [
    "data = pd.read_excel(\"RAWLOT1.xlsx\")"
   ]
  },
  {
   "cell_type": "code",
   "execution_count": 9,
   "metadata": {},
   "outputs": [
    {
     "data": {
      "text/html": [
       "<div>\n",
       "<style scoped>\n",
       "    .dataframe tbody tr th:only-of-type {\n",
       "        vertical-align: middle;\n",
       "    }\n",
       "\n",
       "    .dataframe tbody tr th {\n",
       "        vertical-align: top;\n",
       "    }\n",
       "\n",
       "    .dataframe thead th {\n",
       "        text-align: right;\n",
       "    }\n",
       "</style>\n",
       "<table border=\"1\" class=\"dataframe\">\n",
       "  <thead>\n",
       "    <tr style=\"text-align: right;\">\n",
       "      <th></th>\n",
       "      <th>UHID</th>\n",
       "      <th>RAMJA</th>\n",
       "      <th>AIIMS</th>\n",
       "    </tr>\n",
       "  </thead>\n",
       "  <tbody>\n",
       "    <tr>\n",
       "      <th>0</th>\n",
       "      <td>20220065432</td>\n",
       "      <td>Enterococcus faecalis</td>\n",
       "      <td>Enterococcus faecalis</td>\n",
       "    </tr>\n",
       "    <tr>\n",
       "      <th>1</th>\n",
       "      <td>20240016182</td>\n",
       "      <td>NaN</td>\n",
       "      <td>Contamination</td>\n",
       "    </tr>\n",
       "    <tr>\n",
       "      <th>2</th>\n",
       "      <td>20230125389</td>\n",
       "      <td>E.Coli, K.pneumoniae, P. aeruginosa, A. bauman...</td>\n",
       "      <td>E.coli</td>\n",
       "    </tr>\n",
       "    <tr>\n",
       "      <th>3</th>\n",
       "      <td>20180022685</td>\n",
       "      <td>K.pneumoniae, E. faecalis, P. mirabilis,  A. b...</td>\n",
       "      <td>CONTAMINATION</td>\n",
       "    </tr>\n",
       "    <tr>\n",
       "      <th>4</th>\n",
       "      <td>20201415102</td>\n",
       "      <td>NaN</td>\n",
       "      <td>NaN</td>\n",
       "    </tr>\n",
       "    <tr>\n",
       "      <th>...</th>\n",
       "      <td>...</td>\n",
       "      <td>...</td>\n",
       "      <td>...</td>\n",
       "    </tr>\n",
       "    <tr>\n",
       "      <th>115</th>\n",
       "      <td>20170059075</td>\n",
       "      <td>Sterile</td>\n",
       "      <td>Sterile</td>\n",
       "    </tr>\n",
       "    <tr>\n",
       "      <th>116</th>\n",
       "      <td>20210062776</td>\n",
       "      <td>Sterile</td>\n",
       "      <td>Sterile</td>\n",
       "    </tr>\n",
       "    <tr>\n",
       "      <th>117</th>\n",
       "      <td>20240043449</td>\n",
       "      <td>Sterile</td>\n",
       "      <td>Sterile</td>\n",
       "    </tr>\n",
       "    <tr>\n",
       "      <th>118</th>\n",
       "      <td>20240076642</td>\n",
       "      <td>Sterile</td>\n",
       "      <td>Sterile</td>\n",
       "    </tr>\n",
       "    <tr>\n",
       "      <th>119</th>\n",
       "      <td>20240094375</td>\n",
       "      <td>Sterile</td>\n",
       "      <td>NaN</td>\n",
       "    </tr>\n",
       "  </tbody>\n",
       "</table>\n",
       "<p>120 rows × 3 columns</p>\n",
       "</div>"
      ],
      "text/plain": [
       "            UHID                                              RAMJA  \\\n",
       "0    20220065432                              Enterococcus faecalis   \n",
       "1    20240016182                                                NaN   \n",
       "2    20230125389  E.Coli, K.pneumoniae, P. aeruginosa, A. bauman...   \n",
       "3    20180022685  K.pneumoniae, E. faecalis, P. mirabilis,  A. b...   \n",
       "4    20201415102                                                NaN   \n",
       "..           ...                                                ...   \n",
       "115  20170059075                                            Sterile   \n",
       "116  20210062776                                            Sterile   \n",
       "117  20240043449                                            Sterile   \n",
       "118  20240076642                                            Sterile   \n",
       "119  20240094375                                            Sterile   \n",
       "\n",
       "                     AIIMS  \n",
       "0    Enterococcus faecalis  \n",
       "1            Contamination  \n",
       "2                   E.coli  \n",
       "3            CONTAMINATION  \n",
       "4                      NaN  \n",
       "..                     ...  \n",
       "115                Sterile  \n",
       "116                Sterile  \n",
       "117                Sterile  \n",
       "118                Sterile  \n",
       "119                    NaN  \n",
       "\n",
       "[120 rows x 3 columns]"
      ]
     },
     "execution_count": 9,
     "metadata": {},
     "output_type": "execute_result"
    }
   ],
   "source": [
    "data.columns = ['UHID', 'RAMJA', 'AIIMS']\n",
    "data"
   ]
  },
  {
   "cell_type": "code",
   "execution_count": 11,
   "metadata": {},
   "outputs": [],
   "source": [
    "data['RAMJA'] = data['RAMJA'].str.upper()"
   ]
  },
  {
   "cell_type": "code",
   "execution_count": 12,
   "metadata": {},
   "outputs": [
    {
     "data": {
      "text/html": [
       "<div>\n",
       "<style scoped>\n",
       "    .dataframe tbody tr th:only-of-type {\n",
       "        vertical-align: middle;\n",
       "    }\n",
       "\n",
       "    .dataframe tbody tr th {\n",
       "        vertical-align: top;\n",
       "    }\n",
       "\n",
       "    .dataframe thead th {\n",
       "        text-align: right;\n",
       "    }\n",
       "</style>\n",
       "<table border=\"1\" class=\"dataframe\">\n",
       "  <thead>\n",
       "    <tr style=\"text-align: right;\">\n",
       "      <th></th>\n",
       "      <th>UHID</th>\n",
       "      <th>RAMJA</th>\n",
       "      <th>AIIMS</th>\n",
       "    </tr>\n",
       "  </thead>\n",
       "  <tbody>\n",
       "    <tr>\n",
       "      <th>0</th>\n",
       "      <td>20220065432</td>\n",
       "      <td>ENTEROCOCCUS FAECALIS</td>\n",
       "      <td>Enterococcus faecalis</td>\n",
       "    </tr>\n",
       "    <tr>\n",
       "      <th>1</th>\n",
       "      <td>20240016182</td>\n",
       "      <td>NaN</td>\n",
       "      <td>Contamination</td>\n",
       "    </tr>\n",
       "    <tr>\n",
       "      <th>2</th>\n",
       "      <td>20230125389</td>\n",
       "      <td>E.COLI, K.PNEUMONIAE, P. AERUGINOSA, A. BAUMAN...</td>\n",
       "      <td>E.coli</td>\n",
       "    </tr>\n",
       "    <tr>\n",
       "      <th>3</th>\n",
       "      <td>20180022685</td>\n",
       "      <td>K.PNEUMONIAE, E. FAECALIS, P. MIRABILIS,  A. B...</td>\n",
       "      <td>CONTAMINATION</td>\n",
       "    </tr>\n",
       "    <tr>\n",
       "      <th>4</th>\n",
       "      <td>20201415102</td>\n",
       "      <td>NaN</td>\n",
       "      <td>NaN</td>\n",
       "    </tr>\n",
       "    <tr>\n",
       "      <th>...</th>\n",
       "      <td>...</td>\n",
       "      <td>...</td>\n",
       "      <td>...</td>\n",
       "    </tr>\n",
       "    <tr>\n",
       "      <th>115</th>\n",
       "      <td>20170059075</td>\n",
       "      <td>STERILE</td>\n",
       "      <td>Sterile</td>\n",
       "    </tr>\n",
       "    <tr>\n",
       "      <th>116</th>\n",
       "      <td>20210062776</td>\n",
       "      <td>STERILE</td>\n",
       "      <td>Sterile</td>\n",
       "    </tr>\n",
       "    <tr>\n",
       "      <th>117</th>\n",
       "      <td>20240043449</td>\n",
       "      <td>STERILE</td>\n",
       "      <td>Sterile</td>\n",
       "    </tr>\n",
       "    <tr>\n",
       "      <th>118</th>\n",
       "      <td>20240076642</td>\n",
       "      <td>STERILE</td>\n",
       "      <td>Sterile</td>\n",
       "    </tr>\n",
       "    <tr>\n",
       "      <th>119</th>\n",
       "      <td>20240094375</td>\n",
       "      <td>STERILE</td>\n",
       "      <td>NaN</td>\n",
       "    </tr>\n",
       "  </tbody>\n",
       "</table>\n",
       "<p>120 rows × 3 columns</p>\n",
       "</div>"
      ],
      "text/plain": [
       "            UHID                                              RAMJA  \\\n",
       "0    20220065432                              ENTEROCOCCUS FAECALIS   \n",
       "1    20240016182                                                NaN   \n",
       "2    20230125389  E.COLI, K.PNEUMONIAE, P. AERUGINOSA, A. BAUMAN...   \n",
       "3    20180022685  K.PNEUMONIAE, E. FAECALIS, P. MIRABILIS,  A. B...   \n",
       "4    20201415102                                                NaN   \n",
       "..           ...                                                ...   \n",
       "115  20170059075                                            STERILE   \n",
       "116  20210062776                                            STERILE   \n",
       "117  20240043449                                            STERILE   \n",
       "118  20240076642                                            STERILE   \n",
       "119  20240094375                                            STERILE   \n",
       "\n",
       "                     AIIMS  \n",
       "0    Enterococcus faecalis  \n",
       "1            Contamination  \n",
       "2                   E.coli  \n",
       "3            CONTAMINATION  \n",
       "4                      NaN  \n",
       "..                     ...  \n",
       "115                Sterile  \n",
       "116                Sterile  \n",
       "117                Sterile  \n",
       "118                Sterile  \n",
       "119                    NaN  \n",
       "\n",
       "[120 rows x 3 columns]"
      ]
     },
     "execution_count": 12,
     "metadata": {},
     "output_type": "execute_result"
    }
   ],
   "source": [
    "data"
   ]
  }
 ],
 "metadata": {
  "kernelspec": {
   "display_name": "Python 3",
   "language": "python",
   "name": "python3"
  },
  "language_info": {
   "codemirror_mode": {
    "name": "ipython",
    "version": 3
   },
   "file_extension": ".py",
   "mimetype": "text/x-python",
   "name": "python",
   "nbconvert_exporter": "python",
   "pygments_lexer": "ipython3",
   "version": "3.9.10"
  }
 },
 "nbformat": 4,
 "nbformat_minor": 2
}
