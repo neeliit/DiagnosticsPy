{
 "cells": [
  {
   "cell_type": "code",
   "execution_count": 1,
   "metadata": {},
   "outputs": [],
   "source": [
    "import pandas as pd\n",
    "import numpy as np"
   ]
  },
  {
   "cell_type": "code",
   "execution_count": 3,
   "metadata": {},
   "outputs": [
    {
     "data": {
      "text/html": [
       "<div>\n",
       "<style scoped>\n",
       "    .dataframe tbody tr th:only-of-type {\n",
       "        vertical-align: middle;\n",
       "    }\n",
       "\n",
       "    .dataframe tbody tr th {\n",
       "        vertical-align: top;\n",
       "    }\n",
       "\n",
       "    .dataframe thead th {\n",
       "        text-align: right;\n",
       "    }\n",
       "</style>\n",
       "<table border=\"1\" class=\"dataframe\">\n",
       "  <thead>\n",
       "    <tr style=\"text-align: right;\">\n",
       "      <th></th>\n",
       "      <th>UHID</th>\n",
       "      <th>Patients Name</th>\n",
       "      <th>RAMJA Results</th>\n",
       "    </tr>\n",
       "  </thead>\n",
       "  <tbody>\n",
       "    <tr>\n",
       "      <th>0</th>\n",
       "      <td>20220065432</td>\n",
       "      <td>Sahroj</td>\n",
       "      <td>Enterococcus faecalis</td>\n",
       "    </tr>\n",
       "    <tr>\n",
       "      <th>1</th>\n",
       "      <td>20240016182</td>\n",
       "      <td>Shyanu</td>\n",
       "      <td>NaN</td>\n",
       "    </tr>\n",
       "    <tr>\n",
       "      <th>2</th>\n",
       "      <td>20230125389</td>\n",
       "      <td>Saloni</td>\n",
       "      <td>E.Coli, K.pneumoniae, P. aeruginosa, A. bauman...</td>\n",
       "    </tr>\n",
       "    <tr>\n",
       "      <th>3</th>\n",
       "      <td>20180022685</td>\n",
       "      <td>Ravita</td>\n",
       "      <td>K.pneumoniae, E. faecalis, P. mirabilis,  A. b...</td>\n",
       "    </tr>\n",
       "    <tr>\n",
       "      <th>4</th>\n",
       "      <td>20201415102</td>\n",
       "      <td>Jyoti</td>\n",
       "      <td>NaN</td>\n",
       "    </tr>\n",
       "  </tbody>\n",
       "</table>\n",
       "</div>"
      ],
      "text/plain": [
       "          UHID Patients Name  \\\n",
       "0  20220065432        Sahroj   \n",
       "1  20240016182        Shyanu   \n",
       "2  20230125389        Saloni   \n",
       "3  20180022685        Ravita   \n",
       "4  20201415102         Jyoti   \n",
       "\n",
       "                                       RAMJA Results  \n",
       "0                              Enterococcus faecalis  \n",
       "1                                                NaN  \n",
       "2  E.Coli, K.pneumoniae, P. aeruginosa, A. bauman...  \n",
       "3  K.pneumoniae, E. faecalis, P. mirabilis,  A. b...  \n",
       "4                                                NaN  "
      ]
     },
     "execution_count": 3,
     "metadata": {},
     "output_type": "execute_result"
    }
   ],
   "source": [
    "data = pd.read_excel(\"bacteria.xlsx\")\n",
    "#data = data.iloc[:,1:2]\n",
    "data.head()"
   ]
  },
  {
   "cell_type": "code",
   "execution_count": 11,
   "metadata": {},
   "outputs": [
    {
     "data": {
      "text/plain": [
       "(146, 3)"
      ]
     },
     "execution_count": 11,
     "metadata": {},
     "output_type": "execute_result"
    }
   ],
   "source": [
    "data.shape"
   ]
  },
  {
   "cell_type": "code",
   "execution_count": 10,
   "metadata": {},
   "outputs": [
    {
     "data": {
      "text/plain": [
       "'ENTEROCOCCUS FAECALIS'"
      ]
     },
     "execution_count": 10,
     "metadata": {},
     "output_type": "execute_result"
    }
   ],
   "source": [
    "bacteria[0].upper()"
   ]
  },
  {
   "cell_type": "code",
   "execution_count": 13,
   "metadata": {},
   "outputs": [],
   "source": [
    "data = data.dropna()"
   ]
  },
  {
   "cell_type": "code",
   "execution_count": 16,
   "metadata": {},
   "outputs": [
    {
     "data": {
      "text/html": [
       "<div>\n",
       "<style scoped>\n",
       "    .dataframe tbody tr th:only-of-type {\n",
       "        vertical-align: middle;\n",
       "    }\n",
       "\n",
       "    .dataframe tbody tr th {\n",
       "        vertical-align: top;\n",
       "    }\n",
       "\n",
       "    .dataframe thead th {\n",
       "        text-align: right;\n",
       "    }\n",
       "</style>\n",
       "<table border=\"1\" class=\"dataframe\">\n",
       "  <thead>\n",
       "    <tr style=\"text-align: right;\">\n",
       "      <th></th>\n",
       "      <th>UHID</th>\n",
       "      <th>Patients Name</th>\n",
       "      <th>RAMJA Results</th>\n",
       "    </tr>\n",
       "  </thead>\n",
       "  <tbody>\n",
       "    <tr>\n",
       "      <th>0</th>\n",
       "      <td>20220065432</td>\n",
       "      <td>Sahroj</td>\n",
       "      <td>Enterococcus faecalis</td>\n",
       "    </tr>\n",
       "    <tr>\n",
       "      <th>2</th>\n",
       "      <td>20230125389</td>\n",
       "      <td>Saloni</td>\n",
       "      <td>E.Coli, K.pneumoniae, P. aeruginosa, A. bauman...</td>\n",
       "    </tr>\n",
       "    <tr>\n",
       "      <th>3</th>\n",
       "      <td>20180022685</td>\n",
       "      <td>Ravita</td>\n",
       "      <td>K.pneumoniae, E. faecalis, P. mirabilis,  A. b...</td>\n",
       "    </tr>\n",
       "    <tr>\n",
       "      <th>5</th>\n",
       "      <td>20240012395</td>\n",
       "      <td>kedari Devi</td>\n",
       "      <td>E.coli, A. baumannii, P.mirabilis, E. faecalis...</td>\n",
       "    </tr>\n",
       "    <tr>\n",
       "      <th>6</th>\n",
       "      <td>20220166372</td>\n",
       "      <td>Babita Devi</td>\n",
       "      <td>Pseudomonas, P.mirabilis, E.Faecalis, S. aureus</td>\n",
       "    </tr>\n",
       "  </tbody>\n",
       "</table>\n",
       "</div>"
      ],
      "text/plain": [
       "          UHID Patients Name  \\\n",
       "0  20220065432        Sahroj   \n",
       "2  20230125389        Saloni   \n",
       "3  20180022685        Ravita   \n",
       "5  20240012395   kedari Devi   \n",
       "6  20220166372   Babita Devi   \n",
       "\n",
       "                                       RAMJA Results  \n",
       "0                              Enterococcus faecalis  \n",
       "2  E.Coli, K.pneumoniae, P. aeruginosa, A. bauman...  \n",
       "3  K.pneumoniae, E. faecalis, P. mirabilis,  A. b...  \n",
       "5  E.coli, A. baumannii, P.mirabilis, E. faecalis...  \n",
       "6    Pseudomonas, P.mirabilis, E.Faecalis, S. aureus  "
      ]
     },
     "execution_count": 16,
     "metadata": {},
     "output_type": "execute_result"
    }
   ],
   "source": [
    "data.head()"
   ]
  },
  {
   "cell_type": "code",
   "execution_count": 14,
   "metadata": {},
   "outputs": [],
   "source": [
    "bacteria = data['RAMJA Results']"
   ]
  },
  {
   "cell_type": "code",
   "execution_count": 20,
   "metadata": {},
   "outputs": [],
   "source": [
    "def cleanup(name):\n",
    "    #name = name.replace(\";\",\"\")\n",
    "    #name = name.strip()\n",
    "    name = name.upper()\n",
    "    return name"
   ]
  },
  {
   "cell_type": "code",
   "execution_count": 21,
   "metadata": {},
   "outputs": [
    {
     "data": {
      "text/plain": [
       "0                                  ENTEROCOCCUS FAECALIS\n",
       "2      E.COLI, K.PNEUMONIAE, P. AERUGINOSA, A. BAUMAN...\n",
       "3      K.PNEUMONIAE, E. FAECALIS, P. MIRABILIS,  A. B...\n",
       "5      E.COLI, A. BAUMANNII, P.MIRABILIS, E. FAECALIS...\n",
       "6        PSEUDOMONAS, P.MIRABILIS, E.FAECALIS, S. AUREUS\n",
       "                             ...                        \n",
       "141                                              STERILE\n",
       "142                                              STERILE\n",
       "143                                              STERILE\n",
       "144                                      S SAPROPHYTICUS\n",
       "145                                              STERILE\n",
       "Name: RAMJA Results, Length: 143, dtype: object"
      ]
     },
     "execution_count": 21,
     "metadata": {},
     "output_type": "execute_result"
    }
   ],
   "source": [
    "data['RAMJA Results'].apply(cleanup)"
   ]
  }
 ],
 "metadata": {
  "kernelspec": {
   "display_name": "Python 3",
   "language": "python",
   "name": "python3"
  },
  "language_info": {
   "codemirror_mode": {
    "name": "ipython",
    "version": 3
   },
   "file_extension": ".py",
   "mimetype": "text/x-python",
   "name": "python",
   "nbconvert_exporter": "python",
   "pygments_lexer": "ipython3",
   "version": "3.9.10"
  }
 },
 "nbformat": 4,
 "nbformat_minor": 2
}
