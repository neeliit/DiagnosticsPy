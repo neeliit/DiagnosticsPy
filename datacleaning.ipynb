{
 "cells": [
  {
   "cell_type": "code",
   "execution_count": 96,
   "metadata": {},
   "outputs": [],
   "source": [
    "import pandas as pd\n",
    "import numpy as np"
   ]
  },
  {
   "cell_type": "code",
   "execution_count": 97,
   "metadata": {},
   "outputs": [],
   "source": [
    "data = pd.read_excel(\"URINELOTS.xlsx\")\n",
    "#data.head()"
   ]
  },
  {
   "cell_type": "code",
   "execution_count": 98,
   "metadata": {},
   "outputs": [
    {
     "data": {
      "text/plain": [
       "(146, 16)"
      ]
     },
     "execution_count": 98,
     "metadata": {},
     "output_type": "execute_result"
    }
   ],
   "source": [
    "data.shape"
   ]
  },
  {
   "cell_type": "markdown",
   "metadata": {},
   "source": [
    "#### DATA cleaning"
   ]
  },
  {
   "cell_type": "code",
   "execution_count": 99,
   "metadata": {},
   "outputs": [],
   "source": [
    "data = data.dropna(subset=['RAMJA Results','AIIMS Result culture'])"
   ]
  },
  {
   "cell_type": "code",
   "execution_count": 100,
   "metadata": {},
   "outputs": [],
   "source": [
    "import re\n",
    "def cleanup(text):\n",
    "    text = text.upper()\n",
    "    text = text.replace(\".\", \" \")\n",
    "    text = text.replace(\" AND \", \" \")\n",
    "    text = re.sub(r'\\s+', ' ', text)  # Use re.sub for regular expression replacement\n",
    "    text = text.strip()\n",
    "    return text\n"
   ]
  },
  {
   "cell_type": "code",
   "execution_count": 101,
   "metadata": {},
   "outputs": [],
   "source": [
    "bacteriatypes = {\n",
    "    \"COLI\" : 'Escherichia coli', \n",
    "    \"PNEUMO\" : 'Klebsiella pneumoniae',\n",
    "    \"AERUGI\" : 'Pseudomonas aeruginosa',\n",
    "    \"BAUMAN\" : 'Acinetobacter baumannii', \n",
    "    \"MIRABIL\" : 'Proteus mirabilis', \n",
    "    \"FAECALI\" : 'Enterococcus faecalis', \n",
    "    \"AUREUS\" : 'Staphylococcus aureus', \n",
    "    \"SAPROPHY\" : 'Staphylococcus saprophyticus',\n",
    "    \"STERI\" : 'Sterile'\n",
    "}\n",
    "#['Escherichia coli','Klebsiella pneumoniae','Pseudomonas aeruginosa','Acinetobacter baumannii','Proteus mirabilis','Enterococcus faecalis','Staphylococcus aureus','Staphylococcus saprophyticus','Sterile']"
   ]
  },
  {
   "cell_type": "markdown",
   "metadata": {},
   "source": [
    "#### RAMJA results"
   ]
  },
  {
   "cell_type": "code",
   "execution_count": 102,
   "metadata": {},
   "outputs": [],
   "source": [
    "resultsRAMJA = data[['UHID','RAMJA Results']]"
   ]
  },
  {
   "cell_type": "code",
   "execution_count": 103,
   "metadata": {},
   "outputs": [
    {
     "name": "stderr",
     "output_type": "stream",
     "text": [
      "C:\\Users\\neelesh\\AppData\\Local\\Temp\\ipykernel_9308\\766998183.py:1: SettingWithCopyWarning: \n",
      "A value is trying to be set on a copy of a slice from a DataFrame.\n",
      "Try using .loc[row_indexer,col_indexer] = value instead\n",
      "\n",
      "See the caveats in the documentation: https://pandas.pydata.org/pandas-docs/stable/user_guide/indexing.html#returning-a-view-versus-a-copy\n",
      "  resultsRAMJA['cleanRAMJA'] = resultsRAMJA['RAMJA Results'].apply(cleanup)\n"
     ]
    }
   ],
   "source": [
    "resultsRAMJA['cleanRAMJA'] = resultsRAMJA['RAMJA Results'].apply(cleanup)"
   ]
  },
  {
   "cell_type": "code",
   "execution_count": 104,
   "metadata": {},
   "outputs": [
    {
     "data": {
      "text/html": [
       "<div>\n",
       "<style scoped>\n",
       "    .dataframe tbody tr th:only-of-type {\n",
       "        vertical-align: middle;\n",
       "    }\n",
       "\n",
       "    .dataframe tbody tr th {\n",
       "        vertical-align: top;\n",
       "    }\n",
       "\n",
       "    .dataframe thead th {\n",
       "        text-align: right;\n",
       "    }\n",
       "</style>\n",
       "<table border=\"1\" class=\"dataframe\">\n",
       "  <thead>\n",
       "    <tr style=\"text-align: right;\">\n",
       "      <th></th>\n",
       "      <th>UHID</th>\n",
       "      <th>RAMJA Results</th>\n",
       "      <th>cleanRAMJA</th>\n",
       "    </tr>\n",
       "  </thead>\n",
       "  <tbody>\n",
       "    <tr>\n",
       "      <th>0</th>\n",
       "      <td>20220065432</td>\n",
       "      <td>Enterococcus faecalis</td>\n",
       "      <td>ENTEROCOCCUS FAECALIS</td>\n",
       "    </tr>\n",
       "    <tr>\n",
       "      <th>2</th>\n",
       "      <td>20230125389</td>\n",
       "      <td>E.Coli, K.pneumoniae, P. aeruginosa, A. bauman...</td>\n",
       "      <td>E COLI, K PNEUMONIAE, P AERUGINOSA, A BAUMANNI...</td>\n",
       "    </tr>\n",
       "    <tr>\n",
       "      <th>3</th>\n",
       "      <td>20180022685</td>\n",
       "      <td>K.pneumoniae, E. faecalis, P. mirabilis,  A. b...</td>\n",
       "      <td>K PNEUMONIAE, E FAECALIS, P MIRABILIS, A BAUMA...</td>\n",
       "    </tr>\n",
       "    <tr>\n",
       "      <th>5</th>\n",
       "      <td>20240012395</td>\n",
       "      <td>Polymicrobial (E.coli, A. baumannii, P.mirabil...</td>\n",
       "      <td>POLYMICROBIAL (E COLI, A BAUMANNII, P MIRABILI...</td>\n",
       "    </tr>\n",
       "    <tr>\n",
       "      <th>6</th>\n",
       "      <td>20220166372</td>\n",
       "      <td>Pseudomonas, P.mirabilis, E.Faecalis, S. aureus</td>\n",
       "      <td>PSEUDOMONAS, P MIRABILIS, E FAECALIS, S AUREUS</td>\n",
       "    </tr>\n",
       "  </tbody>\n",
       "</table>\n",
       "</div>"
      ],
      "text/plain": [
       "          UHID                                      RAMJA Results  \\\n",
       "0  20220065432                              Enterococcus faecalis   \n",
       "2  20230125389  E.Coli, K.pneumoniae, P. aeruginosa, A. bauman...   \n",
       "3  20180022685  K.pneumoniae, E. faecalis, P. mirabilis,  A. b...   \n",
       "5  20240012395  Polymicrobial (E.coli, A. baumannii, P.mirabil...   \n",
       "6  20220166372    Pseudomonas, P.mirabilis, E.Faecalis, S. aureus   \n",
       "\n",
       "                                          cleanRAMJA  \n",
       "0                              ENTEROCOCCUS FAECALIS  \n",
       "2  E COLI, K PNEUMONIAE, P AERUGINOSA, A BAUMANNI...  \n",
       "3  K PNEUMONIAE, E FAECALIS, P MIRABILIS, A BAUMA...  \n",
       "5  POLYMICROBIAL (E COLI, A BAUMANNII, P MIRABILI...  \n",
       "6     PSEUDOMONAS, P MIRABILIS, E FAECALIS, S AUREUS  "
      ]
     },
     "execution_count": 104,
     "metadata": {},
     "output_type": "execute_result"
    }
   ],
   "source": [
    "resultsRAMJA.head()"
   ]
  },
  {
   "cell_type": "code",
   "execution_count": 105,
   "metadata": {},
   "outputs": [
    {
     "data": {
      "text/plain": [
       "1"
      ]
     },
     "execution_count": 105,
     "metadata": {},
     "output_type": "execute_result"
    }
   ],
   "source": [
    "def check(mainstring, s1, s2):\n",
    "    if (mainstring.count(s1) > 0 or mainstring.count(s2) > 0):\n",
    "        #print(\"YES\")\n",
    "        return(1)\n",
    "    else:\n",
    "        #print(\"NO\")\n",
    "        return(0)\n",
    "\n",
    "\n",
    "mainstring = \"E COLI, K PNEUMONIAE, P AERUGINOSA, A BAUMANNI\"\n",
    "s1 = \"E COLI\"\n",
    "s2 = \"K PNEUMONIAE\"\n",
    "check(mainstring, s2, s1)"
   ]
  },
  {
   "cell_type": "code",
   "execution_count": 106,
   "metadata": {},
   "outputs": [
    {
     "name": "stderr",
     "output_type": "stream",
     "text": [
      "C:\\Users\\neelesh\\AppData\\Local\\Temp\\ipykernel_9308\\1057333925.py:4: SettingWithCopyWarning: \n",
      "A value is trying to be set on a copy of a slice from a DataFrame.\n",
      "Try using .loc[row_indexer,col_indexer] = value instead\n",
      "\n",
      "See the caveats in the documentation: https://pandas.pydata.org/pandas-docs/stable/user_guide/indexing.html#returning-a-view-versus-a-copy\n",
      "  resultsRAMJA[s2] = resultsRAMJA['cleanRAMJA'].apply(lambda x: check(x, s1, s2))\n",
      "C:\\Users\\neelesh\\AppData\\Local\\Temp\\ipykernel_9308\\1057333925.py:4: SettingWithCopyWarning: \n",
      "A value is trying to be set on a copy of a slice from a DataFrame.\n",
      "Try using .loc[row_indexer,col_indexer] = value instead\n",
      "\n",
      "See the caveats in the documentation: https://pandas.pydata.org/pandas-docs/stable/user_guide/indexing.html#returning-a-view-versus-a-copy\n",
      "  resultsRAMJA[s2] = resultsRAMJA['cleanRAMJA'].apply(lambda x: check(x, s1, s2))\n",
      "C:\\Users\\neelesh\\AppData\\Local\\Temp\\ipykernel_9308\\1057333925.py:4: SettingWithCopyWarning: \n",
      "A value is trying to be set on a copy of a slice from a DataFrame.\n",
      "Try using .loc[row_indexer,col_indexer] = value instead\n",
      "\n",
      "See the caveats in the documentation: https://pandas.pydata.org/pandas-docs/stable/user_guide/indexing.html#returning-a-view-versus-a-copy\n",
      "  resultsRAMJA[s2] = resultsRAMJA['cleanRAMJA'].apply(lambda x: check(x, s1, s2))\n",
      "C:\\Users\\neelesh\\AppData\\Local\\Temp\\ipykernel_9308\\1057333925.py:4: SettingWithCopyWarning: \n",
      "A value is trying to be set on a copy of a slice from a DataFrame.\n",
      "Try using .loc[row_indexer,col_indexer] = value instead\n",
      "\n",
      "See the caveats in the documentation: https://pandas.pydata.org/pandas-docs/stable/user_guide/indexing.html#returning-a-view-versus-a-copy\n",
      "  resultsRAMJA[s2] = resultsRAMJA['cleanRAMJA'].apply(lambda x: check(x, s1, s2))\n",
      "C:\\Users\\neelesh\\AppData\\Local\\Temp\\ipykernel_9308\\1057333925.py:4: SettingWithCopyWarning: \n",
      "A value is trying to be set on a copy of a slice from a DataFrame.\n",
      "Try using .loc[row_indexer,col_indexer] = value instead\n",
      "\n",
      "See the caveats in the documentation: https://pandas.pydata.org/pandas-docs/stable/user_guide/indexing.html#returning-a-view-versus-a-copy\n",
      "  resultsRAMJA[s2] = resultsRAMJA['cleanRAMJA'].apply(lambda x: check(x, s1, s2))\n",
      "C:\\Users\\neelesh\\AppData\\Local\\Temp\\ipykernel_9308\\1057333925.py:4: SettingWithCopyWarning: \n",
      "A value is trying to be set on a copy of a slice from a DataFrame.\n",
      "Try using .loc[row_indexer,col_indexer] = value instead\n",
      "\n",
      "See the caveats in the documentation: https://pandas.pydata.org/pandas-docs/stable/user_guide/indexing.html#returning-a-view-versus-a-copy\n",
      "  resultsRAMJA[s2] = resultsRAMJA['cleanRAMJA'].apply(lambda x: check(x, s1, s2))\n",
      "C:\\Users\\neelesh\\AppData\\Local\\Temp\\ipykernel_9308\\1057333925.py:4: SettingWithCopyWarning: \n",
      "A value is trying to be set on a copy of a slice from a DataFrame.\n",
      "Try using .loc[row_indexer,col_indexer] = value instead\n",
      "\n",
      "See the caveats in the documentation: https://pandas.pydata.org/pandas-docs/stable/user_guide/indexing.html#returning-a-view-versus-a-copy\n",
      "  resultsRAMJA[s2] = resultsRAMJA['cleanRAMJA'].apply(lambda x: check(x, s1, s2))\n",
      "C:\\Users\\neelesh\\AppData\\Local\\Temp\\ipykernel_9308\\1057333925.py:4: SettingWithCopyWarning: \n",
      "A value is trying to be set on a copy of a slice from a DataFrame.\n",
      "Try using .loc[row_indexer,col_indexer] = value instead\n",
      "\n",
      "See the caveats in the documentation: https://pandas.pydata.org/pandas-docs/stable/user_guide/indexing.html#returning-a-view-versus-a-copy\n",
      "  resultsRAMJA[s2] = resultsRAMJA['cleanRAMJA'].apply(lambda x: check(x, s1, s2))\n",
      "C:\\Users\\neelesh\\AppData\\Local\\Temp\\ipykernel_9308\\1057333925.py:4: SettingWithCopyWarning: \n",
      "A value is trying to be set on a copy of a slice from a DataFrame.\n",
      "Try using .loc[row_indexer,col_indexer] = value instead\n",
      "\n",
      "See the caveats in the documentation: https://pandas.pydata.org/pandas-docs/stable/user_guide/indexing.html#returning-a-view-versus-a-copy\n",
      "  resultsRAMJA[s2] = resultsRAMJA['cleanRAMJA'].apply(lambda x: check(x, s1, s2))\n"
     ]
    }
   ],
   "source": [
    "genus = [\"ESCHER\",\"KLEBS\",\"PSEUDO\",\"ACINE\",\"PROT\",\"ENTER\",\"AURE\",\"SAPRO\",\"STERI\"]\n",
    "species = [\"COLI\", \"PNEUMO\", \"AERUGI\", \"BAUMAN\", \"MIRABIL\", \"FAECALI\", \"AUREUS\", \"SAPROPHY\", \"STERI\"]\n",
    "for s1, s2 in zip(genus,species):\n",
    "    resultsRAMJA[s2] = resultsRAMJA['cleanRAMJA'].apply(lambda x: check(x, s1, s2))"
   ]
  },
  {
   "cell_type": "code",
   "execution_count": 71,
   "metadata": {},
   "outputs": [],
   "source": [
    "#resultsRAMJA.head()"
   ]
  },
  {
   "cell_type": "code",
   "execution_count": 107,
   "metadata": {},
   "outputs": [
    {
     "name": "stderr",
     "output_type": "stream",
     "text": [
      "C:\\Users\\neelesh\\AppData\\Local\\Temp\\ipykernel_9308\\78547064.py:1: SettingWithCopyWarning: \n",
      "A value is trying to be set on a copy of a slice from a DataFrame\n",
      "\n",
      "See the caveats in the documentation: https://pandas.pydata.org/pandas-docs/stable/user_guide/indexing.html#returning-a-view-versus-a-copy\n",
      "  resultsRAMJA.rename(columns=bacteriatypes, inplace=True)\n"
     ]
    }
   ],
   "source": [
    "resultsRAMJA.rename(columns=bacteriatypes, inplace=True)"
   ]
  },
  {
   "cell_type": "code",
   "execution_count": 74,
   "metadata": {},
   "outputs": [],
   "source": [
    "#resultsRAMJA.head()"
   ]
  },
  {
   "cell_type": "code",
   "execution_count": 108,
   "metadata": {},
   "outputs": [],
   "source": [
    "columns_to_modify = ['Escherichia coli','Klebsiella pneumoniae','Pseudomonas aeruginosa','Acinetobacter baumannii','Proteus mirabilis','Enterococcus faecalis','Staphylococcus aureus','Staphylococcus saprophyticus','Sterile']"
   ]
  },
  {
   "cell_type": "code",
   "execution_count": 109,
   "metadata": {},
   "outputs": [
    {
     "name": "stderr",
     "output_type": "stream",
     "text": [
      "C:\\Users\\neelesh\\AppData\\Local\\Temp\\ipykernel_9308\\1583815861.py:1: SettingWithCopyWarning: \n",
      "A value is trying to be set on a copy of a slice from a DataFrame\n",
      "\n",
      "See the caveats in the documentation: https://pandas.pydata.org/pandas-docs/stable/user_guide/indexing.html#returning-a-view-versus-a-copy\n",
      "  resultsRAMJA.rename(columns={col: f\"{col}_R\" for col in columns_to_modify}, inplace=True)\n"
     ]
    }
   ],
   "source": [
    "resultsRAMJA.rename(columns={col: f\"{col}_R\" for col in columns_to_modify}, inplace=True)"
   ]
  },
  {
   "cell_type": "code",
   "execution_count": 110,
   "metadata": {},
   "outputs": [
    {
     "data": {
      "text/html": [
       "<div>\n",
       "<style scoped>\n",
       "    .dataframe tbody tr th:only-of-type {\n",
       "        vertical-align: middle;\n",
       "    }\n",
       "\n",
       "    .dataframe tbody tr th {\n",
       "        vertical-align: top;\n",
       "    }\n",
       "\n",
       "    .dataframe thead th {\n",
       "        text-align: right;\n",
       "    }\n",
       "</style>\n",
       "<table border=\"1\" class=\"dataframe\">\n",
       "  <thead>\n",
       "    <tr style=\"text-align: right;\">\n",
       "      <th></th>\n",
       "      <th>UHID</th>\n",
       "      <th>RAMJA Results</th>\n",
       "      <th>cleanRAMJA</th>\n",
       "      <th>Escherichia coli_R</th>\n",
       "      <th>Klebsiella pneumoniae_R</th>\n",
       "      <th>Pseudomonas aeruginosa_R</th>\n",
       "      <th>Acinetobacter baumannii_R</th>\n",
       "      <th>Proteus mirabilis_R</th>\n",
       "      <th>Enterococcus faecalis_R</th>\n",
       "      <th>Staphylococcus aureus_R</th>\n",
       "      <th>Staphylococcus saprophyticus_R</th>\n",
       "      <th>Sterile_R</th>\n",
       "    </tr>\n",
       "  </thead>\n",
       "  <tbody>\n",
       "    <tr>\n",
       "      <th>0</th>\n",
       "      <td>20220065432</td>\n",
       "      <td>Enterococcus faecalis</td>\n",
       "      <td>ENTEROCOCCUS FAECALIS</td>\n",
       "      <td>0</td>\n",
       "      <td>0</td>\n",
       "      <td>0</td>\n",
       "      <td>0</td>\n",
       "      <td>0</td>\n",
       "      <td>1</td>\n",
       "      <td>0</td>\n",
       "      <td>0</td>\n",
       "      <td>0</td>\n",
       "    </tr>\n",
       "    <tr>\n",
       "      <th>2</th>\n",
       "      <td>20230125389</td>\n",
       "      <td>E.Coli, K.pneumoniae, P. aeruginosa, A. bauman...</td>\n",
       "      <td>E COLI, K PNEUMONIAE, P AERUGINOSA, A BAUMANNI...</td>\n",
       "      <td>1</td>\n",
       "      <td>1</td>\n",
       "      <td>1</td>\n",
       "      <td>1</td>\n",
       "      <td>0</td>\n",
       "      <td>0</td>\n",
       "      <td>1</td>\n",
       "      <td>0</td>\n",
       "      <td>0</td>\n",
       "    </tr>\n",
       "    <tr>\n",
       "      <th>3</th>\n",
       "      <td>20180022685</td>\n",
       "      <td>K.pneumoniae, E. faecalis, P. mirabilis,  A. b...</td>\n",
       "      <td>K PNEUMONIAE, E FAECALIS, P MIRABILIS, A BAUMA...</td>\n",
       "      <td>0</td>\n",
       "      <td>1</td>\n",
       "      <td>0</td>\n",
       "      <td>1</td>\n",
       "      <td>1</td>\n",
       "      <td>1</td>\n",
       "      <td>1</td>\n",
       "      <td>0</td>\n",
       "      <td>0</td>\n",
       "    </tr>\n",
       "    <tr>\n",
       "      <th>5</th>\n",
       "      <td>20240012395</td>\n",
       "      <td>Polymicrobial (E.coli, A. baumannii, P.mirabil...</td>\n",
       "      <td>POLYMICROBIAL (E COLI, A BAUMANNII, P MIRABILI...</td>\n",
       "      <td>1</td>\n",
       "      <td>0</td>\n",
       "      <td>0</td>\n",
       "      <td>1</td>\n",
       "      <td>1</td>\n",
       "      <td>1</td>\n",
       "      <td>1</td>\n",
       "      <td>0</td>\n",
       "      <td>0</td>\n",
       "    </tr>\n",
       "    <tr>\n",
       "      <th>6</th>\n",
       "      <td>20220166372</td>\n",
       "      <td>Pseudomonas, P.mirabilis, E.Faecalis, S. aureus</td>\n",
       "      <td>PSEUDOMONAS, P MIRABILIS, E FAECALIS, S AUREUS</td>\n",
       "      <td>0</td>\n",
       "      <td>0</td>\n",
       "      <td>1</td>\n",
       "      <td>0</td>\n",
       "      <td>1</td>\n",
       "      <td>1</td>\n",
       "      <td>1</td>\n",
       "      <td>0</td>\n",
       "      <td>0</td>\n",
       "    </tr>\n",
       "  </tbody>\n",
       "</table>\n",
       "</div>"
      ],
      "text/plain": [
       "          UHID                                      RAMJA Results  \\\n",
       "0  20220065432                              Enterococcus faecalis   \n",
       "2  20230125389  E.Coli, K.pneumoniae, P. aeruginosa, A. bauman...   \n",
       "3  20180022685  K.pneumoniae, E. faecalis, P. mirabilis,  A. b...   \n",
       "5  20240012395  Polymicrobial (E.coli, A. baumannii, P.mirabil...   \n",
       "6  20220166372    Pseudomonas, P.mirabilis, E.Faecalis, S. aureus   \n",
       "\n",
       "                                          cleanRAMJA  Escherichia coli_R  \\\n",
       "0                              ENTEROCOCCUS FAECALIS                   0   \n",
       "2  E COLI, K PNEUMONIAE, P AERUGINOSA, A BAUMANNI...                   1   \n",
       "3  K PNEUMONIAE, E FAECALIS, P MIRABILIS, A BAUMA...                   0   \n",
       "5  POLYMICROBIAL (E COLI, A BAUMANNII, P MIRABILI...                   1   \n",
       "6     PSEUDOMONAS, P MIRABILIS, E FAECALIS, S AUREUS                   0   \n",
       "\n",
       "   Klebsiella pneumoniae_R  Pseudomonas aeruginosa_R  \\\n",
       "0                        0                         0   \n",
       "2                        1                         1   \n",
       "3                        1                         0   \n",
       "5                        0                         0   \n",
       "6                        0                         1   \n",
       "\n",
       "   Acinetobacter baumannii_R  Proteus mirabilis_R  Enterococcus faecalis_R  \\\n",
       "0                          0                    0                        1   \n",
       "2                          1                    0                        0   \n",
       "3                          1                    1                        1   \n",
       "5                          1                    1                        1   \n",
       "6                          0                    1                        1   \n",
       "\n",
       "   Staphylococcus aureus_R  Staphylococcus saprophyticus_R  Sterile_R  \n",
       "0                        0                               0          0  \n",
       "2                        1                               0          0  \n",
       "3                        1                               0          0  \n",
       "5                        1                               0          0  \n",
       "6                        1                               0          0  "
      ]
     },
     "execution_count": 110,
     "metadata": {},
     "output_type": "execute_result"
    }
   ],
   "source": [
    "resultsRAMJA.head()"
   ]
  },
  {
   "cell_type": "markdown",
   "metadata": {},
   "source": [
    "#### AIIMS results"
   ]
  },
  {
   "cell_type": "code",
   "execution_count": 111,
   "metadata": {},
   "outputs": [],
   "source": [
    "resultsAIIMS = data[['UHID','AIIMS Result culture']]"
   ]
  },
  {
   "cell_type": "code",
   "execution_count": 112,
   "metadata": {},
   "outputs": [
    {
     "name": "stderr",
     "output_type": "stream",
     "text": [
      "C:\\Users\\neelesh\\AppData\\Local\\Temp\\ipykernel_9308\\265187514.py:1: SettingWithCopyWarning: \n",
      "A value is trying to be set on a copy of a slice from a DataFrame.\n",
      "Try using .loc[row_indexer,col_indexer] = value instead\n",
      "\n",
      "See the caveats in the documentation: https://pandas.pydata.org/pandas-docs/stable/user_guide/indexing.html#returning-a-view-versus-a-copy\n",
      "  resultsAIIMS['cleanAIIMS'] = resultsAIIMS['AIIMS Result culture'].apply(cleanup)\n"
     ]
    }
   ],
   "source": [
    "resultsAIIMS['cleanAIIMS'] = resultsAIIMS['AIIMS Result culture'].apply(cleanup)"
   ]
  },
  {
   "cell_type": "code",
   "execution_count": 80,
   "metadata": {},
   "outputs": [],
   "source": [
    "#resultsAIIMS.head()"
   ]
  },
  {
   "cell_type": "code",
   "execution_count": 113,
   "metadata": {},
   "outputs": [
    {
     "name": "stderr",
     "output_type": "stream",
     "text": [
      "C:\\Users\\neelesh\\AppData\\Local\\Temp\\ipykernel_9308\\2996149377.py:4: SettingWithCopyWarning: \n",
      "A value is trying to be set on a copy of a slice from a DataFrame.\n",
      "Try using .loc[row_indexer,col_indexer] = value instead\n",
      "\n",
      "See the caveats in the documentation: https://pandas.pydata.org/pandas-docs/stable/user_guide/indexing.html#returning-a-view-versus-a-copy\n",
      "  resultsAIIMS[s2] = resultsAIIMS['cleanAIIMS'].apply(lambda x: check(x, s1, s2))\n",
      "C:\\Users\\neelesh\\AppData\\Local\\Temp\\ipykernel_9308\\2996149377.py:4: SettingWithCopyWarning: \n",
      "A value is trying to be set on a copy of a slice from a DataFrame.\n",
      "Try using .loc[row_indexer,col_indexer] = value instead\n",
      "\n",
      "See the caveats in the documentation: https://pandas.pydata.org/pandas-docs/stable/user_guide/indexing.html#returning-a-view-versus-a-copy\n",
      "  resultsAIIMS[s2] = resultsAIIMS['cleanAIIMS'].apply(lambda x: check(x, s1, s2))\n",
      "C:\\Users\\neelesh\\AppData\\Local\\Temp\\ipykernel_9308\\2996149377.py:4: SettingWithCopyWarning: \n",
      "A value is trying to be set on a copy of a slice from a DataFrame.\n",
      "Try using .loc[row_indexer,col_indexer] = value instead\n",
      "\n",
      "See the caveats in the documentation: https://pandas.pydata.org/pandas-docs/stable/user_guide/indexing.html#returning-a-view-versus-a-copy\n",
      "  resultsAIIMS[s2] = resultsAIIMS['cleanAIIMS'].apply(lambda x: check(x, s1, s2))\n",
      "C:\\Users\\neelesh\\AppData\\Local\\Temp\\ipykernel_9308\\2996149377.py:4: SettingWithCopyWarning: \n",
      "A value is trying to be set on a copy of a slice from a DataFrame.\n",
      "Try using .loc[row_indexer,col_indexer] = value instead\n",
      "\n",
      "See the caveats in the documentation: https://pandas.pydata.org/pandas-docs/stable/user_guide/indexing.html#returning-a-view-versus-a-copy\n",
      "  resultsAIIMS[s2] = resultsAIIMS['cleanAIIMS'].apply(lambda x: check(x, s1, s2))\n",
      "C:\\Users\\neelesh\\AppData\\Local\\Temp\\ipykernel_9308\\2996149377.py:4: SettingWithCopyWarning: \n",
      "A value is trying to be set on a copy of a slice from a DataFrame.\n",
      "Try using .loc[row_indexer,col_indexer] = value instead\n",
      "\n",
      "See the caveats in the documentation: https://pandas.pydata.org/pandas-docs/stable/user_guide/indexing.html#returning-a-view-versus-a-copy\n",
      "  resultsAIIMS[s2] = resultsAIIMS['cleanAIIMS'].apply(lambda x: check(x, s1, s2))\n",
      "C:\\Users\\neelesh\\AppData\\Local\\Temp\\ipykernel_9308\\2996149377.py:4: SettingWithCopyWarning: \n",
      "A value is trying to be set on a copy of a slice from a DataFrame.\n",
      "Try using .loc[row_indexer,col_indexer] = value instead\n",
      "\n",
      "See the caveats in the documentation: https://pandas.pydata.org/pandas-docs/stable/user_guide/indexing.html#returning-a-view-versus-a-copy\n",
      "  resultsAIIMS[s2] = resultsAIIMS['cleanAIIMS'].apply(lambda x: check(x, s1, s2))\n",
      "C:\\Users\\neelesh\\AppData\\Local\\Temp\\ipykernel_9308\\2996149377.py:4: SettingWithCopyWarning: \n",
      "A value is trying to be set on a copy of a slice from a DataFrame.\n",
      "Try using .loc[row_indexer,col_indexer] = value instead\n",
      "\n",
      "See the caveats in the documentation: https://pandas.pydata.org/pandas-docs/stable/user_guide/indexing.html#returning-a-view-versus-a-copy\n",
      "  resultsAIIMS[s2] = resultsAIIMS['cleanAIIMS'].apply(lambda x: check(x, s1, s2))\n",
      "C:\\Users\\neelesh\\AppData\\Local\\Temp\\ipykernel_9308\\2996149377.py:4: SettingWithCopyWarning: \n",
      "A value is trying to be set on a copy of a slice from a DataFrame.\n",
      "Try using .loc[row_indexer,col_indexer] = value instead\n",
      "\n",
      "See the caveats in the documentation: https://pandas.pydata.org/pandas-docs/stable/user_guide/indexing.html#returning-a-view-versus-a-copy\n",
      "  resultsAIIMS[s2] = resultsAIIMS['cleanAIIMS'].apply(lambda x: check(x, s1, s2))\n",
      "C:\\Users\\neelesh\\AppData\\Local\\Temp\\ipykernel_9308\\2996149377.py:4: SettingWithCopyWarning: \n",
      "A value is trying to be set on a copy of a slice from a DataFrame.\n",
      "Try using .loc[row_indexer,col_indexer] = value instead\n",
      "\n",
      "See the caveats in the documentation: https://pandas.pydata.org/pandas-docs/stable/user_guide/indexing.html#returning-a-view-versus-a-copy\n",
      "  resultsAIIMS[s2] = resultsAIIMS['cleanAIIMS'].apply(lambda x: check(x, s1, s2))\n"
     ]
    }
   ],
   "source": [
    "genus = [\"ESCHER\",\"KLEBS\",\"PSEUDO\",\"ACINE\",\"PROT\",\"ENTER\",\"AURE\",\"SAPRO\",\"STERI\"]\n",
    "species = [\"COLI\", \"PNEUMO\", \"AERUGI\", \"BAUMAN\", \"MIRABIL\", \"FAECALI\", \"AUREUS\", \"SAPROPHY\", \"STERI\"]\n",
    "for s1, s2 in zip(genus,species):\n",
    "    resultsAIIMS[s2] = resultsAIIMS['cleanAIIMS'].apply(lambda x: check(x, s1, s2))"
   ]
  },
  {
   "cell_type": "code",
   "execution_count": 85,
   "metadata": {},
   "outputs": [],
   "source": [
    "#resultsAIIMS.head()"
   ]
  },
  {
   "cell_type": "code",
   "execution_count": 114,
   "metadata": {},
   "outputs": [
    {
     "name": "stderr",
     "output_type": "stream",
     "text": [
      "C:\\Users\\neelesh\\AppData\\Local\\Temp\\ipykernel_9308\\4113831117.py:1: SettingWithCopyWarning: \n",
      "A value is trying to be set on a copy of a slice from a DataFrame\n",
      "\n",
      "See the caveats in the documentation: https://pandas.pydata.org/pandas-docs/stable/user_guide/indexing.html#returning-a-view-versus-a-copy\n",
      "  resultsAIIMS.rename(columns=bacteriatypes, inplace=True)\n"
     ]
    }
   ],
   "source": [
    "resultsAIIMS.rename(columns=bacteriatypes, inplace=True)"
   ]
  },
  {
   "cell_type": "code",
   "execution_count": 88,
   "metadata": {},
   "outputs": [],
   "source": [
    "#resultsAIIMS.head()"
   ]
  },
  {
   "cell_type": "code",
   "execution_count": 115,
   "metadata": {},
   "outputs": [
    {
     "name": "stderr",
     "output_type": "stream",
     "text": [
      "C:\\Users\\neelesh\\AppData\\Local\\Temp\\ipykernel_9308\\3656104579.py:1: SettingWithCopyWarning: \n",
      "A value is trying to be set on a copy of a slice from a DataFrame\n",
      "\n",
      "See the caveats in the documentation: https://pandas.pydata.org/pandas-docs/stable/user_guide/indexing.html#returning-a-view-versus-a-copy\n",
      "  resultsAIIMS.rename(columns={col: f\"{col}_A\" for col in columns_to_modify}, inplace=True)\n"
     ]
    }
   ],
   "source": [
    "resultsAIIMS.rename(columns={col: f\"{col}_A\" for col in columns_to_modify}, inplace=True)"
   ]
  },
  {
   "cell_type": "code",
   "execution_count": 116,
   "metadata": {},
   "outputs": [
    {
     "data": {
      "text/html": [
       "<div>\n",
       "<style scoped>\n",
       "    .dataframe tbody tr th:only-of-type {\n",
       "        vertical-align: middle;\n",
       "    }\n",
       "\n",
       "    .dataframe tbody tr th {\n",
       "        vertical-align: top;\n",
       "    }\n",
       "\n",
       "    .dataframe thead th {\n",
       "        text-align: right;\n",
       "    }\n",
       "</style>\n",
       "<table border=\"1\" class=\"dataframe\">\n",
       "  <thead>\n",
       "    <tr style=\"text-align: right;\">\n",
       "      <th></th>\n",
       "      <th>UHID</th>\n",
       "      <th>AIIMS Result culture</th>\n",
       "      <th>cleanAIIMS</th>\n",
       "      <th>Escherichia coli_A</th>\n",
       "      <th>Klebsiella pneumoniae_A</th>\n",
       "      <th>Pseudomonas aeruginosa_A</th>\n",
       "      <th>Acinetobacter baumannii_A</th>\n",
       "      <th>Proteus mirabilis_A</th>\n",
       "      <th>Enterococcus faecalis_A</th>\n",
       "      <th>Staphylococcus aureus_A</th>\n",
       "      <th>Staphylococcus saprophyticus_A</th>\n",
       "      <th>Sterile_A</th>\n",
       "    </tr>\n",
       "  </thead>\n",
       "  <tbody>\n",
       "    <tr>\n",
       "      <th>0</th>\n",
       "      <td>20220065432</td>\n",
       "      <td>Enterococcus faecalis</td>\n",
       "      <td>ENTEROCOCCUS FAECALIS</td>\n",
       "      <td>0</td>\n",
       "      <td>0</td>\n",
       "      <td>0</td>\n",
       "      <td>0</td>\n",
       "      <td>0</td>\n",
       "      <td>1</td>\n",
       "      <td>0</td>\n",
       "      <td>0</td>\n",
       "      <td>0</td>\n",
       "    </tr>\n",
       "    <tr>\n",
       "      <th>2</th>\n",
       "      <td>20230125389</td>\n",
       "      <td>E.coli</td>\n",
       "      <td>E COLI</td>\n",
       "      <td>1</td>\n",
       "      <td>0</td>\n",
       "      <td>0</td>\n",
       "      <td>0</td>\n",
       "      <td>0</td>\n",
       "      <td>0</td>\n",
       "      <td>0</td>\n",
       "      <td>0</td>\n",
       "      <td>0</td>\n",
       "    </tr>\n",
       "    <tr>\n",
       "      <th>3</th>\n",
       "      <td>20180022685</td>\n",
       "      <td>CONTAMINATION</td>\n",
       "      <td>CONTAMINATION</td>\n",
       "      <td>0</td>\n",
       "      <td>0</td>\n",
       "      <td>0</td>\n",
       "      <td>0</td>\n",
       "      <td>0</td>\n",
       "      <td>0</td>\n",
       "      <td>0</td>\n",
       "      <td>0</td>\n",
       "      <td>0</td>\n",
       "    </tr>\n",
       "    <tr>\n",
       "      <th>5</th>\n",
       "      <td>20240012395</td>\n",
       "      <td>E.coli</td>\n",
       "      <td>E COLI</td>\n",
       "      <td>1</td>\n",
       "      <td>0</td>\n",
       "      <td>0</td>\n",
       "      <td>0</td>\n",
       "      <td>0</td>\n",
       "      <td>0</td>\n",
       "      <td>0</td>\n",
       "      <td>0</td>\n",
       "      <td>0</td>\n",
       "    </tr>\n",
       "    <tr>\n",
       "      <th>6</th>\n",
       "      <td>20220166372</td>\n",
       "      <td>E.coli &amp; Pseudomnas</td>\n",
       "      <td>E COLI &amp; PSEUDOMNAS</td>\n",
       "      <td>1</td>\n",
       "      <td>0</td>\n",
       "      <td>1</td>\n",
       "      <td>0</td>\n",
       "      <td>0</td>\n",
       "      <td>0</td>\n",
       "      <td>0</td>\n",
       "      <td>0</td>\n",
       "      <td>0</td>\n",
       "    </tr>\n",
       "  </tbody>\n",
       "</table>\n",
       "</div>"
      ],
      "text/plain": [
       "          UHID   AIIMS Result culture             cleanAIIMS  \\\n",
       "0  20220065432  Enterococcus faecalis  ENTEROCOCCUS FAECALIS   \n",
       "2  20230125389                 E.coli                 E COLI   \n",
       "3  20180022685          CONTAMINATION          CONTAMINATION   \n",
       "5  20240012395                 E.coli                 E COLI   \n",
       "6  20220166372    E.coli & Pseudomnas    E COLI & PSEUDOMNAS   \n",
       "\n",
       "   Escherichia coli_A  Klebsiella pneumoniae_A  Pseudomonas aeruginosa_A  \\\n",
       "0                   0                        0                         0   \n",
       "2                   1                        0                         0   \n",
       "3                   0                        0                         0   \n",
       "5                   1                        0                         0   \n",
       "6                   1                        0                         1   \n",
       "\n",
       "   Acinetobacter baumannii_A  Proteus mirabilis_A  Enterococcus faecalis_A  \\\n",
       "0                          0                    0                        1   \n",
       "2                          0                    0                        0   \n",
       "3                          0                    0                        0   \n",
       "5                          0                    0                        0   \n",
       "6                          0                    0                        0   \n",
       "\n",
       "   Staphylococcus aureus_A  Staphylococcus saprophyticus_A  Sterile_A  \n",
       "0                        0                               0          0  \n",
       "2                        0                               0          0  \n",
       "3                        0                               0          0  \n",
       "5                        0                               0          0  \n",
       "6                        0                               0          0  "
      ]
     },
     "execution_count": 116,
     "metadata": {},
     "output_type": "execute_result"
    }
   ],
   "source": [
    "resultsAIIMS.head()"
   ]
  },
  {
   "cell_type": "markdown",
   "metadata": {},
   "source": [
    "#### Combining both AIIMS and RAMJA results"
   ]
  },
  {
   "cell_type": "code",
   "execution_count": 117,
   "metadata": {},
   "outputs": [],
   "source": [
    "results = pd.merge(resultsRAMJA, resultsAIIMS, on=\"UHID\")"
   ]
  },
  {
   "cell_type": "code",
   "execution_count": 118,
   "metadata": {},
   "outputs": [
    {
     "data": {
      "text/html": [
       "<div>\n",
       "<style scoped>\n",
       "    .dataframe tbody tr th:only-of-type {\n",
       "        vertical-align: middle;\n",
       "    }\n",
       "\n",
       "    .dataframe tbody tr th {\n",
       "        vertical-align: top;\n",
       "    }\n",
       "\n",
       "    .dataframe thead th {\n",
       "        text-align: right;\n",
       "    }\n",
       "</style>\n",
       "<table border=\"1\" class=\"dataframe\">\n",
       "  <thead>\n",
       "    <tr style=\"text-align: right;\">\n",
       "      <th></th>\n",
       "      <th>UHID</th>\n",
       "      <th>RAMJA Results</th>\n",
       "      <th>cleanRAMJA</th>\n",
       "      <th>Escherichia coli_R</th>\n",
       "      <th>Klebsiella pneumoniae_R</th>\n",
       "      <th>Pseudomonas aeruginosa_R</th>\n",
       "      <th>Acinetobacter baumannii_R</th>\n",
       "      <th>Proteus mirabilis_R</th>\n",
       "      <th>Enterococcus faecalis_R</th>\n",
       "      <th>Staphylococcus aureus_R</th>\n",
       "      <th>...</th>\n",
       "      <th>cleanAIIMS</th>\n",
       "      <th>Escherichia coli_A</th>\n",
       "      <th>Klebsiella pneumoniae_A</th>\n",
       "      <th>Pseudomonas aeruginosa_A</th>\n",
       "      <th>Acinetobacter baumannii_A</th>\n",
       "      <th>Proteus mirabilis_A</th>\n",
       "      <th>Enterococcus faecalis_A</th>\n",
       "      <th>Staphylococcus aureus_A</th>\n",
       "      <th>Staphylococcus saprophyticus_A</th>\n",
       "      <th>Sterile_A</th>\n",
       "    </tr>\n",
       "  </thead>\n",
       "  <tbody>\n",
       "    <tr>\n",
       "      <th>0</th>\n",
       "      <td>20220065432</td>\n",
       "      <td>Enterococcus faecalis</td>\n",
       "      <td>ENTEROCOCCUS FAECALIS</td>\n",
       "      <td>0</td>\n",
       "      <td>0</td>\n",
       "      <td>0</td>\n",
       "      <td>0</td>\n",
       "      <td>0</td>\n",
       "      <td>1</td>\n",
       "      <td>0</td>\n",
       "      <td>...</td>\n",
       "      <td>ENTEROCOCCUS FAECALIS</td>\n",
       "      <td>0</td>\n",
       "      <td>0</td>\n",
       "      <td>0</td>\n",
       "      <td>0</td>\n",
       "      <td>0</td>\n",
       "      <td>1</td>\n",
       "      <td>0</td>\n",
       "      <td>0</td>\n",
       "      <td>0</td>\n",
       "    </tr>\n",
       "    <tr>\n",
       "      <th>1</th>\n",
       "      <td>20230125389</td>\n",
       "      <td>E.Coli, K.pneumoniae, P. aeruginosa, A. bauman...</td>\n",
       "      <td>E COLI, K PNEUMONIAE, P AERUGINOSA, A BAUMANNI...</td>\n",
       "      <td>1</td>\n",
       "      <td>1</td>\n",
       "      <td>1</td>\n",
       "      <td>1</td>\n",
       "      <td>0</td>\n",
       "      <td>0</td>\n",
       "      <td>1</td>\n",
       "      <td>...</td>\n",
       "      <td>E COLI</td>\n",
       "      <td>1</td>\n",
       "      <td>0</td>\n",
       "      <td>0</td>\n",
       "      <td>0</td>\n",
       "      <td>0</td>\n",
       "      <td>0</td>\n",
       "      <td>0</td>\n",
       "      <td>0</td>\n",
       "      <td>0</td>\n",
       "    </tr>\n",
       "    <tr>\n",
       "      <th>2</th>\n",
       "      <td>20180022685</td>\n",
       "      <td>K.pneumoniae, E. faecalis, P. mirabilis,  A. b...</td>\n",
       "      <td>K PNEUMONIAE, E FAECALIS, P MIRABILIS, A BAUMA...</td>\n",
       "      <td>0</td>\n",
       "      <td>1</td>\n",
       "      <td>0</td>\n",
       "      <td>1</td>\n",
       "      <td>1</td>\n",
       "      <td>1</td>\n",
       "      <td>1</td>\n",
       "      <td>...</td>\n",
       "      <td>CONTAMINATION</td>\n",
       "      <td>0</td>\n",
       "      <td>0</td>\n",
       "      <td>0</td>\n",
       "      <td>0</td>\n",
       "      <td>0</td>\n",
       "      <td>0</td>\n",
       "      <td>0</td>\n",
       "      <td>0</td>\n",
       "      <td>0</td>\n",
       "    </tr>\n",
       "    <tr>\n",
       "      <th>3</th>\n",
       "      <td>20240012395</td>\n",
       "      <td>Polymicrobial (E.coli, A. baumannii, P.mirabil...</td>\n",
       "      <td>POLYMICROBIAL (E COLI, A BAUMANNII, P MIRABILI...</td>\n",
       "      <td>1</td>\n",
       "      <td>0</td>\n",
       "      <td>0</td>\n",
       "      <td>1</td>\n",
       "      <td>1</td>\n",
       "      <td>1</td>\n",
       "      <td>1</td>\n",
       "      <td>...</td>\n",
       "      <td>E COLI</td>\n",
       "      <td>1</td>\n",
       "      <td>0</td>\n",
       "      <td>0</td>\n",
       "      <td>0</td>\n",
       "      <td>0</td>\n",
       "      <td>0</td>\n",
       "      <td>0</td>\n",
       "      <td>0</td>\n",
       "      <td>0</td>\n",
       "    </tr>\n",
       "    <tr>\n",
       "      <th>4</th>\n",
       "      <td>20220166372</td>\n",
       "      <td>Pseudomonas, P.mirabilis, E.Faecalis, S. aureus</td>\n",
       "      <td>PSEUDOMONAS, P MIRABILIS, E FAECALIS, S AUREUS</td>\n",
       "      <td>0</td>\n",
       "      <td>0</td>\n",
       "      <td>1</td>\n",
       "      <td>0</td>\n",
       "      <td>1</td>\n",
       "      <td>1</td>\n",
       "      <td>1</td>\n",
       "      <td>...</td>\n",
       "      <td>E COLI &amp; PSEUDOMNAS</td>\n",
       "      <td>1</td>\n",
       "      <td>0</td>\n",
       "      <td>1</td>\n",
       "      <td>0</td>\n",
       "      <td>0</td>\n",
       "      <td>0</td>\n",
       "      <td>0</td>\n",
       "      <td>0</td>\n",
       "      <td>0</td>\n",
       "    </tr>\n",
       "  </tbody>\n",
       "</table>\n",
       "<p>5 rows × 23 columns</p>\n",
       "</div>"
      ],
      "text/plain": [
       "          UHID                                      RAMJA Results  \\\n",
       "0  20220065432                              Enterococcus faecalis   \n",
       "1  20230125389  E.Coli, K.pneumoniae, P. aeruginosa, A. bauman...   \n",
       "2  20180022685  K.pneumoniae, E. faecalis, P. mirabilis,  A. b...   \n",
       "3  20240012395  Polymicrobial (E.coli, A. baumannii, P.mirabil...   \n",
       "4  20220166372    Pseudomonas, P.mirabilis, E.Faecalis, S. aureus   \n",
       "\n",
       "                                          cleanRAMJA  Escherichia coli_R  \\\n",
       "0                              ENTEROCOCCUS FAECALIS                   0   \n",
       "1  E COLI, K PNEUMONIAE, P AERUGINOSA, A BAUMANNI...                   1   \n",
       "2  K PNEUMONIAE, E FAECALIS, P MIRABILIS, A BAUMA...                   0   \n",
       "3  POLYMICROBIAL (E COLI, A BAUMANNII, P MIRABILI...                   1   \n",
       "4     PSEUDOMONAS, P MIRABILIS, E FAECALIS, S AUREUS                   0   \n",
       "\n",
       "   Klebsiella pneumoniae_R  Pseudomonas aeruginosa_R  \\\n",
       "0                        0                         0   \n",
       "1                        1                         1   \n",
       "2                        1                         0   \n",
       "3                        0                         0   \n",
       "4                        0                         1   \n",
       "\n",
       "   Acinetobacter baumannii_R  Proteus mirabilis_R  Enterococcus faecalis_R  \\\n",
       "0                          0                    0                        1   \n",
       "1                          1                    0                        0   \n",
       "2                          1                    1                        1   \n",
       "3                          1                    1                        1   \n",
       "4                          0                    1                        1   \n",
       "\n",
       "   Staphylococcus aureus_R  ...             cleanAIIMS  Escherichia coli_A  \\\n",
       "0                        0  ...  ENTEROCOCCUS FAECALIS                   0   \n",
       "1                        1  ...                 E COLI                   1   \n",
       "2                        1  ...          CONTAMINATION                   0   \n",
       "3                        1  ...                 E COLI                   1   \n",
       "4                        1  ...    E COLI & PSEUDOMNAS                   1   \n",
       "\n",
       "  Klebsiella pneumoniae_A Pseudomonas aeruginosa_A  Acinetobacter baumannii_A  \\\n",
       "0                       0                        0                          0   \n",
       "1                       0                        0                          0   \n",
       "2                       0                        0                          0   \n",
       "3                       0                        0                          0   \n",
       "4                       0                        1                          0   \n",
       "\n",
       "   Proteus mirabilis_A  Enterococcus faecalis_A  Staphylococcus aureus_A  \\\n",
       "0                    0                        1                        0   \n",
       "1                    0                        0                        0   \n",
       "2                    0                        0                        0   \n",
       "3                    0                        0                        0   \n",
       "4                    0                        0                        0   \n",
       "\n",
       "   Staphylococcus saprophyticus_A  Sterile_A  \n",
       "0                               0          0  \n",
       "1                               0          0  \n",
       "2                               0          0  \n",
       "3                               0          0  \n",
       "4                               0          0  \n",
       "\n",
       "[5 rows x 23 columns]"
      ]
     },
     "execution_count": 118,
     "metadata": {},
     "output_type": "execute_result"
    }
   ],
   "source": [
    "results.head()"
   ]
  },
  {
   "cell_type": "code",
   "execution_count": 119,
   "metadata": {},
   "outputs": [],
   "source": [
    "#results.to_excel(\"URINELOT1.xlsx\")"
   ]
  },
  {
   "cell_type": "markdown",
   "metadata": {},
   "source": [
    "#### Compare few results"
   ]
  },
  {
   "cell_type": "code",
   "execution_count": 121,
   "metadata": {},
   "outputs": [
    {
     "name": "stdout",
     "output_type": "stream",
     "text": [
      "RAMJA : \n",
      " 0    75\n",
      "1    43\n",
      "Name: Escherichia coli_R, dtype: int64\n",
      "AIIMS : \n",
      " 0    100\n",
      "1     18\n",
      "Name: Escherichia coli_A, dtype: int64\n"
     ]
    }
   ],
   "source": [
    "print(\"RAMJA : \\n\", resultsRAMJA[\"Escherichia coli_R\"].value_counts())\n",
    "print(\"AIIMS : \\n\",resultsAIIMS[\"Escherichia coli_A\"].value_counts())"
   ]
  }
 ],
 "metadata": {
  "kernelspec": {
   "display_name": "Python 3",
   "language": "python",
   "name": "python3"
  },
  "language_info": {
   "codemirror_mode": {
    "name": "ipython",
    "version": 3
   },
   "file_extension": ".py",
   "mimetype": "text/x-python",
   "name": "python",
   "nbconvert_exporter": "python",
   "pygments_lexer": "ipython3",
   "version": "3.9.10"
  }
 },
 "nbformat": 4,
 "nbformat_minor": 2
}
