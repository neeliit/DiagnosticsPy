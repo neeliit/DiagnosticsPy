{
 "cells": [
  {
   "cell_type": "code",
   "execution_count": 1,
   "metadata": {},
   "outputs": [],
   "source": [
    "import pandas as pd\n",
    "import numpy as np\n",
    "import seaborn as sns\n",
    "import matplotlib.pyplot as plt\n",
    "pd.set_option('display.max_rows', None)\n",
    "pd.set_option('display.max_columns', None)"
   ]
  },
  {
   "cell_type": "markdown",
   "metadata": {},
   "source": [
    "### Data import"
   ]
  },
  {
   "cell_type": "markdown",
   "metadata": {},
   "source": [
    "#### Control Urine data"
   ]
  },
  {
   "cell_type": "code",
   "execution_count": 2,
   "metadata": {},
   "outputs": [
    {
     "data": {
      "text/plain": [
       "(42, 3)"
      ]
     },
     "execution_count": 2,
     "metadata": {},
     "output_type": "execute_result"
    }
   ],
   "source": [
    "dataC = pd.read_excel(\"Compile400.xlsx\", sheet_name='Rishikesh blood control')\n",
    "#dataC.head()\n",
    "dataC = dataC[['UHID','Results Ramja','AIIMS BACTEC Result']]\n",
    "dataC.columns = ['UHID','RAMJA','AIIMS']\n",
    "#dataC.head()\n",
    "dataC.shape"
   ]
  },
  {
   "cell_type": "code",
   "execution_count": 26,
   "metadata": {},
   "outputs": [],
   "source": [
    "#display(dataC)"
   ]
  },
  {
   "cell_type": "code",
   "execution_count": 3,
   "metadata": {},
   "outputs": [
    {
     "data": {
      "text/plain": [
       "UHID     0\n",
       "RAMJA    0\n",
       "AIIMS    0\n",
       "dtype: int64"
      ]
     },
     "execution_count": 3,
     "metadata": {},
     "output_type": "execute_result"
    }
   ],
   "source": [
    "dataC.isnull().sum()"
   ]
  },
  {
   "cell_type": "code",
   "execution_count": 4,
   "metadata": {},
   "outputs": [
    {
     "data": {
      "text/plain": [
       "(42, 3)"
      ]
     },
     "execution_count": 4,
     "metadata": {},
     "output_type": "execute_result"
    }
   ],
   "source": [
    "dataC = dataC.drop_duplicates(subset=['UHID'])\n",
    "dataC.shape"
   ]
  },
  {
   "cell_type": "code",
   "execution_count": 22,
   "metadata": {},
   "outputs": [],
   "source": [
    "#display(dataC)"
   ]
  },
  {
   "cell_type": "code",
   "execution_count": 5,
   "metadata": {},
   "outputs": [
    {
     "data": {
      "text/plain": [
       "(42, 3)"
      ]
     },
     "execution_count": 5,
     "metadata": {},
     "output_type": "execute_result"
    }
   ],
   "source": [
    "data = dataC\n",
    "data.shape"
   ]
  },
  {
   "cell_type": "code",
   "execution_count": 6,
   "metadata": {},
   "outputs": [
    {
     "data": {
      "text/plain": [
       "UHID     0\n",
       "RAMJA    0\n",
       "AIIMS    0\n",
       "dtype: int64"
      ]
     },
     "execution_count": 6,
     "metadata": {},
     "output_type": "execute_result"
    }
   ],
   "source": [
    "data.isnull().sum()"
   ]
  },
  {
   "cell_type": "code",
   "execution_count": 72,
   "metadata": {},
   "outputs": [],
   "source": [
    "#display(data)"
   ]
  },
  {
   "cell_type": "markdown",
   "metadata": {},
   "source": [
    "#### Function for text cleaning in columns"
   ]
  },
  {
   "cell_type": "code",
   "execution_count": 7,
   "metadata": {},
   "outputs": [],
   "source": [
    "import re\n",
    "def cleanup(text):\n",
    "    text = str(text)\n",
    "    text = text.upper()\n",
    "    text = text.replace(\".\", \" \")\n",
    "    text = text.replace(\" AND\", \",\")\n",
    "    text = text.replace(\" &\", \",\")\n",
    "    text = text.replace(\"POLYMICROBIAL (\", \"\")\n",
    "    text = text.replace(\"AUROGENOSA\", \"AERUGINOSA\")\n",
    "    text = text.replace(\"NO GROWTH\", \"STERILE\")\n",
    "    text = re.sub(r'\\s+', ' ', text)  # Use re.sub for regular expression replacement\n",
    "    text = text.strip()\n",
    "    return text\n"
   ]
  },
  {
   "cell_type": "markdown",
   "metadata": {},
   "source": [
    "#### Dictionary of bactrial names"
   ]
  },
  {
   "cell_type": "code",
   "execution_count": 8,
   "metadata": {},
   "outputs": [],
   "source": [
    "bacteriatypes = {\n",
    "    \"COLI\" : 'Escherichia coli', \n",
    "    \"PNE\" : 'Klebsiella pneumoniae',\n",
    "    \"AERUGI\" : 'Pseudomonas aeruginosa',\n",
    "    \"BAUM\" : 'Acinetobacter baumannii', \n",
    "    \"MIRABIL\" : 'Proteus mirabilis', \n",
    "    \"FAECALI\" : 'Enterococcus faecalis', \n",
    "    \"AUREUS\" : 'Staphylococcus aureus', \n",
    "    \"SAPROPHY\" : 'Staphylococcus saprophyticus',\n",
    "    \"STERI\" : 'Sterile',\n",
    "    \"CONTA\" : 'Contamination',\n",
    "    \"NAN\" : 'NAN'\n",
    "}"
   ]
  },
  {
   "cell_type": "markdown",
   "metadata": {},
   "source": [
    "#### Fucntion to check if test string present in main string"
   ]
  },
  {
   "cell_type": "code",
   "execution_count": 9,
   "metadata": {},
   "outputs": [],
   "source": [
    "#..FUNCTION TO CHECK IF TEST STRINGS(S1 OR S2) PRESENT IN MAIN STRING \n",
    "def check(mainstring, s1, s2):\n",
    "    if (mainstring.count(s1) > 0 or mainstring.count(s2) > 0):\n",
    "        #print(\"YES\")\n",
    "        return(1)\n",
    "    else:\n",
    "        #print(\"NO\")\n",
    "        return(0)"
   ]
  },
  {
   "cell_type": "markdown",
   "metadata": {},
   "source": [
    "#### Data processing function"
   ]
  },
  {
   "cell_type": "code",
   "execution_count": 10,
   "metadata": {},
   "outputs": [],
   "source": [
    "def processdata(data, test):\n",
    "    #.........Get UHID and Test data only..........#\n",
    "    df = data[['UHID',test]]\n",
    "\n",
    "    #........Clean the columns AIIMS and RAMJA names......#\n",
    "    df['clean'+test] = df[test].apply(cleanup)\n",
    "\n",
    "    #...........Get individual bactrial data for infection and serility......#\n",
    "    genus = [\"ESCHER\",\"KLEBS\",\"PSEUDO\",\"ACINE\",\"PROT\",\"ENTER\",\"AURE\",\"SAPRO\",\"STERI\",\"CONTA\",\"NAN\"]\n",
    "    species = [\"COLI\", \"PNE\", \"AERUGI\", \"BAUM\", \"MIRABIL\", \"FAECALI\", \"AUREUS\", \"SAPROPHY\", \"STERI\",\"CONTA\",\"NAN\"]\n",
    "    for s1, s2 in zip(genus,species):\n",
    "        df[s2] = df['clean'+test].apply(lambda x: check(x, s1, s2))\n",
    "\n",
    "    df.rename(columns=bacteriatypes, inplace=True) #change column names\n",
    "\n",
    "    #....add a column named 'Others' contain values other than assigend catagories\n",
    "    df['Others'] = (df[['Escherichia coli','Klebsiella pneumoniae','Pseudomonas aeruginosa','Acinetobacter baumannii','Proteus mirabilis','Enterococcus faecalis','Staphylococcus aureus','Staphylococcus saprophyticus','Sterile','Contamination','NAN']] == 0).all(axis=1).astype(int)\n",
    "\n",
    "    #...Get all infections positive (bacteria + others ) in AIIMS\n",
    "    df['Positive'] = (df[['Escherichia coli','Klebsiella pneumoniae','Pseudomonas aeruginosa','Acinetobacter baumannii','Proteus mirabilis','Enterococcus faecalis','Staphylococcus aureus','Staphylococcus saprophyticus','Others']] == 1).any(axis=1).astype(int)\n",
    "\n",
    "    #...Get all Negatives (Sterile + contaminated ) in AIIMS\n",
    "    df['Negative'] = (df[['Sterile','Contamination']] == 1).any(axis=1).astype(int)\n",
    "    \n",
    "    return df"
   ]
  },
  {
   "cell_type": "markdown",
   "metadata": {},
   "source": [
    "#### Fetch the processed dataset for RAMJA and AIIMS"
   ]
  },
  {
   "cell_type": "code",
   "execution_count": 11,
   "metadata": {},
   "outputs": [],
   "source": [
    "test = ['RAMJA', 'AIIMS']\n",
    "\n",
    "# Create a dictionary to store results dynamically\n",
    "df_dict = {}\n",
    "\n",
    "# Store the result with a dynamic key\n",
    "for t in test:\n",
    "    df_dict['df' + t] = processdata(data, t)\n",
    "\n",
    "df_R = df_dict['dfRAMJA']\n",
    "df_A = df_dict['dfAIIMS']\n"
   ]
  },
  {
   "cell_type": "markdown",
   "metadata": {},
   "source": [
    "### RAMJA Subsets and Analysis : df_NonNaN_R, "
   ]
  },
  {
   "cell_type": "code",
   "execution_count": 12,
   "metadata": {},
   "outputs": [],
   "source": [
    "df_NonNaN_R = df_R.dropna(subset=['RAMJA']) # Nonnull Dataset from Ramaja\n",
    "df_Pos_R = df_NonNaN_R[df_NonNaN_R['Positive'] == 1] # Positive ramja dataset\n",
    "df_Neg_R = df_NonNaN_R[df_NonNaN_R['Negative'] == 1] # Negative Ramja dataset\n",
    "df_Conta_R = df_NonNaN_R[df_NonNaN_R['Contamination'] == 1] # Contaminated Ramja dataset\n",
    "df_Other_R = df_NonNaN_R[df_NonNaN_R['Others'] == 1] # Others Ramja dataset"
   ]
  },
  {
   "cell_type": "code",
   "execution_count": 13,
   "metadata": {},
   "outputs": [
    {
     "name": "stdout",
     "output_type": "stream",
     "text": [
      "Positive\n",
      "0    40\n",
      "1     2\n",
      "Name: count, dtype: int64\n",
      "Negative\n",
      "1    40\n",
      "0     2\n",
      "Name: count, dtype: int64\n"
     ]
    }
   ],
   "source": [
    "#....After Dopping NaN these two set of values should be equal\n",
    "print(df_NonNaN_R['Positive'].value_counts())\n",
    "print(df_NonNaN_R['Negative'].value_counts())"
   ]
  },
  {
   "cell_type": "markdown",
   "metadata": {},
   "source": [
    "### AIIMS subsets and analysis "
   ]
  },
  {
   "cell_type": "code",
   "execution_count": 14,
   "metadata": {},
   "outputs": [],
   "source": [
    "df_NonNaN_A = df_A.dropna(subset=['AIIMS']) # Nonnull Dataset from Ramaja\n",
    "df_Pos_A = df_NonNaN_A[df_NonNaN_A['Positive'] == 1] # Positive ramja dataset\n",
    "df_Neg_A = df_NonNaN_A[df_NonNaN_A['Negative'] == 1] # Negative Ramja dataset\n",
    "df_Conta_A = df_NonNaN_A[df_NonNaN_A['Contamination'] == 1] # Contaminated Ramja dataset\n",
    "df_Other_A = df_NonNaN_A[df_NonNaN_A['Others'] == 1] # others Ramja dataset"
   ]
  },
  {
   "cell_type": "code",
   "execution_count": 15,
   "metadata": {},
   "outputs": [
    {
     "name": "stdout",
     "output_type": "stream",
     "text": [
      "Positive\n",
      "0    40\n",
      "1     2\n",
      "Name: count, dtype: int64\n",
      "Negative\n",
      "1    40\n",
      "0     2\n",
      "Name: count, dtype: int64\n"
     ]
    }
   ],
   "source": [
    "#....After Dopping NaN these two set of values should be equal\n",
    "print(df_NonNaN_A['Positive'].value_counts())\n",
    "print(df_NonNaN_A['Negative'].value_counts())"
   ]
  },
  {
   "cell_type": "markdown",
   "metadata": {},
   "source": [
    "### Common analysis"
   ]
  },
  {
   "cell_type": "code",
   "execution_count": 16,
   "metadata": {},
   "outputs": [
    {
     "data": {
      "text/html": [
       "<div>\n",
       "<style scoped>\n",
       "    .dataframe tbody tr th:only-of-type {\n",
       "        vertical-align: middle;\n",
       "    }\n",
       "\n",
       "    .dataframe tbody tr th {\n",
       "        vertical-align: top;\n",
       "    }\n",
       "\n",
       "    .dataframe thead th {\n",
       "        text-align: right;\n",
       "    }\n",
       "</style>\n",
       "<table border=\"1\" class=\"dataframe\">\n",
       "  <thead>\n",
       "    <tr style=\"text-align: right;\">\n",
       "      <th></th>\n",
       "      <th>UHID</th>\n",
       "      <th>RAMJA</th>\n",
       "      <th>AIIMS</th>\n",
       "      <th>concordance</th>\n",
       "    </tr>\n",
       "  </thead>\n",
       "  <tbody>\n",
       "    <tr>\n",
       "      <th>0</th>\n",
       "      <td>20240091354</td>\n",
       "      <td>Sterile</td>\n",
       "      <td>No Growth</td>\n",
       "      <td>0</td>\n",
       "    </tr>\n",
       "    <tr>\n",
       "      <th>1</th>\n",
       "      <td>20240066897</td>\n",
       "      <td>Sterile</td>\n",
       "      <td>No Growth</td>\n",
       "      <td>0</td>\n",
       "    </tr>\n",
       "    <tr>\n",
       "      <th>2</th>\n",
       "      <td>20230008215</td>\n",
       "      <td>Sterile</td>\n",
       "      <td>No Growth</td>\n",
       "      <td>0</td>\n",
       "    </tr>\n",
       "    <tr>\n",
       "      <th>3</th>\n",
       "      <td>20240039512</td>\n",
       "      <td>Sterile</td>\n",
       "      <td>No growth</td>\n",
       "      <td>0</td>\n",
       "    </tr>\n",
       "    <tr>\n",
       "      <th>4</th>\n",
       "      <td>20240043469</td>\n",
       "      <td>Sterile</td>\n",
       "      <td>No growth</td>\n",
       "      <td>0</td>\n",
       "    </tr>\n",
       "  </tbody>\n",
       "</table>\n",
       "</div>"
      ],
      "text/plain": [
       "          UHID    RAMJA      AIIMS  concordance\n",
       "0  20240091354  Sterile  No Growth            0\n",
       "1  20240066897  Sterile  No Growth            0\n",
       "2  20230008215  Sterile  No Growth            0\n",
       "3  20240039512  Sterile  No growth            0\n",
       "4  20240043469  Sterile  No growth            0"
      ]
     },
     "execution_count": 16,
     "metadata": {},
     "output_type": "execute_result"
    }
   ],
   "source": [
    "#...Concordance: Get same type of infections in both RAMJA and AIIMS\n",
    "df_R_temp1  = df_R[['Escherichia coli','Klebsiella pneumoniae','Pseudomonas aeruginosa','Acinetobacter baumannii','Proteus mirabilis','Enterococcus faecalis','Staphylococcus aureus','Staphylococcus saprophyticus']]\n",
    "df_A_temp1  = df_A[['Escherichia coli','Klebsiella pneumoniae','Pseudomonas aeruginosa','Acinetobacter baumannii','Proteus mirabilis','Enterococcus faecalis','Staphylococcus aureus','Staphylococcus saprophyticus']]\n",
    "df_C = data[['UHID','RAMJA','AIIMS']]\n",
    "df_C['concordance'] = (df_R_temp1 & df_A_temp1).any(axis=1).astype(int)\n",
    "df_C.head()"
   ]
  },
  {
   "cell_type": "code",
   "execution_count": 17,
   "metadata": {},
   "outputs": [],
   "source": [
    "temp_R = df_R[['UHID','Positive','Negative']].rename(columns={'Positive':'Positive_R', 'Negative':'Negative_R'})\n",
    "temp_A = df_A[['UHID','Positive','Negative']].rename(columns={'Positive':'Positive_A', 'Negative':'Negative_A'})\n",
    "temp_C = pd.merge(temp_A, temp_R, how='inner', on='UHID')\n",
    "df_C = pd.merge(df_C, temp_C, how='inner', on='UHID')\n"
   ]
  },
  {
   "cell_type": "code",
   "execution_count": 18,
   "metadata": {},
   "outputs": [
    {
     "data": {
      "text/html": [
       "<div>\n",
       "<style scoped>\n",
       "    .dataframe tbody tr th:only-of-type {\n",
       "        vertical-align: middle;\n",
       "    }\n",
       "\n",
       "    .dataframe tbody tr th {\n",
       "        vertical-align: top;\n",
       "    }\n",
       "\n",
       "    .dataframe thead th {\n",
       "        text-align: right;\n",
       "    }\n",
       "</style>\n",
       "<table border=\"1\" class=\"dataframe\">\n",
       "  <thead>\n",
       "    <tr style=\"text-align: right;\">\n",
       "      <th></th>\n",
       "      <th>UHID</th>\n",
       "      <th>RAMJA</th>\n",
       "      <th>AIIMS</th>\n",
       "      <th>concordance</th>\n",
       "      <th>Positive_A</th>\n",
       "      <th>Negative_A</th>\n",
       "      <th>Positive_R</th>\n",
       "      <th>Negative_R</th>\n",
       "    </tr>\n",
       "  </thead>\n",
       "  <tbody>\n",
       "    <tr>\n",
       "      <th>0</th>\n",
       "      <td>20240091354</td>\n",
       "      <td>Sterile</td>\n",
       "      <td>No Growth</td>\n",
       "      <td>0</td>\n",
       "      <td>0</td>\n",
       "      <td>1</td>\n",
       "      <td>0</td>\n",
       "      <td>1</td>\n",
       "    </tr>\n",
       "    <tr>\n",
       "      <th>1</th>\n",
       "      <td>20240066897</td>\n",
       "      <td>Sterile</td>\n",
       "      <td>No Growth</td>\n",
       "      <td>0</td>\n",
       "      <td>0</td>\n",
       "      <td>1</td>\n",
       "      <td>0</td>\n",
       "      <td>1</td>\n",
       "    </tr>\n",
       "    <tr>\n",
       "      <th>2</th>\n",
       "      <td>20230008215</td>\n",
       "      <td>Sterile</td>\n",
       "      <td>No Growth</td>\n",
       "      <td>0</td>\n",
       "      <td>0</td>\n",
       "      <td>1</td>\n",
       "      <td>0</td>\n",
       "      <td>1</td>\n",
       "    </tr>\n",
       "    <tr>\n",
       "      <th>3</th>\n",
       "      <td>20240039512</td>\n",
       "      <td>Sterile</td>\n",
       "      <td>No growth</td>\n",
       "      <td>0</td>\n",
       "      <td>0</td>\n",
       "      <td>1</td>\n",
       "      <td>0</td>\n",
       "      <td>1</td>\n",
       "    </tr>\n",
       "    <tr>\n",
       "      <th>4</th>\n",
       "      <td>20240043469</td>\n",
       "      <td>Sterile</td>\n",
       "      <td>No growth</td>\n",
       "      <td>0</td>\n",
       "      <td>0</td>\n",
       "      <td>1</td>\n",
       "      <td>0</td>\n",
       "      <td>1</td>\n",
       "    </tr>\n",
       "  </tbody>\n",
       "</table>\n",
       "</div>"
      ],
      "text/plain": [
       "          UHID    RAMJA      AIIMS  concordance  Positive_A  Negative_A  \\\n",
       "0  20240091354  Sterile  No Growth            0           0           1   \n",
       "1  20240066897  Sterile  No Growth            0           0           1   \n",
       "2  20230008215  Sterile  No Growth            0           0           1   \n",
       "3  20240039512  Sterile  No growth            0           0           1   \n",
       "4  20240043469  Sterile  No growth            0           0           1   \n",
       "\n",
       "   Positive_R  Negative_R  \n",
       "0           0           1  \n",
       "1           0           1  \n",
       "2           0           1  \n",
       "3           0           1  \n",
       "4           0           1  "
      ]
     },
     "execution_count": 18,
     "metadata": {},
     "output_type": "execute_result"
    }
   ],
   "source": [
    "df_NonNaN_C = df_C.dropna(subset=['RAMJA','AIIMS'])\n",
    "df_NonNaN_C.head()"
   ]
  },
  {
   "cell_type": "code",
   "execution_count": 25,
   "metadata": {},
   "outputs": [],
   "source": [
    "#display(df_NonNaN_C)"
   ]
  },
  {
   "cell_type": "code",
   "execution_count": 19,
   "metadata": {},
   "outputs": [],
   "source": [
    "#...NonNan common data set\n",
    "df_NonNaN_C = df_C.dropna(subset=['RAMJA','AIIMS'])\n",
    "\n",
    "#...RAMJA positives\n",
    "df_Pos_C_R = df_NonNaN_C[(df_NonNaN_C['Positive_R'] == 1)][['UHID', 'RAMJA', 'AIIMS']]\n",
    "\n",
    "#...AIIMS positives\n",
    "df_Pos_C_A = df_NonNaN_C[(df_NonNaN_C['Positive_A'] == 1)][['UHID', 'RAMJA', 'AIIMS']]\n",
    "\n",
    "#...RAMJA Negative\n",
    "df_Neg_C_R = df_NonNaN_C[(df_NonNaN_C['Negative_R'] == 1)][['UHID', 'RAMJA', 'AIIMS']]\n",
    "\n",
    "#...AIIMS Negative\n",
    "df_Neg_C_A = df_NonNaN_C[(df_NonNaN_C['Negative_A'] == 1)][['UHID', 'RAMJA', 'AIIMS']]\n",
    "\n",
    "#...Both positives\n",
    "df_Pos_C = df_NonNaN_C[(df_NonNaN_C['Positive_R'] == 1) & (df_NonNaN_C['Positive_A'] == 1)][['UHID', 'RAMJA', 'AIIMS']]\n",
    "\n",
    "#...Both Negatives\n",
    "df_Neg_C = df_NonNaN_C[(df_NonNaN_C['Negative_R'] == 1) & (df_NonNaN_C['Negative_A']==1)][['UHID', 'RAMJA', 'AIIMS']]\n",
    "\n",
    "#...Common type of infection\n",
    "df_concordance = df_C[df_C['concordance'] == 1][['UHID','RAMJA','AIIMS']][['UHID', 'RAMJA', 'AIIMS']]\n",
    "\n",
    "#...Ramja Positive and AIIMS negative\n",
    "df_Pos_R_Neg_A = df_C[(df_C['Positive_R']==1) & (df_C['Negative_A']==1)][['UHID', 'RAMJA', 'AIIMS']]\n",
    "\n",
    "#...Ramja Negative and AIIMS Positive\n",
    "df_Neg_R_Pos_A = df_C[(df_C['Positive_A']==1) & (df_C['Negative_R']==1)][['UHID', 'RAMJA', 'AIIMS']]"
   ]
  },
  {
   "cell_type": "code",
   "execution_count": 20,
   "metadata": {},
   "outputs": [
    {
     "data": {
      "text/html": [
       "<div>\n",
       "<style scoped>\n",
       "    .dataframe tbody tr th:only-of-type {\n",
       "        vertical-align: middle;\n",
       "    }\n",
       "\n",
       "    .dataframe tbody tr th {\n",
       "        vertical-align: top;\n",
       "    }\n",
       "\n",
       "    .dataframe thead th {\n",
       "        text-align: right;\n",
       "    }\n",
       "</style>\n",
       "<table border=\"1\" class=\"dataframe\">\n",
       "  <thead>\n",
       "    <tr style=\"text-align: right;\">\n",
       "      <th></th>\n",
       "      <th>UHID</th>\n",
       "      <th>RAMJA</th>\n",
       "      <th>AIIMS</th>\n",
       "    </tr>\n",
       "  </thead>\n",
       "  <tbody>\n",
       "    <tr>\n",
       "      <th>27</th>\n",
       "      <td>20240105203</td>\n",
       "      <td>Sterile</td>\n",
       "      <td>Staphylococcus haemolyticus</td>\n",
       "    </tr>\n",
       "  </tbody>\n",
       "</table>\n",
       "</div>"
      ],
      "text/plain": [
       "           UHID    RAMJA                        AIIMS\n",
       "27  20240105203  Sterile  Staphylococcus haemolyticus"
      ]
     },
     "execution_count": 20,
     "metadata": {},
     "output_type": "execute_result"
    }
   ],
   "source": [
    "df_Neg_R_Pos_A.head()"
   ]
  },
  {
   "cell_type": "code",
   "execution_count": 22,
   "metadata": {},
   "outputs": [],
   "source": [
    "# df_diagnosis = pd.merge(df_NonNaN_C, df_diagnosis,  how='inner', on=\"UHID\")\n",
    "# df_diagnosis.head()"
   ]
  },
  {
   "cell_type": "markdown",
   "metadata": {},
   "source": [
    "### Confusion matrix"
   ]
  },
  {
   "cell_type": "code",
   "execution_count": 21,
   "metadata": {},
   "outputs": [
    {
     "name": "stdout",
     "output_type": "stream",
     "text": [
      "[[39  1]\n",
      " [ 1  1]]\n"
     ]
    }
   ],
   "source": [
    "from sklearn.metrics import confusion_matrix\n",
    "\n",
    "y_true = df_NonNaN_C['Positive_A']\n",
    "y_pred = df_NonNaN_C['Positive_R']\n",
    "# y_true = df_diagnosis['Diagnosis']\n",
    "# y_pred = df_diagnosis['Positive_A']\n",
    "\n",
    "cm = confusion_matrix(y_true, y_pred)\n",
    "print(cm)"
   ]
  },
  {
   "cell_type": "code",
   "execution_count": 22,
   "metadata": {},
   "outputs": [
    {
     "data": {
      "text/plain": [
       "42"
      ]
     },
     "execution_count": 22,
     "metadata": {},
     "output_type": "execute_result"
    }
   ],
   "source": [
    "sum(sum(cm))"
   ]
  },
  {
   "cell_type": "code",
   "execution_count": 23,
   "metadata": {},
   "outputs": [
    {
     "data": {
      "text/plain": [
       "(39, 1, 1, 1)"
      ]
     },
     "execution_count": 23,
     "metadata": {},
     "output_type": "execute_result"
    }
   ],
   "source": [
    "tn, fp, fn, tp = confusion_matrix(y_true, y_pred).ravel()\n",
    "(tn,fp,fn,tp)"
   ]
  },
  {
   "cell_type": "code",
   "execution_count": 24,
   "metadata": {},
   "outputs": [
    {
     "data": {
      "text/plain": [
       "array([[ 1,  1],\n",
       "       [ 1, 39]], dtype=int64)"
      ]
     },
     "execution_count": 24,
     "metadata": {},
     "output_type": "execute_result"
    }
   ],
   "source": [
    "t_cm = np.array([tp, fp, fn, tn]).reshape(2,2)\n",
    "t_cm"
   ]
  },
  {
   "cell_type": "code",
   "execution_count": 25,
   "metadata": {},
   "outputs": [
    {
     "data": {
      "text/html": [
       "<div>\n",
       "<style scoped>\n",
       "    .dataframe tbody tr th:only-of-type {\n",
       "        vertical-align: middle;\n",
       "    }\n",
       "\n",
       "    .dataframe tbody tr th {\n",
       "        vertical-align: top;\n",
       "    }\n",
       "\n",
       "    .dataframe thead th {\n",
       "        text-align: right;\n",
       "    }\n",
       "</style>\n",
       "<table border=\"1\" class=\"dataframe\">\n",
       "  <thead>\n",
       "    <tr style=\"text-align: right;\">\n",
       "      <th></th>\n",
       "      <th>AIIMS Positive</th>\n",
       "      <th>AIIMS Negative</th>\n",
       "    </tr>\n",
       "  </thead>\n",
       "  <tbody>\n",
       "    <tr>\n",
       "      <th>RAMJA Positive</th>\n",
       "      <td>1</td>\n",
       "      <td>1</td>\n",
       "    </tr>\n",
       "    <tr>\n",
       "      <th>RAMJA Negative</th>\n",
       "      <td>1</td>\n",
       "      <td>39</td>\n",
       "    </tr>\n",
       "  </tbody>\n",
       "</table>\n",
       "</div>"
      ],
      "text/plain": [
       "                AIIMS Positive  AIIMS Negative\n",
       "RAMJA Positive               1               1\n",
       "RAMJA Negative               1              39"
      ]
     },
     "execution_count": 25,
     "metadata": {},
     "output_type": "execute_result"
    }
   ],
   "source": [
    "df_cm =pd.DataFrame(t_cm,index=['RAMJA Positive','RAMJA Negative'], columns= ['AIIMS Positive','AIIMS Negative'])\n",
    "df_cm"
   ]
  },
  {
   "cell_type": "markdown",
   "metadata": {},
   "source": [
    "### Chi-Square test"
   ]
  },
  {
   "cell_type": "code",
   "execution_count": 26,
   "metadata": {},
   "outputs": [
    {
     "name": "stdout",
     "output_type": "stream",
     "text": [
      "stat=1.897, p=0.16846\n",
      "Probably independent\n"
     ]
    }
   ],
   "source": [
    "# Example of the Chi-Squared Test\n",
    "from scipy.stats import chi2_contingency\n",
    "#table = [[1, 1],[1,  39]]\n",
    "table = t_cm\n",
    "stat, p, dof, expected = chi2_contingency(table)\n",
    "print('stat=%.3f, p=%.5f' % (stat, p))\n",
    "if p > 0.05:\n",
    " print('Probably independent')\n",
    "else:\n",
    " print('Probably dependent')"
   ]
  },
  {
   "cell_type": "markdown",
   "metadata": {},
   "source": [
    "#### Scores"
   ]
  },
  {
   "cell_type": "code",
   "execution_count": 27,
   "metadata": {},
   "outputs": [],
   "source": [
    "def scores(y_true, y_pred):\n",
    "        #y_pred = self.fit(x_train, x_test, y_train)\n",
    "        from sklearn.metrics import confusion_matrix, accuracy_score, roc_auc_score\n",
    "        \n",
    "        cm = confusion_matrix(y_true,y_pred)\n",
    "        \n",
    "        # Compute confusion matrix\n",
    "        tn, fp, fn, tp = confusion_matrix(y_true, y_pred).ravel()\n",
    "                \n",
    "        #.....................Accuracy......................#\n",
    "        #accur = accuracy_score(y_test,y_pred)\n",
    "        accur = (tp + tn)/(tp+tn+fp+fn)\n",
    "        \n",
    "       #.....................Senstivity.....................#\n",
    "        sens = tp/(tp + fn) if (tp + fn) > 0 else 0\n",
    "\n",
    "        #.....................Specificity...................#\n",
    "        spec = tn / (tn + fp) if (tn + fp) > 0 else 0\n",
    "\n",
    "        #.....................Precision...................#\n",
    "        precision = tp / (tp + fp) if (tp + fp) > 0 else 0\n",
    "\n",
    "        #.....................Recall...................#      \n",
    "        recall = tp / (tp + fn) if (tp + fn) > 0 else 0\n",
    "        \n",
    "        #.....................f1_score...................# \n",
    "        f1_score = 2 * precision * recall / (precision + recall) if (precision + recall) > 0 else 0\n",
    "\n",
    "        #..........Positive predictive value (PPV)...........#\n",
    "        PPV = tp/(tp + fp) if (tp + fp) > 0 else 0\n",
    "\n",
    "        #..........negative predictive value (NPV)...........#\n",
    "        NPV = tn/(tn + fn) if (tn + fn) > 0 else 0\n",
    "        \n",
    "        #..........Positive Likelihood ratio (PLR)...........#\n",
    "        PLR = sens/(1-spec)\n",
    "\n",
    "        #..........Negative Likelihood ratio (NLR)...........#\n",
    "        NLR = (1-sens)/spec\n",
    "\n",
    "        errorList = np.array([accur, sens, spec, precision, recall, f1_score, PPV, NPV, PLR, NLR])\n",
    "        scoreid = ['Accuracy', 'Sensitivity', 'Specificity', 'Precision','Recall','F1 Score','PPV', 'NPV', 'PLR', 'NLR']\n",
    "        df_scores = pd.DataFrame(errorList,index=scoreid, columns= ['Scores'])\n",
    "        \n",
    "        return(df_scores)"
   ]
  },
  {
   "cell_type": "code",
   "execution_count": 28,
   "metadata": {},
   "outputs": [
    {
     "data": {
      "text/html": [
       "<div>\n",
       "<style scoped>\n",
       "    .dataframe tbody tr th:only-of-type {\n",
       "        vertical-align: middle;\n",
       "    }\n",
       "\n",
       "    .dataframe tbody tr th {\n",
       "        vertical-align: top;\n",
       "    }\n",
       "\n",
       "    .dataframe thead th {\n",
       "        text-align: right;\n",
       "    }\n",
       "</style>\n",
       "<table border=\"1\" class=\"dataframe\">\n",
       "  <thead>\n",
       "    <tr style=\"text-align: right;\">\n",
       "      <th></th>\n",
       "      <th>Scores</th>\n",
       "    </tr>\n",
       "  </thead>\n",
       "  <tbody>\n",
       "    <tr>\n",
       "      <th>Accuracy</th>\n",
       "      <td>0.952381</td>\n",
       "    </tr>\n",
       "    <tr>\n",
       "      <th>Sensitivity</th>\n",
       "      <td>0.500000</td>\n",
       "    </tr>\n",
       "    <tr>\n",
       "      <th>Specificity</th>\n",
       "      <td>0.975000</td>\n",
       "    </tr>\n",
       "    <tr>\n",
       "      <th>Precision</th>\n",
       "      <td>0.500000</td>\n",
       "    </tr>\n",
       "    <tr>\n",
       "      <th>Recall</th>\n",
       "      <td>0.500000</td>\n",
       "    </tr>\n",
       "    <tr>\n",
       "      <th>F1 Score</th>\n",
       "      <td>0.500000</td>\n",
       "    </tr>\n",
       "    <tr>\n",
       "      <th>PPV</th>\n",
       "      <td>0.500000</td>\n",
       "    </tr>\n",
       "    <tr>\n",
       "      <th>NPV</th>\n",
       "      <td>0.975000</td>\n",
       "    </tr>\n",
       "    <tr>\n",
       "      <th>PLR</th>\n",
       "      <td>20.000000</td>\n",
       "    </tr>\n",
       "    <tr>\n",
       "      <th>NLR</th>\n",
       "      <td>0.512821</td>\n",
       "    </tr>\n",
       "  </tbody>\n",
       "</table>\n",
       "</div>"
      ],
      "text/plain": [
       "                Scores\n",
       "Accuracy      0.952381\n",
       "Sensitivity   0.500000\n",
       "Specificity   0.975000\n",
       "Precision     0.500000\n",
       "Recall        0.500000\n",
       "F1 Score      0.500000\n",
       "PPV           0.500000\n",
       "NPV           0.975000\n",
       "PLR          20.000000\n",
       "NLR           0.512821"
      ]
     },
     "execution_count": 28,
     "metadata": {},
     "output_type": "execute_result"
    }
   ],
   "source": [
    "df_score = scores(y_true,y_pred)\n",
    "df_score"
   ]
  },
  {
   "cell_type": "code",
   "execution_count": 29,
   "metadata": {},
   "outputs": [
    {
     "name": "stdout",
     "output_type": "stream",
     "text": [
      "Sample Size = 42, Sensitivity = [0.5], Specificity = [0.975]\n"
     ]
    }
   ],
   "source": [
    "import scipy.stats\n",
    "import math\n",
    "samplesize = df_NonNaN_C.shape[0]\n",
    "precision = 0.07\n",
    "prevalence = 0.5\n",
    "sensitivity = df_score.loc['Sensitivity'].values\n",
    "specificity = df_score.loc['Specificity'].values\n",
    "print(f\"Sample Size = {samplesize}, Sensitivity = {sensitivity}, Specificity = {specificity}\")"
   ]
  },
  {
   "cell_type": "code",
   "execution_count": 30,
   "metadata": {},
   "outputs": [
    {
     "name": "stdout",
     "output_type": "stream",
     "text": [
      "Zprev = 0.9073, P value = 0.1821\n"
     ]
    }
   ],
   "source": [
    "Zprev = math.sqrt((samplesize*precision**2)/(prevalence*(1-prevalence)))\n",
    "Pvalue = scipy.stats.norm.sf(Zprev)\n",
    "print(f\"Zprev = {Zprev:0.4f}, P value = {Pvalue:0.4f}\")"
   ]
  },
  {
   "cell_type": "code",
   "execution_count": 33,
   "metadata": {},
   "outputs": [
    {
     "name": "stdout",
     "output_type": "stream",
     "text": [
      "Zprev = 0.6416, P value = 0.2606\n"
     ]
    }
   ],
   "source": [
    "Zsens = math.sqrt((samplesize*precision**2*prevalence)/(sensitivity*(1-sensitivity)))\n",
    "PvalueSens = scipy.stats.norm.sf(Zsens)\n",
    "print(f\"Zprev = {Zsens:0.4f}, P value = {PvalueSens:0.4f}\")"
   ]
  },
  {
   "cell_type": "code",
   "execution_count": 34,
   "metadata": {},
   "outputs": [
    {
     "name": "stdout",
     "output_type": "stream",
     "text": [
      "Zprev = 2.0546, P value = 0.0200\n"
     ]
    }
   ],
   "source": [
    "Zspes = math.sqrt((samplesize*precision**2*(1-prevalence))/(specificity*(1-specificity)))\n",
    "PvalueSpes = scipy.stats.norm.sf(Zspes)\n",
    "print(f\"Zprev = {Zspes:0.4f}, P value = {PvalueSpes:0.4f}\")"
   ]
  },
  {
   "cell_type": "markdown",
   "metadata": {},
   "source": [
    "#### Samples detail"
   ]
  },
  {
   "cell_type": "code",
   "execution_count": 36,
   "metadata": {},
   "outputs": [],
   "source": [
    "samplesDetail = {\n",
    "    #\"Total Samples\": [data.shape[0],data.shape[0]],\n",
    "    #\"Blank Results\": [data['RAMJA'].isnull().sum(axis=0), data['AIIMS'].isnull().sum(axis=0)],\n",
    "    #\"Non-Blank Results\": [data['RAMJA'].count(),data['AIIMS'].count()],\n",
    "    #\"Contaminated Samples [-Ve]\": [df_NonNaN_R['Contamination'].sum(),df_NonNaN_A['Contamination'].sum()],\n",
    "    #\"Others [+Ve]\": [df_NonNaN_R['Others'].sum(),df_NonNaN_A['Others'].sum()],\n",
    "    \"Total common samples\":  [df_NonNaN_C.shape[0], df_NonNaN_C.shape[0]],\n",
    "    #\"Useful Samples\":[df_R_clean.shape[0], df_A_clean.shape[0]],\n",
    "    \"Positive\": [df_NonNaN_C['Positive_R'].sum(),df_NonNaN_C['Positive_A'].sum()],\n",
    "    \"Negative\": [df_NonNaN_C['Negative_R'].sum(),df_NonNaN_C['Negative_A'].sum()],\n",
    "    \"Common Positive\": [tp,tp],\n",
    "    \"Concordance [Common bacteria]\": [df_C['concordance'].sum()],\n",
    "    \"Common Negative\": [tn,tn],\n",
    "    \"RAMJA Positive and AIIMS Negative\":[df_Pos_R_Neg_A.shape[0]],\n",
    "    \"RAMJA Negative and AIIMS Positive\":[df_Neg_R_Pos_A.shape[0]]\n",
    "    \n",
    "}"
   ]
  },
  {
   "cell_type": "code",
   "execution_count": 37,
   "metadata": {},
   "outputs": [
    {
     "data": {
      "text/html": [
       "<div>\n",
       "<style scoped>\n",
       "    .dataframe tbody tr th:only-of-type {\n",
       "        vertical-align: middle;\n",
       "    }\n",
       "\n",
       "    .dataframe tbody tr th {\n",
       "        vertical-align: top;\n",
       "    }\n",
       "\n",
       "    .dataframe thead th {\n",
       "        text-align: right;\n",
       "    }\n",
       "</style>\n",
       "<table border=\"1\" class=\"dataframe\">\n",
       "  <thead>\n",
       "    <tr style=\"text-align: right;\">\n",
       "      <th></th>\n",
       "      <th>RAMJA</th>\n",
       "      <th>AIIMS</th>\n",
       "    </tr>\n",
       "  </thead>\n",
       "  <tbody>\n",
       "    <tr>\n",
       "      <th>Total common samples</th>\n",
       "      <td>34</td>\n",
       "      <td>34</td>\n",
       "    </tr>\n",
       "    <tr>\n",
       "      <th>Positive</th>\n",
       "      <td>0</td>\n",
       "      <td>3</td>\n",
       "    </tr>\n",
       "    <tr>\n",
       "      <th>Negative</th>\n",
       "      <td>34</td>\n",
       "      <td>31</td>\n",
       "    </tr>\n",
       "    <tr>\n",
       "      <th>Common Positive</th>\n",
       "      <td>0</td>\n",
       "      <td>0</td>\n",
       "    </tr>\n",
       "    <tr>\n",
       "      <th>Concordance [Common bacteria]</th>\n",
       "      <td>0</td>\n",
       "      <td>0</td>\n",
       "    </tr>\n",
       "    <tr>\n",
       "      <th>Common Negative</th>\n",
       "      <td>31</td>\n",
       "      <td>31</td>\n",
       "    </tr>\n",
       "    <tr>\n",
       "      <th>RAMJA Positive and AIIMS Negative</th>\n",
       "      <td>0</td>\n",
       "      <td>0</td>\n",
       "    </tr>\n",
       "    <tr>\n",
       "      <th>RAMJA Negative and AIIMS Positive</th>\n",
       "      <td>3</td>\n",
       "      <td>3</td>\n",
       "    </tr>\n",
       "  </tbody>\n",
       "</table>\n",
       "</div>"
      ],
      "text/plain": [
       "                                   RAMJA  AIIMS\n",
       "Total common samples                  34     34\n",
       "Positive                               0      3\n",
       "Negative                              34     31\n",
       "Common Positive                        0      0\n",
       "Concordance [Common bacteria]          0      0\n",
       "Common Negative                       31     31\n",
       "RAMJA Positive and AIIMS Negative      0      0\n",
       "RAMJA Negative and AIIMS Positive      3      3"
      ]
     },
     "execution_count": 37,
     "metadata": {},
     "output_type": "execute_result"
    }
   ],
   "source": [
    "df_samplesDetail = pd.DataFrame(samplesDetail, index=['RAMJA','AIIMS']).T\n",
    "df_samplesDetail"
   ]
  },
  {
   "cell_type": "code",
   "execution_count": 38,
   "metadata": {},
   "outputs": [],
   "source": [
    "# Write the DataFrames to an Excel file\n",
    "with pd.ExcelWriter('UrineControlmatrices.xlsx') as writer:\n",
    "    df_samplesDetail.to_excel(writer, sheet_name='SamplesDetail', index=True)\n",
    "    df_cm.to_excel(writer, sheet_name='ConfusionMatrix', index=True)\n",
    "    df_score.to_excel(writer, sheet_name='Scores', index=True)\n",
    "    #df_cm_sym.to_excel(writer, sheet_name='Ramja positive with symptoms', index=True)\n",
    "    #df_score_sym.to_excel(writer, sheet_name='Scores with symptoms', index=True)"
   ]
  },
  {
   "cell_type": "markdown",
   "metadata": {},
   "source": [
    "### Symptoms analysis"
   ]
  },
  {
   "cell_type": "code",
   "execution_count": 32,
   "metadata": {},
   "outputs": [
    {
     "data": {
      "text/plain": [
       "(131, 5)"
      ]
     },
     "execution_count": 32,
     "metadata": {},
     "output_type": "execute_result"
    }
   ],
   "source": [
    "data_sym = dataset[['UHID','Abdominal pain', 'BurningMicturition','Urinating often','Vaginal irritation']]\n",
    "data_sym.shape"
   ]
  },
  {
   "cell_type": "code",
   "execution_count": 33,
   "metadata": {},
   "outputs": [
    {
     "data": {
      "text/html": [
       "<div>\n",
       "<style scoped>\n",
       "    .dataframe tbody tr th:only-of-type {\n",
       "        vertical-align: middle;\n",
       "    }\n",
       "\n",
       "    .dataframe tbody tr th {\n",
       "        vertical-align: top;\n",
       "    }\n",
       "\n",
       "    .dataframe thead th {\n",
       "        text-align: right;\n",
       "    }\n",
       "</style>\n",
       "<table border=\"1\" class=\"dataframe\">\n",
       "  <thead>\n",
       "    <tr style=\"text-align: right;\">\n",
       "      <th></th>\n",
       "      <th>UHID</th>\n",
       "      <th>Abdominal pain</th>\n",
       "      <th>BurningMicturition</th>\n",
       "      <th>Urinating often</th>\n",
       "      <th>Vaginal irritation</th>\n",
       "    </tr>\n",
       "  </thead>\n",
       "  <tbody>\n",
       "    <tr>\n",
       "      <th>0</th>\n",
       "      <td>20220065432</td>\n",
       "      <td>Yes</td>\n",
       "      <td>Yes</td>\n",
       "      <td>Yes</td>\n",
       "      <td>No</td>\n",
       "    </tr>\n",
       "    <tr>\n",
       "      <th>1</th>\n",
       "      <td>20240016182</td>\n",
       "      <td>Yes</td>\n",
       "      <td>No</td>\n",
       "      <td>no</td>\n",
       "      <td>no</td>\n",
       "    </tr>\n",
       "    <tr>\n",
       "      <th>2</th>\n",
       "      <td>20230125389</td>\n",
       "      <td>No</td>\n",
       "      <td>Yes</td>\n",
       "      <td>No</td>\n",
       "      <td>No</td>\n",
       "    </tr>\n",
       "    <tr>\n",
       "      <th>3</th>\n",
       "      <td>20180022685</td>\n",
       "      <td>No</td>\n",
       "      <td>Yes</td>\n",
       "      <td>No</td>\n",
       "      <td>Yes</td>\n",
       "    </tr>\n",
       "    <tr>\n",
       "      <th>4</th>\n",
       "      <td>20201415102</td>\n",
       "      <td>No</td>\n",
       "      <td>No</td>\n",
       "      <td>No</td>\n",
       "      <td>No</td>\n",
       "    </tr>\n",
       "  </tbody>\n",
       "</table>\n",
       "</div>"
      ],
      "text/plain": [
       "          UHID Abdominal pain BurningMicturition Urinating often  \\\n",
       "0  20220065432            Yes                Yes             Yes   \n",
       "1  20240016182            Yes                 No              no   \n",
       "2  20230125389             No                Yes              No   \n",
       "3  20180022685             No                Yes              No   \n",
       "4  20201415102             No                 No              No   \n",
       "\n",
       "  Vaginal irritation  \n",
       "0                 No  \n",
       "1                 no  \n",
       "2                 No  \n",
       "3                Yes  \n",
       "4                 No  "
      ]
     },
     "execution_count": 33,
     "metadata": {},
     "output_type": "execute_result"
    }
   ],
   "source": [
    "data_sym.head()"
   ]
  },
  {
   "cell_type": "markdown",
   "metadata": {},
   "source": [
    "#### Data cleaning for correlation of catagorical matrix"
   ]
  },
  {
   "cell_type": "code",
   "execution_count": 34,
   "metadata": {},
   "outputs": [],
   "source": [
    "# drop rows conatining any nullvalue\n",
    "data_sym = data_sym.dropna()\n",
    "\n",
    "# Define undesired symbols (as a regex pattern)\n",
    "undesired_symbols = '[-_@#$]'\n",
    "\n",
    "# Create a mask for rows that contain undesired symbols in any column\n",
    "mask = data_sym.astype(str).apply(lambda col: col.str.contains(undesired_symbols, regex=True, na=False))\n",
    "\n",
    "# Drop rows where any column contains undesired symbols\n",
    "data_sym = data_sym[~mask.any(axis=1)]\n",
    "\n",
    "#.. Covert all text to upper case\n",
    "data_sym = data_sym.apply(lambda x: x.str.upper() if x.dtype == \"object\" else x)\n",
    "\n",
    "#.. Convet data to Yes or No in diagnosis column\n",
    "#data_sym['Diagnosis'] = data_sym['Diagnosis'].map(lambda x: 'YES' if x == 'UTI' else 'NO')\n",
    "\n",
    "# Select the relevant columns for correlation\n",
    "columns_to_map = ['Abdominal pain', 'BurningMicturition', 'Urinating often', 'Vaginal irritation']\n",
    "\n",
    "# Apply the mapping to the selected columns\n",
    "data_sym[columns_to_map] = data_sym[columns_to_map].applymap(lambda x: 1 if x == 'YES' else 0)\n",
    "\n",
    "#df_sym = pd.merge(data_sym,df_R_clean,how='inner',on='UHID')\n",
    "df_sym = pd.merge(df_NonNaN_C,data_sym,how='inner', on='UHID')\n",
    "\n",
    "# dataset for correlation\n",
    "#df_sym = df_sym[['Positive_R','Abdominal pain', 'BurningMicturition', 'Urinating often', 'Vaginal irritation']]\n",
    "\n",
    "# remname Positive_R to Ramja\n",
    "#df_sym = df_sym.rename(columns={'Positive_R':'RAMJA'})\n",
    "\n",
    "#..Convert to categorical variables\n",
    "#df_sym = df_sym.apply(lambda col: col.astype('category') if col.nunique() < 3 else col)"
   ]
  },
  {
   "cell_type": "code",
   "execution_count": 35,
   "metadata": {},
   "outputs": [
    {
     "data": {
      "text/plain": [
       "(87, 12)"
      ]
     },
     "execution_count": 35,
     "metadata": {},
     "output_type": "execute_result"
    }
   ],
   "source": [
    "df_sym.shape"
   ]
  },
  {
   "cell_type": "code",
   "execution_count": 36,
   "metadata": {},
   "outputs": [
    {
     "data": {
      "text/html": [
       "<div>\n",
       "<style scoped>\n",
       "    .dataframe tbody tr th:only-of-type {\n",
       "        vertical-align: middle;\n",
       "    }\n",
       "\n",
       "    .dataframe tbody tr th {\n",
       "        vertical-align: top;\n",
       "    }\n",
       "\n",
       "    .dataframe thead th {\n",
       "        text-align: right;\n",
       "    }\n",
       "</style>\n",
       "<table border=\"1\" class=\"dataframe\">\n",
       "  <thead>\n",
       "    <tr style=\"text-align: right;\">\n",
       "      <th></th>\n",
       "      <th>UHID</th>\n",
       "      <th>RAMJA</th>\n",
       "      <th>AIIMS</th>\n",
       "      <th>concordance</th>\n",
       "      <th>Positive_A</th>\n",
       "      <th>Negative_A</th>\n",
       "      <th>Positive_R</th>\n",
       "      <th>Negative_R</th>\n",
       "      <th>Abdominal pain</th>\n",
       "      <th>BurningMicturition</th>\n",
       "      <th>Urinating often</th>\n",
       "      <th>Vaginal irritation</th>\n",
       "    </tr>\n",
       "  </thead>\n",
       "  <tbody>\n",
       "    <tr>\n",
       "      <th>0</th>\n",
       "      <td>20220065432</td>\n",
       "      <td>Enterococcus faecalis</td>\n",
       "      <td>Enterococcus faecalis</td>\n",
       "      <td>1</td>\n",
       "      <td>1</td>\n",
       "      <td>0</td>\n",
       "      <td>1</td>\n",
       "      <td>0</td>\n",
       "      <td>1</td>\n",
       "      <td>1</td>\n",
       "      <td>1</td>\n",
       "      <td>0</td>\n",
       "    </tr>\n",
       "    <tr>\n",
       "      <th>1</th>\n",
       "      <td>20230125389</td>\n",
       "      <td>E.Coli. and K.pne</td>\n",
       "      <td>E.coli</td>\n",
       "      <td>1</td>\n",
       "      <td>1</td>\n",
       "      <td>0</td>\n",
       "      <td>1</td>\n",
       "      <td>0</td>\n",
       "      <td>0</td>\n",
       "      <td>1</td>\n",
       "      <td>0</td>\n",
       "      <td>0</td>\n",
       "    </tr>\n",
       "    <tr>\n",
       "      <th>2</th>\n",
       "      <td>20180022685</td>\n",
       "      <td>P. mirabilis</td>\n",
       "      <td>CONTAMINATION</td>\n",
       "      <td>0</td>\n",
       "      <td>0</td>\n",
       "      <td>1</td>\n",
       "      <td>1</td>\n",
       "      <td>0</td>\n",
       "      <td>0</td>\n",
       "      <td>1</td>\n",
       "      <td>0</td>\n",
       "      <td>1</td>\n",
       "    </tr>\n",
       "    <tr>\n",
       "      <th>3</th>\n",
       "      <td>20240012395</td>\n",
       "      <td>Polymicrobial (E.coli, A. baumannii, P.mirabil...</td>\n",
       "      <td>E.coli</td>\n",
       "      <td>1</td>\n",
       "      <td>1</td>\n",
       "      <td>0</td>\n",
       "      <td>1</td>\n",
       "      <td>0</td>\n",
       "      <td>0</td>\n",
       "      <td>0</td>\n",
       "      <td>0</td>\n",
       "      <td>1</td>\n",
       "    </tr>\n",
       "    <tr>\n",
       "      <th>4</th>\n",
       "      <td>20220166372</td>\n",
       "      <td>E.coli, Pseudomonas, P.mirabilis, E.Faecalis, ...</td>\n",
       "      <td>E.coli &amp; Pseudomnas</td>\n",
       "      <td>1</td>\n",
       "      <td>1</td>\n",
       "      <td>0</td>\n",
       "      <td>1</td>\n",
       "      <td>0</td>\n",
       "      <td>0</td>\n",
       "      <td>1</td>\n",
       "      <td>1</td>\n",
       "      <td>0</td>\n",
       "    </tr>\n",
       "  </tbody>\n",
       "</table>\n",
       "</div>"
      ],
      "text/plain": [
       "          UHID                                              RAMJA  \\\n",
       "0  20220065432                              Enterococcus faecalis   \n",
       "1  20230125389                                  E.Coli. and K.pne   \n",
       "2  20180022685                                       P. mirabilis   \n",
       "3  20240012395  Polymicrobial (E.coli, A. baumannii, P.mirabil...   \n",
       "4  20220166372  E.coli, Pseudomonas, P.mirabilis, E.Faecalis, ...   \n",
       "\n",
       "                   AIIMS  concordance  Positive_A  Negative_A  Positive_R  \\\n",
       "0  Enterococcus faecalis            1           1           0           1   \n",
       "1                 E.coli            1           1           0           1   \n",
       "2          CONTAMINATION            0           0           1           1   \n",
       "3                 E.coli            1           1           0           1   \n",
       "4    E.coli & Pseudomnas            1           1           0           1   \n",
       "\n",
       "   Negative_R  Abdominal pain  BurningMicturition  Urinating often  \\\n",
       "0           0               1                   1                1   \n",
       "1           0               0                   1                0   \n",
       "2           0               0                   1                0   \n",
       "3           0               0                   0                0   \n",
       "4           0               0                   1                1   \n",
       "\n",
       "   Vaginal irritation  \n",
       "0                   0  \n",
       "1                   0  \n",
       "2                   1  \n",
       "3                   1  \n",
       "4                   0  "
      ]
     },
     "execution_count": 36,
     "metadata": {},
     "output_type": "execute_result"
    }
   ],
   "source": [
    "df_sym.head()"
   ]
  },
  {
   "cell_type": "code",
   "execution_count": 37,
   "metadata": {},
   "outputs": [
    {
     "data": {
      "text/plain": [
       "(87, 13)"
      ]
     },
     "execution_count": 37,
     "metadata": {},
     "output_type": "execute_result"
    }
   ],
   "source": [
    "#df_sym['Positive_sym'] = ((df_sym['Positive_R'] == 1) & df_sym[['Abdominal pain', 'BurningMicturition', 'Urinating often','Vaginal irritation']].any(axis=1)).astype(int)\n",
    "\n",
    "# df_sym['Positive_sym'] = ((df_sym['Positive_R'] == 1) & ((df_sym[['Abdominal pain', 'BurningMicturition', 'Urinating often','Vaginal irritation']] == 1).sum(axis=1) >= 2)).astype(int)\n",
    "# df_sym.shape"
   ]
  },
  {
   "cell_type": "code",
   "execution_count": 37,
   "metadata": {},
   "outputs": [
    {
     "data": {
      "text/plain": [
       "(87, 14)"
      ]
     },
     "execution_count": 37,
     "metadata": {},
     "output_type": "execute_result"
    }
   ],
   "source": [
    "df_sym['Positive_sym'] = (((df_sym[['Abdominal pain', 'BurningMicturition', 'Urinating often','Vaginal irritation']] == 1).sum(axis=1) >= 2)).astype(int)\n",
    "df_sym['Predict_Diagnosis'] = ((df_sym['Positive_R'] == 1) & ((df_sym[['Abdominal pain', 'BurningMicturition', 'Urinating often','Vaginal irritation']] == 1).sum(axis=1) >= 2)).astype(int)\n",
    "df_sym.shape"
   ]
  },
  {
   "cell_type": "code",
   "execution_count": 38,
   "metadata": {},
   "outputs": [
    {
     "data": {
      "text/html": [
       "<div>\n",
       "<style scoped>\n",
       "    .dataframe tbody tr th:only-of-type {\n",
       "        vertical-align: middle;\n",
       "    }\n",
       "\n",
       "    .dataframe tbody tr th {\n",
       "        vertical-align: top;\n",
       "    }\n",
       "\n",
       "    .dataframe thead th {\n",
       "        text-align: right;\n",
       "    }\n",
       "</style>\n",
       "<table border=\"1\" class=\"dataframe\">\n",
       "  <thead>\n",
       "    <tr style=\"text-align: right;\">\n",
       "      <th></th>\n",
       "      <th>UHID</th>\n",
       "      <th>RAMJA</th>\n",
       "      <th>AIIMS</th>\n",
       "      <th>concordance</th>\n",
       "      <th>Positive_A</th>\n",
       "      <th>Negative_A</th>\n",
       "      <th>Positive_R</th>\n",
       "      <th>Negative_R</th>\n",
       "      <th>Abdominal pain</th>\n",
       "      <th>BurningMicturition</th>\n",
       "      <th>Urinating often</th>\n",
       "      <th>Vaginal irritation</th>\n",
       "      <th>Positive_sym</th>\n",
       "      <th>Predict_Diagnosis</th>\n",
       "    </tr>\n",
       "  </thead>\n",
       "  <tbody>\n",
       "    <tr>\n",
       "      <th>0</th>\n",
       "      <td>20220065432</td>\n",
       "      <td>Enterococcus faecalis</td>\n",
       "      <td>Enterococcus faecalis</td>\n",
       "      <td>1</td>\n",
       "      <td>1</td>\n",
       "      <td>0</td>\n",
       "      <td>1</td>\n",
       "      <td>0</td>\n",
       "      <td>1</td>\n",
       "      <td>1</td>\n",
       "      <td>1</td>\n",
       "      <td>0</td>\n",
       "      <td>1</td>\n",
       "      <td>1</td>\n",
       "    </tr>\n",
       "    <tr>\n",
       "      <th>1</th>\n",
       "      <td>20230125389</td>\n",
       "      <td>E.Coli. and K.pne</td>\n",
       "      <td>E.coli</td>\n",
       "      <td>1</td>\n",
       "      <td>1</td>\n",
       "      <td>0</td>\n",
       "      <td>1</td>\n",
       "      <td>0</td>\n",
       "      <td>0</td>\n",
       "      <td>1</td>\n",
       "      <td>0</td>\n",
       "      <td>0</td>\n",
       "      <td>0</td>\n",
       "      <td>0</td>\n",
       "    </tr>\n",
       "    <tr>\n",
       "      <th>2</th>\n",
       "      <td>20180022685</td>\n",
       "      <td>P. mirabilis</td>\n",
       "      <td>CONTAMINATION</td>\n",
       "      <td>0</td>\n",
       "      <td>0</td>\n",
       "      <td>1</td>\n",
       "      <td>1</td>\n",
       "      <td>0</td>\n",
       "      <td>0</td>\n",
       "      <td>1</td>\n",
       "      <td>0</td>\n",
       "      <td>1</td>\n",
       "      <td>1</td>\n",
       "      <td>1</td>\n",
       "    </tr>\n",
       "    <tr>\n",
       "      <th>3</th>\n",
       "      <td>20240012395</td>\n",
       "      <td>Polymicrobial (E.coli, A. baumannii, P.mirabil...</td>\n",
       "      <td>E.coli</td>\n",
       "      <td>1</td>\n",
       "      <td>1</td>\n",
       "      <td>0</td>\n",
       "      <td>1</td>\n",
       "      <td>0</td>\n",
       "      <td>0</td>\n",
       "      <td>0</td>\n",
       "      <td>0</td>\n",
       "      <td>1</td>\n",
       "      <td>0</td>\n",
       "      <td>0</td>\n",
       "    </tr>\n",
       "    <tr>\n",
       "      <th>4</th>\n",
       "      <td>20220166372</td>\n",
       "      <td>E.coli, Pseudomonas, P.mirabilis, E.Faecalis, ...</td>\n",
       "      <td>E.coli &amp; Pseudomnas</td>\n",
       "      <td>1</td>\n",
       "      <td>1</td>\n",
       "      <td>0</td>\n",
       "      <td>1</td>\n",
       "      <td>0</td>\n",
       "      <td>0</td>\n",
       "      <td>1</td>\n",
       "      <td>1</td>\n",
       "      <td>0</td>\n",
       "      <td>1</td>\n",
       "      <td>1</td>\n",
       "    </tr>\n",
       "  </tbody>\n",
       "</table>\n",
       "</div>"
      ],
      "text/plain": [
       "          UHID                                              RAMJA  \\\n",
       "0  20220065432                              Enterococcus faecalis   \n",
       "1  20230125389                                  E.Coli. and K.pne   \n",
       "2  20180022685                                       P. mirabilis   \n",
       "3  20240012395  Polymicrobial (E.coli, A. baumannii, P.mirabil...   \n",
       "4  20220166372  E.coli, Pseudomonas, P.mirabilis, E.Faecalis, ...   \n",
       "\n",
       "                   AIIMS  concordance  Positive_A  Negative_A  Positive_R  \\\n",
       "0  Enterococcus faecalis            1           1           0           1   \n",
       "1                 E.coli            1           1           0           1   \n",
       "2          CONTAMINATION            0           0           1           1   \n",
       "3                 E.coli            1           1           0           1   \n",
       "4    E.coli & Pseudomnas            1           1           0           1   \n",
       "\n",
       "   Negative_R  Abdominal pain  BurningMicturition  Urinating often  \\\n",
       "0           0               1                   1                1   \n",
       "1           0               0                   1                0   \n",
       "2           0               0                   1                0   \n",
       "3           0               0                   0                0   \n",
       "4           0               0                   1                1   \n",
       "\n",
       "   Vaginal irritation  Positive_sym  Predict_Diagnosis  \n",
       "0                   0             1                  1  \n",
       "1                   0             0                  0  \n",
       "2                   1             1                  1  \n",
       "3                   1             0                  0  \n",
       "4                   0             1                  1  "
      ]
     },
     "execution_count": 38,
     "metadata": {},
     "output_type": "execute_result"
    }
   ],
   "source": [
    "df_sym.head()"
   ]
  },
  {
   "cell_type": "code",
   "execution_count": 37,
   "metadata": {},
   "outputs": [
    {
     "name": "stdout",
     "output_type": "stream",
     "text": [
      "[[52 19]\n",
      " [ 4 12]]\n"
     ]
    }
   ],
   "source": [
    "y_true_sym = df_sym['Positive_sym']\n",
    "y_pred_sym = df_sym['Positive_A']\n",
    "# y_true = df_diagnosis['Diagnosis']\n",
    "# y_pred = df_diagnosis['Positive_A']\n",
    "\n",
    "cm = confusion_matrix(y_true_sym, y_pred_sym)\n",
    "print(cm)"
   ]
  },
  {
   "cell_type": "code",
   "execution_count": 38,
   "metadata": {},
   "outputs": [
    {
     "data": {
      "text/plain": [
       "(52, 19, 4, 12)"
      ]
     },
     "execution_count": 38,
     "metadata": {},
     "output_type": "execute_result"
    }
   ],
   "source": [
    "tn, fp, fn, tp = confusion_matrix(y_true_sym, y_pred_sym).ravel()\n",
    "(tn,fp,fn,tp)"
   ]
  },
  {
   "cell_type": "code",
   "execution_count": 39,
   "metadata": {},
   "outputs": [
    {
     "data": {
      "text/plain": [
       "array([[12, 19],\n",
       "       [ 4, 52]], dtype=int64)"
      ]
     },
     "execution_count": 39,
     "metadata": {},
     "output_type": "execute_result"
    }
   ],
   "source": [
    "t_cm_sym = np.array([tp, fp, fn, tn]).reshape(2,2)\n",
    "t_cm_sym"
   ]
  },
  {
   "cell_type": "code",
   "execution_count": 40,
   "metadata": {},
   "outputs": [
    {
     "data": {
      "text/html": [
       "<div>\n",
       "<style scoped>\n",
       "    .dataframe tbody tr th:only-of-type {\n",
       "        vertical-align: middle;\n",
       "    }\n",
       "\n",
       "    .dataframe tbody tr th {\n",
       "        vertical-align: top;\n",
       "    }\n",
       "\n",
       "    .dataframe thead th {\n",
       "        text-align: right;\n",
       "    }\n",
       "</style>\n",
       "<table border=\"1\" class=\"dataframe\">\n",
       "  <thead>\n",
       "    <tr style=\"text-align: right;\">\n",
       "      <th></th>\n",
       "      <th>AIIMS Positive</th>\n",
       "      <th>AIIMS Negative</th>\n",
       "    </tr>\n",
       "  </thead>\n",
       "  <tbody>\n",
       "    <tr>\n",
       "      <th>RAMJA Positive</th>\n",
       "      <td>12</td>\n",
       "      <td>19</td>\n",
       "    </tr>\n",
       "    <tr>\n",
       "      <th>RAMJA Negative</th>\n",
       "      <td>4</td>\n",
       "      <td>52</td>\n",
       "    </tr>\n",
       "  </tbody>\n",
       "</table>\n",
       "</div>"
      ],
      "text/plain": [
       "                AIIMS Positive  AIIMS Negative\n",
       "RAMJA Positive              12              19\n",
       "RAMJA Negative               4              52"
      ]
     },
     "execution_count": 40,
     "metadata": {},
     "output_type": "execute_result"
    }
   ],
   "source": [
    "df_cm_sym =pd.DataFrame(t_cm_sym,index=['RAMJA Positive','RAMJA Negative'], columns= ['AIIMS Positive','AIIMS Negative'])\n",
    "df_cm_sym"
   ]
  },
  {
   "cell_type": "code",
   "execution_count": 41,
   "metadata": {},
   "outputs": [
    {
     "data": {
      "text/html": [
       "<div>\n",
       "<style scoped>\n",
       "    .dataframe tbody tr th:only-of-type {\n",
       "        vertical-align: middle;\n",
       "    }\n",
       "\n",
       "    .dataframe tbody tr th {\n",
       "        vertical-align: top;\n",
       "    }\n",
       "\n",
       "    .dataframe thead th {\n",
       "        text-align: right;\n",
       "    }\n",
       "</style>\n",
       "<table border=\"1\" class=\"dataframe\">\n",
       "  <thead>\n",
       "    <tr style=\"text-align: right;\">\n",
       "      <th></th>\n",
       "      <th>Scores</th>\n",
       "    </tr>\n",
       "  </thead>\n",
       "  <tbody>\n",
       "    <tr>\n",
       "      <th>Accuracy</th>\n",
       "      <td>0.735632</td>\n",
       "    </tr>\n",
       "    <tr>\n",
       "      <th>Sensitivity</th>\n",
       "      <td>0.750000</td>\n",
       "    </tr>\n",
       "    <tr>\n",
       "      <th>Specificity</th>\n",
       "      <td>0.732394</td>\n",
       "    </tr>\n",
       "    <tr>\n",
       "      <th>Precision</th>\n",
       "      <td>0.387097</td>\n",
       "    </tr>\n",
       "    <tr>\n",
       "      <th>Recall</th>\n",
       "      <td>0.750000</td>\n",
       "    </tr>\n",
       "    <tr>\n",
       "      <th>F1 Score</th>\n",
       "      <td>0.510638</td>\n",
       "    </tr>\n",
       "    <tr>\n",
       "      <th>PPV</th>\n",
       "      <td>0.387097</td>\n",
       "    </tr>\n",
       "    <tr>\n",
       "      <th>NPV</th>\n",
       "      <td>0.928571</td>\n",
       "    </tr>\n",
       "    <tr>\n",
       "      <th>PLR</th>\n",
       "      <td>2.802632</td>\n",
       "    </tr>\n",
       "    <tr>\n",
       "      <th>NLR</th>\n",
       "      <td>0.341346</td>\n",
       "    </tr>\n",
       "  </tbody>\n",
       "</table>\n",
       "</div>"
      ],
      "text/plain": [
       "               Scores\n",
       "Accuracy     0.735632\n",
       "Sensitivity  0.750000\n",
       "Specificity  0.732394\n",
       "Precision    0.387097\n",
       "Recall       0.750000\n",
       "F1 Score     0.510638\n",
       "PPV          0.387097\n",
       "NPV          0.928571\n",
       "PLR          2.802632\n",
       "NLR          0.341346"
      ]
     },
     "execution_count": 41,
     "metadata": {},
     "output_type": "execute_result"
    }
   ],
   "source": [
    "df_score_sym = scores(y_true_sym,y_pred_sym)\n",
    "df_score_sym"
   ]
  },
  {
   "cell_type": "markdown",
   "metadata": {},
   "source": [
    "### Correlation of categorical variables"
   ]
  },
  {
   "cell_type": "code",
   "execution_count": 42,
   "metadata": {},
   "outputs": [],
   "source": [
    "from scipy.stats import chi2_contingency\n",
    "def is_correlated(x,y):\n",
    "    ct = pd.crosstab(index=df_sym[x], columns=df_sym[y])\n",
    "    chi_sq_result = chi2_contingency(ct,)\n",
    "    p,x = chi_sq_result[1], \"Correlated\" if chi_sq_result[1] < 0.05 else 'Not correlated'\n",
    "    return p, x"
   ]
  },
  {
   "cell_type": "code",
   "execution_count": 43,
   "metadata": {},
   "outputs": [
    {
     "data": {
      "text/plain": [
       "(0.2139752724291765, 'Not correlated')"
      ]
     },
     "execution_count": 43,
     "metadata": {},
     "output_type": "execute_result"
    }
   ],
   "source": [
    "is_correlated('RAMJA', 'Vaginal irritation')"
   ]
  },
  {
   "cell_type": "code",
   "execution_count": 44,
   "metadata": {},
   "outputs": [
    {
     "data": {
      "text/html": [
       "<div>\n",
       "<style scoped>\n",
       "    .dataframe tbody tr th:only-of-type {\n",
       "        vertical-align: middle;\n",
       "    }\n",
       "\n",
       "    .dataframe tbody tr th {\n",
       "        vertical-align: top;\n",
       "    }\n",
       "\n",
       "    .dataframe thead th {\n",
       "        text-align: right;\n",
       "    }\n",
       "</style>\n",
       "<table border=\"1\" class=\"dataframe\">\n",
       "  <thead>\n",
       "    <tr style=\"text-align: right;\">\n",
       "      <th></th>\n",
       "      <th>P-Value</th>\n",
       "      <th>Correlation with RAMJA</th>\n",
       "    </tr>\n",
       "  </thead>\n",
       "  <tbody>\n",
       "    <tr>\n",
       "      <th>UHID</th>\n",
       "      <td>0.3085</td>\n",
       "      <td>Not correlated</td>\n",
       "    </tr>\n",
       "    <tr>\n",
       "      <th>RAMJA</th>\n",
       "      <td>0.0000</td>\n",
       "      <td>Correlated</td>\n",
       "    </tr>\n",
       "    <tr>\n",
       "      <th>AIIMS</th>\n",
       "      <td>0.0000</td>\n",
       "      <td>Correlated</td>\n",
       "    </tr>\n",
       "    <tr>\n",
       "      <th>concordance</th>\n",
       "      <td>0.0007</td>\n",
       "      <td>Correlated</td>\n",
       "    </tr>\n",
       "    <tr>\n",
       "      <th>Positive_A</th>\n",
       "      <td>0.0008</td>\n",
       "      <td>Correlated</td>\n",
       "    </tr>\n",
       "    <tr>\n",
       "      <th>Negative_A</th>\n",
       "      <td>0.0008</td>\n",
       "      <td>Correlated</td>\n",
       "    </tr>\n",
       "    <tr>\n",
       "      <th>Positive_R</th>\n",
       "      <td>0.0001</td>\n",
       "      <td>Correlated</td>\n",
       "    </tr>\n",
       "    <tr>\n",
       "      <th>Negative_R</th>\n",
       "      <td>0.0001</td>\n",
       "      <td>Correlated</td>\n",
       "    </tr>\n",
       "    <tr>\n",
       "      <th>Abdominal pain</th>\n",
       "      <td>0.0293</td>\n",
       "      <td>Correlated</td>\n",
       "    </tr>\n",
       "    <tr>\n",
       "      <th>BurningMicturition</th>\n",
       "      <td>0.3354</td>\n",
       "      <td>Not correlated</td>\n",
       "    </tr>\n",
       "    <tr>\n",
       "      <th>Urinating often</th>\n",
       "      <td>0.0001</td>\n",
       "      <td>Correlated</td>\n",
       "    </tr>\n",
       "    <tr>\n",
       "      <th>Vaginal irritation</th>\n",
       "      <td>0.2140</td>\n",
       "      <td>Not correlated</td>\n",
       "    </tr>\n",
       "    <tr>\n",
       "      <th>Positive_sym</th>\n",
       "      <td>0.0006</td>\n",
       "      <td>Correlated</td>\n",
       "    </tr>\n",
       "  </tbody>\n",
       "</table>\n",
       "</div>"
      ],
      "text/plain": [
       "                    P-Value Correlation with RAMJA\n",
       "UHID                 0.3085         Not correlated\n",
       "RAMJA                0.0000             Correlated\n",
       "AIIMS                0.0000             Correlated\n",
       "concordance          0.0007             Correlated\n",
       "Positive_A           0.0008             Correlated\n",
       "Negative_A           0.0008             Correlated\n",
       "Positive_R           0.0001             Correlated\n",
       "Negative_R           0.0001             Correlated\n",
       "Abdominal pain       0.0293             Correlated\n",
       "BurningMicturition   0.3354         Not correlated\n",
       "Urinating often      0.0001             Correlated\n",
       "Vaginal irritation   0.2140         Not correlated\n",
       "Positive_sym         0.0006             Correlated"
      ]
     },
     "execution_count": 44,
     "metadata": {},
     "output_type": "execute_result"
    }
   ],
   "source": [
    "corr_list = []\n",
    "for t in df_sym.columns:    \n",
    "    corr = is_correlated('RAMJA', t)\n",
    "    corr_list.append(corr)\n",
    "\n",
    "# Convert the list of tuples into a DataFrame\n",
    "df_corr = round(pd.DataFrame(corr_list, index=df_sym.columns,columns=['P-Value', 'Correlation with RAMJA']),4)\n",
    "df_corr"
   ]
  },
  {
   "cell_type": "markdown",
   "metadata": {},
   "source": [
    "#### Export matrices to excel"
   ]
  },
  {
   "cell_type": "code",
   "execution_count": 32,
   "metadata": {},
   "outputs": [],
   "source": [
    "# Write the DataFrames to an Excel file\n",
    "with pd.ExcelWriter('Bloodmatrices.xlsx') as writer:\n",
    "    df_samplesDetail.to_excel(writer, sheet_name='SamplesDetail', index=True)\n",
    "    df_cm.to_excel(writer, sheet_name='ConfusionMatrix', index=True)\n",
    "    df_score.to_excel(writer, sheet_name='Scores', index=True)\n",
    "    #df_cm_sym.to_excel(writer, sheet_name='Ramja positive with symptoms', index=True)\n",
    "    #df_score_sym.to_excel(writer, sheet_name='Scores with symptoms', index=True)"
   ]
  },
  {
   "cell_type": "markdown",
   "metadata": {},
   "source": [
    "#### Export dataset to excel"
   ]
  },
  {
   "cell_type": "code",
   "execution_count": 45,
   "metadata": {},
   "outputs": [],
   "source": [
    "# Complete data to export\n",
    "df_NonNaN_C_expo = pd.merge(dataset, df_NonNaN_C['UHID'], how='inner', on='UHID')\n",
    "df_Pos_C_R_expo = pd.merge(dataset, df_Pos_C_R['UHID'], how='inner', on='UHID')\n",
    "df_Pos_C_A_expo = pd.merge(dataset, df_Pos_C_A['UHID'], how='inner', on='UHID')\n",
    "df_Neg_C_R_expo = pd.merge(dataset, df_Neg_C_R['UHID'], how='inner', on='UHID')\n",
    "df_Neg_C_A_expo = pd.merge(dataset, df_Neg_C_A['UHID'], how='inner', on='UHID')\n",
    "df_Pos_C_expo = pd.merge(dataset, df_Pos_C['UHID'], how='inner', on='UHID')\n",
    "df_Neg_C_expo = pd.merge(dataset, df_Neg_C['UHID'], how='inner', on='UHID')\n",
    "df_Pos_R_Neg_A_expo = pd.merge(dataset, df_Pos_R_Neg_A['UHID'], how='inner', on='UHID')\n",
    "df_Neg_R_Pos_A = pd.merge(dataset, df_Neg_R_Pos_A['UHID'], how='inner', on='UHID')\n",
    "\n",
    "\n",
    "# df_other_A_expo = pd.merge(dataset, df_Other_A['UHID'], how='inner', on='UHID')\n",
    "# df_Conta_A_expo = pd.merge(dataset, df_Conta_A['UHID'], how='inner', on='UHID')\n",
    "# df_Pos_C_expo = pd.merge(dataset, df_Pos_C['UHID'], how='inner', on='UHID')\n",
    "# df_concordance_expo = pd.merge(dataset, df_concordance['UHID'], how='inner', on='UHID')\n",
    "# df_Neg_C_expo = pd.merge(dataset, df_Neg_C['UHID'], how='inner', on='UHID')\n",
    "# df_Pos_R_Neg_A_expo = pd.merge(dataset, df_Pos_R_Neg_A['UHID'], how='inner', on='UHID')"
   ]
  },
  {
   "cell_type": "code",
   "execution_count": 53,
   "metadata": {},
   "outputs": [],
   "source": [
    "# Write the DataFrames to an Excel file\n",
    "with pd.ExcelWriter('3sorteddata.xlsx') as writer:\n",
    "    df_NonNaN_C_expo.to_excel(writer, sheet_name='Total Common Samples', index=False)\n",
    "    df_Pos_C_R_expo.to_excel(writer, sheet_name='Common Positives', index=False)\n",
    "    df_Pos_C_A_expo.to_excel(writer, sheet_name='Concordance', index=False)\n",
    "    df_Neg_C_R_expo.to_excel(writer, sheet_name='Common Negatives', index=False)\n",
    "    df_Neg_C_A_expo.to_excel(writer, sheet_name='Positive_RAMJA_Negative_AIIMS', index=False)\n",
    "    df_Pos_C_expo.to_excel(writer, sheet_name='Others_A', index=False)\n",
    "    df_Neg_C_expo.to_excel(writer, sheet_name='Contaminated Samples_A', index=False)\n",
    "    df_Pos_R_Neg_A_expo.to_excel(writer, sheet_name='Contaminated Samples_A', index=False)\n",
    "    df_Neg_R_Pos_A.to_excel(writer, sheet_name='Contaminated Samples_A', index=False)\n",
    "\n",
    "      "
   ]
  },
  {
   "cell_type": "code",
   "execution_count": 49,
   "metadata": {},
   "outputs": [
    {
     "data": {
      "text/plain": [
       "(112, 8)"
      ]
     },
     "execution_count": 49,
     "metadata": {},
     "output_type": "execute_result"
    }
   ],
   "source": [
    "df_NonNaN_C.shape"
   ]
  },
  {
   "cell_type": "code",
   "execution_count": 51,
   "metadata": {},
   "outputs": [
    {
     "data": {
      "text/html": [
       "<div>\n",
       "<style scoped>\n",
       "    .dataframe tbody tr th:only-of-type {\n",
       "        vertical-align: middle;\n",
       "    }\n",
       "\n",
       "    .dataframe tbody tr th {\n",
       "        vertical-align: top;\n",
       "    }\n",
       "\n",
       "    .dataframe thead th {\n",
       "        text-align: right;\n",
       "    }\n",
       "</style>\n",
       "<table border=\"1\" class=\"dataframe\">\n",
       "  <thead>\n",
       "    <tr style=\"text-align: right;\">\n",
       "      <th></th>\n",
       "      <th>UHID</th>\n",
       "      <th>AIIMS</th>\n",
       "      <th>cleanAIIMS</th>\n",
       "      <th>Escherichia coli</th>\n",
       "      <th>Klebsiella pneumoniae</th>\n",
       "      <th>Pseudomonas aeruginosa</th>\n",
       "      <th>Acinetobacter baumannii</th>\n",
       "      <th>Proteus mirabilis</th>\n",
       "      <th>Enterococcus faecalis</th>\n",
       "      <th>Staphylococcus aureus</th>\n",
       "      <th>Staphylococcus saprophyticus</th>\n",
       "      <th>Sterile</th>\n",
       "      <th>Contamination</th>\n",
       "      <th>NAN</th>\n",
       "      <th>Others</th>\n",
       "      <th>Positive</th>\n",
       "      <th>Negative</th>\n",
       "    </tr>\n",
       "  </thead>\n",
       "  <tbody>\n",
       "    <tr>\n",
       "      <th>0</th>\n",
       "      <td>20220065432</td>\n",
       "      <td>Enterococcus faecalis</td>\n",
       "      <td>ENTEROCOCCUS FAECALIS</td>\n",
       "      <td>0</td>\n",
       "      <td>0</td>\n",
       "      <td>0</td>\n",
       "      <td>0</td>\n",
       "      <td>0</td>\n",
       "      <td>1</td>\n",
       "      <td>0</td>\n",
       "      <td>0</td>\n",
       "      <td>0</td>\n",
       "      <td>0</td>\n",
       "      <td>0</td>\n",
       "      <td>0</td>\n",
       "      <td>1</td>\n",
       "      <td>0</td>\n",
       "    </tr>\n",
       "    <tr>\n",
       "      <th>2</th>\n",
       "      <td>20230125389</td>\n",
       "      <td>E.coli</td>\n",
       "      <td>E COLI</td>\n",
       "      <td>1</td>\n",
       "      <td>0</td>\n",
       "      <td>0</td>\n",
       "      <td>0</td>\n",
       "      <td>0</td>\n",
       "      <td>0</td>\n",
       "      <td>0</td>\n",
       "      <td>0</td>\n",
       "      <td>0</td>\n",
       "      <td>0</td>\n",
       "      <td>0</td>\n",
       "      <td>0</td>\n",
       "      <td>1</td>\n",
       "      <td>0</td>\n",
       "    </tr>\n",
       "    <tr>\n",
       "      <th>3</th>\n",
       "      <td>20180022685</td>\n",
       "      <td>CONTAMINATION</td>\n",
       "      <td>CONTAMINATION</td>\n",
       "      <td>0</td>\n",
       "      <td>0</td>\n",
       "      <td>0</td>\n",
       "      <td>0</td>\n",
       "      <td>0</td>\n",
       "      <td>0</td>\n",
       "      <td>0</td>\n",
       "      <td>0</td>\n",
       "      <td>0</td>\n",
       "      <td>1</td>\n",
       "      <td>0</td>\n",
       "      <td>0</td>\n",
       "      <td>0</td>\n",
       "      <td>1</td>\n",
       "    </tr>\n",
       "    <tr>\n",
       "      <th>5</th>\n",
       "      <td>20240012395</td>\n",
       "      <td>E.coli</td>\n",
       "      <td>E COLI</td>\n",
       "      <td>1</td>\n",
       "      <td>0</td>\n",
       "      <td>0</td>\n",
       "      <td>0</td>\n",
       "      <td>0</td>\n",
       "      <td>0</td>\n",
       "      <td>0</td>\n",
       "      <td>0</td>\n",
       "      <td>0</td>\n",
       "      <td>0</td>\n",
       "      <td>0</td>\n",
       "      <td>0</td>\n",
       "      <td>1</td>\n",
       "      <td>0</td>\n",
       "    </tr>\n",
       "    <tr>\n",
       "      <th>6</th>\n",
       "      <td>20220166372</td>\n",
       "      <td>E.coli &amp; Pseudomnas</td>\n",
       "      <td>E COLI, PSEUDOMNAS</td>\n",
       "      <td>1</td>\n",
       "      <td>0</td>\n",
       "      <td>1</td>\n",
       "      <td>0</td>\n",
       "      <td>0</td>\n",
       "      <td>0</td>\n",
       "      <td>0</td>\n",
       "      <td>0</td>\n",
       "      <td>0</td>\n",
       "      <td>0</td>\n",
       "      <td>0</td>\n",
       "      <td>0</td>\n",
       "      <td>1</td>\n",
       "      <td>0</td>\n",
       "    </tr>\n",
       "  </tbody>\n",
       "</table>\n",
       "</div>"
      ],
      "text/plain": [
       "          UHID                  AIIMS             cleanAIIMS  \\\n",
       "0  20220065432  Enterococcus faecalis  ENTEROCOCCUS FAECALIS   \n",
       "2  20230125389                 E.coli                 E COLI   \n",
       "3  20180022685          CONTAMINATION          CONTAMINATION   \n",
       "5  20240012395                 E.coli                 E COLI   \n",
       "6  20220166372    E.coli & Pseudomnas     E COLI, PSEUDOMNAS   \n",
       "\n",
       "   Escherichia coli  Klebsiella pneumoniae  Pseudomonas aeruginosa  \\\n",
       "0                 0                      0                       0   \n",
       "2                 1                      0                       0   \n",
       "3                 0                      0                       0   \n",
       "5                 1                      0                       0   \n",
       "6                 1                      0                       1   \n",
       "\n",
       "   Acinetobacter baumannii  Proteus mirabilis  Enterococcus faecalis  \\\n",
       "0                        0                  0                      1   \n",
       "2                        0                  0                      0   \n",
       "3                        0                  0                      0   \n",
       "5                        0                  0                      0   \n",
       "6                        0                  0                      0   \n",
       "\n",
       "   Staphylococcus aureus  Staphylococcus saprophyticus  Sterile  \\\n",
       "0                      0                             0        0   \n",
       "2                      0                             0        0   \n",
       "3                      0                             0        0   \n",
       "5                      0                             0        0   \n",
       "6                      0                             0        0   \n",
       "\n",
       "   Contamination  NAN  Others  Positive  Negative  \n",
       "0              0    0       0         1         0  \n",
       "2              0    0       0         1         0  \n",
       "3              1    0       0         0         1  \n",
       "5              0    0       0         1         0  \n",
       "6              0    0       0         1         0  "
      ]
     },
     "execution_count": 51,
     "metadata": {},
     "output_type": "execute_result"
    }
   ],
   "source": [
    "df_NonNaN_A.head()"
   ]
  },
  {
   "cell_type": "code",
   "execution_count": 47,
   "metadata": {},
   "outputs": [
    {
     "data": {
      "text/html": [
       "<div>\n",
       "<style scoped>\n",
       "    .dataframe tbody tr th:only-of-type {\n",
       "        vertical-align: middle;\n",
       "    }\n",
       "\n",
       "    .dataframe tbody tr th {\n",
       "        vertical-align: top;\n",
       "    }\n",
       "\n",
       "    .dataframe thead th {\n",
       "        text-align: right;\n",
       "    }\n",
       "</style>\n",
       "<table border=\"1\" class=\"dataframe\">\n",
       "  <thead>\n",
       "    <tr style=\"text-align: right;\">\n",
       "      <th></th>\n",
       "      <th>UHID</th>\n",
       "      <th>RAMJA</th>\n",
       "      <th>AIIMS</th>\n",
       "      <th>concordance</th>\n",
       "      <th>Positive_A</th>\n",
       "      <th>Negative_A</th>\n",
       "      <th>Positive_R</th>\n",
       "      <th>Negative_R</th>\n",
       "    </tr>\n",
       "  </thead>\n",
       "  <tbody>\n",
       "    <tr>\n",
       "      <th>0</th>\n",
       "      <td>20220065432</td>\n",
       "      <td>Enterococcus faecalis</td>\n",
       "      <td>Enterococcus faecalis</td>\n",
       "      <td>1</td>\n",
       "      <td>1</td>\n",
       "      <td>0</td>\n",
       "      <td>1</td>\n",
       "      <td>0</td>\n",
       "    </tr>\n",
       "    <tr>\n",
       "      <th>2</th>\n",
       "      <td>20230125389</td>\n",
       "      <td>E.Coli. and K.pne</td>\n",
       "      <td>E.coli</td>\n",
       "      <td>1</td>\n",
       "      <td>1</td>\n",
       "      <td>0</td>\n",
       "      <td>1</td>\n",
       "      <td>0</td>\n",
       "    </tr>\n",
       "    <tr>\n",
       "      <th>3</th>\n",
       "      <td>20180022685</td>\n",
       "      <td>P. mirabilis</td>\n",
       "      <td>CONTAMINATION</td>\n",
       "      <td>0</td>\n",
       "      <td>0</td>\n",
       "      <td>1</td>\n",
       "      <td>1</td>\n",
       "      <td>0</td>\n",
       "    </tr>\n",
       "    <tr>\n",
       "      <th>5</th>\n",
       "      <td>20240012395</td>\n",
       "      <td>Polymicrobial (E.coli, A. baumannii, P.mirabil...</td>\n",
       "      <td>E.coli</td>\n",
       "      <td>1</td>\n",
       "      <td>1</td>\n",
       "      <td>0</td>\n",
       "      <td>1</td>\n",
       "      <td>0</td>\n",
       "    </tr>\n",
       "    <tr>\n",
       "      <th>6</th>\n",
       "      <td>20220166372</td>\n",
       "      <td>E.coli, Pseudomonas, P.mirabilis, E.Faecalis, ...</td>\n",
       "      <td>E.coli &amp; Pseudomnas</td>\n",
       "      <td>1</td>\n",
       "      <td>1</td>\n",
       "      <td>0</td>\n",
       "      <td>1</td>\n",
       "      <td>0</td>\n",
       "    </tr>\n",
       "  </tbody>\n",
       "</table>\n",
       "</div>"
      ],
      "text/plain": [
       "          UHID                                              RAMJA  \\\n",
       "0  20220065432                              Enterococcus faecalis   \n",
       "2  20230125389                                  E.Coli. and K.pne   \n",
       "3  20180022685                                       P. mirabilis   \n",
       "5  20240012395  Polymicrobial (E.coli, A. baumannii, P.mirabil...   \n",
       "6  20220166372  E.coli, Pseudomonas, P.mirabilis, E.Faecalis, ...   \n",
       "\n",
       "                   AIIMS  concordance  Positive_A  Negative_A  Positive_R  \\\n",
       "0  Enterococcus faecalis            1           1           0           1   \n",
       "2                 E.coli            1           1           0           1   \n",
       "3          CONTAMINATION            0           0           1           1   \n",
       "5                 E.coli            1           1           0           1   \n",
       "6    E.coli & Pseudomnas            1           1           0           1   \n",
       "\n",
       "   Negative_R  \n",
       "0           0  \n",
       "2           0  \n",
       "3           0  \n",
       "5           0  \n",
       "6           0  "
      ]
     },
     "execution_count": 47,
     "metadata": {},
     "output_type": "execute_result"
    }
   ],
   "source": [
    "df_NonNaN_C.head()"
   ]
  },
  {
   "cell_type": "markdown",
   "metadata": {},
   "source": [
    "### Extras"
   ]
  },
  {
   "cell_type": "code",
   "execution_count": 39,
   "metadata": {},
   "outputs": [
    {
     "data": {
      "text/html": [
       "<div>\n",
       "<style scoped>\n",
       "    .dataframe tbody tr th:only-of-type {\n",
       "        vertical-align: middle;\n",
       "    }\n",
       "\n",
       "    .dataframe tbody tr th {\n",
       "        vertical-align: top;\n",
       "    }\n",
       "\n",
       "    .dataframe thead th {\n",
       "        text-align: right;\n",
       "    }\n",
       "</style>\n",
       "<table border=\"1\" class=\"dataframe\">\n",
       "  <thead>\n",
       "    <tr style=\"text-align: right;\">\n",
       "      <th>Vaginal irritation</th>\n",
       "      <th>0</th>\n",
       "      <th>1</th>\n",
       "    </tr>\n",
       "    <tr>\n",
       "      <th>RAMJA</th>\n",
       "      <th></th>\n",
       "      <th></th>\n",
       "    </tr>\n",
       "  </thead>\n",
       "  <tbody>\n",
       "    <tr>\n",
       "      <th>0</th>\n",
       "      <td>28</td>\n",
       "      <td>5</td>\n",
       "    </tr>\n",
       "    <tr>\n",
       "      <th>1</th>\n",
       "      <td>41</td>\n",
       "      <td>13</td>\n",
       "    </tr>\n",
       "  </tbody>\n",
       "</table>\n",
       "</div>"
      ],
      "text/plain": [
       "Vaginal irritation   0   1\n",
       "RAMJA                     \n",
       "0                   28   5\n",
       "1                   41  13"
      ]
     },
     "execution_count": 39,
     "metadata": {},
     "output_type": "execute_result"
    }
   ],
   "source": [
    "from scipy.stats import chi2_contingency\n",
    "cross_tab = pd.crosstab(index=df_sym['RAMJA'], columns=df_sym['Vaginal irritation'])\n",
    "cross_tab"
   ]
  },
  {
   "cell_type": "code",
   "execution_count": 40,
   "metadata": {},
   "outputs": [
    {
     "name": "stdout",
     "output_type": "stream",
     "text": [
      "p-value is 0.46897526032412407\n",
      "dof is 1\n"
     ]
    },
    {
     "data": {
      "text/plain": [
       "(0.5243894256575418,\n",
       " 0.46897526032412407,\n",
       " 1,\n",
       " array([[26.17241379,  6.82758621],\n",
       "        [42.82758621, 11.17241379]]))"
      ]
     },
     "execution_count": 40,
     "metadata": {},
     "output_type": "execute_result"
    }
   ],
   "source": [
    "# defining the table\n",
    "stat, p, dof, expected = chi2_contingency(cross_tab,)\n",
    "print(\"p-value is \" + str(p))\n",
    "print(\"dof is \" + str(dof))\n",
    "(stat, p, dof, expected)"
   ]
  },
  {
   "cell_type": "code",
   "execution_count": 265,
   "metadata": {},
   "outputs": [],
   "source": [
    "import pandas as pd\n",
    "import numpy as np\n",
    "from scipy.stats import chi2_contingency\n",
    "import matplotlib.pyplot as plt\n",
    "import seaborn as sns\n",
    "\n",
    "def cramerV(label,x):\n",
    "    confusion_matrix = pd.crosstab(label, x)\n",
    "    chi2 = chi2_contingency(confusion_matrix)[0]\n",
    "    n = confusion_matrix.sum().sum()\n",
    "    r,k = confusion_matrix.shape\n",
    "    phi2 = chi2/n\n",
    "    phi2corr = max(0,phi2-((k-1)*(r-1))/(n-1))\n",
    "    rcorr = r - ((r - 1) ** 2) / ( n - 1 )\n",
    "    kcorr = k - ((k - 1) ** 2) / ( n - 1 )\n",
    "    try:\n",
    "        if min((kcorr - 1),(rcorr - 1)) == 0:\n",
    "            warnings.warn(\n",
    "            \"Unable to calculate Cramer's V using bias correction. Consider not using bias correction\",RuntimeWarning)\n",
    "            v = 0\n",
    "            print(\"If condition Met: \",v)\n",
    "        else:\n",
    "            v = np.sqrt(phi2corr / min((kcorr - 1), (rcorr - 1)))\n",
    "            print(\"Else condition Met: \",v)\n",
    "    except:\n",
    "        print(\"inside error\")\n",
    "        v = 0\n",
    "    return v\n",
    "\n",
    "def plot_cramer(df):\n",
    "    cramer = pd.DataFrame(index=df.columns,columns=df.columns)\n",
    "    for column_of_interest in df.columns:\n",
    "        try:\n",
    "            temp = {}\n",
    "\n",
    "            columns = df.columns\n",
    "            for j in range(0,len(columns)):\n",
    "                v = cramerV(df[column_of_interest],df[columns[j]])\n",
    "                cramer.loc[column_of_interest,columns[j]] = v\n",
    "                if (column_of_interest==columns[j]):\n",
    "                    pass\n",
    "                else:\n",
    "                    temp[columns[j]] = v\n",
    "            cramer.fillna(value=np.nan,inplace=True)\n",
    "        except:\n",
    "            print('Dropping row:',column_of_interest)\n",
    "            pass\n",
    "    plt.figure(figsize=(7,7))\n",
    "    sns.heatmap(cramer,annot=True,fmt='.2f')\n",
    "\n",
    "    plt.title(\"CramerV Correlation Values\")\n",
    "    plt.show()\n",
    "       \n",
    "#plot_cramer(df)"
   ]
  },
  {
   "cell_type": "code",
   "execution_count": 266,
   "metadata": {},
   "outputs": [],
   "source": [
    "def probV (label,x):\n",
    "    confusion_matrix = pd.crosstab(label, x)\n",
    "    pb = chi2_contingency(confusion_matrix)[1]\n",
    "    return pb\n",
    "\n",
    "def plot_prob(df):\n",
    "    prob = pd.DataFrame(index=df.columns,columns=df.columns)\n",
    "    for column_of_interest in df.columns:\n",
    "        try:\n",
    "            temp = {}\n",
    "\n",
    "            columns = df.columns\n",
    "            for j in range(0,len(columns)):\n",
    "                pb = probV(df[column_of_interest],df[columns[j]])\n",
    "                prob.loc[column_of_interest,columns[j]] = pb\n",
    "                if (column_of_interest==columns[j]):\n",
    "                    pass\n",
    "                else:\n",
    "                    temp[columns[j]] = pb\n",
    "            prob.fillna(value=np.nan,inplace=True)\n",
    "        except:\n",
    "            print('Dropping row:',column_of_interest)\n",
    "            pass\n",
    "    plt.figure(figsize=(10,10))\n",
    "    sns.heatmap(prob,annot=True,fmt='.4f')\n",
    "\n",
    "    plt.title(\"Cross Chi-sqr probability\")\n",
    "    plt.show()\n",
    "       \n",
    "#plot_prob(df)"
   ]
  },
  {
   "cell_type": "code",
   "execution_count": 267,
   "metadata": {},
   "outputs": [
    {
     "data": {
      "text/html": [
       "<div>\n",
       "<style scoped>\n",
       "    .dataframe tbody tr th:only-of-type {\n",
       "        vertical-align: middle;\n",
       "    }\n",
       "\n",
       "    .dataframe tbody tr th {\n",
       "        vertical-align: top;\n",
       "    }\n",
       "\n",
       "    .dataframe thead th {\n",
       "        text-align: right;\n",
       "    }\n",
       "</style>\n",
       "<table border=\"1\" class=\"dataframe\">\n",
       "  <thead>\n",
       "    <tr style=\"text-align: right;\">\n",
       "      <th></th>\n",
       "      <th>RAMJA</th>\n",
       "      <th>AIIMS</th>\n",
       "      <th>Abdominal pain</th>\n",
       "      <th>BurningMicturition</th>\n",
       "      <th>Urinating often</th>\n",
       "      <th>Vaginal irritation</th>\n",
       "    </tr>\n",
       "  </thead>\n",
       "  <tbody>\n",
       "    <tr>\n",
       "      <th>0</th>\n",
       "      <td>1</td>\n",
       "      <td>1</td>\n",
       "      <td>1</td>\n",
       "      <td>1</td>\n",
       "      <td>1</td>\n",
       "      <td>0</td>\n",
       "    </tr>\n",
       "    <tr>\n",
       "      <th>1</th>\n",
       "      <td>1</td>\n",
       "      <td>1</td>\n",
       "      <td>0</td>\n",
       "      <td>1</td>\n",
       "      <td>0</td>\n",
       "      <td>0</td>\n",
       "    </tr>\n",
       "    <tr>\n",
       "      <th>2</th>\n",
       "      <td>1</td>\n",
       "      <td>0</td>\n",
       "      <td>0</td>\n",
       "      <td>1</td>\n",
       "      <td>0</td>\n",
       "      <td>1</td>\n",
       "    </tr>\n",
       "    <tr>\n",
       "      <th>3</th>\n",
       "      <td>1</td>\n",
       "      <td>1</td>\n",
       "      <td>0</td>\n",
       "      <td>0</td>\n",
       "      <td>0</td>\n",
       "      <td>1</td>\n",
       "    </tr>\n",
       "    <tr>\n",
       "      <th>4</th>\n",
       "      <td>1</td>\n",
       "      <td>1</td>\n",
       "      <td>0</td>\n",
       "      <td>1</td>\n",
       "      <td>1</td>\n",
       "      <td>0</td>\n",
       "    </tr>\n",
       "  </tbody>\n",
       "</table>\n",
       "</div>"
      ],
      "text/plain": [
       "  RAMJA AIIMS Abdominal pain BurningMicturition Urinating often  \\\n",
       "0     1     1              1                  1               1   \n",
       "1     1     1              0                  1               0   \n",
       "2     1     0              0                  1               0   \n",
       "3     1     1              0                  0               0   \n",
       "4     1     1              0                  1               1   \n",
       "\n",
       "  Vaginal irritation  \n",
       "0                  0  \n",
       "1                  0  \n",
       "2                  1  \n",
       "3                  1  \n",
       "4                  0  "
      ]
     },
     "execution_count": 267,
     "metadata": {},
     "output_type": "execute_result"
    }
   ],
   "source": [
    "df_sym_corr = df_sym.iloc[:,1:]\n",
    "df_sym_corr.rename(columns={'Infection_R':'RAMJA', 'Infection_A':'AIIMS'}, inplace=True)\n",
    "df_sym_corr.head()"
   ]
  },
  {
   "cell_type": "code",
   "execution_count": 268,
   "metadata": {},
   "outputs": [
    {
     "data": {
      "image/png": "[encoded data removed]",
      "text/plain": [
       "<Figure size 1000x1000 with 2 Axes>"
      ]
     },
     "metadata": {},
     "output_type": "display_data"
    }
   ],
   "source": [
    "plot_prob(df_sym_corr)"
   ]
  },
  {
   "cell_type": "code",
   "execution_count": 269,
   "metadata": {},
   "outputs": [
    {
     "name": "stdout",
     "output_type": "stream",
     "text": [
      "Else condition Met:  0.9752984037440119\n",
      "Else condition Met:  0.49875222854931944\n",
      "Else condition Met:  0.0\n",
      "Else condition Met:  0.09724180599471156\n",
      "Else condition Met:  0.20052389515988858\n",
      "Else condition Met:  0.0\n",
      "Else condition Met:  0.49875222854931944\n",
      "Else condition Met:  0.9746437668804949\n",
      "Else condition Met:  0.2036136971800343\n",
      "Else condition Met:  0.0\n",
      "Else condition Met:  0.322572037074712\n",
      "Else condition Met:  0.14854254733135988\n",
      "Else condition Met:  0.0\n",
      "Else condition Met:  0.2036136971800343\n",
      "Else condition Met:  0.9569243834835662\n",
      "Else condition Met:  0.1473151340758614\n",
      "Else condition Met:  0.1821223687568199\n",
      "Else condition Met:  0.0\n",
      "Else condition Met:  0.09724180599471156\n",
      "Else condition Met:  0.0\n",
      "Else condition Met:  0.1473151340758614\n",
      "Else condition Met:  0.9766607218073038\n",
      "Else condition Met:  0.13320040149780654\n",
      "Else condition Met:  0.0\n",
      "Else condition Met:  0.20052389515988858\n",
      "Else condition Met:  0.322572037074712\n",
      "Else condition Met:  0.1821223687568199\n",
      "Else condition Met:  0.13320040149780654\n",
      "Else condition Met:  0.9372807970318897\n",
      "Else condition Met:  0.0\n",
      "Else condition Met:  0.0\n",
      "Else condition Met:  0.14854254733135988\n",
      "Else condition Met:  0.0\n",
      "Else condition Met:  0.0\n",
      "Else condition Met:  0.0\n",
      "Else condition Met:  0.9645562275650379\n"
     ]
    },
    {
     "data": {
      "image/png": "[encoded data removed]",
      "text/plain": [
       "<Figure size 700x700 with 2 Axes>"
      ]
     },
     "metadata": {},
     "output_type": "display_data"
    }
   ],
   "source": [
    "plot_cramer(df_sym_corr)"
   ]
  },
  {
   "cell_type": "code",
   "execution_count": 270,
   "metadata": {},
   "outputs": [
    {
     "data": {
      "text/html": [
       "<div>\n",
       "<style scoped>\n",
       "    .dataframe tbody tr th:only-of-type {\n",
       "        vertical-align: middle;\n",
       "    }\n",
       "\n",
       "    .dataframe tbody tr th {\n",
       "        vertical-align: top;\n",
       "    }\n",
       "\n",
       "    .dataframe thead th {\n",
       "        text-align: right;\n",
       "    }\n",
       "</style>\n",
       "<table border=\"1\" class=\"dataframe\">\n",
       "  <thead>\n",
       "    <tr style=\"text-align: right;\">\n",
       "      <th></th>\n",
       "      <th>RAMJA</th>\n",
       "      <th>AIIMS</th>\n",
       "      <th>Abdominal pain</th>\n",
       "      <th>BurningMicturition</th>\n",
       "      <th>Urinating often</th>\n",
       "      <th>Vaginal irritation</th>\n",
       "    </tr>\n",
       "  </thead>\n",
       "  <tbody>\n",
       "    <tr>\n",
       "      <th>0</th>\n",
       "      <td>1</td>\n",
       "      <td>1</td>\n",
       "      <td>1</td>\n",
       "      <td>1</td>\n",
       "      <td>1</td>\n",
       "      <td>0</td>\n",
       "    </tr>\n",
       "    <tr>\n",
       "      <th>1</th>\n",
       "      <td>1</td>\n",
       "      <td>1</td>\n",
       "      <td>0</td>\n",
       "      <td>1</td>\n",
       "      <td>0</td>\n",
       "      <td>0</td>\n",
       "    </tr>\n",
       "    <tr>\n",
       "      <th>2</th>\n",
       "      <td>1</td>\n",
       "      <td>0</td>\n",
       "      <td>0</td>\n",
       "      <td>1</td>\n",
       "      <td>0</td>\n",
       "      <td>1</td>\n",
       "    </tr>\n",
       "    <tr>\n",
       "      <th>3</th>\n",
       "      <td>1</td>\n",
       "      <td>1</td>\n",
       "      <td>0</td>\n",
       "      <td>0</td>\n",
       "      <td>0</td>\n",
       "      <td>1</td>\n",
       "    </tr>\n",
       "    <tr>\n",
       "      <th>4</th>\n",
       "      <td>1</td>\n",
       "      <td>1</td>\n",
       "      <td>0</td>\n",
       "      <td>1</td>\n",
       "      <td>1</td>\n",
       "      <td>0</td>\n",
       "    </tr>\n",
       "  </tbody>\n",
       "</table>\n",
       "</div>"
      ],
      "text/plain": [
       "  RAMJA AIIMS Abdominal pain BurningMicturition Urinating often  \\\n",
       "0     1     1              1                  1               1   \n",
       "1     1     1              0                  1               0   \n",
       "2     1     0              0                  1               0   \n",
       "3     1     1              0                  0               0   \n",
       "4     1     1              0                  1               1   \n",
       "\n",
       "  Vaginal irritation  \n",
       "0                  0  \n",
       "1                  0  \n",
       "2                  1  \n",
       "3                  1  \n",
       "4                  0  "
      ]
     },
     "execution_count": 270,
     "metadata": {},
     "output_type": "execute_result"
    }
   ],
   "source": [
    "df_sym_corr.head()"
   ]
  },
  {
   "cell_type": "code",
   "execution_count": 271,
   "metadata": {},
   "outputs": [
    {
     "data": {
      "image/png": "[encoded data removed]",
      "text/plain": [
       "<Figure size 1000x1000 with 2 Axes>"
      ]
     },
     "metadata": {},
     "output_type": "display_data"
    },
    {
     "data": {
      "text/plain": [
       "{'corr':                        RAMJA     AIIMS  Abdominal pain  BurningMicturition  \\\n",
       " RAMJA               1.000000  0.498752        0.000000            0.097242   \n",
       " AIIMS               0.498752  1.000000        0.203614            0.000000   \n",
       " Abdominal pain      0.000000  0.203614        1.000000            0.147315   \n",
       " BurningMicturition  0.097242  0.000000        0.147315            1.000000   \n",
       " Urinating often     0.200524  0.322572        0.182122            0.133200   \n",
       " Vaginal irritation  0.000000  0.148543        0.000000            0.000000   \n",
       " \n",
       "                     Urinating often  Vaginal irritation  \n",
       " RAMJA                      0.200524            0.000000  \n",
       " AIIMS                      0.322572            0.148543  \n",
       " Abdominal pain             0.182122            0.000000  \n",
       " BurningMicturition         0.133200            0.000000  \n",
       " Urinating often            1.000000            0.000000  \n",
       " Vaginal irritation         0.000000            1.000000  ,\n",
       " 'ax': <Axes: >}"
      ]
     },
     "execution_count": 271,
     "metadata": {},
     "output_type": "execute_result"
    }
   ],
   "source": [
    "from dython.nominal import associations\n",
    "associations(df_sym_corr, nominal_columns='all', figsize=(10,10) )"
   ]
  },
  {
   "cell_type": "markdown",
   "metadata": {},
   "source": [
    "### Control for specificity"
   ]
  },
  {
   "cell_type": "code",
   "execution_count": 110,
   "metadata": {},
   "outputs": [
    {
     "data": {
      "text/html": [
       "<div>\n",
       "<style scoped>\n",
       "    .dataframe tbody tr th:only-of-type {\n",
       "        vertical-align: middle;\n",
       "    }\n",
       "\n",
       "    .dataframe tbody tr th {\n",
       "        vertical-align: top;\n",
       "    }\n",
       "\n",
       "    .dataframe thead th {\n",
       "        text-align: right;\n",
       "    }\n",
       "</style>\n",
       "<table border=\"1\" class=\"dataframe\">\n",
       "  <thead>\n",
       "    <tr style=\"text-align: right;\">\n",
       "      <th></th>\n",
       "      <th>UHID</th>\n",
       "      <th>Patients Name</th>\n",
       "      <th>Age</th>\n",
       "      <th>Gender</th>\n",
       "      <th>RAMJA Result</th>\n",
       "      <th>AIIMS Result culture</th>\n",
       "      <th>E.coli</th>\n",
       "      <th>K. Pneumoniae</th>\n",
       "      <th>P.aurogenosa</th>\n",
       "      <th>A.baumnnii</th>\n",
       "      <th>P.mirabilis</th>\n",
       "      <th>S. aureus</th>\n",
       "      <th>E.faecalis</th>\n",
       "      <th>S. saprophyticus</th>\n",
       "      <th>Diagnosis</th>\n",
       "    </tr>\n",
       "  </thead>\n",
       "  <tbody>\n",
       "    <tr>\n",
       "      <th>0</th>\n",
       "      <td>20170059075</td>\n",
       "      <td>Laxmi</td>\n",
       "      <td>34</td>\n",
       "      <td>F</td>\n",
       "      <td>Sterile</td>\n",
       "      <td>Sterile</td>\n",
       "      <td>-5.41</td>\n",
       "      <td>-7.42</td>\n",
       "      <td>-7.85</td>\n",
       "      <td>-5.64</td>\n",
       "      <td>-6.67</td>\n",
       "      <td>-6.34</td>\n",
       "      <td>-3.18</td>\n",
       "      <td>-0.03</td>\n",
       "      <td>NO</td>\n",
       "    </tr>\n",
       "    <tr>\n",
       "      <th>1</th>\n",
       "      <td>20210062776</td>\n",
       "      <td>Nasrin Jahan</td>\n",
       "      <td>32</td>\n",
       "      <td>F</td>\n",
       "      <td>Sterile</td>\n",
       "      <td>Sterile</td>\n",
       "      <td>-5.60</td>\n",
       "      <td>-2.70</td>\n",
       "      <td>-6.70</td>\n",
       "      <td>-6.20</td>\n",
       "      <td>-6.70</td>\n",
       "      <td>-7.50</td>\n",
       "      <td>-6.40</td>\n",
       "      <td>-9.70</td>\n",
       "      <td>NO</td>\n",
       "    </tr>\n",
       "    <tr>\n",
       "      <th>2</th>\n",
       "      <td>20240043449</td>\n",
       "      <td>Dharamwati</td>\n",
       "      <td>54</td>\n",
       "      <td>F</td>\n",
       "      <td>Sterile</td>\n",
       "      <td>Sterile</td>\n",
       "      <td>NaN</td>\n",
       "      <td>-8.70</td>\n",
       "      <td>-7.90</td>\n",
       "      <td>-7.50</td>\n",
       "      <td>-6.90</td>\n",
       "      <td>-9.70</td>\n",
       "      <td>-7.50</td>\n",
       "      <td>-9.20</td>\n",
       "      <td>NO</td>\n",
       "    </tr>\n",
       "    <tr>\n",
       "      <th>3</th>\n",
       "      <td>20240076642</td>\n",
       "      <td>Kiran</td>\n",
       "      <td>43</td>\n",
       "      <td>F</td>\n",
       "      <td>Sterile</td>\n",
       "      <td>Sterile</td>\n",
       "      <td>-3.66</td>\n",
       "      <td>0.00</td>\n",
       "      <td>-6.01</td>\n",
       "      <td>-7.52</td>\n",
       "      <td>-5.95</td>\n",
       "      <td>-4.18</td>\n",
       "      <td>0.00</td>\n",
       "      <td>-4.50</td>\n",
       "      <td>NO</td>\n",
       "    </tr>\n",
       "    <tr>\n",
       "      <th>4</th>\n",
       "      <td>20240094375</td>\n",
       "      <td>Seema devi</td>\n",
       "      <td>49</td>\n",
       "      <td>F</td>\n",
       "      <td>Sterile</td>\n",
       "      <td>Sterile</td>\n",
       "      <td>-4.81</td>\n",
       "      <td>-6.40</td>\n",
       "      <td>-9.24</td>\n",
       "      <td>-7.92</td>\n",
       "      <td>-7.64</td>\n",
       "      <td>-6.12</td>\n",
       "      <td>-3.57</td>\n",
       "      <td>-1.88</td>\n",
       "      <td>NO</td>\n",
       "    </tr>\n",
       "  </tbody>\n",
       "</table>\n",
       "</div>"
      ],
      "text/plain": [
       "          UHID Patients Name  Age Gender RAMJA Result AIIMS Result culture  \\\n",
       "0  20170059075         Laxmi   34      F      Sterile              Sterile   \n",
       "1  20210062776  Nasrin Jahan   32      F      Sterile              Sterile   \n",
       "2  20240043449   Dharamwati    54      F      Sterile              Sterile   \n",
       "3  20240076642         Kiran   43      F      Sterile              Sterile   \n",
       "4  20240094375    Seema devi   49      F      Sterile              Sterile   \n",
       "\n",
       "   E.coli  K. Pneumoniae  P.aurogenosa  A.baumnnii  P.mirabilis  S. aureus  \\\n",
       "0   -5.41          -7.42         -7.85       -5.64        -6.67      -6.34   \n",
       "1   -5.60          -2.70         -6.70       -6.20        -6.70      -7.50   \n",
       "2     NaN          -8.70         -7.90       -7.50        -6.90      -9.70   \n",
       "3   -3.66           0.00         -6.01       -7.52        -5.95      -4.18   \n",
       "4   -4.81          -6.40         -9.24       -7.92        -7.64      -6.12   \n",
       "\n",
       "   E.faecalis  S. saprophyticus Diagnosis  \n",
       "0       -3.18             -0.03        NO  \n",
       "1       -6.40             -9.70        NO  \n",
       "2       -7.50             -9.20        NO  \n",
       "3        0.00             -4.50        NO  \n",
       "4       -3.57             -1.88        NO  "
      ]
     },
     "execution_count": 110,
     "metadata": {},
     "output_type": "execute_result"
    }
   ],
   "source": [
    "# Load the data into a DataFrame\n",
    "df_ctrl = pd.read_excel('RAWLOT1.xlsx', sheet_name='Control')\n",
    "df_ctrl.head()"
   ]
  },
  {
   "cell_type": "code",
   "execution_count": 111,
   "metadata": {},
   "outputs": [
    {
     "data": {
      "text/html": [
       "<div>\n",
       "<style scoped>\n",
       "    .dataframe tbody tr th:only-of-type {\n",
       "        vertical-align: middle;\n",
       "    }\n",
       "\n",
       "    .dataframe tbody tr th {\n",
       "        vertical-align: top;\n",
       "    }\n",
       "\n",
       "    .dataframe thead th {\n",
       "        text-align: right;\n",
       "    }\n",
       "</style>\n",
       "<table border=\"1\" class=\"dataframe\">\n",
       "  <thead>\n",
       "    <tr style=\"text-align: right;\">\n",
       "      <th></th>\n",
       "      <th>UHID</th>\n",
       "      <th>RAMJA</th>\n",
       "      <th>AIIMS</th>\n",
       "      <th>Diagnosis</th>\n",
       "    </tr>\n",
       "  </thead>\n",
       "  <tbody>\n",
       "    <tr>\n",
       "      <th>0</th>\n",
       "      <td>20170059075</td>\n",
       "      <td>Sterile</td>\n",
       "      <td>Sterile</td>\n",
       "      <td>0</td>\n",
       "    </tr>\n",
       "    <tr>\n",
       "      <th>1</th>\n",
       "      <td>20210062776</td>\n",
       "      <td>Sterile</td>\n",
       "      <td>Sterile</td>\n",
       "      <td>0</td>\n",
       "    </tr>\n",
       "    <tr>\n",
       "      <th>2</th>\n",
       "      <td>20240043449</td>\n",
       "      <td>Sterile</td>\n",
       "      <td>Sterile</td>\n",
       "      <td>0</td>\n",
       "    </tr>\n",
       "    <tr>\n",
       "      <th>3</th>\n",
       "      <td>20240076642</td>\n",
       "      <td>Sterile</td>\n",
       "      <td>Sterile</td>\n",
       "      <td>0</td>\n",
       "    </tr>\n",
       "    <tr>\n",
       "      <th>4</th>\n",
       "      <td>20240094375</td>\n",
       "      <td>Sterile</td>\n",
       "      <td>Sterile</td>\n",
       "      <td>0</td>\n",
       "    </tr>\n",
       "    <tr>\n",
       "      <th>5</th>\n",
       "      <td>20240092862</td>\n",
       "      <td>Sterile</td>\n",
       "      <td>Sterile</td>\n",
       "      <td>0</td>\n",
       "    </tr>\n",
       "    <tr>\n",
       "      <th>6</th>\n",
       "      <td>20240070180</td>\n",
       "      <td>Sterile</td>\n",
       "      <td>Sterile</td>\n",
       "      <td>0</td>\n",
       "    </tr>\n",
       "    <tr>\n",
       "      <th>7</th>\n",
       "      <td>20240118730</td>\n",
       "      <td>Sterile</td>\n",
       "      <td>E.coli</td>\n",
       "      <td>0</td>\n",
       "    </tr>\n",
       "    <tr>\n",
       "      <th>8</th>\n",
       "      <td>20240101716</td>\n",
       "      <td>Sterile</td>\n",
       "      <td>Contamination</td>\n",
       "      <td>0</td>\n",
       "    </tr>\n",
       "    <tr>\n",
       "      <th>9</th>\n",
       "      <td>20240043267</td>\n",
       "      <td>NaN</td>\n",
       "      <td>Enterococcus faecium</td>\n",
       "      <td>0</td>\n",
       "    </tr>\n",
       "    <tr>\n",
       "      <th>10</th>\n",
       "      <td>20200042694</td>\n",
       "      <td>Sterile</td>\n",
       "      <td>Sterile</td>\n",
       "      <td>0</td>\n",
       "    </tr>\n",
       "    <tr>\n",
       "      <th>11</th>\n",
       "      <td>20220028369</td>\n",
       "      <td>Sterile</td>\n",
       "      <td>Contamination</td>\n",
       "      <td>0</td>\n",
       "    </tr>\n",
       "    <tr>\n",
       "      <th>12</th>\n",
       "      <td>20240125407</td>\n",
       "      <td>Sterile</td>\n",
       "      <td>Sterile</td>\n",
       "      <td>0</td>\n",
       "    </tr>\n",
       "    <tr>\n",
       "      <th>13</th>\n",
       "      <td>20230046627</td>\n",
       "      <td>NaN</td>\n",
       "      <td>NaN</td>\n",
       "      <td>0</td>\n",
       "    </tr>\n",
       "    <tr>\n",
       "      <th>14</th>\n",
       "      <td>20220046569</td>\n",
       "      <td>NaN</td>\n",
       "      <td>Contamination</td>\n",
       "      <td>0</td>\n",
       "    </tr>\n",
       "  </tbody>\n",
       "</table>\n",
       "</div>"
      ],
      "text/plain": [
       "           UHID    RAMJA                 AIIMS  Diagnosis\n",
       "0   20170059075  Sterile               Sterile          0\n",
       "1   20210062776  Sterile               Sterile          0\n",
       "2   20240043449  Sterile               Sterile          0\n",
       "3   20240076642  Sterile               Sterile          0\n",
       "4   20240094375  Sterile               Sterile          0\n",
       "5   20240092862  Sterile               Sterile          0\n",
       "6   20240070180  Sterile               Sterile          0\n",
       "7   20240118730  Sterile                E.coli          0\n",
       "8   20240101716  Sterile         Contamination          0\n",
       "9   20240043267      NaN  Enterococcus faecium          0\n",
       "10  20200042694  Sterile               Sterile          0\n",
       "11  20220028369  Sterile         Contamination          0\n",
       "12  20240125407  Sterile               Sterile          0\n",
       "13  20230046627      NaN                   NaN          0\n",
       "14  20220046569      NaN         Contamination          0"
      ]
     },
     "execution_count": 111,
     "metadata": {},
     "output_type": "execute_result"
    }
   ],
   "source": [
    "df_ctrl = df_ctrl[['UHID','RAMJA Result', 'AIIMS Result culture', 'Diagnosis']].rename(columns={'RAMJA Result':'RAMJA','AIIMS Result culture':'AIIMS'})\n",
    "df_ctrl['Diagnosis'] = df_ctrl['Diagnosis'].map(lambda x: 0 if x=='NO' else 1)\n",
    "df_ctrl"
   ]
  },
  {
   "cell_type": "code",
   "execution_count": 112,
   "metadata": {},
   "outputs": [
    {
     "name": "stderr",
     "output_type": "stream",
     "text": [
      "C:\\Users\\neelesh\\AppData\\Local\\Temp\\ipykernel_13280\\488496531.py:6: SettingWithCopyWarning: \n",
      "A value is trying to be set on a copy of a slice from a DataFrame.\n",
      "Try using .loc[row_indexer,col_indexer] = value instead\n",
      "\n",
      "See the caveats in the documentation: https://pandas.pydata.org/pandas-docs/stable/user_guide/indexing.html#returning-a-view-versus-a-copy\n",
      "  df['clean'+test] = df[test].apply(cleanup)\n",
      "C:\\Users\\neelesh\\AppData\\Local\\Temp\\ipykernel_13280\\488496531.py:6: SettingWithCopyWarning: \n",
      "A value is trying to be set on a copy of a slice from a DataFrame.\n",
      "Try using .loc[row_indexer,col_indexer] = value instead\n",
      "\n",
      "See the caveats in the documentation: https://pandas.pydata.org/pandas-docs/stable/user_guide/indexing.html#returning-a-view-versus-a-copy\n",
      "  df['clean'+test] = df[test].apply(cleanup)\n"
     ]
    }
   ],
   "source": [
    "test = ['RAMJA', 'AIIMS']\n",
    "\n",
    "# Create a dictionary to store results dynamically\n",
    "df_dict_ctrl = {}\n",
    "\n",
    "# Store the result with a dynamic key\n",
    "for t in test:\n",
    "    df_dict_ctrl['df' + t] = processdata(df_ctrl, t)\n",
    "\n",
    "df_ctrl_R = df_dict_ctrl['dfRAMJA']\n",
    "df_ctrl_A = df_dict_ctrl['dfAIIMS']\n",
    "\n",
    "df_ctrl_R['Diagnosis'] = df_ctrl['Diagnosis']\n",
    "df_ctrl_A['Diagnosis'] = df_ctrl['Diagnosis']"
   ]
  },
  {
   "cell_type": "code",
   "execution_count": 113,
   "metadata": {},
   "outputs": [
    {
     "data": {
      "text/html": [
       "<div>\n",
       "<style scoped>\n",
       "    .dataframe tbody tr th:only-of-type {\n",
       "        vertical-align: middle;\n",
       "    }\n",
       "\n",
       "    .dataframe tbody tr th {\n",
       "        vertical-align: top;\n",
       "    }\n",
       "\n",
       "    .dataframe thead th {\n",
       "        text-align: right;\n",
       "    }\n",
       "</style>\n",
       "<table border=\"1\" class=\"dataframe\">\n",
       "  <thead>\n",
       "    <tr style=\"text-align: right;\">\n",
       "      <th></th>\n",
       "      <th>UHID</th>\n",
       "      <th>RAMJA</th>\n",
       "      <th>Positive</th>\n",
       "      <th>Negative</th>\n",
       "      <th>Diagnosis</th>\n",
       "    </tr>\n",
       "  </thead>\n",
       "  <tbody>\n",
       "    <tr>\n",
       "      <th>0</th>\n",
       "      <td>20170059075</td>\n",
       "      <td>Sterile</td>\n",
       "      <td>0</td>\n",
       "      <td>1</td>\n",
       "      <td>0</td>\n",
       "    </tr>\n",
       "    <tr>\n",
       "      <th>1</th>\n",
       "      <td>20210062776</td>\n",
       "      <td>Sterile</td>\n",
       "      <td>0</td>\n",
       "      <td>1</td>\n",
       "      <td>0</td>\n",
       "    </tr>\n",
       "    <tr>\n",
       "      <th>2</th>\n",
       "      <td>20240043449</td>\n",
       "      <td>Sterile</td>\n",
       "      <td>0</td>\n",
       "      <td>1</td>\n",
       "      <td>0</td>\n",
       "    </tr>\n",
       "    <tr>\n",
       "      <th>3</th>\n",
       "      <td>20240076642</td>\n",
       "      <td>Sterile</td>\n",
       "      <td>0</td>\n",
       "      <td>1</td>\n",
       "      <td>0</td>\n",
       "    </tr>\n",
       "    <tr>\n",
       "      <th>4</th>\n",
       "      <td>20240094375</td>\n",
       "      <td>Sterile</td>\n",
       "      <td>0</td>\n",
       "      <td>1</td>\n",
       "      <td>0</td>\n",
       "    </tr>\n",
       "  </tbody>\n",
       "</table>\n",
       "</div>"
      ],
      "text/plain": [
       "          UHID    RAMJA  Positive  Negative  Diagnosis\n",
       "0  20170059075  Sterile         0         1          0\n",
       "1  20210062776  Sterile         0         1          0\n",
       "2  20240043449  Sterile         0         1          0\n",
       "3  20240076642  Sterile         0         1          0\n",
       "4  20240094375  Sterile         0         1          0"
      ]
     },
     "execution_count": 113,
     "metadata": {},
     "output_type": "execute_result"
    }
   ],
   "source": [
    "\n",
    "df_ctrl_NonNaN_A = df_ctrl_A.dropna()[['UHID','AIIMS','Positive','Negative', 'Diagnosis']]\n",
    "df_ctrl_NonNaN_R = df_ctrl_R.dropna()[['UHID','RAMJA','Positive','Negative', 'Diagnosis']]\n",
    "\n",
    "df_ctrl_NonNaN_R.head()"
   ]
  },
  {
   "cell_type": "code",
   "execution_count": 114,
   "metadata": {},
   "outputs": [
    {
     "data": {
      "text/plain": [
       "Positive  Diagnosis\n",
       "0         0            12\n",
       "dtype: int64"
      ]
     },
     "execution_count": 114,
     "metadata": {},
     "output_type": "execute_result"
    }
   ],
   "source": [
    "df_ctrl_NonNaN_R[['Positive','Diagnosis']].value_counts()"
   ]
  },
  {
   "cell_type": "code",
   "execution_count": 115,
   "metadata": {},
   "outputs": [],
   "source": [
    "from sklearn.metrics import confusion_matrix, accuracy_score, roc_auc_score\n",
    "def scores_ctrl(y_true, y_pred):\n",
    "        # Compute confusion matrix\n",
    "        cm = confusion_matrix(y_true, y_pred)\n",
    "\n",
    "        # Check if confusion matrix is 2x2 or not\n",
    "        if cm.shape == (2, 2):\n",
    "            tn, fp, fn, tp = cm.ravel()             \n",
    "        else:\n",
    "            # Handle case where all values are the same (e.g., all 0s)\n",
    "            tn = cm[0, 0]  # True negatives are the only relevant value\n",
    "            fp = fn = tp = 0  # All other counts are 0         \n",
    "                \n",
    "        #.....................Accuracy......................#\n",
    "        #accur = accuracy_score(y_test,y_pred)\n",
    "        accur = (tp + tn)/(tp+tn+fp+fn)\n",
    "        \n",
    "             #.....................Senstivity.....................#\n",
    "        sens = tp/(tp + fn) if (tp + fn) > 0 else 0\n",
    "\n",
    "        #.....................Specificity...................#\n",
    "        spec = tn / (tn + fp) if (tn + fp) > 0 else 0\n",
    "\n",
    "        #..........Positive predictive value (PPV)...........#\n",
    "        PPV = tp/(tp + fp) if (tp + fp) > 0 else 0\n",
    "\n",
    "        #..........negative predictive value (NPV)...........#\n",
    "        NPV = tn/(tn + fn) if (tn + fn) > 0 else 0\n",
    "        \n",
    "        #..........Positive Likelihood ratio (PLR)...........#\n",
    "        PLR = sens/(1-spec)\n",
    "\n",
    "        #..........Negative Likelihood ratio (NLR)...........#\n",
    "        NLR = (1-sens)/spec\n",
    "\n",
    "        errorList = np.array([accur, sens, spec, PPV, NPV, PLR, NLR])\n",
    "        scoreid = ['Accuracy', 'Sensitivity', 'Specificity', 'PPV', 'NPV', 'PLR', 'NLR']\n",
    "        df_scores = pd.DataFrame(errorList,index=scoreid, columns= ['Scores'])\n",
    "        \n",
    "        return(df_scores)"
   ]
  },
  {
   "cell_type": "code",
   "execution_count": 47,
   "metadata": {},
   "outputs": [
    {
     "name": "stderr",
     "output_type": "stream",
     "text": [
      "C:\\Users\\neelesh\\AppData\\Local\\Temp\\ipykernel_5592\\228116685.py:31: RuntimeWarning: invalid value encountered in double_scalars\n",
      "  PLR = sens/(1-spec)\n"
     ]
    },
    {
     "data": {
      "text/html": [
       "<div>\n",
       "<style scoped>\n",
       "    .dataframe tbody tr th:only-of-type {\n",
       "        vertical-align: middle;\n",
       "    }\n",
       "\n",
       "    .dataframe tbody tr th {\n",
       "        vertical-align: top;\n",
       "    }\n",
       "\n",
       "    .dataframe thead th {\n",
       "        text-align: right;\n",
       "    }\n",
       "</style>\n",
       "<table border=\"1\" class=\"dataframe\">\n",
       "  <thead>\n",
       "    <tr style=\"text-align: right;\">\n",
       "      <th></th>\n",
       "      <th>Scores</th>\n",
       "    </tr>\n",
       "  </thead>\n",
       "  <tbody>\n",
       "    <tr>\n",
       "      <th>Accuracy</th>\n",
       "      <td>1.0</td>\n",
       "    </tr>\n",
       "    <tr>\n",
       "      <th>Sensitivity</th>\n",
       "      <td>0.0</td>\n",
       "    </tr>\n",
       "    <tr>\n",
       "      <th>Specificity</th>\n",
       "      <td>1.0</td>\n",
       "    </tr>\n",
       "    <tr>\n",
       "      <th>PPV</th>\n",
       "      <td>0.0</td>\n",
       "    </tr>\n",
       "    <tr>\n",
       "      <th>NPV</th>\n",
       "      <td>1.0</td>\n",
       "    </tr>\n",
       "    <tr>\n",
       "      <th>PLR</th>\n",
       "      <td>NaN</td>\n",
       "    </tr>\n",
       "    <tr>\n",
       "      <th>NLR</th>\n",
       "      <td>1.0</td>\n",
       "    </tr>\n",
       "  </tbody>\n",
       "</table>\n",
       "</div>"
      ],
      "text/plain": [
       "             Scores\n",
       "Accuracy        1.0\n",
       "Sensitivity     0.0\n",
       "Specificity     1.0\n",
       "PPV             0.0\n",
       "NPV             1.0\n",
       "PLR             NaN\n",
       "NLR             1.0"
      ]
     },
     "execution_count": 47,
     "metadata": {},
     "output_type": "execute_result"
    }
   ],
   "source": [
    "y_true = df_ctrl_NonNaN_R['Diagnosis']\n",
    "y_pred = df_ctrl_NonNaN_R['Positive']\n",
    "df_ctrl_scores_R = scores_ctrl(y_true,y_pred)\n",
    "df_ctrl_scores_R"
   ]
  },
  {
   "cell_type": "code",
   "execution_count": 63,
   "metadata": {},
   "outputs": [
    {
     "data": {
      "text/html": [
       "<div>\n",
       "<style scoped>\n",
       "    .dataframe tbody tr th:only-of-type {\n",
       "        vertical-align: middle;\n",
       "    }\n",
       "\n",
       "    .dataframe tbody tr th {\n",
       "        vertical-align: top;\n",
       "    }\n",
       "\n",
       "    .dataframe thead th {\n",
       "        text-align: right;\n",
       "    }\n",
       "</style>\n",
       "<table border=\"1\" class=\"dataframe\">\n",
       "  <thead>\n",
       "    <tr style=\"text-align: right;\">\n",
       "      <th></th>\n",
       "      <th>Scores</th>\n",
       "    </tr>\n",
       "  </thead>\n",
       "  <tbody>\n",
       "    <tr>\n",
       "      <th>Accuracy</th>\n",
       "      <td>0.857143</td>\n",
       "    </tr>\n",
       "    <tr>\n",
       "      <th>Sensitivity</th>\n",
       "      <td>0.000000</td>\n",
       "    </tr>\n",
       "    <tr>\n",
       "      <th>Specificity</th>\n",
       "      <td>0.857143</td>\n",
       "    </tr>\n",
       "    <tr>\n",
       "      <th>PPV</th>\n",
       "      <td>0.000000</td>\n",
       "    </tr>\n",
       "    <tr>\n",
       "      <th>NPV</th>\n",
       "      <td>1.000000</td>\n",
       "    </tr>\n",
       "    <tr>\n",
       "      <th>PLR</th>\n",
       "      <td>0.000000</td>\n",
       "    </tr>\n",
       "    <tr>\n",
       "      <th>NLR</th>\n",
       "      <td>1.166667</td>\n",
       "    </tr>\n",
       "  </tbody>\n",
       "</table>\n",
       "</div>"
      ],
      "text/plain": [
       "               Scores\n",
       "Accuracy     0.857143\n",
       "Sensitivity  0.000000\n",
       "Specificity  0.857143\n",
       "PPV          0.000000\n",
       "NPV          1.000000\n",
       "PLR          0.000000\n",
       "NLR          1.166667"
      ]
     },
     "execution_count": 63,
     "metadata": {},
     "output_type": "execute_result"
    }
   ],
   "source": [
    "#...Scores matrix AIIMS\n",
    "y_true = df_ctrl_NonNaN_A['Diagnosis']\n",
    "y_pred = df_ctrl_NonNaN_A['Positive']\n",
    "\n",
    "df_ctrl_scores_A = scores_ctrl(y_true,y_pred)\n",
    "df_ctrl_scores_A"
   ]
  },
  {
   "cell_type": "code",
   "execution_count": 65,
   "metadata": {},
   "outputs": [
    {
     "data": {
      "text/plain": [
       "array([12,  2,  0,  0], dtype=int64)"
      ]
     },
     "execution_count": 65,
     "metadata": {},
     "output_type": "execute_result"
    }
   ],
   "source": [
    "confusion_matrix(y_true, y_pred).ravel()"
   ]
  },
  {
   "cell_type": "code",
   "execution_count": 67,
   "metadata": {},
   "outputs": [
    {
     "data": {
      "text/html": [
       "<div>\n",
       "<style scoped>\n",
       "    .dataframe tbody tr th:only-of-type {\n",
       "        vertical-align: middle;\n",
       "    }\n",
       "\n",
       "    .dataframe tbody tr th {\n",
       "        vertical-align: top;\n",
       "    }\n",
       "\n",
       "    .dataframe thead th {\n",
       "        text-align: right;\n",
       "    }\n",
       "</style>\n",
       "<table border=\"1\" class=\"dataframe\">\n",
       "  <thead>\n",
       "    <tr style=\"text-align: right;\">\n",
       "      <th></th>\n",
       "      <th>True Positive</th>\n",
       "      <th>True Negative</th>\n",
       "    </tr>\n",
       "  </thead>\n",
       "  <tbody>\n",
       "    <tr>\n",
       "      <th>AIIMS Positive</th>\n",
       "      <td>0</td>\n",
       "      <td>2</td>\n",
       "    </tr>\n",
       "    <tr>\n",
       "      <th>AIIMS Negative</th>\n",
       "      <td>0</td>\n",
       "      <td>12</td>\n",
       "    </tr>\n",
       "  </tbody>\n",
       "</table>\n",
       "</div>"
      ],
      "text/plain": [
       "                True Positive  True Negative\n",
       "AIIMS Positive              0              2\n",
       "AIIMS Negative              0             12"
      ]
     },
     "execution_count": 67,
     "metadata": {},
     "output_type": "execute_result"
    }
   ],
   "source": [
    "#...Confusion matrix AIIMS\n",
    "tn, fp, fn, tp = confusion_matrix(y_true, y_pred).ravel()\n",
    "t_cm_A = np.array([tp, fp, fn, tn]).reshape(2,2)\n",
    "df_cm_A =pd.DataFrame(t_cm_A,index=['AIIMS Positive','AIIMS Negative'], columns= ['True Positive','True Negative'])\n",
    "df_cm_A"
   ]
  },
  {
   "cell_type": "code",
   "execution_count": 116,
   "metadata": {},
   "outputs": [
    {
     "data": {
      "text/html": [
       "<div>\n",
       "<style scoped>\n",
       "    .dataframe tbody tr th:only-of-type {\n",
       "        vertical-align: middle;\n",
       "    }\n",
       "\n",
       "    .dataframe tbody tr th {\n",
       "        vertical-align: top;\n",
       "    }\n",
       "\n",
       "    .dataframe thead th {\n",
       "        text-align: right;\n",
       "    }\n",
       "</style>\n",
       "<table border=\"1\" class=\"dataframe\">\n",
       "  <thead>\n",
       "    <tr style=\"text-align: right;\">\n",
       "      <th></th>\n",
       "      <th>UHID</th>\n",
       "      <th>RAMJA</th>\n",
       "      <th>AIIMS</th>\n",
       "      <th>Diagnosis</th>\n",
       "      <th>Positive_A</th>\n",
       "      <th>Negative_A</th>\n",
       "      <th>Positive_R</th>\n",
       "      <th>Negative_R</th>\n",
       "    </tr>\n",
       "  </thead>\n",
       "  <tbody>\n",
       "    <tr>\n",
       "      <th>0</th>\n",
       "      <td>20170059075</td>\n",
       "      <td>Sterile</td>\n",
       "      <td>Sterile</td>\n",
       "      <td>0</td>\n",
       "      <td>0</td>\n",
       "      <td>1</td>\n",
       "      <td>0</td>\n",
       "      <td>1</td>\n",
       "    </tr>\n",
       "    <tr>\n",
       "      <th>1</th>\n",
       "      <td>20210062776</td>\n",
       "      <td>Sterile</td>\n",
       "      <td>Sterile</td>\n",
       "      <td>0</td>\n",
       "      <td>0</td>\n",
       "      <td>1</td>\n",
       "      <td>0</td>\n",
       "      <td>1</td>\n",
       "    </tr>\n",
       "    <tr>\n",
       "      <th>2</th>\n",
       "      <td>20240043449</td>\n",
       "      <td>Sterile</td>\n",
       "      <td>Sterile</td>\n",
       "      <td>0</td>\n",
       "      <td>0</td>\n",
       "      <td>1</td>\n",
       "      <td>0</td>\n",
       "      <td>1</td>\n",
       "    </tr>\n",
       "    <tr>\n",
       "      <th>3</th>\n",
       "      <td>20240076642</td>\n",
       "      <td>Sterile</td>\n",
       "      <td>Sterile</td>\n",
       "      <td>0</td>\n",
       "      <td>0</td>\n",
       "      <td>1</td>\n",
       "      <td>0</td>\n",
       "      <td>1</td>\n",
       "    </tr>\n",
       "    <tr>\n",
       "      <th>4</th>\n",
       "      <td>20240094375</td>\n",
       "      <td>Sterile</td>\n",
       "      <td>Sterile</td>\n",
       "      <td>0</td>\n",
       "      <td>0</td>\n",
       "      <td>1</td>\n",
       "      <td>0</td>\n",
       "      <td>1</td>\n",
       "    </tr>\n",
       "    <tr>\n",
       "      <th>5</th>\n",
       "      <td>20240092862</td>\n",
       "      <td>Sterile</td>\n",
       "      <td>Sterile</td>\n",
       "      <td>0</td>\n",
       "      <td>0</td>\n",
       "      <td>1</td>\n",
       "      <td>0</td>\n",
       "      <td>1</td>\n",
       "    </tr>\n",
       "    <tr>\n",
       "      <th>6</th>\n",
       "      <td>20240070180</td>\n",
       "      <td>Sterile</td>\n",
       "      <td>Sterile</td>\n",
       "      <td>0</td>\n",
       "      <td>0</td>\n",
       "      <td>1</td>\n",
       "      <td>0</td>\n",
       "      <td>1</td>\n",
       "    </tr>\n",
       "    <tr>\n",
       "      <th>7</th>\n",
       "      <td>20240118730</td>\n",
       "      <td>Sterile</td>\n",
       "      <td>E.coli</td>\n",
       "      <td>0</td>\n",
       "      <td>1</td>\n",
       "      <td>0</td>\n",
       "      <td>0</td>\n",
       "      <td>1</td>\n",
       "    </tr>\n",
       "    <tr>\n",
       "      <th>8</th>\n",
       "      <td>20240101716</td>\n",
       "      <td>Sterile</td>\n",
       "      <td>Contamination</td>\n",
       "      <td>0</td>\n",
       "      <td>0</td>\n",
       "      <td>1</td>\n",
       "      <td>0</td>\n",
       "      <td>1</td>\n",
       "    </tr>\n",
       "    <tr>\n",
       "      <th>9</th>\n",
       "      <td>20240043267</td>\n",
       "      <td>NaN</td>\n",
       "      <td>Enterococcus faecium</td>\n",
       "      <td>0</td>\n",
       "      <td>1</td>\n",
       "      <td>0</td>\n",
       "      <td>0</td>\n",
       "      <td>0</td>\n",
       "    </tr>\n",
       "    <tr>\n",
       "      <th>10</th>\n",
       "      <td>20200042694</td>\n",
       "      <td>Sterile</td>\n",
       "      <td>Sterile</td>\n",
       "      <td>0</td>\n",
       "      <td>0</td>\n",
       "      <td>1</td>\n",
       "      <td>0</td>\n",
       "      <td>1</td>\n",
       "    </tr>\n",
       "    <tr>\n",
       "      <th>11</th>\n",
       "      <td>20220028369</td>\n",
       "      <td>Sterile</td>\n",
       "      <td>Contamination</td>\n",
       "      <td>0</td>\n",
       "      <td>0</td>\n",
       "      <td>1</td>\n",
       "      <td>0</td>\n",
       "      <td>1</td>\n",
       "    </tr>\n",
       "    <tr>\n",
       "      <th>12</th>\n",
       "      <td>20240125407</td>\n",
       "      <td>Sterile</td>\n",
       "      <td>Sterile</td>\n",
       "      <td>0</td>\n",
       "      <td>0</td>\n",
       "      <td>1</td>\n",
       "      <td>0</td>\n",
       "      <td>1</td>\n",
       "    </tr>\n",
       "    <tr>\n",
       "      <th>13</th>\n",
       "      <td>20230046627</td>\n",
       "      <td>NaN</td>\n",
       "      <td>NaN</td>\n",
       "      <td>0</td>\n",
       "      <td>0</td>\n",
       "      <td>0</td>\n",
       "      <td>0</td>\n",
       "      <td>0</td>\n",
       "    </tr>\n",
       "    <tr>\n",
       "      <th>14</th>\n",
       "      <td>20220046569</td>\n",
       "      <td>NaN</td>\n",
       "      <td>Contamination</td>\n",
       "      <td>0</td>\n",
       "      <td>0</td>\n",
       "      <td>1</td>\n",
       "      <td>0</td>\n",
       "      <td>0</td>\n",
       "    </tr>\n",
       "  </tbody>\n",
       "</table>\n",
       "</div>"
      ],
      "text/plain": [
       "           UHID    RAMJA                 AIIMS  Diagnosis  Positive_A  \\\n",
       "0   20170059075  Sterile               Sterile          0           0   \n",
       "1   20210062776  Sterile               Sterile          0           0   \n",
       "2   20240043449  Sterile               Sterile          0           0   \n",
       "3   20240076642  Sterile               Sterile          0           0   \n",
       "4   20240094375  Sterile               Sterile          0           0   \n",
       "5   20240092862  Sterile               Sterile          0           0   \n",
       "6   20240070180  Sterile               Sterile          0           0   \n",
       "7   20240118730  Sterile                E.coli          0           1   \n",
       "8   20240101716  Sterile         Contamination          0           0   \n",
       "9   20240043267      NaN  Enterococcus faecium          0           1   \n",
       "10  20200042694  Sterile               Sterile          0           0   \n",
       "11  20220028369  Sterile         Contamination          0           0   \n",
       "12  20240125407  Sterile               Sterile          0           0   \n",
       "13  20230046627      NaN                   NaN          0           0   \n",
       "14  20220046569      NaN         Contamination          0           0   \n",
       "\n",
       "    Negative_A  Positive_R  Negative_R  \n",
       "0            1           0           1  \n",
       "1            1           0           1  \n",
       "2            1           0           1  \n",
       "3            1           0           1  \n",
       "4            1           0           1  \n",
       "5            1           0           1  \n",
       "6            1           0           1  \n",
       "7            0           0           1  \n",
       "8            1           0           1  \n",
       "9            0           0           0  \n",
       "10           1           0           1  \n",
       "11           1           0           1  \n",
       "12           1           0           1  \n",
       "13           0           0           0  \n",
       "14           1           0           0  "
      ]
     },
     "execution_count": 116,
     "metadata": {},
     "output_type": "execute_result"
    }
   ],
   "source": [
    "temp_ctrl_R = df_ctrl_R[['UHID','Positive','Negative']].rename(columns={'Positive':'Positive_R', 'Negative':'Negative_R'})\n",
    "temp_ctrl_A = df_ctrl_A[['UHID','Positive','Negative']].rename(columns={'Positive':'Positive_A', 'Negative':'Negative_A'})\n",
    "temp_ctrl_C = pd.merge(temp_ctrl_A, temp_ctrl_R, how='inner', on='UHID')\n",
    "df_ctrl = pd.merge(df_ctrl, temp_C, how='inner', on='UHID')\n",
    "df_ctrl"
   ]
  },
  {
   "cell_type": "code",
   "execution_count": 117,
   "metadata": {},
   "outputs": [
    {
     "data": {
      "text/plain": [
       "(12, 8)"
      ]
     },
     "execution_count": 117,
     "metadata": {},
     "output_type": "execute_result"
    }
   ],
   "source": [
    "df_ctrl_NAN_C = df_ctrl.dropna(subset=['RAMJA','AIIMS'], axis=0)\n",
    "df_ctrl_NAN_C.shape"
   ]
  },
  {
   "cell_type": "code",
   "execution_count": 120,
   "metadata": {},
   "outputs": [
    {
     "data": {
      "text/plain": [
       "(11, 8)"
      ]
     },
     "execution_count": 120,
     "metadata": {},
     "output_type": "execute_result"
    }
   ],
   "source": [
    "\n",
    "df_ctrl_Neg_C = df_ctrl_NAN_C[(df_ctrl_NAN_C['Negative_R'] == 1) & (df_ctrl_NAN_C['Negative_A'] ==1)]\n",
    "df_ctrl_Neg_C.shape"
   ]
  },
  {
   "cell_type": "code",
   "execution_count": 121,
   "metadata": {},
   "outputs": [
    {
     "data": {
      "text/plain": [
       "(0, 8)"
      ]
     },
     "execution_count": 121,
     "metadata": {},
     "output_type": "execute_result"
    }
   ],
   "source": [
    "df_ctrl_Pos_C = df_ctrl_NAN_C[(df_ctrl_NAN_C['Positive_R'] == 1) & (df_ctrl_NAN_C['Positive_A'] == 1)]\n",
    "df_ctrl_Pos_C.shape"
   ]
  },
  {
   "cell_type": "code",
   "execution_count": 56,
   "metadata": {},
   "outputs": [
    {
     "data": {
      "text/plain": [
       "(2, 18)"
      ]
     },
     "execution_count": 56,
     "metadata": {},
     "output_type": "execute_result"
    }
   ],
   "source": [
    "df_ctrl_Pos_A = df_ctrl_A[(df_ctrl_A['Positive'] == 1) & (df_ctrl_A['Diagnosis'] == 0)]\n",
    "df_ctrl_Pos_A.shape"
   ]
  },
  {
   "cell_type": "code",
   "execution_count": 122,
   "metadata": {},
   "outputs": [
    {
     "data": {
      "text/plain": [
       "(0, 8)"
      ]
     },
     "execution_count": 122,
     "metadata": {},
     "output_type": "execute_result"
    }
   ],
   "source": [
    "df_ctrl_Pos_R_Neg_A = df_ctrl_NAN_C[(df_ctrl_NAN_C['Positive_R'] == 1) & (df_ctrl_NAN_C['Negative_A'] == 1)]\n",
    "df_ctrl_Pos_R_Neg_A.shape"
   ]
  },
  {
   "cell_type": "code",
   "execution_count": 123,
   "metadata": {},
   "outputs": [
    {
     "data": {
      "text/plain": [
       "(1, 8)"
      ]
     },
     "execution_count": 123,
     "metadata": {},
     "output_type": "execute_result"
    }
   ],
   "source": [
    "df_ctrl_Neg_R_Pos_A = df_ctrl_NAN_C[(df_ctrl_NAN_C['Negative_R'] == 1) & (df_ctrl_NAN_C['Positive_A'] == 1)]\n",
    "df_ctrl_Neg_R_Pos_A.shape"
   ]
  },
  {
   "cell_type": "code",
   "execution_count": 57,
   "metadata": {},
   "outputs": [
    {
     "data": {
      "text/html": [
       "<div>\n",
       "<style scoped>\n",
       "    .dataframe tbody tr th:only-of-type {\n",
       "        vertical-align: middle;\n",
       "    }\n",
       "\n",
       "    .dataframe tbody tr th {\n",
       "        vertical-align: top;\n",
       "    }\n",
       "\n",
       "    .dataframe thead th {\n",
       "        text-align: right;\n",
       "    }\n",
       "</style>\n",
       "<table border=\"1\" class=\"dataframe\">\n",
       "  <thead>\n",
       "    <tr style=\"text-align: right;\">\n",
       "      <th></th>\n",
       "      <th>UHID</th>\n",
       "      <th>RAMJA</th>\n",
       "      <th>AIIMS</th>\n",
       "      <th>Diagnosis</th>\n",
       "      <th>Positive_A</th>\n",
       "      <th>Negative_A</th>\n",
       "      <th>Positive_R</th>\n",
       "      <th>Negative_R</th>\n",
       "    </tr>\n",
       "  </thead>\n",
       "  <tbody>\n",
       "    <tr>\n",
       "      <th>0</th>\n",
       "      <td>20170059075</td>\n",
       "      <td>Sterile</td>\n",
       "      <td>Sterile</td>\n",
       "      <td>0</td>\n",
       "      <td>0</td>\n",
       "      <td>1</td>\n",
       "      <td>0</td>\n",
       "      <td>1</td>\n",
       "    </tr>\n",
       "    <tr>\n",
       "      <th>1</th>\n",
       "      <td>20210062776</td>\n",
       "      <td>Sterile</td>\n",
       "      <td>Sterile</td>\n",
       "      <td>0</td>\n",
       "      <td>0</td>\n",
       "      <td>1</td>\n",
       "      <td>0</td>\n",
       "      <td>1</td>\n",
       "    </tr>\n",
       "    <tr>\n",
       "      <th>2</th>\n",
       "      <td>20240043449</td>\n",
       "      <td>Sterile</td>\n",
       "      <td>Sterile</td>\n",
       "      <td>0</td>\n",
       "      <td>0</td>\n",
       "      <td>1</td>\n",
       "      <td>0</td>\n",
       "      <td>1</td>\n",
       "    </tr>\n",
       "    <tr>\n",
       "      <th>3</th>\n",
       "      <td>20240076642</td>\n",
       "      <td>Sterile</td>\n",
       "      <td>Sterile</td>\n",
       "      <td>0</td>\n",
       "      <td>0</td>\n",
       "      <td>1</td>\n",
       "      <td>0</td>\n",
       "      <td>1</td>\n",
       "    </tr>\n",
       "    <tr>\n",
       "      <th>4</th>\n",
       "      <td>20240094375</td>\n",
       "      <td>Sterile</td>\n",
       "      <td>Sterile</td>\n",
       "      <td>0</td>\n",
       "      <td>0</td>\n",
       "      <td>1</td>\n",
       "      <td>0</td>\n",
       "      <td>1</td>\n",
       "    </tr>\n",
       "  </tbody>\n",
       "</table>\n",
       "</div>"
      ],
      "text/plain": [
       "          UHID    RAMJA    AIIMS  Diagnosis  Positive_A  Negative_A  \\\n",
       "0  20170059075  Sterile  Sterile          0           0           1   \n",
       "1  20210062776  Sterile  Sterile          0           0           1   \n",
       "2  20240043449  Sterile  Sterile          0           0           1   \n",
       "3  20240076642  Sterile  Sterile          0           0           1   \n",
       "4  20240094375  Sterile  Sterile          0           0           1   \n",
       "\n",
       "   Positive_R  Negative_R  \n",
       "0           0           1  \n",
       "1           0           1  \n",
       "2           0           1  \n",
       "3           0           1  \n",
       "4           0           1  "
      ]
     },
     "execution_count": 57,
     "metadata": {},
     "output_type": "execute_result"
    }
   ],
   "source": [
    "df_ctrl_Neg_C.head()"
   ]
  },
  {
   "cell_type": "code",
   "execution_count": 130,
   "metadata": {},
   "outputs": [
    {
     "name": "stderr",
     "output_type": "stream",
     "text": [
      "C:\\Users\\neelesh\\AppData\\Local\\Temp\\ipykernel_13280\\228116685.py:31: RuntimeWarning: invalid value encountered in double_scalars\n",
      "  PLR = sens/(1-spec)\n"
     ]
    },
    {
     "data": {
      "text/html": [
       "<div>\n",
       "<style scoped>\n",
       "    .dataframe tbody tr th:only-of-type {\n",
       "        vertical-align: middle;\n",
       "    }\n",
       "\n",
       "    .dataframe tbody tr th {\n",
       "        vertical-align: top;\n",
       "    }\n",
       "\n",
       "    .dataframe thead th {\n",
       "        text-align: right;\n",
       "    }\n",
       "</style>\n",
       "<table border=\"1\" class=\"dataframe\">\n",
       "  <thead>\n",
       "    <tr style=\"text-align: right;\">\n",
       "      <th></th>\n",
       "      <th>Scores</th>\n",
       "    </tr>\n",
       "  </thead>\n",
       "  <tbody>\n",
       "    <tr>\n",
       "      <th>Accuracy</th>\n",
       "      <td>1.0</td>\n",
       "    </tr>\n",
       "    <tr>\n",
       "      <th>Sensitivity</th>\n",
       "      <td>0.0</td>\n",
       "    </tr>\n",
       "    <tr>\n",
       "      <th>Specificity</th>\n",
       "      <td>1.0</td>\n",
       "    </tr>\n",
       "    <tr>\n",
       "      <th>PPV</th>\n",
       "      <td>0.0</td>\n",
       "    </tr>\n",
       "    <tr>\n",
       "      <th>NPV</th>\n",
       "      <td>1.0</td>\n",
       "    </tr>\n",
       "    <tr>\n",
       "      <th>PLR</th>\n",
       "      <td>NaN</td>\n",
       "    </tr>\n",
       "    <tr>\n",
       "      <th>NLR</th>\n",
       "      <td>1.0</td>\n",
       "    </tr>\n",
       "  </tbody>\n",
       "</table>\n",
       "</div>"
      ],
      "text/plain": [
       "             Scores\n",
       "Accuracy        1.0\n",
       "Sensitivity     0.0\n",
       "Specificity     1.0\n",
       "PPV             0.0\n",
       "NPV             1.0\n",
       "PLR             NaN\n",
       "NLR             1.0"
      ]
     },
     "execution_count": 130,
     "metadata": {},
     "output_type": "execute_result"
    }
   ],
   "source": [
    "y_true = df_ctrl_NAN_C['Diagnosis']\n",
    "y_pred = df_ctrl_NAN_C['Positive_R']\n",
    "df_ctrl_scores_R = scores_ctrl(y_true,y_pred)\n",
    "df_ctrl_scores_R"
   ]
  },
  {
   "cell_type": "code",
   "execution_count": 131,
   "metadata": {},
   "outputs": [
    {
     "data": {
      "text/html": [
       "<div>\n",
       "<style scoped>\n",
       "    .dataframe tbody tr th:only-of-type {\n",
       "        vertical-align: middle;\n",
       "    }\n",
       "\n",
       "    .dataframe tbody tr th {\n",
       "        vertical-align: top;\n",
       "    }\n",
       "\n",
       "    .dataframe thead th {\n",
       "        text-align: right;\n",
       "    }\n",
       "</style>\n",
       "<table border=\"1\" class=\"dataframe\">\n",
       "  <thead>\n",
       "    <tr style=\"text-align: right;\">\n",
       "      <th></th>\n",
       "      <th>Scores</th>\n",
       "    </tr>\n",
       "  </thead>\n",
       "  <tbody>\n",
       "    <tr>\n",
       "      <th>Accuracy</th>\n",
       "      <td>0.916667</td>\n",
       "    </tr>\n",
       "    <tr>\n",
       "      <th>Sensitivity</th>\n",
       "      <td>0.000000</td>\n",
       "    </tr>\n",
       "    <tr>\n",
       "      <th>Specificity</th>\n",
       "      <td>0.916667</td>\n",
       "    </tr>\n",
       "    <tr>\n",
       "      <th>PPV</th>\n",
       "      <td>0.000000</td>\n",
       "    </tr>\n",
       "    <tr>\n",
       "      <th>NPV</th>\n",
       "      <td>1.000000</td>\n",
       "    </tr>\n",
       "    <tr>\n",
       "      <th>PLR</th>\n",
       "      <td>0.000000</td>\n",
       "    </tr>\n",
       "    <tr>\n",
       "      <th>NLR</th>\n",
       "      <td>1.090909</td>\n",
       "    </tr>\n",
       "  </tbody>\n",
       "</table>\n",
       "</div>"
      ],
      "text/plain": [
       "               Scores\n",
       "Accuracy     0.916667\n",
       "Sensitivity  0.000000\n",
       "Specificity  0.916667\n",
       "PPV          0.000000\n",
       "NPV          1.000000\n",
       "PLR          0.000000\n",
       "NLR          1.090909"
      ]
     },
     "execution_count": 131,
     "metadata": {},
     "output_type": "execute_result"
    }
   ],
   "source": [
    "#...Scores matrix AIIMS\n",
    "y_true = df_ctrl_NAN_C['Diagnosis']\n",
    "y_pred = df_ctrl_NAN_C['Positive_A']\n",
    "\n",
    "df_ctrl_scores_A = scores_ctrl(y_true,y_pred)\n",
    "df_ctrl_scores_A"
   ]
  },
  {
   "cell_type": "code",
   "execution_count": 132,
   "metadata": {},
   "outputs": [
    {
     "data": {
      "text/plain": [
       "array([11,  1,  0,  0], dtype=int64)"
      ]
     },
     "execution_count": 132,
     "metadata": {},
     "output_type": "execute_result"
    }
   ],
   "source": [
    "confusion_matrix(y_true, y_pred).ravel()"
   ]
  },
  {
   "cell_type": "code",
   "execution_count": 133,
   "metadata": {},
   "outputs": [
    {
     "data": {
      "text/html": [
       "<div>\n",
       "<style scoped>\n",
       "    .dataframe tbody tr th:only-of-type {\n",
       "        vertical-align: middle;\n",
       "    }\n",
       "\n",
       "    .dataframe tbody tr th {\n",
       "        vertical-align: top;\n",
       "    }\n",
       "\n",
       "    .dataframe thead th {\n",
       "        text-align: right;\n",
       "    }\n",
       "</style>\n",
       "<table border=\"1\" class=\"dataframe\">\n",
       "  <thead>\n",
       "    <tr style=\"text-align: right;\">\n",
       "      <th></th>\n",
       "      <th>True Positive</th>\n",
       "      <th>True Negative</th>\n",
       "    </tr>\n",
       "  </thead>\n",
       "  <tbody>\n",
       "    <tr>\n",
       "      <th>AIIMS Positive</th>\n",
       "      <td>0</td>\n",
       "      <td>1</td>\n",
       "    </tr>\n",
       "    <tr>\n",
       "      <th>AIIMS Negative</th>\n",
       "      <td>0</td>\n",
       "      <td>11</td>\n",
       "    </tr>\n",
       "  </tbody>\n",
       "</table>\n",
       "</div>"
      ],
      "text/plain": [
       "                True Positive  True Negative\n",
       "AIIMS Positive              0              1\n",
       "AIIMS Negative              0             11"
      ]
     },
     "execution_count": 133,
     "metadata": {},
     "output_type": "execute_result"
    }
   ],
   "source": [
    "#...Confusion matrix AIIMS\n",
    "tn, fp, fn, tp = confusion_matrix(y_true, y_pred).ravel()\n",
    "t_cm_A = np.array([tp, fp, fn, tn]).reshape(2,2)\n",
    "df_cm_A =pd.DataFrame(t_cm_A,index=['AIIMS Positive','AIIMS Negative'], columns= ['True Positive','True Negative'])\n",
    "df_cm_A"
   ]
  },
  {
   "cell_type": "code",
   "execution_count": 125,
   "metadata": {},
   "outputs": [],
   "source": [
    "samplesDetailCtrl = {\n",
    "    #\"Total Samples\": [data.shape[0],data.shape[0]],\n",
    "    #\"Blank Results\": [data['RAMJA'].isnull().sum(axis=0), data['AIIMS'].isnull().sum(axis=0)],\n",
    "    #\"Non-Blank Results\": [data['RAMJA'].count(),data['AIIMS'].count()],\n",
    "    #\"Contaminated Samples [-Ve]\": [df_NonNaN_R['Contamination'].sum(),df_NonNaN_A['Contamination'].sum()],\n",
    "    #\"Others [+Ve]\": [df_NonNaN_R['Others'].sum(),df_NonNaN_A['Others'].sum()],\n",
    "    \"Total common samples\":  [df_ctrl_NAN_C.shape[0]],\n",
    "    #\"Useful Samples\":[df_R_clean.shape[0], df_A_clean.shape[0]],\n",
    "    \"Positive\": [df_ctrl_NAN_C['Positive_R'].sum(),df_ctrl_NAN_C['Positive_A'].sum()],\n",
    "    \"Negative\": [df_ctrl_NAN_C['Negative_R'].sum(),df_ctrl_NAN_C['Negative_A'].sum()],\n",
    "    \"Common Positive\": [df_ctrl_Pos_C.shape[0]],\n",
    "    #\"Concordance [Common bacteria]\": [df_C['concordance'].sum()],\n",
    "    \"Common Negative\": [df_ctrl_Neg_C.shape[0]],\n",
    "    \"RAMJA Positive and AIIMS Negative\":[df_ctrl_Pos_R_Neg_A.shape[0]],\n",
    "    \"RAMJA Negative and AIIMS Positive\":[df_ctrl_Neg_R_Pos_A.shape[0]]\n",
    "    \n",
    "}"
   ]
  },
  {
   "cell_type": "code",
   "execution_count": 126,
   "metadata": {},
   "outputs": [
    {
     "data": {
      "text/html": [
       "<div>\n",
       "<style scoped>\n",
       "    .dataframe tbody tr th:only-of-type {\n",
       "        vertical-align: middle;\n",
       "    }\n",
       "\n",
       "    .dataframe tbody tr th {\n",
       "        vertical-align: top;\n",
       "    }\n",
       "\n",
       "    .dataframe thead th {\n",
       "        text-align: right;\n",
       "    }\n",
       "</style>\n",
       "<table border=\"1\" class=\"dataframe\">\n",
       "  <thead>\n",
       "    <tr style=\"text-align: right;\">\n",
       "      <th></th>\n",
       "      <th>RAMJA</th>\n",
       "      <th>AIIMS</th>\n",
       "    </tr>\n",
       "  </thead>\n",
       "  <tbody>\n",
       "    <tr>\n",
       "      <th>Total common samples</th>\n",
       "      <td>12</td>\n",
       "      <td>12</td>\n",
       "    </tr>\n",
       "    <tr>\n",
       "      <th>Positive</th>\n",
       "      <td>0</td>\n",
       "      <td>1</td>\n",
       "    </tr>\n",
       "    <tr>\n",
       "      <th>Negative</th>\n",
       "      <td>12</td>\n",
       "      <td>11</td>\n",
       "    </tr>\n",
       "    <tr>\n",
       "      <th>Common Positive</th>\n",
       "      <td>0</td>\n",
       "      <td>0</td>\n",
       "    </tr>\n",
       "    <tr>\n",
       "      <th>Common Negative</th>\n",
       "      <td>11</td>\n",
       "      <td>11</td>\n",
       "    </tr>\n",
       "    <tr>\n",
       "      <th>RAMJA Positive and AIIMS Negative</th>\n",
       "      <td>0</td>\n",
       "      <td>0</td>\n",
       "    </tr>\n",
       "    <tr>\n",
       "      <th>RAMJA Negative and AIIMS Positive</th>\n",
       "      <td>1</td>\n",
       "      <td>1</td>\n",
       "    </tr>\n",
       "  </tbody>\n",
       "</table>\n",
       "</div>"
      ],
      "text/plain": [
       "                                   RAMJA  AIIMS\n",
       "Total common samples                  12     12\n",
       "Positive                               0      1\n",
       "Negative                              12     11\n",
       "Common Positive                        0      0\n",
       "Common Negative                       11     11\n",
       "RAMJA Positive and AIIMS Negative      0      0\n",
       "RAMJA Negative and AIIMS Positive      1      1"
      ]
     },
     "execution_count": 126,
     "metadata": {},
     "output_type": "execute_result"
    }
   ],
   "source": [
    "df_samplesDetail_C = pd.DataFrame(samplesDetailCtrl, index=['RAMJA','AIIMS']).T\n",
    "df_samplesDetail_C"
   ]
  },
  {
   "cell_type": "code",
   "execution_count": 134,
   "metadata": {},
   "outputs": [],
   "source": [
    "with pd.ExcelWriter('2controlmatrices.xlsx') as writer:\n",
    "    df_samplesDetail_C.to_excel(writer, sheet_name='ControlSamples', index=True)\n",
    "    df_ctrl_scores_R.to_excel(writer, sheet_name='ControlRAMJA', index=True)\n",
    "    df_ctrl_scores_A.to_excel(writer, sheet_name='ControlAIIMS', index=True)"
   ]
  },
  {
   "cell_type": "markdown",
   "metadata": {},
   "source": [
    "### ROC"
   ]
  },
  {
   "cell_type": "markdown",
   "metadata": {},
   "source": [
    "### get dataset "
   ]
  },
  {
   "cell_type": "code",
   "execution_count": 39,
   "metadata": {},
   "outputs": [
    {
     "name": "stderr",
     "output_type": "stream",
     "text": [
      "C:\\Users\\neelesh\\AppData\\Local\\Temp\\ipykernel_8004\\957381507.py:2: SettingWithCopyWarning: \n",
      "A value is trying to be set on a copy of a slice from a DataFrame.\n",
      "Try using .loc[row_indexer,col_indexer] = value instead\n",
      "\n",
      "See the caveats in the documentation: https://pandas.pydata.org/pandas-docs/stable/user_guide/indexing.html#returning-a-view-versus-a-copy\n",
      "  data_score_temp['minimum'] = data_score_temp.iloc[:, 0:8].min(axis=1)\n"
     ]
    },
    {
     "data": {
      "text/html": [
       "<div>\n",
       "<style scoped>\n",
       "    .dataframe tbody tr th:only-of-type {\n",
       "        vertical-align: middle;\n",
       "    }\n",
       "\n",
       "    .dataframe tbody tr th {\n",
       "        vertical-align: top;\n",
       "    }\n",
       "\n",
       "    .dataframe thead th {\n",
       "        text-align: right;\n",
       "    }\n",
       "</style>\n",
       "<table border=\"1\" class=\"dataframe\">\n",
       "  <thead>\n",
       "    <tr style=\"text-align: right;\">\n",
       "      <th></th>\n",
       "      <th>UHID</th>\n",
       "      <th>E.coli</th>\n",
       "      <th>K. Pneumoniae</th>\n",
       "      <th>P.aurogenosa</th>\n",
       "      <th>A.baumnnii</th>\n",
       "      <th>P.mirabilis</th>\n",
       "      <th>S. aureus</th>\n",
       "      <th>E.faecalis</th>\n",
       "      <th>S. saprophyticus</th>\n",
       "      <th>minimum</th>\n",
       "      <th>Escherichia coli</th>\n",
       "      <th>Klebsiella pneumoniae</th>\n",
       "      <th>Pseudomonas aeruginosa</th>\n",
       "      <th>Acinetobacter baumannii</th>\n",
       "      <th>Proteus mirabilis</th>\n",
       "      <th>Enterococcus faecalis</th>\n",
       "      <th>Staphylococcus aureus</th>\n",
       "      <th>Staphylococcus saprophyticus</th>\n",
       "      <th>Positive_R</th>\n",
       "      <th>Positive_A</th>\n",
       "    </tr>\n",
       "  </thead>\n",
       "  <tbody>\n",
       "    <tr>\n",
       "      <th>0</th>\n",
       "      <td>20220065432</td>\n",
       "      <td>NaN</td>\n",
       "      <td>NaN</td>\n",
       "      <td>-5.26086</td>\n",
       "      <td>-4.09794</td>\n",
       "      <td>-3.58480</td>\n",
       "      <td>-5.62819</td>\n",
       "      <td>-8.10731</td>\n",
       "      <td>NaN</td>\n",
       "      <td>-8.10731</td>\n",
       "      <td>0</td>\n",
       "      <td>0</td>\n",
       "      <td>0</td>\n",
       "      <td>0</td>\n",
       "      <td>0</td>\n",
       "      <td>1</td>\n",
       "      <td>0</td>\n",
       "      <td>0</td>\n",
       "      <td>1</td>\n",
       "      <td>1</td>\n",
       "    </tr>\n",
       "    <tr>\n",
       "      <th>1</th>\n",
       "      <td>20230125389</td>\n",
       "      <td>-15.30980</td>\n",
       "      <td>-10.01740</td>\n",
       "      <td>-9.09993</td>\n",
       "      <td>-8.30414</td>\n",
       "      <td>-5.06676</td>\n",
       "      <td>-8.77797</td>\n",
       "      <td>-5.42121</td>\n",
       "      <td>NaN</td>\n",
       "      <td>-15.30980</td>\n",
       "      <td>1</td>\n",
       "      <td>0</td>\n",
       "      <td>0</td>\n",
       "      <td>0</td>\n",
       "      <td>0</td>\n",
       "      <td>0</td>\n",
       "      <td>0</td>\n",
       "      <td>0</td>\n",
       "      <td>1</td>\n",
       "      <td>1</td>\n",
       "    </tr>\n",
       "    <tr>\n",
       "      <th>2</th>\n",
       "      <td>20180022685</td>\n",
       "      <td>-7.70704</td>\n",
       "      <td>-8.08910</td>\n",
       "      <td>-4.79176</td>\n",
       "      <td>-8.63416</td>\n",
       "      <td>-11.84570</td>\n",
       "      <td>-9.90339</td>\n",
       "      <td>-9.31657</td>\n",
       "      <td>NaN</td>\n",
       "      <td>-11.84570</td>\n",
       "      <td>0</td>\n",
       "      <td>0</td>\n",
       "      <td>0</td>\n",
       "      <td>0</td>\n",
       "      <td>0</td>\n",
       "      <td>0</td>\n",
       "      <td>0</td>\n",
       "      <td>0</td>\n",
       "      <td>1</td>\n",
       "      <td>0</td>\n",
       "    </tr>\n",
       "    <tr>\n",
       "      <th>3</th>\n",
       "      <td>20240012395</td>\n",
       "      <td>-10.25510</td>\n",
       "      <td>-7.26028</td>\n",
       "      <td>-6.89303</td>\n",
       "      <td>-14.34320</td>\n",
       "      <td>-11.54470</td>\n",
       "      <td>-10.82420</td>\n",
       "      <td>-10.78790</td>\n",
       "      <td>NaN</td>\n",
       "      <td>-14.34320</td>\n",
       "      <td>1</td>\n",
       "      <td>0</td>\n",
       "      <td>0</td>\n",
       "      <td>0</td>\n",
       "      <td>0</td>\n",
       "      <td>0</td>\n",
       "      <td>0</td>\n",
       "      <td>0</td>\n",
       "      <td>1</td>\n",
       "      <td>1</td>\n",
       "    </tr>\n",
       "    <tr>\n",
       "      <th>4</th>\n",
       "      <td>20220166372</td>\n",
       "      <td>-9.04000</td>\n",
       "      <td>-5.39780</td>\n",
       "      <td>-12.27840</td>\n",
       "      <td>-8.01114</td>\n",
       "      <td>-11.00330</td>\n",
       "      <td>-11.66680</td>\n",
       "      <td>-13.59960</td>\n",
       "      <td>NaN</td>\n",
       "      <td>-13.59960</td>\n",
       "      <td>1</td>\n",
       "      <td>0</td>\n",
       "      <td>1</td>\n",
       "      <td>0</td>\n",
       "      <td>0</td>\n",
       "      <td>0</td>\n",
       "      <td>0</td>\n",
       "      <td>0</td>\n",
       "      <td>1</td>\n",
       "      <td>1</td>\n",
       "    </tr>\n",
       "  </tbody>\n",
       "</table>\n",
       "</div>"
      ],
      "text/plain": [
       "          UHID    E.coli  K. Pneumoniae  P.aurogenosa  A.baumnnii  \\\n",
       "0  20220065432       NaN            NaN      -5.26086    -4.09794   \n",
       "1  20230125389 -15.30980      -10.01740      -9.09993    -8.30414   \n",
       "2  20180022685  -7.70704       -8.08910      -4.79176    -8.63416   \n",
       "3  20240012395 -10.25510       -7.26028      -6.89303   -14.34320   \n",
       "4  20220166372  -9.04000       -5.39780     -12.27840    -8.01114   \n",
       "\n",
       "   P.mirabilis  S. aureus  E.faecalis  S. saprophyticus   minimum  \\\n",
       "0     -3.58480   -5.62819    -8.10731               NaN  -8.10731   \n",
       "1     -5.06676   -8.77797    -5.42121               NaN -15.30980   \n",
       "2    -11.84570   -9.90339    -9.31657               NaN -11.84570   \n",
       "3    -11.54470  -10.82420   -10.78790               NaN -14.34320   \n",
       "4    -11.00330  -11.66680   -13.59960               NaN -13.59960   \n",
       "\n",
       "   Escherichia coli  Klebsiella pneumoniae  Pseudomonas aeruginosa  \\\n",
       "0                 0                      0                       0   \n",
       "1                 1                      0                       0   \n",
       "2                 0                      0                       0   \n",
       "3                 1                      0                       0   \n",
       "4                 1                      0                       1   \n",
       "\n",
       "   Acinetobacter baumannii  Proteus mirabilis  Enterococcus faecalis  \\\n",
       "0                        0                  0                      1   \n",
       "1                        0                  0                      0   \n",
       "2                        0                  0                      0   \n",
       "3                        0                  0                      0   \n",
       "4                        0                  0                      0   \n",
       "\n",
       "   Staphylococcus aureus  Staphylococcus saprophyticus  Positive_R  Positive_A  \n",
       "0                      0                             0           1           1  \n",
       "1                      0                             0           1           1  \n",
       "2                      0                             0           1           0  \n",
       "3                      0                             0           1           1  \n",
       "4                      0                             0           1           1  "
      ]
     },
     "execution_count": 39,
     "metadata": {},
     "output_type": "execute_result"
    }
   ],
   "source": [
    "data_score_temp = dataset.iloc[:,[0] + list(range(6,14))]\n",
    "data_score_temp['minimum'] = data_score_temp.iloc[:, 0:8].min(axis=1)\n",
    "temp_scores = pd.merge(data_score_temp, df_NonNaN_A.drop(['AIIMS', 'cleanAIIMS', 'Sterile', 'Contamination', 'NAN', 'Others', 'Positive', 'Negative' ], axis=1), how='inner', on='UHID')\n",
    "data_ROC = pd.merge(temp_scores,df_NonNaN_C[['UHID','Positive_R', 'Positive_A']], how='inner', on='UHID')\n",
    "data_ROC.head()"
   ]
  },
  {
   "cell_type": "code",
   "execution_count": 42,
   "metadata": {},
   "outputs": [
    {
     "data": {
      "text/plain": [
       "(87, 26)"
      ]
     },
     "execution_count": 42,
     "metadata": {},
     "output_type": "execute_result"
    }
   ],
   "source": [
    "data_sym_ROC = df_sym.iloc[:,[0]+ list(range(8,14))]\n",
    "data_sym_ROC = pd.merge(data_ROC,data_sym_ROC, how='inner', on='UHID')\n",
    "data_sym_ROC.shape"
   ]
  },
  {
   "cell_type": "code",
   "execution_count": 44,
   "metadata": {},
   "outputs": [],
   "source": [
    "with pd.ExcelWriter('data_ROC.xlsx') as writer:\n",
    "    data_ROC.to_excel(writer, sheet_name='DataROC', index=False)\n",
    "    data_sym_ROC.to_excel(writer, sheet_name='SymDataROC', index=False)"
   ]
  },
  {
   "cell_type": "code",
   "execution_count": 54,
   "metadata": {},
   "outputs": [
    {
     "ename": "ValueError",
     "evalue": "continuous format is not supported",
     "output_type": "error",
     "traceback": [
      "\u001b[1;31m---------------------------------------------------------------------------\u001b[0m",
      "\u001b[1;31mValueError\u001b[0m                                Traceback (most recent call last)",
      "\u001b[1;32m~\\AppData\\Local\\Temp\\ipykernel_12436\\2036171023.py\u001b[0m in \u001b[0;36m<cell line: 12>\u001b[1;34m()\u001b[0m\n\u001b[0;32m     10\u001b[0m \u001b[1;33m\u001b[0m\u001b[0m\n\u001b[0;32m     11\u001b[0m \u001b[1;31m# Calculate the ROC curve\u001b[0m\u001b[1;33m\u001b[0m\u001b[1;33m\u001b[0m\u001b[0m\n\u001b[1;32m---> 12\u001b[1;33m \u001b[0mfpr\u001b[0m\u001b[1;33m,\u001b[0m \u001b[0mtpr\u001b[0m\u001b[1;33m,\u001b[0m \u001b[0mthresholds\u001b[0m \u001b[1;33m=\u001b[0m \u001b[0mroc_curve\u001b[0m\u001b[1;33m(\u001b[0m\u001b[0mtrue_values\u001b[0m\u001b[1;33m,\u001b[0m \u001b[0mdevice_scores\u001b[0m\u001b[1;33m)\u001b[0m\u001b[1;33m\u001b[0m\u001b[1;33m\u001b[0m\u001b[0m\n\u001b[0m\u001b[0;32m     13\u001b[0m \u001b[1;33m\u001b[0m\u001b[0m\n\u001b[0;32m     14\u001b[0m \u001b[1;31m# Calculate the AUC (Area Under the Curve)\u001b[0m\u001b[1;33m\u001b[0m\u001b[1;33m\u001b[0m\u001b[0m\n",
      "\u001b[1;32mc:\\Users\\neelesh\\AppData\\Local\\Programs\\Python\\Python39\\lib\\site-packages\\sklearn\\utils\\_param_validation.py\u001b[0m in \u001b[0;36mwrapper\u001b[1;34m(*args, **kwargs)\u001b[0m\n\u001b[0;32m    209\u001b[0m                     )\n\u001b[0;32m    210\u001b[0m                 ):\n\u001b[1;32m--> 211\u001b[1;33m                     \u001b[1;32mreturn\u001b[0m \u001b[0mfunc\u001b[0m\u001b[1;33m(\u001b[0m\u001b[1;33m*\u001b[0m\u001b[0margs\u001b[0m\u001b[1;33m,\u001b[0m \u001b[1;33m**\u001b[0m\u001b[0mkwargs\u001b[0m\u001b[1;33m)\u001b[0m\u001b[1;33m\u001b[0m\u001b[1;33m\u001b[0m\u001b[0m\n\u001b[0m\u001b[0;32m    212\u001b[0m             \u001b[1;32mexcept\u001b[0m \u001b[0mInvalidParameterError\u001b[0m \u001b[1;32mas\u001b[0m \u001b[0me\u001b[0m\u001b[1;33m:\u001b[0m\u001b[1;33m\u001b[0m\u001b[1;33m\u001b[0m\u001b[0m\n\u001b[0;32m    213\u001b[0m                 \u001b[1;31m# When the function is just a wrapper around an estimator, we allow\u001b[0m\u001b[1;33m\u001b[0m\u001b[1;33m\u001b[0m\u001b[0m\n",
      "\u001b[1;32mc:\\Users\\neelesh\\AppData\\Local\\Programs\\Python\\Python39\\lib\\site-packages\\sklearn\\metrics\\_ranking.py\u001b[0m in \u001b[0;36mroc_curve\u001b[1;34m(y_true, y_score, pos_label, sample_weight, drop_intermediate)\u001b[0m\n\u001b[0;32m   1092\u001b[0m     \u001b[0marray\u001b[0m\u001b[1;33m(\u001b[0m\u001b[1;33m[\u001b[0m \u001b[0minf\u001b[0m\u001b[1;33m,\u001b[0m \u001b[1;36m0.8\u001b[0m \u001b[1;33m,\u001b[0m \u001b[1;36m0.4\u001b[0m \u001b[1;33m,\u001b[0m \u001b[1;36m0.35\u001b[0m\u001b[1;33m,\u001b[0m \u001b[1;36m0.1\u001b[0m \u001b[1;33m]\u001b[0m\u001b[1;33m)\u001b[0m\u001b[1;33m\u001b[0m\u001b[1;33m\u001b[0m\u001b[0m\n\u001b[0;32m   1093\u001b[0m     \"\"\"\n\u001b[1;32m-> 1094\u001b[1;33m     fps, tps, thresholds = _binary_clf_curve(\n\u001b[0m\u001b[0;32m   1095\u001b[0m         \u001b[0my_true\u001b[0m\u001b[1;33m,\u001b[0m \u001b[0my_score\u001b[0m\u001b[1;33m,\u001b[0m \u001b[0mpos_label\u001b[0m\u001b[1;33m=\u001b[0m\u001b[0mpos_label\u001b[0m\u001b[1;33m,\u001b[0m \u001b[0msample_weight\u001b[0m\u001b[1;33m=\u001b[0m\u001b[0msample_weight\u001b[0m\u001b[1;33m\u001b[0m\u001b[1;33m\u001b[0m\u001b[0m\n\u001b[0;32m   1096\u001b[0m     )\n",
      "\u001b[1;32mc:\\Users\\neelesh\\AppData\\Local\\Programs\\Python\\Python39\\lib\\site-packages\\sklearn\\metrics\\_ranking.py\u001b[0m in \u001b[0;36m_binary_clf_curve\u001b[1;34m(y_true, y_score, pos_label, sample_weight)\u001b[0m\n\u001b[0;32m    801\u001b[0m     \u001b[0my_type\u001b[0m \u001b[1;33m=\u001b[0m \u001b[0mtype_of_target\u001b[0m\u001b[1;33m(\u001b[0m\u001b[0my_true\u001b[0m\u001b[1;33m,\u001b[0m \u001b[0minput_name\u001b[0m\u001b[1;33m=\u001b[0m\u001b[1;34m\"y_true\"\u001b[0m\u001b[1;33m)\u001b[0m\u001b[1;33m\u001b[0m\u001b[1;33m\u001b[0m\u001b[0m\n\u001b[0;32m    802\u001b[0m     \u001b[1;32mif\u001b[0m \u001b[1;32mnot\u001b[0m \u001b[1;33m(\u001b[0m\u001b[0my_type\u001b[0m \u001b[1;33m==\u001b[0m \u001b[1;34m\"binary\"\u001b[0m \u001b[1;32mor\u001b[0m \u001b[1;33m(\u001b[0m\u001b[0my_type\u001b[0m \u001b[1;33m==\u001b[0m \u001b[1;34m\"multiclass\"\u001b[0m \u001b[1;32mand\u001b[0m \u001b[0mpos_label\u001b[0m \u001b[1;32mis\u001b[0m \u001b[1;32mnot\u001b[0m \u001b[1;32mNone\u001b[0m\u001b[1;33m)\u001b[0m\u001b[1;33m)\u001b[0m\u001b[1;33m:\u001b[0m\u001b[1;33m\u001b[0m\u001b[1;33m\u001b[0m\u001b[0m\n\u001b[1;32m--> 803\u001b[1;33m         \u001b[1;32mraise\u001b[0m \u001b[0mValueError\u001b[0m\u001b[1;33m(\u001b[0m\u001b[1;34m\"{0} format is not supported\"\u001b[0m\u001b[1;33m.\u001b[0m\u001b[0mformat\u001b[0m\u001b[1;33m(\u001b[0m\u001b[0my_type\u001b[0m\u001b[1;33m)\u001b[0m\u001b[1;33m)\u001b[0m\u001b[1;33m\u001b[0m\u001b[1;33m\u001b[0m\u001b[0m\n\u001b[0m\u001b[0;32m    804\u001b[0m \u001b[1;33m\u001b[0m\u001b[0m\n\u001b[0;32m    805\u001b[0m     \u001b[0mcheck_consistent_length\u001b[0m\u001b[1;33m(\u001b[0m\u001b[0my_true\u001b[0m\u001b[1;33m,\u001b[0m \u001b[0my_score\u001b[0m\u001b[1;33m,\u001b[0m \u001b[0msample_weight\u001b[0m\u001b[1;33m)\u001b[0m\u001b[1;33m\u001b[0m\u001b[1;33m\u001b[0m\u001b[0m\n",
      "\u001b[1;31mValueError\u001b[0m: continuous format is not supported"
     ]
    }
   ],
   "source": [
    "from sklearn.metrics import roc_curve, auc\n",
    "# Assuming you have a DataFrame 'dataset' with 'true_values' and 'device_scores'\n",
    "# Replace 'true_values' and 'device_scores' with the actual column names\n",
    "true_values = data_scores['minimum']  # Actual binary values (0 or 1)\n",
    "device_scores = abs(data_scores['Positive'])  # Scores from the device, ranging from -16 to 0\n",
    "\n",
    "# Define a cutoff for converting device scores to binary predictions (adjust based on your needs)\n",
    "cutoff = 8  # Example cutoff; adjust this value based on your data distribution\n",
    "predicted_labels = (device_scores >= cutoff).astype(int)\n",
    "\n",
    "# Calculate the ROC curve\n",
    "fpr, tpr, thresholds = roc_curve(true_values, device_scores)\n",
    "\n",
    "# Calculate the AUC (Area Under the Curve)\n",
    "roc_auc = auc(fpr, tpr)\n",
    "\n",
    "# Print the AUC value\n",
    "print(f\"AUC: {roc_auc:.2f}\")\n",
    "\n",
    "# Plot the ROC curve\n",
    "plt.figure(figsize=(8, 6))\n",
    "plt.plot(fpr, tpr, color='blue', lw=2, label=f'ROC curve (AUC = {roc_auc:.2f})')\n",
    "plt.plot([0, 1], [0, 1], color='red', linestyle='--')  # Dashed diagonal line\n",
    "plt.xlim([0.0, 1.0])\n",
    "plt.ylim([0.0, 1.05])\n",
    "plt.xlabel('False Positive Rate')\n",
    "plt.ylabel('True Positive Rate')\n",
    "plt.title('Receiver Operating Characteristic (ROC) Curve')\n",
    "plt.legend(loc=\"lower right\")\n",
    "plt.grid()\n",
    "plt.show()\n"
   ]
  },
  {
   "cell_type": "code",
   "execution_count": 45,
   "metadata": {},
   "outputs": [
    {
     "data": {
      "text/plain": [
       "(112, 25)"
      ]
     },
     "execution_count": 45,
     "metadata": {},
     "output_type": "execute_result"
    }
   ],
   "source": [
    "data_scores.shape"
   ]
  },
  {
   "cell_type": "code",
   "execution_count": 44,
   "metadata": {},
   "outputs": [
    {
     "data": {
      "text/html": [
       "<div>\n",
       "<style scoped>\n",
       "    .dataframe tbody tr th:only-of-type {\n",
       "        vertical-align: middle;\n",
       "    }\n",
       "\n",
       "    .dataframe tbody tr th {\n",
       "        vertical-align: top;\n",
       "    }\n",
       "\n",
       "    .dataframe thead th {\n",
       "        text-align: right;\n",
       "    }\n",
       "</style>\n",
       "<table border=\"1\" class=\"dataframe\">\n",
       "  <thead>\n",
       "    <tr style=\"text-align: right;\">\n",
       "      <th></th>\n",
       "      <th>UHID</th>\n",
       "      <th>Patients Name</th>\n",
       "      <th>Age</th>\n",
       "      <th>Gender</th>\n",
       "      <th>RAMJA Result</th>\n",
       "      <th>AIIMS Result culture</th>\n",
       "      <th>E.coli</th>\n",
       "      <th>K. Pneumoniae</th>\n",
       "      <th>P.aurogenosa</th>\n",
       "      <th>A.baumnnii</th>\n",
       "      <th>P.mirabilis</th>\n",
       "      <th>S. aureus</th>\n",
       "      <th>E.faecalis</th>\n",
       "      <th>S. saprophyticus</th>\n",
       "      <th>Diagnosis</th>\n",
       "      <th>Abdominal pain</th>\n",
       "      <th>BurningMicturition</th>\n",
       "      <th>Urinating often</th>\n",
       "      <th>Vaginal irritation</th>\n",
       "      <th>Fatigue</th>\n",
       "      <th>Malaise</th>\n",
       "      <th>WeightLoss</th>\n",
       "      <th>Cough</th>\n",
       "      <th>Expectoration</th>\n",
       "      <th>HospitalStay</th>\n",
       "      <th>ICU Stay</th>\n",
       "      <th>Prognosis</th>\n",
       "      <th>Ventillator</th>\n",
       "      <th>Dialysis</th>\n",
       "      <th>BP</th>\n",
       "    </tr>\n",
       "  </thead>\n",
       "  <tbody>\n",
       "    <tr>\n",
       "      <th>0</th>\n",
       "      <td>20220065432</td>\n",
       "      <td>Sahroj</td>\n",
       "      <td>33.0</td>\n",
       "      <td>F</td>\n",
       "      <td>Enterococcus faecalis</td>\n",
       "      <td>Enterococcus faecalis</td>\n",
       "      <td>NaN</td>\n",
       "      <td>NaN</td>\n",
       "      <td>-5.26086</td>\n",
       "      <td>-4.09794</td>\n",
       "      <td>-3.58480</td>\n",
       "      <td>-5.62819</td>\n",
       "      <td>-8.10731</td>\n",
       "      <td>NaN</td>\n",
       "      <td>UTI</td>\n",
       "      <td>Yes</td>\n",
       "      <td>Yes</td>\n",
       "      <td>Yes</td>\n",
       "      <td>No</td>\n",
       "      <td>Yes</td>\n",
       "      <td>Yes</td>\n",
       "      <td>No</td>\n",
       "      <td>No</td>\n",
       "      <td>No</td>\n",
       "      <td>Yes</td>\n",
       "      <td>0</td>\n",
       "      <td>Good</td>\n",
       "      <td>No</td>\n",
       "      <td>No</td>\n",
       "      <td>110/76</td>\n",
       "    </tr>\n",
       "    <tr>\n",
       "      <th>1</th>\n",
       "      <td>20240016182</td>\n",
       "      <td>Shyanu</td>\n",
       "      <td>70.0</td>\n",
       "      <td>F</td>\n",
       "      <td>NaN</td>\n",
       "      <td>NaN</td>\n",
       "      <td>-6.63325</td>\n",
       "      <td>-10.1276</td>\n",
       "      <td>-8.30086</td>\n",
       "      <td>-13.22480</td>\n",
       "      <td>-11.94120</td>\n",
       "      <td>-14.93870</td>\n",
       "      <td>-13.64090</td>\n",
       "      <td>NaN</td>\n",
       "      <td>Vaginal Hysterectomy</td>\n",
       "      <td>Yes</td>\n",
       "      <td>No</td>\n",
       "      <td>no</td>\n",
       "      <td>no</td>\n",
       "      <td>no</td>\n",
       "      <td>no</td>\n",
       "      <td>no</td>\n",
       "      <td>no</td>\n",
       "      <td>no</td>\n",
       "      <td>0</td>\n",
       "      <td>0</td>\n",
       "      <td>Good</td>\n",
       "      <td>No</td>\n",
       "      <td>No</td>\n",
       "      <td>112/76</td>\n",
       "    </tr>\n",
       "    <tr>\n",
       "      <th>2</th>\n",
       "      <td>20230125389</td>\n",
       "      <td>Saloni</td>\n",
       "      <td>19.0</td>\n",
       "      <td>F</td>\n",
       "      <td>E.Coli. and K.pne</td>\n",
       "      <td>E.coli</td>\n",
       "      <td>-15.30980</td>\n",
       "      <td>-10.0174</td>\n",
       "      <td>-9.09993</td>\n",
       "      <td>-8.30414</td>\n",
       "      <td>-5.06676</td>\n",
       "      <td>-8.77797</td>\n",
       "      <td>-5.42121</td>\n",
       "      <td>NaN</td>\n",
       "      <td>UTI</td>\n",
       "      <td>No</td>\n",
       "      <td>Yes</td>\n",
       "      <td>No</td>\n",
       "      <td>No</td>\n",
       "      <td>No</td>\n",
       "      <td>No</td>\n",
       "      <td>No</td>\n",
       "      <td>No</td>\n",
       "      <td>No</td>\n",
       "      <td>0</td>\n",
       "      <td>0</td>\n",
       "      <td>Good</td>\n",
       "      <td>No</td>\n",
       "      <td>No</td>\n",
       "      <td>100/60</td>\n",
       "    </tr>\n",
       "    <tr>\n",
       "      <th>3</th>\n",
       "      <td>20180022685</td>\n",
       "      <td>Ravita</td>\n",
       "      <td>34.0</td>\n",
       "      <td>F</td>\n",
       "      <td>P. mirabilis</td>\n",
       "      <td>CONTAMINATION</td>\n",
       "      <td>-7.70704</td>\n",
       "      <td>-8.0891</td>\n",
       "      <td>-4.79176</td>\n",
       "      <td>-8.63416</td>\n",
       "      <td>-11.84570</td>\n",
       "      <td>-9.90339</td>\n",
       "      <td>-9.31657</td>\n",
       "      <td>NaN</td>\n",
       "      <td>UTI</td>\n",
       "      <td>No</td>\n",
       "      <td>Yes</td>\n",
       "      <td>No</td>\n",
       "      <td>Yes</td>\n",
       "      <td>No</td>\n",
       "      <td>No</td>\n",
       "      <td>No</td>\n",
       "      <td>No</td>\n",
       "      <td>No</td>\n",
       "      <td>0</td>\n",
       "      <td>0</td>\n",
       "      <td>Good</td>\n",
       "      <td>No</td>\n",
       "      <td>No</td>\n",
       "      <td>105/80</td>\n",
       "    </tr>\n",
       "    <tr>\n",
       "      <th>4</th>\n",
       "      <td>20201415102</td>\n",
       "      <td>Jyoti</td>\n",
       "      <td>28.0</td>\n",
       "      <td>F</td>\n",
       "      <td>NaN</td>\n",
       "      <td>NaN</td>\n",
       "      <td>0.00000</td>\n",
       "      <td>0.0000</td>\n",
       "      <td>0.00000</td>\n",
       "      <td>0.00000</td>\n",
       "      <td>0.00000</td>\n",
       "      <td>0.00000</td>\n",
       "      <td>0.00000</td>\n",
       "      <td>NaN</td>\n",
       "      <td>UTI</td>\n",
       "      <td>No</td>\n",
       "      <td>No</td>\n",
       "      <td>No</td>\n",
       "      <td>No</td>\n",
       "      <td>No</td>\n",
       "      <td>No</td>\n",
       "      <td>No</td>\n",
       "      <td>No</td>\n",
       "      <td>No</td>\n",
       "      <td>0</td>\n",
       "      <td>0</td>\n",
       "      <td>Good</td>\n",
       "      <td>No</td>\n",
       "      <td>No</td>\n",
       "      <td>115/100</td>\n",
       "    </tr>\n",
       "  </tbody>\n",
       "</table>\n",
       "</div>"
      ],
      "text/plain": [
       "          UHID Patients Name   Age Gender           RAMJA Result  \\\n",
       "0  20220065432        Sahroj  33.0      F  Enterococcus faecalis   \n",
       "1  20240016182        Shyanu  70.0      F                    NaN   \n",
       "2  20230125389        Saloni  19.0      F      E.Coli. and K.pne   \n",
       "3  20180022685        Ravita  34.0      F           P. mirabilis   \n",
       "4  20201415102         Jyoti  28.0      F                    NaN   \n",
       "\n",
       "    AIIMS Result culture    E.coli  K. Pneumoniae  P.aurogenosa  A.baumnnii  \\\n",
       "0  Enterococcus faecalis       NaN            NaN      -5.26086    -4.09794   \n",
       "1                    NaN  -6.63325       -10.1276      -8.30086   -13.22480   \n",
       "2                 E.coli -15.30980       -10.0174      -9.09993    -8.30414   \n",
       "3          CONTAMINATION  -7.70704        -8.0891      -4.79176    -8.63416   \n",
       "4                    NaN   0.00000         0.0000       0.00000     0.00000   \n",
       "\n",
       "   P.mirabilis  S. aureus  E.faecalis  S. saprophyticus             Diagnosis  \\\n",
       "0     -3.58480   -5.62819    -8.10731               NaN                   UTI   \n",
       "1    -11.94120  -14.93870   -13.64090               NaN  Vaginal Hysterectomy   \n",
       "2     -5.06676   -8.77797    -5.42121               NaN                   UTI   \n",
       "3    -11.84570   -9.90339    -9.31657               NaN                   UTI   \n",
       "4      0.00000    0.00000     0.00000               NaN                   UTI   \n",
       "\n",
       "  Abdominal pain BurningMicturition Urinating often Vaginal irritation  \\\n",
       "0            Yes                Yes             Yes                 No   \n",
       "1            Yes                 No              no                 no   \n",
       "2             No                Yes              No                 No   \n",
       "3             No                Yes              No                Yes   \n",
       "4             No                 No              No                 No   \n",
       "\n",
       "  Fatigue Malaise WeightLoss Cough Expectoration HospitalStay ICU Stay  \\\n",
       "0     Yes     Yes         No    No            No          Yes        0   \n",
       "1      no      no         no    no            no            0        0   \n",
       "2      No      No         No    No            No            0        0   \n",
       "3      No      No         No    No            No            0        0   \n",
       "4      No      No         No    No            No            0        0   \n",
       "\n",
       "  Prognosis Ventillator Dialysis       BP  \n",
       "0      Good          No       No   110/76  \n",
       "1      Good          No       No   112/76  \n",
       "2      Good          No       No   100/60  \n",
       "3      Good          No       No   105/80  \n",
       "4      Good          No       No  115/100  "
      ]
     },
     "execution_count": 44,
     "metadata": {},
     "output_type": "execute_result"
    }
   ],
   "source": [
    "dataset.head()"
   ]
  },
  {
   "cell_type": "code",
   "execution_count": 54,
   "metadata": {},
   "outputs": [],
   "source": [
    "df_ROC = dataset.iloc[:,6:14]\n",
    "df_ROC.columns = ['Escherichia coli','Klebsiella pneumoniae','Pseudomonas aeruginosa','Acinetobacter baumannii','Proteus mirabilis','Enterococcus faecalis','Staphylococcus aureus','Staphylococcus saprophyticus']\n",
    "df_ROC['UHID'] = dataset['UHID']"
   ]
  },
  {
   "cell_type": "code",
   "execution_count": 55,
   "metadata": {},
   "outputs": [],
   "source": [
    "df_ROC = pd.merge(df_ROC, df_NonNaN_C, how='inner', on='UHID')"
   ]
  },
  {
   "cell_type": "code",
   "execution_count": 50,
   "metadata": {},
   "outputs": [
    {
     "data": {
      "text/plain": [
       "(112, 16)"
      ]
     },
     "execution_count": 50,
     "metadata": {},
     "output_type": "execute_result"
    }
   ],
   "source": [
    "df_ROC.shape"
   ]
  },
  {
   "cell_type": "code",
   "execution_count": 51,
   "metadata": {},
   "outputs": [
    {
     "data": {
      "text/html": [
       "<div>\n",
       "<style scoped>\n",
       "    .dataframe tbody tr th:only-of-type {\n",
       "        vertical-align: middle;\n",
       "    }\n",
       "\n",
       "    .dataframe tbody tr th {\n",
       "        vertical-align: top;\n",
       "    }\n",
       "\n",
       "    .dataframe thead th {\n",
       "        text-align: right;\n",
       "    }\n",
       "</style>\n",
       "<table border=\"1\" class=\"dataframe\">\n",
       "  <thead>\n",
       "    <tr style=\"text-align: right;\">\n",
       "      <th></th>\n",
       "      <th>Escherichia coli</th>\n",
       "      <th>Klebsiella pneumoniae</th>\n",
       "      <th>Pseudomonas aeruginosa</th>\n",
       "      <th>Acinetobacter baumannii</th>\n",
       "      <th>Proteus mirabilis</th>\n",
       "      <th>Enterococcus faecalis</th>\n",
       "      <th>Staphylococcus aureus</th>\n",
       "      <th>Staphylococcus saprophyticus</th>\n",
       "      <th>UHID</th>\n",
       "      <th>RAMJA</th>\n",
       "      <th>AIIMS</th>\n",
       "      <th>concordance</th>\n",
       "      <th>Positive_A</th>\n",
       "      <th>Negative_A</th>\n",
       "      <th>Positive_R</th>\n",
       "      <th>Negative_R</th>\n",
       "    </tr>\n",
       "  </thead>\n",
       "  <tbody>\n",
       "    <tr>\n",
       "      <th>0</th>\n",
       "      <td>NaN</td>\n",
       "      <td>NaN</td>\n",
       "      <td>-5.26086</td>\n",
       "      <td>-4.09794</td>\n",
       "      <td>-3.58480</td>\n",
       "      <td>-5.62819</td>\n",
       "      <td>-8.10731</td>\n",
       "      <td>NaN</td>\n",
       "      <td>20220065432</td>\n",
       "      <td>Enterococcus faecalis</td>\n",
       "      <td>Enterococcus faecalis</td>\n",
       "      <td>1</td>\n",
       "      <td>1</td>\n",
       "      <td>0</td>\n",
       "      <td>1</td>\n",
       "      <td>0</td>\n",
       "    </tr>\n",
       "    <tr>\n",
       "      <th>1</th>\n",
       "      <td>-15.30980</td>\n",
       "      <td>-10.01740</td>\n",
       "      <td>-9.09993</td>\n",
       "      <td>-8.30414</td>\n",
       "      <td>-5.06676</td>\n",
       "      <td>-8.77797</td>\n",
       "      <td>-5.42121</td>\n",
       "      <td>NaN</td>\n",
       "      <td>20230125389</td>\n",
       "      <td>E.Coli. and K.pne</td>\n",
       "      <td>E.coli</td>\n",
       "      <td>1</td>\n",
       "      <td>1</td>\n",
       "      <td>0</td>\n",
       "      <td>1</td>\n",
       "      <td>0</td>\n",
       "    </tr>\n",
       "    <tr>\n",
       "      <th>2</th>\n",
       "      <td>-7.70704</td>\n",
       "      <td>-8.08910</td>\n",
       "      <td>-4.79176</td>\n",
       "      <td>-8.63416</td>\n",
       "      <td>-11.84570</td>\n",
       "      <td>-9.90339</td>\n",
       "      <td>-9.31657</td>\n",
       "      <td>NaN</td>\n",
       "      <td>20180022685</td>\n",
       "      <td>P. mirabilis</td>\n",
       "      <td>CONTAMINATION</td>\n",
       "      <td>0</td>\n",
       "      <td>0</td>\n",
       "      <td>1</td>\n",
       "      <td>1</td>\n",
       "      <td>0</td>\n",
       "    </tr>\n",
       "    <tr>\n",
       "      <th>3</th>\n",
       "      <td>-10.25510</td>\n",
       "      <td>-7.26028</td>\n",
       "      <td>-6.89303</td>\n",
       "      <td>-14.34320</td>\n",
       "      <td>-11.54470</td>\n",
       "      <td>-10.82420</td>\n",
       "      <td>-10.78790</td>\n",
       "      <td>NaN</td>\n",
       "      <td>20240012395</td>\n",
       "      <td>Polymicrobial (E.coli, A. baumannii, P.mirabil...</td>\n",
       "      <td>E.coli</td>\n",
       "      <td>1</td>\n",
       "      <td>1</td>\n",
       "      <td>0</td>\n",
       "      <td>1</td>\n",
       "      <td>0</td>\n",
       "    </tr>\n",
       "    <tr>\n",
       "      <th>4</th>\n",
       "      <td>-9.04000</td>\n",
       "      <td>-5.39780</td>\n",
       "      <td>-12.27840</td>\n",
       "      <td>-8.01114</td>\n",
       "      <td>-11.00330</td>\n",
       "      <td>-11.66680</td>\n",
       "      <td>-13.59960</td>\n",
       "      <td>NaN</td>\n",
       "      <td>20220166372</td>\n",
       "      <td>E.coli, Pseudomonas, P.mirabilis, E.Faecalis, ...</td>\n",
       "      <td>E.coli &amp; Pseudomnas</td>\n",
       "      <td>1</td>\n",
       "      <td>1</td>\n",
       "      <td>0</td>\n",
       "      <td>1</td>\n",
       "      <td>0</td>\n",
       "    </tr>\n",
       "  </tbody>\n",
       "</table>\n",
       "</div>"
      ],
      "text/plain": [
       "   Escherichia coli  Klebsiella pneumoniae  Pseudomonas aeruginosa  \\\n",
       "0               NaN                    NaN                -5.26086   \n",
       "1         -15.30980              -10.01740                -9.09993   \n",
       "2          -7.70704               -8.08910                -4.79176   \n",
       "3         -10.25510               -7.26028                -6.89303   \n",
       "4          -9.04000               -5.39780               -12.27840   \n",
       "\n",
       "   Acinetobacter baumannii  Proteus mirabilis  Enterococcus faecalis  \\\n",
       "0                 -4.09794           -3.58480               -5.62819   \n",
       "1                 -8.30414           -5.06676               -8.77797   \n",
       "2                 -8.63416          -11.84570               -9.90339   \n",
       "3                -14.34320          -11.54470              -10.82420   \n",
       "4                 -8.01114          -11.00330              -11.66680   \n",
       "\n",
       "   Staphylococcus aureus  Staphylococcus saprophyticus         UHID  \\\n",
       "0               -8.10731                           NaN  20220065432   \n",
       "1               -5.42121                           NaN  20230125389   \n",
       "2               -9.31657                           NaN  20180022685   \n",
       "3              -10.78790                           NaN  20240012395   \n",
       "4              -13.59960                           NaN  20220166372   \n",
       "\n",
       "                                               RAMJA                  AIIMS  \\\n",
       "0                              Enterococcus faecalis  Enterococcus faecalis   \n",
       "1                                  E.Coli. and K.pne                 E.coli   \n",
       "2                                       P. mirabilis          CONTAMINATION   \n",
       "3  Polymicrobial (E.coli, A. baumannii, P.mirabil...                 E.coli   \n",
       "4  E.coli, Pseudomonas, P.mirabilis, E.Faecalis, ...    E.coli & Pseudomnas   \n",
       "\n",
       "   concordance  Positive_A  Negative_A  Positive_R  Negative_R  \n",
       "0            1           1           0           1           0  \n",
       "1            1           1           0           1           0  \n",
       "2            0           0           1           1           0  \n",
       "3            1           1           0           1           0  \n",
       "4            1           1           0           1           0  "
      ]
     },
     "execution_count": 51,
     "metadata": {},
     "output_type": "execute_result"
    }
   ],
   "source": [
    "df_ROC.head()"
   ]
  },
  {
   "cell_type": "code",
   "execution_count": 56,
   "metadata": {},
   "outputs": [
    {
     "data": {
      "text/html": [
       "<div>\n",
       "<style scoped>\n",
       "    .dataframe tbody tr th:only-of-type {\n",
       "        vertical-align: middle;\n",
       "    }\n",
       "\n",
       "    .dataframe tbody tr th {\n",
       "        vertical-align: top;\n",
       "    }\n",
       "\n",
       "    .dataframe thead th {\n",
       "        text-align: right;\n",
       "    }\n",
       "</style>\n",
       "<table border=\"1\" class=\"dataframe\">\n",
       "  <thead>\n",
       "    <tr style=\"text-align: right;\">\n",
       "      <th></th>\n",
       "      <th>Escherichia coli</th>\n",
       "      <th>Klebsiella pneumoniae</th>\n",
       "      <th>Pseudomonas aeruginosa</th>\n",
       "      <th>Acinetobacter baumannii</th>\n",
       "      <th>Proteus mirabilis</th>\n",
       "      <th>Enterococcus faecalis</th>\n",
       "      <th>Staphylococcus aureus</th>\n",
       "      <th>Positive_R</th>\n",
       "    </tr>\n",
       "  </thead>\n",
       "  <tbody>\n",
       "    <tr>\n",
       "      <th>0</th>\n",
       "      <td>NaN</td>\n",
       "      <td>NaN</td>\n",
       "      <td>-5.26086</td>\n",
       "      <td>-4.09794</td>\n",
       "      <td>-3.58480</td>\n",
       "      <td>-5.62819</td>\n",
       "      <td>-8.10731</td>\n",
       "      <td>1</td>\n",
       "    </tr>\n",
       "    <tr>\n",
       "      <th>1</th>\n",
       "      <td>-15.30980</td>\n",
       "      <td>-10.01740</td>\n",
       "      <td>-9.09993</td>\n",
       "      <td>-8.30414</td>\n",
       "      <td>-5.06676</td>\n",
       "      <td>-8.77797</td>\n",
       "      <td>-5.42121</td>\n",
       "      <td>1</td>\n",
       "    </tr>\n",
       "    <tr>\n",
       "      <th>2</th>\n",
       "      <td>-7.70704</td>\n",
       "      <td>-8.08910</td>\n",
       "      <td>-4.79176</td>\n",
       "      <td>-8.63416</td>\n",
       "      <td>-11.84570</td>\n",
       "      <td>-9.90339</td>\n",
       "      <td>-9.31657</td>\n",
       "      <td>1</td>\n",
       "    </tr>\n",
       "    <tr>\n",
       "      <th>3</th>\n",
       "      <td>-10.25510</td>\n",
       "      <td>-7.26028</td>\n",
       "      <td>-6.89303</td>\n",
       "      <td>-14.34320</td>\n",
       "      <td>-11.54470</td>\n",
       "      <td>-10.82420</td>\n",
       "      <td>-10.78790</td>\n",
       "      <td>1</td>\n",
       "    </tr>\n",
       "    <tr>\n",
       "      <th>4</th>\n",
       "      <td>-9.04000</td>\n",
       "      <td>-5.39780</td>\n",
       "      <td>-12.27840</td>\n",
       "      <td>-8.01114</td>\n",
       "      <td>-11.00330</td>\n",
       "      <td>-11.66680</td>\n",
       "      <td>-13.59960</td>\n",
       "      <td>1</td>\n",
       "    </tr>\n",
       "  </tbody>\n",
       "</table>\n",
       "</div>"
      ],
      "text/plain": [
       "   Escherichia coli  Klebsiella pneumoniae  Pseudomonas aeruginosa  \\\n",
       "0               NaN                    NaN                -5.26086   \n",
       "1         -15.30980              -10.01740                -9.09993   \n",
       "2          -7.70704               -8.08910                -4.79176   \n",
       "3         -10.25510               -7.26028                -6.89303   \n",
       "4          -9.04000               -5.39780               -12.27840   \n",
       "\n",
       "   Acinetobacter baumannii  Proteus mirabilis  Enterococcus faecalis  \\\n",
       "0                 -4.09794           -3.58480               -5.62819   \n",
       "1                 -8.30414           -5.06676               -8.77797   \n",
       "2                 -8.63416          -11.84570               -9.90339   \n",
       "3                -14.34320          -11.54470              -10.82420   \n",
       "4                 -8.01114          -11.00330              -11.66680   \n",
       "\n",
       "   Staphylococcus aureus  Positive_R  \n",
       "0               -8.10731           1  \n",
       "1               -5.42121           1  \n",
       "2               -9.31657           1  \n",
       "3              -10.78790           1  \n",
       "4              -13.59960           1  "
      ]
     },
     "execution_count": 56,
     "metadata": {},
     "output_type": "execute_result"
    }
   ],
   "source": [
    "df_ROC =df_ROC[['Escherichia coli','Klebsiella pneumoniae','Pseudomonas aeruginosa','Acinetobacter baumannii','Proteus mirabilis','Enterococcus faecalis','Staphylococcus aureus','Staphylococcus saprophyticus','Positive_R']]\n",
    "df_ROC = df_ROC.drop(['Staphylococcus saprophyticus'], axis=1)\n",
    "df_ROC.head()"
   ]
  },
  {
   "cell_type": "code",
   "execution_count": 57,
   "metadata": {},
   "outputs": [],
   "source": [
    "df_ROC = df_ROC.dropna()"
   ]
  },
  {
   "cell_type": "code",
   "execution_count": 58,
   "metadata": {},
   "outputs": [
    {
     "data": {
      "text/plain": [
       "(107, 8)"
      ]
     },
     "execution_count": 58,
     "metadata": {},
     "output_type": "execute_result"
    }
   ],
   "source": [
    "df_ROC.shape"
   ]
  },
  {
   "cell_type": "code",
   "execution_count": 60,
   "metadata": {},
   "outputs": [],
   "source": [
    "#..............Assigning X and Y variables...........#\n",
    "x = df_ROC.drop(['Positive_R'], axis=1)\n",
    "y = np.array(df_ROC['Positive_R']).reshape(-1,1) "
   ]
  },
  {
   "cell_type": "code",
   "execution_count": 71,
   "metadata": {},
   "outputs": [],
   "source": [
    "#.............Split train and test sets..............#\n",
    "from sklearn.model_selection import train_test_split\n",
    "x_train, x_test, y_train, y_test = train_test_split(x,y,test_size=0.3,random_state=25, stratify=y)"
   ]
  },
  {
   "cell_type": "code",
   "execution_count": 72,
   "metadata": {},
   "outputs": [],
   "source": [
    "#...............Feature scaling..................#\n",
    "from sklearn.preprocessing import StandardScaler\n",
    "sc = StandardScaler()\n",
    "x_train = sc.fit_transform(x_train)\n",
    "x_test = sc.transform(x_test)"
   ]
  },
  {
   "cell_type": "code",
   "execution_count": 94,
   "metadata": {},
   "outputs": [
    {
     "name": "stderr",
     "output_type": "stream",
     "text": [
      "c:\\Users\\neelesh\\AppData\\Local\\Programs\\Python\\Python39\\lib\\site-packages\\sklearn\\utils\\validation.py:1184: DataConversionWarning: A column-vector y was passed when a 1d array was expected. Please change the shape of y to (n_samples, ), for example using ravel().\n",
      "  y = column_or_1d(y, warn=True)\n"
     ]
    }
   ],
   "source": [
    "#...............Training..................#\n",
    "from sklearn.linear_model import LogisticRegression\n",
    "classifier = LogisticRegression(random_state=0)\n",
    "classifier.fit(x_train,y_train)\n",
    "\n",
    "#.......Predict the Test set result.......#\n",
    "#y_pred = classifier.predict(x_test).reshape(-1, 1)\n",
    "y_pred = (classifier.predict_proba(x_test)[:, 1] >= 0.5).astype(int).reshape(-1, 1)\n",
    "#y_pred_prob = classifier.predict_proba(x_test)[:, 1] #Only keep the first column, which is the 'pos' values\n",
    "#y_pred_prob = (classifier.predict_proba(x_test)[:, 1] >= 0.2).astype(int).reshape(-1, 1)"
   ]
  },
  {
   "cell_type": "code",
   "execution_count": 90,
   "metadata": {},
   "outputs": [
    {
     "data": {
      "text/plain": [
       "(33, 1)"
      ]
     },
     "execution_count": 90,
     "metadata": {},
     "output_type": "execute_result"
    }
   ],
   "source": [
    "y_pred.shape"
   ]
  },
  {
   "cell_type": "code",
   "execution_count": 95,
   "metadata": {},
   "outputs": [],
   "source": [
    "y_pred_prob=classifier.predict_proba(x_test)[:, 1].reshape(-1, 1)"
   ]
  },
  {
   "cell_type": "code",
   "execution_count": 96,
   "metadata": {},
   "outputs": [],
   "source": [
    "from sklearn.metrics import auc, roc_curve, roc_auc_score\n",
    "import matplotlib.pyplot as plt\n",
    "\n",
    "def rocplot(y_test, y_pred_prob):\n",
    "    # calculate AUC\n",
    "    auc = round(roc_auc_score(y_test, y_pred_prob),4)\n",
    "\n",
    "    y_test_auc = roc_auc_score(y_test,y_pred_prob)\n",
    "    fpr, tpr, _ = roc_curve(y_test, y_pred_prob)\n",
    "\n",
    "    plt.plot(fpr, tpr, label=\"Logistic, AUC=\"+str(auc))\n",
    "\n",
    "    plt.rcParams['font.size'] = 12\n",
    "    plt.title('ROC curve for E. coli classifier')\n",
    "    plt.xlabel('False Positive Rate (1 - Specificity)')\n",
    "    plt.ylabel('True Positive Rate (Sensitivity)')\n",
    "    plt.grid(True)\n",
    "    # show the legend\n",
    "    plt.legend()\n",
    "\n",
    "    # fpr, tpr, thresholds = roc_curve(y_test, y_pred_prob)\n",
    "    # plt.plot(fpr, tpr)\n",
    "    # plt.xlim([0.0, 1.0])\n",
    "    # plt.ylim([0.0, 1.0])\n",
    "    # plt.rcParams['font.size'] = 12\n",
    "    # plt.title('ROC curve for diabetes classifier')\n",
    "    # plt.xlabel('False Positive Rate (1 - Specificity)')\n",
    "    # plt.ylabel('True Positive Rate (Sensitivity)')\n",
    "    # plt.grid(True)\n",
    "\n",
    "    "
   ]
  },
  {
   "cell_type": "code",
   "execution_count": 97,
   "metadata": {},
   "outputs": [
    {
     "data": {
      "image/png": "[encoded data removed]",
      "text/plain": [
       "<Figure size 640x480 with 1 Axes>"
      ]
     },
     "metadata": {},
     "output_type": "display_data"
    }
   ],
   "source": [
    "rocplot(y_test, y_pred)"
   ]
  },
  {
   "cell_type": "code",
   "execution_count": 84,
   "metadata": {},
   "outputs": [
    {
     "data": {
      "text/plain": [
       "(0.0, 1.0)"
      ]
     },
     "execution_count": 84,
     "metadata": {},
     "output_type": "execute_result"
    },
    {
     "data": {
      "image/png": "[encoded data removed]",
      "text/plain": [
       "<Figure size 640x480 with 1 Axes>"
      ]
     },
     "metadata": {},
     "output_type": "display_data"
    }
   ],
   "source": [
    "from sklearn.metrics import precision_recall_curve, auc\n",
    "import matplotlib.pyplot as plt\n",
    "precision, recall, thresholds = precision_recall_curve(y_test, y_pred_prob) \n",
    "   #retrieve probability of being 1(in second column of probs_y)\n",
    "pr_auc = auc(recall, precision)\n",
    "\n",
    "plt.title(\"Precision-Recall vs Threshold Chart\")\n",
    "plt.plot(thresholds, precision[: -1], \"b--\", label=\"Precision\")\n",
    "plt.plot(thresholds, recall[: -1], \"r--\", label=\"Recall\")\n",
    "plt.ylabel(\"Precision, Recall\")\n",
    "plt.xlabel(\"Threshold\")\n",
    "plt.legend(loc=\"lower left\")\n",
    "plt.ylim([0,1])"
   ]
  },
  {
   "cell_type": "markdown",
   "metadata": {},
   "source": [
    "#### ................Finish....................."
   ]
  }
 ],
 "metadata": {
  "kernelspec": {
   "display_name": "Python 3",
   "language": "python",
   "name": "python3"
  },
  "language_info": {
   "codemirror_mode": {
    "name": "ipython",
    "version": 3
   },
   "file_extension": ".py",
   "mimetype": "text/x-python",
   "name": "python",
   "nbconvert_exporter": "python",
   "pygments_lexer": "ipython3",
   "version": "3.9.10"
  }
 },
 "nbformat": 4,
 "nbformat_minor": 2
}
